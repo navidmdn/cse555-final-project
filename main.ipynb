{
 "cells": [
  {
   "cell_type": "markdown",
   "id": "8e097356",
   "metadata": {},
   "source": [
    "# Initializations"
   ]
  },
  {
   "cell_type": "markdown",
   "id": "0e577654",
   "metadata": {},
   "source": [
    "## imports"
   ]
  },
  {
   "cell_type": "code",
   "execution_count": 19,
   "id": "92340087",
   "metadata": {},
   "outputs": [],
   "source": [
    "from torchvision.datasets import MNIST\n",
    "from sklearn import datasets\n",
    "from sklearn.linear_model import LogisticRegression\n",
    "from sklearn.svm import SVC\n",
    "from sklearn.ensemble import RandomForestClassifier\n",
    "\n",
    "import torch\n",
    "import torchvision\n",
    "from torch.autograd import Variable\n",
    "import pickle\n",
    "import seaborn as sns\n",
    "import numpy as np\n",
    "\n",
    "from tqdm import tqdm"
   ]
  },
  {
   "cell_type": "markdown",
   "id": "91fb1dbb",
   "metadata": {},
   "source": [
    "## configs"
   ]
  },
  {
   "cell_type": "code",
   "execution_count": 2,
   "id": "23ae415c",
   "metadata": {},
   "outputs": [],
   "source": [
    "batch_size_train = 128\n",
    "batch_size_test = 100\n",
    "random_seed = 12453211\n",
    "\n",
    "imbalanced_weights = {\n",
    "    0: 0.1,\n",
    "    1: 0.1,\n",
    "    2: 1.0,\n",
    "    3: 1.0,\n",
    "    4: 1.0,\n",
    "    5: 0.1,\n",
    "    6: 1.0,\n",
    "    7: 0.1,\n",
    "    8: 1.0,\n",
    "    9: 1.0\n",
    "}\n",
    "\n",
    "#2 → 7, 3 → 8, 5 ↔ 6 and 7 → 1 from SL paper\n",
    "# Creating asymettric noise for 0,3,4 and 8\n",
    "asymmetric_noise = {\n",
    "    0: 0,\n",
    "    1: 1,\n",
    "    2: 7,\n",
    "    3: 8,\n",
    "    4: 4,\n",
    "    5: 6,\n",
    "    6: 5,\n",
    "    7: 1,\n",
    "    8: 8,\n",
    "    9: 9\n",
    "}\n",
    "\n",
    "torch.manual_seed(random_seed)\n",
    "np.random.seed(random_seed)"
   ]
  },
  {
   "cell_type": "markdown",
   "id": "dd6474dd",
   "metadata": {},
   "source": [
    "# Data Preparation"
   ]
  },
  {
   "cell_type": "markdown",
   "id": "14505dd5",
   "metadata": {},
   "source": [
    "## Loading torch dataset"
   ]
  },
  {
   "cell_type": "code",
   "execution_count": 3,
   "id": "943f9b86",
   "metadata": {},
   "outputs": [],
   "source": [
    "\n",
    "train_set = torchvision.datasets.MNIST(\n",
    "    '.',\n",
    "    train=True,\n",
    "    download=True,\n",
    "    transform=torchvision.transforms.Compose([\n",
    "        torchvision.transforms.ToTensor(),\n",
    "        torchvision.transforms.Normalize((0.1307,), (0.3081,))\n",
    "    ])\n",
    ")\n",
    "\n",
    "test_set = torchvision.datasets.MNIST(\n",
    "    '.',\n",
    "    train=False, \n",
    "    download=True,\n",
    "    transform=torchvision.transforms.Compose([\n",
    "        torchvision.transforms.ToTensor(),\n",
    "        torchvision.transforms.Normalize(\n",
    "        (0.1307,), (0.3081,))\n",
    "    ])\n",
    ")\n",
    "\n",
    "train_set, val_set = torch.utils.data.random_split(train_set, [50000, 10000])\n",
    "\n",
    "bal_train_loader = torch.utils.data.DataLoader(\n",
    "    train_set,\n",
    "    batch_size=batch_size_train,\n",
    "    shuffle=True\n",
    ")\n",
    "\n",
    "bal_valid_loader = torch.utils.data.DataLoader(\n",
    "    val_set,\n",
    "    batch_size=batch_size_train,\n",
    "    shuffle=True,\n",
    ")\n",
    "\n",
    "bal_test_loader = torch.utils.data.DataLoader(\n",
    "    test_set,\n",
    "    batch_size=batch_size_test,\n",
    "    shuffle=False\n",
    ")"
   ]
  },
  {
   "cell_type": "markdown",
   "id": "a494d392",
   "metadata": {},
   "source": [
    "## loading numpy dataset"
   ]
  },
  {
   "cell_type": "code",
   "execution_count": 4,
   "id": "57ed0943",
   "metadata": {},
   "outputs": [
    {
     "name": "stdout",
     "output_type": "stream",
     "text": [
      "(50000, 1, 28, 28) (10000, 1, 28, 28) (50000,) (10000,)\n"
     ]
    }
   ],
   "source": [
    "def data_loader_to_numpy(data_loader):\n",
    "    result_x = []\n",
    "    result_y = []\n",
    "    for x, y in data_loader:\n",
    "        result_x.append(x.numpy())\n",
    "        result_y.append(y.numpy())\n",
    "        \n",
    "    return np.concatenate(result_x, axis=0), np.concatenate(result_y, axis=0)\n",
    "    \n",
    "train_x, train_y = data_loader_to_numpy(bal_train_loader)\n",
    "test_x, test_y = data_loader_to_numpy(bal_test_loader)\n",
    "valid_x, valid_y = data_loader_to_numpy(bal_valid_loader)\n",
    "\n",
    "print(train_x.shape, test_x.shape, train_y.shape, test_y.shape)"
   ]
  },
  {
   "cell_type": "markdown",
   "id": "c0d44c90",
   "metadata": {},
   "source": [
    "## distribution of classes"
   ]
  },
  {
   "cell_type": "code",
   "execution_count": 5,
   "id": "4191e3b5",
   "metadata": {},
   "outputs": [
    {
     "data": {
      "text/plain": [
       "<AxesSubplot:ylabel='Count'>"
      ]
     },
     "execution_count": 5,
     "metadata": {},
     "output_type": "execute_result"
    },
    {
     "data": {
      "image/png": "[encoded data removed]",
      "text/plain": [
       "<Figure size 432x288 with 1 Axes>"
      ]
     },
     "metadata": {
      "needs_background": "light"
     },
     "output_type": "display_data"
    }
   ],
   "source": [
    "sns.histplot(train_y, bins=[i for i in range(11)])\n",
    "sns.histplot(test_y, bins=[i for i in range(11)])"
   ]
  },
  {
   "cell_type": "code",
   "execution_count": 6,
   "id": "0078f6a4",
   "metadata": {},
   "outputs": [
    {
     "data": {
      "text/plain": [
       "<AxesSubplot:>"
      ]
     },
     "execution_count": 6,
     "metadata": {},
     "output_type": "execute_result"
    },
    {
     "data": {
      "image/png": "[encoded data removed]",
      "text/plain": [
       "<Figure size 432x288 with 1 Axes>"
      ]
     },
     "metadata": {
      "needs_background": "light"
     },
     "output_type": "display_data"
    }
   ],
   "source": [
    "from collections import Counter\n",
    "\n",
    "train_classes = [label for _, label in train_set]\n",
    "data_count = Counter(train_classes)\n",
    "palette = sns.color_palette(\"husl\")\n",
    "sns.barplot(x=list(data_count.keys()),y=list(data_count.values()),palette=palette)"
   ]
  },
  {
   "cell_type": "code",
   "execution_count": 7,
   "id": "fdbc0666",
   "metadata": {},
   "outputs": [
    {
     "name": "stdout",
     "output_type": "stream",
     "text": [
      "tensor(3)\n"
     ]
    },
    {
     "data": {
      "image/png": "[encoded data removed]",
      "text/plain": [
       "<Figure size 432x288 with 1 Axes>"
      ]
     },
     "metadata": {
      "needs_background": "light"
     },
     "output_type": "display_data"
    },
    {
     "name": "stdout",
     "output_type": "stream",
     "text": [
      "tensor(5)\n"
     ]
    },
    {
     "data": {
      "image/png": "[encoded data removed]",
      "text/plain": [
       "<Figure size 432x288 with 1 Axes>"
      ]
     },
     "metadata": {
      "needs_background": "light"
     },
     "output_type": "display_data"
    },
    {
     "name": "stdout",
     "output_type": "stream",
     "text": [
      "tensor(9)\n"
     ]
    },
    {
     "data": {
      "image/png": "[encoded data removed]",
      "text/plain": [
       "<Figure size 432x288 with 1 Axes>"
      ]
     },
     "metadata": {
      "needs_background": "light"
     },
     "output_type": "display_data"
    },
    {
     "name": "stdout",
     "output_type": "stream",
     "text": [
      "tensor(5)\n"
     ]
    },
    {
     "data": {
      "image/png": "[encoded data removed]",
      "text/plain": [
       "<Figure size 432x288 with 1 Axes>"
      ]
     },
     "metadata": {
      "needs_background": "light"
     },
     "output_type": "display_data"
    },
    {
     "name": "stdout",
     "output_type": "stream",
     "text": [
      "tensor(6)\n"
     ]
    },
    {
     "data": {
      "image/png": "[encoded data removed]",
      "text/plain": [
       "<Figure size 432x288 with 1 Axes>"
      ]
     },
     "metadata": {
      "needs_background": "light"
     },
     "output_type": "display_data"
    },
    {
     "name": "stdout",
     "output_type": "stream",
     "text": [
      "tensor(2)\n"
     ]
    },
    {
     "data": {
      "image/png": "[encoded data removed]",
      "text/plain": [
       "<Figure size 432x288 with 1 Axes>"
      ]
     },
     "metadata": {
      "needs_background": "light"
     },
     "output_type": "display_data"
    },
    {
     "name": "stdout",
     "output_type": "stream",
     "text": [
      "tensor(0)\n"
     ]
    },
    {
     "data": {
      "image/png": "[encoded data removed]",
      "text/plain": [
       "<Figure size 432x288 with 1 Axes>"
      ]
     },
     "metadata": {
      "needs_background": "light"
     },
     "output_type": "display_data"
    },
    {
     "name": "stdout",
     "output_type": "stream",
     "text": [
      "tensor(8)\n"
     ]
    },
    {
     "data": {
      "image/png": "[encoded data removed]",
      "text/plain": [
       "<Figure size 432x288 with 1 Axes>"
      ]
     },
     "metadata": {
      "needs_background": "light"
     },
     "output_type": "display_data"
    },
    {
     "name": "stdout",
     "output_type": "stream",
     "text": [
      "tensor(0)\n"
     ]
    },
    {
     "data": {
      "image/png": "[encoded data removed]",
      "text/plain": [
       "<Figure size 432x288 with 1 Axes>"
      ]
     },
     "metadata": {
      "needs_background": "light"
     },
     "output_type": "display_data"
    },
    {
     "name": "stdout",
     "output_type": "stream",
     "text": [
      "tensor(2)\n"
     ]
    },
    {
     "data": {
      "image/png": "[encoded data removed]",
      "text/plain": [
       "<Figure size 432x288 with 1 Axes>"
      ]
     },
     "metadata": {
      "needs_background": "light"
     },
     "output_type": "display_data"
    },
    {
     "name": "stdout",
     "output_type": "stream",
     "text": [
      "tensor(9)\n"
     ]
    },
    {
     "data": {
      "image/png": "[encoded data removed]",
      "text/plain": [
       "<Figure size 432x288 with 1 Axes>"
      ]
     },
     "metadata": {
      "needs_background": "light"
     },
     "output_type": "display_data"
    },
    {
     "name": "stdout",
     "output_type": "stream",
     "text": [
      "tensor(7)\n"
     ]
    },
    {
     "data": {
      "image/png": "[encoded data removed]",
      "text/plain": [
       "<Figure size 432x288 with 1 Axes>"
      ]
     },
     "metadata": {
      "needs_background": "light"
     },
     "output_type": "display_data"
    },
    {
     "name": "stdout",
     "output_type": "stream",
     "text": [
      "tensor(4)\n"
     ]
    },
    {
     "data": {
      "image/png": "[encoded data removed]",
      "text/plain": [
       "<Figure size 432x288 with 1 Axes>"
      ]
     },
     "metadata": {
      "needs_background": "light"
     },
     "output_type": "display_data"
    },
    {
     "name": "stdout",
     "output_type": "stream",
     "text": [
      "tensor(2)\n"
     ]
    },
    {
     "data": {
      "image/png": "[encoded data removed]",
      "text/plain": [
       "<Figure size 432x288 with 1 Axes>"
      ]
     },
     "metadata": {
      "needs_background": "light"
     },
     "output_type": "display_data"
    },
    {
     "name": "stdout",
     "output_type": "stream",
     "text": [
      "tensor(2)\n"
     ]
    },
    {
     "data": {
      "image/png": "[encoded data removed]",
      "text/plain": [
       "<Figure size 432x288 with 1 Axes>"
      ]
     },
     "metadata": {
      "needs_background": "light"
     },
     "output_type": "display_data"
    },
    {
     "name": "stdout",
     "output_type": "stream",
     "text": [
      "tensor(3)\n"
     ]
    },
    {
     "data": {
      "image/png": "[encoded data removed]",
      "text/plain": [
       "<Figure size 432x288 with 1 Axes>"
      ]
     },
     "metadata": {
      "needs_background": "light"
     },
     "output_type": "display_data"
    },
    {
     "name": "stdout",
     "output_type": "stream",
     "text": [
      "tensor(7)\n"
     ]
    },
    {
     "data": {
      "image/png": "[encoded data removed]",
      "text/plain": [
       "<Figure size 432x288 with 1 Axes>"
      ]
     },
     "metadata": {
      "needs_background": "light"
     },
     "output_type": "display_data"
    },
    {
     "name": "stdout",
     "output_type": "stream",
     "text": [
      "tensor(3)\n"
     ]
    },
    {
     "data": {
      "image/png": "[encoded data removed]",
      "text/plain": [
       "<Figure size 432x288 with 1 Axes>"
      ]
     },
     "metadata": {
      "needs_background": "light"
     },
     "output_type": "display_data"
    },
    {
     "name": "stdout",
     "output_type": "stream",
     "text": [
      "tensor(3)\n"
     ]
    },
    {
     "data": {
      "image/png": "[encoded data removed]",
      "text/plain": [
       "<Figure size 432x288 with 1 Axes>"
      ]
     },
     "metadata": {
      "needs_background": "light"
     },
     "output_type": "display_data"
    },
    {
     "name": "stdout",
     "output_type": "stream",
     "text": [
      "tensor(0)\n"
     ]
    },
    {
     "data": {
      "image/png": "[encoded data removed]",
      "text/plain": [
       "<Figure size 432x288 with 1 Axes>"
      ]
     },
     "metadata": {
      "needs_background": "light"
     },
     "output_type": "display_data"
    },
    {
     "name": "stdout",
     "output_type": "stream",
     "text": [
      "tensor(6)\n"
     ]
    },
    {
     "data": {
      "image/png": "[encoded data removed]",
      "text/plain": [
       "<Figure size 432x288 with 1 Axes>"
      ]
     },
     "metadata": {
      "needs_background": "light"
     },
     "output_type": "display_data"
    },
    {
     "name": "stdout",
     "output_type": "stream",
     "text": [
      "tensor(9)\n"
     ]
    },
    {
     "data": {
      "image/png": "[encoded data removed]",
      "text/plain": [
       "<Figure size 432x288 with 1 Axes>"
      ]
     },
     "metadata": {
      "needs_background": "light"
     },
     "output_type": "display_data"
    },
    {
     "name": "stdout",
     "output_type": "stream",
     "text": [
      "tensor(9)\n"
     ]
    },
    {
     "data": {
      "image/png": "[encoded data removed]",
      "text/plain": [
       "<Figure size 432x288 with 1 Axes>"
      ]
     },
     "metadata": {
      "needs_background": "light"
     },
     "output_type": "display_data"
    },
    {
     "name": "stdout",
     "output_type": "stream",
     "text": [
      "tensor(0)\n"
     ]
    },
    {
     "data": {
      "image/png": "[encoded data removed]",
      "text/plain": [
       "<Figure size 432x288 with 1 Axes>"
      ]
     },
     "metadata": {
      "needs_background": "light"
     },
     "output_type": "display_data"
    },
    {
     "name": "stdout",
     "output_type": "stream",
     "text": [
      "tensor(8)\n"
     ]
    },
    {
     "data": {
      "image/png": "[encoded data removed]",
      "text/plain": [
       "<Figure size 432x288 with 1 Axes>"
      ]
     },
     "metadata": {
      "needs_background": "light"
     },
     "output_type": "display_data"
    },
    {
     "name": "stdout",
     "output_type": "stream",
     "text": [
      "tensor(6)\n"
     ]
    },
    {
     "data": {
      "image/png": "[encoded data removed]",
      "text/plain": [
       "<Figure size 432x288 with 1 Axes>"
      ]
     },
     "metadata": {
      "needs_background": "light"
     },
     "output_type": "display_data"
    },
    {
     "name": "stdout",
     "output_type": "stream",
     "text": [
      "tensor(7)\n"
     ]
    },
    {
     "data": {
      "image/png": "[encoded data removed]",
      "text/plain": [
       "<Figure size 432x288 with 1 Axes>"
      ]
     },
     "metadata": {
      "needs_background": "light"
     },
     "output_type": "display_data"
    },
    {
     "name": "stdout",
     "output_type": "stream",
     "text": [
      "tensor(3)\n"
     ]
    },
    {
     "data": {
      "image/png": "[encoded data removed]",
      "text/plain": [
       "<Figure size 432x288 with 1 Axes>"
      ]
     },
     "metadata": {
      "needs_background": "light"
     },
     "output_type": "display_data"
    },
    {
     "name": "stdout",
     "output_type": "stream",
     "text": [
      "tensor(5)\n"
     ]
    },
    {
     "data": {
      "image/png": "[encoded data removed]",
      "text/plain": [
       "<Figure size 432x288 with 1 Axes>"
      ]
     },
     "metadata": {
      "needs_background": "light"
     },
     "output_type": "display_data"
    },
    {
     "name": "stdout",
     "output_type": "stream",
     "text": [
      "tensor(5)\n"
     ]
    },
    {
     "data": {
      "image/png": "[encoded data removed]",
      "text/plain": [
       "<Figure size 432x288 with 1 Axes>"
      ]
     },
     "metadata": {
      "needs_background": "light"
     },
     "output_type": "display_data"
    },
    {
     "name": "stdout",
     "output_type": "stream",
     "text": [
      "tensor(4)\n"
     ]
    },
    {
     "data": {
      "image/png": "[encoded data removed]",
      "text/plain": [
       "<Figure size 432x288 with 1 Axes>"
      ]
     },
     "metadata": {
      "needs_background": "light"
     },
     "output_type": "display_data"
    },
    {
     "name": "stdout",
     "output_type": "stream",
     "text": [
      "tensor(6)\n"
     ]
    },
    {
     "data": {
      "image/png": "[encoded data removed]",
      "text/plain": [
       "<Figure size 432x288 with 1 Axes>"
      ]
     },
     "metadata": {
      "needs_background": "light"
     },
     "output_type": "display_data"
    },
    {
     "name": "stdout",
     "output_type": "stream",
     "text": [
      "tensor(3)\n"
     ]
    },
    {
     "data": {
      "image/png": "[encoded data removed]",
      "text/plain": [
       "<Figure size 432x288 with 1 Axes>"
      ]
     },
     "metadata": {
      "needs_background": "light"
     },
     "output_type": "display_data"
    },
    {
     "name": "stdout",
     "output_type": "stream",
     "text": [
      "tensor(0)\n"
     ]
    },
    {
     "data": {
      "image/png": "[encoded data removed]",
      "text/plain": [
       "<Figure size 432x288 with 1 Axes>"
      ]
     },
     "metadata": {
      "needs_background": "light"
     },
     "output_type": "display_data"
    },
    {
     "name": "stdout",
     "output_type": "stream",
     "text": [
      "tensor(4)\n"
     ]
    },
    {
     "data": {
      "image/png": "[encoded data removed]",
      "text/plain": [
       "<Figure size 432x288 with 1 Axes>"
      ]
     },
     "metadata": {
      "needs_background": "light"
     },
     "output_type": "display_data"
    },
    {
     "name": "stdout",
     "output_type": "stream",
     "text": [
      "tensor(6)\n"
     ]
    },
    {
     "data": {
      "image/png": "[encoded data removed]",
      "text/plain": [
       "<Figure size 432x288 with 1 Axes>"
      ]
     },
     "metadata": {
      "needs_background": "light"
     },
     "output_type": "display_data"
    },
    {
     "name": "stdout",
     "output_type": "stream",
     "text": [
      "tensor(2)\n"
     ]
    },
    {
     "data": {
      "image/png": "[encoded data removed]",
      "text/plain": [
       "<Figure size 432x288 with 1 Axes>"
      ]
     },
     "metadata": {
      "needs_background": "light"
     },
     "output_type": "display_data"
    },
    {
     "name": "stdout",
     "output_type": "stream",
     "text": [
      "tensor(5)\n"
     ]
    },
    {
     "data": {
      "image/png": "[encoded data removed]",
      "text/plain": [
       "<Figure size 432x288 with 1 Axes>"
      ]
     },
     "metadata": {
      "needs_background": "light"
     },
     "output_type": "display_data"
    },
    {
     "name": "stdout",
     "output_type": "stream",
     "text": [
      "tensor(0)\n"
     ]
    },
    {
     "data": {
      "image/png": "[encoded data removed]",
      "text/plain": [
       "<Figure size 432x288 with 1 Axes>"
      ]
     },
     "metadata": {
      "needs_background": "light"
     },
     "output_type": "display_data"
    },
    {
     "name": "stdout",
     "output_type": "stream",
     "text": [
      "tensor(0)\n"
     ]
    },
    {
     "data": {
      "image/png": "[encoded data removed]",
      "text/plain": [
       "<Figure size 432x288 with 1 Axes>"
      ]
     },
     "metadata": {
      "needs_background": "light"
     },
     "output_type": "display_data"
    }
   ],
   "source": [
    "import matplotlib.pyplot as plt\n",
    "\n",
    "for index, (images,labels) in enumerate(bal_train_loader):\n",
    "    if index % 10 == 0:\n",
    "        print(labels[1])\n",
    "        plt.imshow(images[1].reshape(28,28), cmap=\"gray\")\n",
    "        plt.show()"
   ]
  },
  {
   "cell_type": "markdown",
   "id": "260729b0",
   "metadata": {},
   "source": [
    "## Creating imbalanced dataset"
   ]
  },
  {
   "cell_type": "code",
   "execution_count": 8,
   "id": "93882dc1",
   "metadata": {},
   "outputs": [
    {
     "name": "stdout",
     "output_type": "stream",
     "text": [
      "class 0: size=496\n",
      "class 1: size=562\n",
      "class 2: size=4942\n",
      "class 3: size=5132\n",
      "class 4: size=4894\n",
      "class 5: size=450\n",
      "class 6: size=4908\n",
      "class 7: size=518\n",
      "class 8: size=4891\n",
      "class 9: size=4960\n"
     ]
    }
   ],
   "source": [
    "def make_imbalanced(ds_x, ds_y, imbalanced_weights=imbalanced_weights):\n",
    "    class_partition = {k:[] for k in range(10)}\n",
    "\n",
    "    for x, y in zip(ds_x, ds_y):\n",
    "        class_partition[y].append((x, y))\n",
    "\n",
    "    for i in range(10):\n",
    "        idxs = np.random.randint(0, len(class_partition[i]), int(imbalanced_weights[i]*len(class_partition[i])))\n",
    "        class_partition[i] = [class_partition[i][j] for j in idxs]\n",
    "        print(f\"class {i}: size={len(class_partition[i])}\")\n",
    "\n",
    "    imbalanced_train = []\n",
    "\n",
    "    for partition in class_partition.values():\n",
    "        imbalanced_train.extend(partition)\n",
    "\n",
    "    np.random.shuffle(imbalanced_train)\n",
    "    imbalanced_train_x, imbalanced_train_y = zip(*imbalanced_train)\n",
    "    \n",
    "    return imbalanced_train_x, imbalanced_train_y\n",
    "\n",
    "imb_train_x, imb_train_y = make_imbalanced(train_x, train_y)"
   ]
  },
  {
   "cell_type": "code",
   "execution_count": 9,
   "id": "a745138e",
   "metadata": {},
   "outputs": [
    {
     "data": {
      "text/plain": [
       "<AxesSubplot:ylabel='Count'>"
      ]
     },
     "execution_count": 9,
     "metadata": {},
     "output_type": "execute_result"
    },
    {
     "data": {
      "image/png": "[encoded data removed]",
      "text/plain": [
       "<Figure size 432x288 with 1 Axes>"
      ]
     },
     "metadata": {
      "needs_background": "light"
     },
     "output_type": "display_data"
    }
   ],
   "source": [
    "sns.histplot(imb_train_y, bins=[i for i in range(11)])"
   ]
  },
  {
   "cell_type": "markdown",
   "id": "44f8f47d",
   "metadata": {},
   "source": [
    "## create a dataset with symmetric noise"
   ]
  },
  {
   "cell_type": "code",
   "execution_count": 10,
   "id": "5dc19e2c",
   "metadata": {},
   "outputs": [
    {
     "data": {
      "text/plain": [
       "((10000, 1, 28, 28), (10000,))"
      ]
     },
     "execution_count": 10,
     "metadata": {},
     "output_type": "execute_result"
    }
   ],
   "source": [
    "def apply_sym_noise(ds_x, ds_y, noise_ratio=0.3):\n",
    "    noisy_labels = []\n",
    "    for x, y in zip(ds_x, ds_y):\n",
    "        if np.random.rand() <= noise_ratio:\n",
    "            noisy_labels.append(np.random.randint(10))\n",
    "        else:\n",
    "            noisy_labels.append(y)\n",
    "\n",
    "    return ds_x, np.array(noisy_labels)\n",
    "\n",
    "x, y = apply_sym_noise(test_x, test_y)\n",
    "x.shape, y.shape"
   ]
  },
  {
   "cell_type": "markdown",
   "id": "86c30131",
   "metadata": {},
   "source": [
    "## create a dataset with asymmetric noise"
   ]
  },
  {
   "cell_type": "code",
   "execution_count": 11,
   "id": "5db91e14",
   "metadata": {},
   "outputs": [
    {
     "data": {
      "text/plain": [
       "((10000, 1, 28, 28), (10000,))"
      ]
     },
     "execution_count": 11,
     "metadata": {},
     "output_type": "execute_result"
    }
   ],
   "source": [
    "def apply_asym_noise(ds_x, ds_y, asym_noise_map=asymmetric_noise, noise_ratio=0.3):\n",
    "    noisy_labels = []\n",
    "    for x, y in zip(ds_x, ds_y):\n",
    "        if np.random.rand() <= noise_ratio:\n",
    "            noisy_labels.append(asym_noise_map[y])\n",
    "        else:\n",
    "            noisy_labels.append(y)\n",
    "\n",
    "    return ds_x, np.array(noisy_labels)\n",
    "\n",
    "x, y = apply_asym_noise(test_x, test_y)\n",
    "x.shape, y.shape"
   ]
  },
  {
   "cell_type": "markdown",
   "id": "8fd6845c",
   "metadata": {},
   "source": [
    "# Generating All datasets"
   ]
  },
  {
   "cell_type": "code",
   "execution_count": 12,
   "id": "c2f91f7c",
   "metadata": {},
   "outputs": [],
   "source": [
    "from torch.utils.data import TensorDataset\n",
    "\n",
    "def generate_data_loader_from_np(_x, _y, batch_size_train=batch_size_train, valid_frac=0.1):\n",
    "    tensor_x, tensor_y = torch.Tensor(np.array(_x)), torch.Tensor(np.array(_y)).long()\n",
    "    train_set = TensorDataset(tensor_x, tensor_y)\n",
    "    \n",
    "    valid_size = int(len(train_set)*valid_frac)\n",
    "    train_size = len(train_set) - valid_size\n",
    "    \n",
    "    train_set, val_set = torch.utils.data.random_split(train_set, [train_size, valid_size])\n",
    "\n",
    "    train_loader = torch.utils.data.DataLoader(\n",
    "        train_set,\n",
    "        batch_size=batch_size_train,\n",
    "        shuffle=True\n",
    "    )\n",
    "\n",
    "    valid_loader = torch.utils.data.DataLoader(\n",
    "        val_set,\n",
    "        batch_size=batch_size_train,\n",
    "        shuffle=True,\n",
    "    )\n",
    "    \n",
    "    return train_loader, valid_loader\n",
    "\n",
    "\n",
    "imb_train_loader, imb_valid_loader = generate_data_loader_from_np(imb_train_x, imb_train_y)\n"
   ]
  },
  {
   "cell_type": "code",
   "execution_count": 13,
   "id": "b6841bf2",
   "metadata": {},
   "outputs": [],
   "source": [
    "#balanced: train_x, train_y\n",
    "#imbalanced: imb_train_x, imb_train_y\n",
    "bal_sym_train_x, bal_sym_train_y = apply_sym_noise(train_x, train_y)\n",
    "bal_asym_train_x, bal_asym_train_y = apply_asym_noise(train_x, train_y)\n",
    "imb_sym_train_x, imb_sym_train_y = apply_sym_noise(imb_train_x, imb_train_y)\n",
    "imb_asym_train_x, imb_asym_train_y = apply_asym_noise(imb_train_x, imb_train_y)\n",
    "\n",
    "#balanced: train_loader\n",
    "#imbalanced: imb_train_loader\n",
    "bal_sym_train_loader, bal_sym_valid_loader = generate_data_loader_from_np(bal_sym_train_x, bal_sym_train_y)\n",
    "bal_asym_train_loader, bal_asym_valid_loader = generate_data_loader_from_np(bal_asym_train_x, bal_asym_train_y)\n",
    "imb_sym_train_loader, imb_sym_valid_loader = generate_data_loader_from_np(imb_sym_train_x, imb_sym_train_y)\n",
    "imb_asym_train_loader, imb_asym_valid_loader = generate_data_loader_from_np(imb_asym_train_x, imb_asym_train_y)"
   ]
  },
  {
   "cell_type": "code",
   "execution_count": 14,
   "id": "e949e723",
   "metadata": {},
   "outputs": [
    {
     "data": {
      "text/plain": [
       "<AxesSubplot:ylabel='Count'>"
      ]
     },
     "execution_count": 14,
     "metadata": {},
     "output_type": "execute_result"
    },
    {
     "data": {
      "image/png": "[encoded data removed]",
      "text/plain": [
       "<Figure size 432x288 with 1 Axes>"
      ]
     },
     "metadata": {
      "needs_background": "light"
     },
     "output_type": "display_data"
    }
   ],
   "source": [
    "sns.histplot(imb_train_y, bins=[i for i in range(11)])\n"
   ]
  },
  {
   "cell_type": "markdown",
   "id": "dd4698be",
   "metadata": {},
   "source": [
    "# Models"
   ]
  },
  {
   "cell_type": "markdown",
   "id": "b84a2538",
   "metadata": {},
   "source": [
    "## validation functions"
   ]
  },
  {
   "cell_type": "markdown",
   "id": "68749836",
   "metadata": {},
   "source": [
    "### draw confusion matrix"
   ]
  },
  {
   "cell_type": "code",
   "execution_count": 15,
   "id": "40690826",
   "metadata": {},
   "outputs": [],
   "source": [
    "from sklearn.metrics import confusion_matrix, accuracy_score, precision_score, recall_score, f1_score\n",
    "import matplotlib.pyplot as plt\n",
    "\n",
    "def conf_mat(y_true, y_pred):\n",
    "    cm = confusion_matrix(y_true, y_pred)\n",
    "    plt.figure(figsize=(8,8))\n",
    "    sns.heatmap(cm, annot=True)\n",
    "\n"
   ]
  },
  {
   "cell_type": "code",
   "execution_count": 16,
   "id": "241b8e22",
   "metadata": {},
   "outputs": [],
   "source": [
    "from sklearn.metrics import classification_report\n",
    "\n",
    "def clf_metrics(y_true, y_pred, n_class=10):\n",
    "    class_names = [str(i) for i in range(n_class)]\n",
    "    print(classification_report(y_true, y_pred, digits=4))\n",
    "    \n"
   ]
  },
  {
   "cell_type": "markdown",
   "id": "ec3567eb",
   "metadata": {},
   "source": [
    "## Logistic Regression"
   ]
  },
  {
   "cell_type": "markdown",
   "id": "2d532b23",
   "metadata": {},
   "source": [
    "### preprocessing data"
   ]
  },
  {
   "cell_type": "code",
   "execution_count": 17,
   "id": "12cc5948",
   "metadata": {},
   "outputs": [
    {
     "data": {
      "text/plain": [
       "(50000, 784)"
      ]
     },
     "execution_count": 17,
     "metadata": {},
     "output_type": "execute_result"
    }
   ],
   "source": [
    "def preprocess(x, y):\n",
    "    x, y = np.array(x).squeeze(), np.array(y)\n",
    "    return x.reshape((x.shape[0], -1)), y\n",
    "\n",
    "train_x, train_y = preprocess(train_x, train_y)\n",
    "test_x, test_y = preprocess(test_x, test_y)\n",
    "valid_x, valid_y = preprocess(valid_x, valid_y)\n",
    "\n",
    "train_x.shape"
   ]
  },
  {
   "cell_type": "markdown",
   "id": "8b810598",
   "metadata": {},
   "source": [
    "### model definition"
   ]
  },
  {
   "cell_type": "code",
   "execution_count": 42,
   "id": "d3bb0866",
   "metadata": {},
   "outputs": [
    {
     "name": "stderr",
     "output_type": "stream",
     "text": [
      "[Parallel(n_jobs=1)]: Using backend SequentialBackend with 1 concurrent workers.\n",
      " This problem is unconstrained.\n"
     ]
    },
    {
     "name": "stdout",
     "output_type": "stream",
     "text": [
      "RUNNING THE L-BFGS-B CODE\n",
      "\n",
      "           * * *\n",
      "\n",
      "Machine precision = 2.220D-16\n",
      " N =          785     M =           10\n",
      "\n",
      "At X0         0 variables are exactly at the bounds\n",
      "\n",
      "At iterate    0    f=  3.46574D+04    |proj g|=  3.56581D+04\n",
      "\n",
      "At iterate   50    f=  1.03141D+03    |proj g|=  3.17595D+01\n",
      "\n",
      "At iterate  100    f=  9.83512D+02    |proj g|=  8.01004D+00\n",
      "\n",
      "           * * *\n",
      "\n",
      "Tit   = total number of iterations\n",
      "Tnf   = total number of function evaluations\n",
      "Tnint = total number of segments explored during Cauchy searches\n",
      "Skip  = number of BFGS updates skipped\n",
      "Nact  = number of active bounds at final generalized Cauchy point\n",
      "Projg = norm of the final projected gradient\n",
      "F     = final function value\n",
      "\n",
      "           * * *\n",
      "\n",
      "   N    Tit     Tnf  Tnint  Skip  Nact     Projg        F\n",
      "  785    100    110      1     0     0   8.010D+00   9.835D+02\n",
      "  F =   983.51238125045086     \n",
      "\n",
      "STOP: TOTAL NO. of ITERATIONS REACHED LIMIT                 \n",
      "RUNNING THE L-BFGS-B CODE\n",
      "\n",
      "           * * *\n",
      "\n",
      "Machine precision = 2.220D-16\n",
      " N =          785     M =           10\n",
      "\n",
      "At X0         0 variables are exactly at the bounds\n",
      "\n",
      "At iterate    0    f=  3.46574D+04    |proj g|=  3.18494D+04\n"
     ]
    },
    {
     "name": "stderr",
     "output_type": "stream",
     "text": [
      "/Users/navid/miniforge_x86_64/envs/pytorch_x86/lib/python3.8/site-packages/sklearn/linear_model/_logistic.py:814: ConvergenceWarning: lbfgs failed to converge (status=1):\n",
      "STOP: TOTAL NO. of ITERATIONS REACHED LIMIT.\n",
      "\n",
      "Increase the number of iterations (max_iter) or scale the data as shown in:\n",
      "    https://scikit-learn.org/stable/modules/preprocessing.html\n",
      "Please also refer to the documentation for alternative solver options:\n",
      "    https://scikit-learn.org/stable/modules/linear_model.html#logistic-regression\n",
      "  n_iter_i = _check_optimize_result(\n",
      " This problem is unconstrained.\n"
     ]
    },
    {
     "name": "stdout",
     "output_type": "stream",
     "text": [
      "\n",
      "At iterate   50    f=  1.09469D+03    |proj g|=  1.59415D+01\n",
      "\n",
      "At iterate  100    f=  1.03614D+03    |proj g|=  8.93726D+00\n",
      "\n",
      "           * * *\n",
      "\n",
      "Tit   = total number of iterations\n",
      "Tnf   = total number of function evaluations\n",
      "Tnint = total number of segments explored during Cauchy searches\n",
      "Skip  = number of BFGS updates skipped\n",
      "Nact  = number of active bounds at final generalized Cauchy point\n",
      "Projg = norm of the final projected gradient\n",
      "F     = final function value\n",
      "\n",
      "           * * *\n",
      "\n",
      "   N    Tit     Tnf  Tnint  Skip  Nact     Projg        F\n",
      "  785    100    114      1     0     0   8.937D+00   1.036D+03\n",
      "  F =   1036.1418203003143     \n",
      "\n",
      "STOP: TOTAL NO. of ITERATIONS REACHED LIMIT                 \n",
      "RUNNING THE L-BFGS-B CODE\n",
      "\n",
      "           * * *\n",
      "\n",
      "Machine precision = 2.220D-16\n",
      " N =          785     M =           10\n",
      "\n",
      "At X0         0 variables are exactly at the bounds\n",
      "\n",
      "At iterate    0    f=  3.46574D+04    |proj g|=  2.73508D+04\n"
     ]
    },
    {
     "name": "stderr",
     "output_type": "stream",
     "text": [
      "/Users/navid/miniforge_x86_64/envs/pytorch_x86/lib/python3.8/site-packages/sklearn/linear_model/_logistic.py:814: ConvergenceWarning: lbfgs failed to converge (status=1):\n",
      "STOP: TOTAL NO. of ITERATIONS REACHED LIMIT.\n",
      "\n",
      "Increase the number of iterations (max_iter) or scale the data as shown in:\n",
      "    https://scikit-learn.org/stable/modules/preprocessing.html\n",
      "Please also refer to the documentation for alternative solver options:\n",
      "    https://scikit-learn.org/stable/modules/linear_model.html#logistic-regression\n",
      "  n_iter_i = _check_optimize_result(\n",
      " This problem is unconstrained.\n"
     ]
    },
    {
     "name": "stdout",
     "output_type": "stream",
     "text": [
      "\n",
      "At iterate   50    f=  3.19682D+03    |proj g|=  3.77829D+01\n"
     ]
    },
    {
     "name": "stderr",
     "output_type": "stream",
     "text": [
      "/Users/navid/miniforge_x86_64/envs/pytorch_x86/lib/python3.8/site-packages/sklearn/linear_model/_logistic.py:814: ConvergenceWarning: lbfgs failed to converge (status=1):\n",
      "STOP: TOTAL NO. of ITERATIONS REACHED LIMIT.\n",
      "\n",
      "Increase the number of iterations (max_iter) or scale the data as shown in:\n",
      "    https://scikit-learn.org/stable/modules/preprocessing.html\n",
      "Please also refer to the documentation for alternative solver options:\n",
      "    https://scikit-learn.org/stable/modules/linear_model.html#logistic-regression\n",
      "  n_iter_i = _check_optimize_result(\n",
      " This problem is unconstrained.\n"
     ]
    },
    {
     "name": "stdout",
     "output_type": "stream",
     "text": [
      "\n",
      "At iterate  100    f=  3.10326D+03    |proj g|=  1.50223D+01\n",
      "\n",
      "           * * *\n",
      "\n",
      "Tit   = total number of iterations\n",
      "Tnf   = total number of function evaluations\n",
      "Tnint = total number of segments explored during Cauchy searches\n",
      "Skip  = number of BFGS updates skipped\n",
      "Nact  = number of active bounds at final generalized Cauchy point\n",
      "Projg = norm of the final projected gradient\n",
      "F     = final function value\n",
      "\n",
      "           * * *\n",
      "\n",
      "   N    Tit     Tnf  Tnint  Skip  Nact     Projg        F\n",
      "  785    100    114      1     0     0   1.502D+01   3.103D+03\n",
      "  F =   3103.2604674215559     \n",
      "\n",
      "STOP: TOTAL NO. of ITERATIONS REACHED LIMIT                 \n",
      "RUNNING THE L-BFGS-B CODE\n",
      "\n",
      "           * * *\n",
      "\n",
      "Machine precision = 2.220D-16\n",
      " N =          785     M =           10\n",
      "\n",
      "At X0         0 variables are exactly at the bounds\n",
      "\n",
      "At iterate    0    f=  3.46574D+04    |proj g|=  2.90443D+04\n",
      "\n",
      "At iterate   50    f=  3.86220D+03    |proj g|=  3.41590D+01\n"
     ]
    },
    {
     "name": "stderr",
     "output_type": "stream",
     "text": [
      "/Users/navid/miniforge_x86_64/envs/pytorch_x86/lib/python3.8/site-packages/sklearn/linear_model/_logistic.py:814: ConvergenceWarning: lbfgs failed to converge (status=1):\n",
      "STOP: TOTAL NO. of ITERATIONS REACHED LIMIT.\n",
      "\n",
      "Increase the number of iterations (max_iter) or scale the data as shown in:\n",
      "    https://scikit-learn.org/stable/modules/preprocessing.html\n",
      "Please also refer to the documentation for alternative solver options:\n",
      "    https://scikit-learn.org/stable/modules/linear_model.html#logistic-regression\n",
      "  n_iter_i = _check_optimize_result(\n",
      " This problem is unconstrained.\n"
     ]
    },
    {
     "name": "stdout",
     "output_type": "stream",
     "text": [
      "\n",
      "At iterate  100    f=  3.78445D+03    |proj g|=  4.24488D+01\n",
      "\n",
      "           * * *\n",
      "\n",
      "Tit   = total number of iterations\n",
      "Tnf   = total number of function evaluations\n",
      "Tnint = total number of segments explored during Cauchy searches\n",
      "Skip  = number of BFGS updates skipped\n",
      "Nact  = number of active bounds at final generalized Cauchy point\n",
      "Projg = norm of the final projected gradient\n",
      "F     = final function value\n",
      "\n",
      "           * * *\n",
      "\n",
      "   N    Tit     Tnf  Tnint  Skip  Nact     Projg        F\n",
      "  785    100    110      1     0     0   4.245D+01   3.784D+03\n",
      "  F =   3784.4524199221578     \n",
      "\n",
      "STOP: TOTAL NO. of ITERATIONS REACHED LIMIT                 \n",
      "RUNNING THE L-BFGS-B CODE\n",
      "\n",
      "           * * *\n",
      "\n",
      "Machine precision = 2.220D-16\n",
      " N =          785     M =           10\n",
      "\n",
      "At X0         0 variables are exactly at the bounds\n",
      "\n",
      "At iterate    0    f=  3.46574D+04    |proj g|=  3.23933D+04\n",
      "\n",
      "At iterate   50    f=  2.27201D+03    |proj g|=  7.22647D+01\n",
      "\n",
      "At iterate  100    f=  2.17455D+03    |proj g|=  1.30612D+01\n",
      "\n",
      "           * * *\n",
      "\n",
      "Tit   = total number of iterations\n",
      "Tnf   = total number of function evaluations\n",
      "Tnint = total number of segments explored during Cauchy searches\n",
      "Skip  = number of BFGS updates skipped\n",
      "Nact  = number of active bounds at final generalized Cauchy point\n",
      "Projg = norm of the final projected gradient\n",
      "F     = final function value\n",
      "\n",
      "           * * *\n",
      "\n",
      "   N    Tit     Tnf  Tnint  Skip  Nact     Projg        F\n",
      "  785    100    111      1     0     0   1.306D+01   2.175D+03\n",
      "  F =   2174.5524266446546     \n",
      "\n",
      "STOP: TOTAL NO. of ITERATIONS REACHED LIMIT                 \n",
      "RUNNING THE L-BFGS-B CODE\n",
      "\n",
      "           * * *\n",
      "\n",
      "Machine precision = 2.220D-16\n",
      " N =          785     M =           10\n",
      "\n",
      "At X0         0 variables are exactly at the bounds\n",
      "\n",
      "At iterate    0    f=  3.46574D+04    |proj g|=  2.98956D+04\n"
     ]
    },
    {
     "name": "stderr",
     "output_type": "stream",
     "text": [
      "/Users/navid/miniforge_x86_64/envs/pytorch_x86/lib/python3.8/site-packages/sklearn/linear_model/_logistic.py:814: ConvergenceWarning: lbfgs failed to converge (status=1):\n",
      "STOP: TOTAL NO. of ITERATIONS REACHED LIMIT.\n",
      "\n",
      "Increase the number of iterations (max_iter) or scale the data as shown in:\n",
      "    https://scikit-learn.org/stable/modules/preprocessing.html\n",
      "Please also refer to the documentation for alternative solver options:\n",
      "    https://scikit-learn.org/stable/modules/linear_model.html#logistic-regression\n",
      "  n_iter_i = _check_optimize_result(\n",
      " This problem is unconstrained.\n"
     ]
    },
    {
     "name": "stdout",
     "output_type": "stream",
     "text": [
      "\n",
      "At iterate   50    f=  4.09818D+03    |proj g|=  1.10329D+02\n",
      "\n",
      "At iterate  100    f=  3.95811D+03    |proj g|=  1.71250D+01\n",
      "\n",
      "           * * *\n",
      "\n",
      "Tit   = total number of iterations\n",
      "Tnf   = total number of function evaluations\n",
      "Tnint = total number of segments explored during Cauchy searches\n",
      "Skip  = number of BFGS updates skipped\n",
      "Nact  = number of active bounds at final generalized Cauchy point\n",
      "Projg = norm of the final projected gradient\n",
      "F     = final function value\n",
      "\n",
      "           * * *\n",
      "\n",
      "   N    Tit     Tnf  Tnint  Skip  Nact     Projg        F\n",
      "  785    100    112      1     0     0   1.713D+01   3.958D+03\n",
      "  F =   3958.1072358418560     \n",
      "\n",
      "STOP: TOTAL NO. of ITERATIONS REACHED LIMIT                 \n",
      "RUNNING THE L-BFGS-B CODE\n",
      "\n",
      "           * * *\n",
      "\n",
      "Machine precision = 2.220D-16\n",
      " N =          785     M =           10\n",
      "\n",
      "At X0         0 variables are exactly at the bounds\n",
      "\n",
      "At iterate    0    f=  3.46574D+04    |proj g|=  2.94212D+04\n"
     ]
    },
    {
     "name": "stderr",
     "output_type": "stream",
     "text": [
      "/Users/navid/miniforge_x86_64/envs/pytorch_x86/lib/python3.8/site-packages/sklearn/linear_model/_logistic.py:814: ConvergenceWarning: lbfgs failed to converge (status=1):\n",
      "STOP: TOTAL NO. of ITERATIONS REACHED LIMIT.\n",
      "\n",
      "Increase the number of iterations (max_iter) or scale the data as shown in:\n",
      "    https://scikit-learn.org/stable/modules/preprocessing.html\n",
      "Please also refer to the documentation for alternative solver options:\n",
      "    https://scikit-learn.org/stable/modules/linear_model.html#logistic-regression\n",
      "  n_iter_i = _check_optimize_result(\n",
      " This problem is unconstrained.\n"
     ]
    },
    {
     "name": "stdout",
     "output_type": "stream",
     "text": [
      "\n",
      "At iterate   50    f=  1.67260D+03    |proj g|=  2.64388D+01\n",
      "\n",
      "At iterate  100    f=  1.62325D+03    |proj g|=  1.00284D+01\n",
      "\n",
      "           * * *\n",
      "\n",
      "Tit   = total number of iterations\n",
      "Tnf   = total number of function evaluations\n",
      "Tnint = total number of segments explored during Cauchy searches\n",
      "Skip  = number of BFGS updates skipped\n",
      "Nact  = number of active bounds at final generalized Cauchy point\n",
      "Projg = norm of the final projected gradient\n",
      "F     = final function value\n",
      "\n",
      "           * * *\n",
      "\n",
      "   N    Tit     Tnf  Tnint  Skip  Nact     Projg        F\n",
      "  785    100    116      1     0     0   1.003D+01   1.623D+03\n",
      "  F =   1623.2460841622335     \n",
      "\n",
      "STOP: TOTAL NO. of ITERATIONS REACHED LIMIT                 \n",
      "RUNNING THE L-BFGS-B CODE\n",
      "\n",
      "           * * *\n",
      "\n",
      "Machine precision = 2.220D-16\n",
      " N =          785     M =           10\n",
      "\n",
      "At X0         0 variables are exactly at the bounds\n",
      "\n",
      "At iterate    0    f=  3.46574D+04    |proj g|=  3.08107D+04\n"
     ]
    },
    {
     "name": "stderr",
     "output_type": "stream",
     "text": [
      "/Users/navid/miniforge_x86_64/envs/pytorch_x86/lib/python3.8/site-packages/sklearn/linear_model/_logistic.py:814: ConvergenceWarning: lbfgs failed to converge (status=1):\n",
      "STOP: TOTAL NO. of ITERATIONS REACHED LIMIT.\n",
      "\n",
      "Increase the number of iterations (max_iter) or scale the data as shown in:\n",
      "    https://scikit-learn.org/stable/modules/preprocessing.html\n",
      "Please also refer to the documentation for alternative solver options:\n",
      "    https://scikit-learn.org/stable/modules/linear_model.html#logistic-regression\n",
      "  n_iter_i = _check_optimize_result(\n",
      " This problem is unconstrained.\n"
     ]
    },
    {
     "name": "stdout",
     "output_type": "stream",
     "text": [
      "\n",
      "At iterate   50    f=  2.13891D+03    |proj g|=  4.03928D+01\n",
      "\n",
      "At iterate  100    f=  2.07884D+03    |proj g|=  1.89532D+01\n",
      "\n",
      "           * * *\n",
      "\n",
      "Tit   = total number of iterations\n",
      "Tnf   = total number of function evaluations\n",
      "Tnint = total number of segments explored during Cauchy searches\n",
      "Skip  = number of BFGS updates skipped\n",
      "Nact  = number of active bounds at final generalized Cauchy point\n",
      "Projg = norm of the final projected gradient\n",
      "F     = final function value\n",
      "\n",
      "           * * *\n",
      "\n",
      "   N    Tit     Tnf  Tnint  Skip  Nact     Projg        F\n",
      "  785    100    109      1     0     0   1.895D+01   2.079D+03\n",
      "  F =   2078.8387577443223     \n",
      "\n",
      "STOP: TOTAL NO. of ITERATIONS REACHED LIMIT                 \n",
      "RUNNING THE L-BFGS-B CODE\n",
      "\n",
      "           * * *\n",
      "\n",
      "Machine precision = 2.220D-16\n",
      " N =          785     M =           10\n",
      "\n",
      "At X0         0 variables are exactly at the bounds\n",
      "\n",
      "At iterate    0    f=  3.46574D+04    |proj g|=  2.55138D+04\n"
     ]
    },
    {
     "name": "stderr",
     "output_type": "stream",
     "text": [
      "/Users/navid/miniforge_x86_64/envs/pytorch_x86/lib/python3.8/site-packages/sklearn/linear_model/_logistic.py:814: ConvergenceWarning: lbfgs failed to converge (status=1):\n",
      "STOP: TOTAL NO. of ITERATIONS REACHED LIMIT.\n",
      "\n",
      "Increase the number of iterations (max_iter) or scale the data as shown in:\n",
      "    https://scikit-learn.org/stable/modules/preprocessing.html\n",
      "Please also refer to the documentation for alternative solver options:\n",
      "    https://scikit-learn.org/stable/modules/linear_model.html#logistic-regression\n",
      "  n_iter_i = _check_optimize_result(\n",
      " This problem is unconstrained.\n"
     ]
    },
    {
     "name": "stdout",
     "output_type": "stream",
     "text": [
      "\n",
      "At iterate   50    f=  5.63835D+03    |proj g|=  4.13856D+01\n",
      "\n",
      "At iterate  100    f=  5.56927D+03    |proj g|=  2.87040D+01\n",
      "\n",
      "           * * *\n",
      "\n",
      "Tit   = total number of iterations\n",
      "Tnf   = total number of function evaluations\n",
      "Tnint = total number of segments explored during Cauchy searches\n",
      "Skip  = number of BFGS updates skipped\n",
      "Nact  = number of active bounds at final generalized Cauchy point\n",
      "Projg = norm of the final projected gradient\n",
      "F     = final function value\n",
      "\n",
      "           * * *\n",
      "\n",
      "   N    Tit     Tnf  Tnint  Skip  Nact     Projg        F\n",
      "  785    100    115      1     0     0   2.870D+01   5.569D+03\n",
      "  F =   5569.2715350589388     \n",
      "\n",
      "STOP: TOTAL NO. of ITERATIONS REACHED LIMIT                 \n",
      "RUNNING THE L-BFGS-B CODE\n",
      "\n",
      "           * * *\n",
      "\n",
      "Machine precision = 2.220D-16\n",
      " N =          785     M =           10\n",
      "\n",
      "At X0         0 variables are exactly at the bounds\n",
      "\n",
      "At iterate    0    f=  3.46574D+04    |proj g|=  2.71090D+04\n"
     ]
    },
    {
     "name": "stderr",
     "output_type": "stream",
     "text": [
      "/Users/navid/miniforge_x86_64/envs/pytorch_x86/lib/python3.8/site-packages/sklearn/linear_model/_logistic.py:814: ConvergenceWarning: lbfgs failed to converge (status=1):\n",
      "STOP: TOTAL NO. of ITERATIONS REACHED LIMIT.\n",
      "\n",
      "Increase the number of iterations (max_iter) or scale the data as shown in:\n",
      "    https://scikit-learn.org/stable/modules/preprocessing.html\n",
      "Please also refer to the documentation for alternative solver options:\n",
      "    https://scikit-learn.org/stable/modules/linear_model.html#logistic-regression\n",
      "  n_iter_i = _check_optimize_result(\n",
      " This problem is unconstrained.\n"
     ]
    },
    {
     "name": "stdout",
     "output_type": "stream",
     "text": [
      "\n",
      "At iterate   50    f=  4.71919D+03    |proj g|=  6.54175D+01\n",
      "\n",
      "At iterate  100    f=  4.63855D+03    |proj g|=  5.22290D+01\n",
      "\n",
      "           * * *\n",
      "\n",
      "Tit   = total number of iterations\n",
      "Tnf   = total number of function evaluations\n",
      "Tnint = total number of segments explored during Cauchy searches\n",
      "Skip  = number of BFGS updates skipped\n",
      "Nact  = number of active bounds at final generalized Cauchy point\n",
      "Projg = norm of the final projected gradient\n",
      "F     = final function value\n",
      "\n",
      "           * * *\n",
      "\n",
      "   N    Tit     Tnf  Tnint  Skip  Nact     Projg        F\n",
      "  785    100    113      1     0     0   5.223D+01   4.639D+03\n",
      "  F =   4638.5508410830344     \n",
      "\n",
      "STOP: TOTAL NO. of ITERATIONS REACHED LIMIT                 \n"
     ]
    },
    {
     "name": "stderr",
     "output_type": "stream",
     "text": [
      "/Users/navid/miniforge_x86_64/envs/pytorch_x86/lib/python3.8/site-packages/sklearn/linear_model/_logistic.py:814: ConvergenceWarning: lbfgs failed to converge (status=1):\n",
      "STOP: TOTAL NO. of ITERATIONS REACHED LIMIT.\n",
      "\n",
      "Increase the number of iterations (max_iter) or scale the data as shown in:\n",
      "    https://scikit-learn.org/stable/modules/preprocessing.html\n",
      "Please also refer to the documentation for alternative solver options:\n",
      "    https://scikit-learn.org/stable/modules/linear_model.html#logistic-regression\n",
      "  n_iter_i = _check_optimize_result(\n",
      "[Parallel(n_jobs=1)]: Done  10 out of  10 | elapsed:   25.5s finished\n"
     ]
    },
    {
     "ename": "ValueError",
     "evalue": "X has 784 features, but SVC is expecting 10 features as input.",
     "output_type": "error",
     "traceback": [
      "\u001b[0;31m---------------------------------------------------------------------------\u001b[0m",
      "\u001b[0;31mValueError\u001b[0m                                Traceback (most recent call last)",
      "\u001b[0;32m/var/folders/c4/gdhzr5rd3q584gh9ycv3hc080000gn/T/ipykernel_2647/967094708.py\u001b[0m in \u001b[0;36m<module>\u001b[0;34m\u001b[0m\n\u001b[1;32m      7\u001b[0m \u001b[0;34m\u001b[0m\u001b[0m\n\u001b[1;32m      8\u001b[0m \u001b[0mlr\u001b[0m\u001b[0;34m.\u001b[0m\u001b[0mfit\u001b[0m\u001b[0;34m(\u001b[0m\u001b[0mtrain_x\u001b[0m\u001b[0;34m,\u001b[0m \u001b[0mtrain_y\u001b[0m\u001b[0;34m)\u001b[0m\u001b[0;34m\u001b[0m\u001b[0;34m\u001b[0m\u001b[0m\n\u001b[0;32m----> 9\u001b[0;31m \u001b[0my_pred\u001b[0m \u001b[0;34m=\u001b[0m \u001b[0msvm\u001b[0m\u001b[0;34m.\u001b[0m\u001b[0mpredict\u001b[0m\u001b[0;34m(\u001b[0m\u001b[0mtest_x\u001b[0m\u001b[0;34m)\u001b[0m\u001b[0;34m\u001b[0m\u001b[0;34m\u001b[0m\u001b[0m\n\u001b[0m",
      "\u001b[0;32m~/miniforge_x86_64/envs/pytorch_x86/lib/python3.8/site-packages/sklearn/svm/_base.py\u001b[0m in \u001b[0;36mpredict\u001b[0;34m(self, X)\u001b[0m\n\u001b[1;32m    789\u001b[0m             \u001b[0my\u001b[0m \u001b[0;34m=\u001b[0m \u001b[0mnp\u001b[0m\u001b[0;34m.\u001b[0m\u001b[0margmax\u001b[0m\u001b[0;34m(\u001b[0m\u001b[0mself\u001b[0m\u001b[0;34m.\u001b[0m\u001b[0mdecision_function\u001b[0m\u001b[0;34m(\u001b[0m\u001b[0mX\u001b[0m\u001b[0;34m)\u001b[0m\u001b[0;34m,\u001b[0m \u001b[0maxis\u001b[0m\u001b[0;34m=\u001b[0m\u001b[0;36m1\u001b[0m\u001b[0;34m)\u001b[0m\u001b[0;34m\u001b[0m\u001b[0;34m\u001b[0m\u001b[0m\n\u001b[1;32m    790\u001b[0m         \u001b[0;32melse\u001b[0m\u001b[0;34m:\u001b[0m\u001b[0;34m\u001b[0m\u001b[0;34m\u001b[0m\u001b[0m\n\u001b[0;32m--> 791\u001b[0;31m             \u001b[0my\u001b[0m \u001b[0;34m=\u001b[0m \u001b[0msuper\u001b[0m\u001b[0;34m(\u001b[0m\u001b[0;34m)\u001b[0m\u001b[0;34m.\u001b[0m\u001b[0mpredict\u001b[0m\u001b[0;34m(\u001b[0m\u001b[0mX\u001b[0m\u001b[0;34m)\u001b[0m\u001b[0;34m\u001b[0m\u001b[0;34m\u001b[0m\u001b[0m\n\u001b[0m\u001b[1;32m    792\u001b[0m         \u001b[0;32mreturn\u001b[0m \u001b[0mself\u001b[0m\u001b[0;34m.\u001b[0m\u001b[0mclasses_\u001b[0m\u001b[0;34m.\u001b[0m\u001b[0mtake\u001b[0m\u001b[0;34m(\u001b[0m\u001b[0mnp\u001b[0m\u001b[0;34m.\u001b[0m\u001b[0masarray\u001b[0m\u001b[0;34m(\u001b[0m\u001b[0my\u001b[0m\u001b[0;34m,\u001b[0m \u001b[0mdtype\u001b[0m\u001b[0;34m=\u001b[0m\u001b[0mnp\u001b[0m\u001b[0;34m.\u001b[0m\u001b[0mintp\u001b[0m\u001b[0;34m)\u001b[0m\u001b[0;34m)\u001b[0m\u001b[0;34m\u001b[0m\u001b[0;34m\u001b[0m\u001b[0m\n\u001b[1;32m    793\u001b[0m \u001b[0;34m\u001b[0m\u001b[0m\n",
      "\u001b[0;32m~/miniforge_x86_64/envs/pytorch_x86/lib/python3.8/site-packages/sklearn/svm/_base.py\u001b[0m in \u001b[0;36mpredict\u001b[0;34m(self, X)\u001b[0m\n\u001b[1;32m    412\u001b[0m             \u001b[0mThe\u001b[0m \u001b[0mpredicted\u001b[0m \u001b[0mvalues\u001b[0m\u001b[0;34m.\u001b[0m\u001b[0;34m\u001b[0m\u001b[0;34m\u001b[0m\u001b[0m\n\u001b[1;32m    413\u001b[0m         \"\"\"\n\u001b[0;32m--> 414\u001b[0;31m         \u001b[0mX\u001b[0m \u001b[0;34m=\u001b[0m \u001b[0mself\u001b[0m\u001b[0;34m.\u001b[0m\u001b[0m_validate_for_predict\u001b[0m\u001b[0;34m(\u001b[0m\u001b[0mX\u001b[0m\u001b[0;34m)\u001b[0m\u001b[0;34m\u001b[0m\u001b[0;34m\u001b[0m\u001b[0m\n\u001b[0m\u001b[1;32m    415\u001b[0m         \u001b[0mpredict\u001b[0m \u001b[0;34m=\u001b[0m \u001b[0mself\u001b[0m\u001b[0;34m.\u001b[0m\u001b[0m_sparse_predict\u001b[0m \u001b[0;32mif\u001b[0m \u001b[0mself\u001b[0m\u001b[0;34m.\u001b[0m\u001b[0m_sparse\u001b[0m \u001b[0;32melse\u001b[0m \u001b[0mself\u001b[0m\u001b[0;34m.\u001b[0m\u001b[0m_dense_predict\u001b[0m\u001b[0;34m\u001b[0m\u001b[0;34m\u001b[0m\u001b[0m\n\u001b[1;32m    416\u001b[0m         \u001b[0;32mreturn\u001b[0m \u001b[0mpredict\u001b[0m\u001b[0;34m(\u001b[0m\u001b[0mX\u001b[0m\u001b[0;34m)\u001b[0m\u001b[0;34m\u001b[0m\u001b[0;34m\u001b[0m\u001b[0m\n",
      "\u001b[0;32m~/miniforge_x86_64/envs/pytorch_x86/lib/python3.8/site-packages/sklearn/svm/_base.py\u001b[0m in \u001b[0;36m_validate_for_predict\u001b[0;34m(self, X)\u001b[0m\n\u001b[1;32m    590\u001b[0m \u001b[0;34m\u001b[0m\u001b[0m\n\u001b[1;32m    591\u001b[0m         \u001b[0;32mif\u001b[0m \u001b[0;32mnot\u001b[0m \u001b[0mcallable\u001b[0m\u001b[0;34m(\u001b[0m\u001b[0mself\u001b[0m\u001b[0;34m.\u001b[0m\u001b[0mkernel\u001b[0m\u001b[0;34m)\u001b[0m\u001b[0;34m:\u001b[0m\u001b[0;34m\u001b[0m\u001b[0;34m\u001b[0m\u001b[0m\n\u001b[0;32m--> 592\u001b[0;31m             X = self._validate_data(\n\u001b[0m\u001b[1;32m    593\u001b[0m                 \u001b[0mX\u001b[0m\u001b[0;34m,\u001b[0m\u001b[0;34m\u001b[0m\u001b[0;34m\u001b[0m\u001b[0m\n\u001b[1;32m    594\u001b[0m                 \u001b[0maccept_sparse\u001b[0m\u001b[0;34m=\u001b[0m\u001b[0;34m\"csr\"\u001b[0m\u001b[0;34m,\u001b[0m\u001b[0;34m\u001b[0m\u001b[0;34m\u001b[0m\u001b[0m\n",
      "\u001b[0;32m~/miniforge_x86_64/envs/pytorch_x86/lib/python3.8/site-packages/sklearn/base.py\u001b[0m in \u001b[0;36m_validate_data\u001b[0;34m(self, X, y, reset, validate_separately, **check_params)\u001b[0m\n\u001b[1;32m    578\u001b[0m \u001b[0;34m\u001b[0m\u001b[0m\n\u001b[1;32m    579\u001b[0m         \u001b[0;32mif\u001b[0m \u001b[0;32mnot\u001b[0m \u001b[0mno_val_X\u001b[0m \u001b[0;32mand\u001b[0m \u001b[0mcheck_params\u001b[0m\u001b[0;34m.\u001b[0m\u001b[0mget\u001b[0m\u001b[0;34m(\u001b[0m\u001b[0;34m\"ensure_2d\"\u001b[0m\u001b[0;34m,\u001b[0m \u001b[0;32mTrue\u001b[0m\u001b[0;34m)\u001b[0m\u001b[0;34m:\u001b[0m\u001b[0;34m\u001b[0m\u001b[0;34m\u001b[0m\u001b[0m\n\u001b[0;32m--> 580\u001b[0;31m             \u001b[0mself\u001b[0m\u001b[0;34m.\u001b[0m\u001b[0m_check_n_features\u001b[0m\u001b[0;34m(\u001b[0m\u001b[0mX\u001b[0m\u001b[0;34m,\u001b[0m \u001b[0mreset\u001b[0m\u001b[0;34m=\u001b[0m\u001b[0mreset\u001b[0m\u001b[0;34m)\u001b[0m\u001b[0;34m\u001b[0m\u001b[0;34m\u001b[0m\u001b[0m\n\u001b[0m\u001b[1;32m    581\u001b[0m \u001b[0;34m\u001b[0m\u001b[0m\n\u001b[1;32m    582\u001b[0m         \u001b[0;32mreturn\u001b[0m \u001b[0mout\u001b[0m\u001b[0;34m\u001b[0m\u001b[0;34m\u001b[0m\u001b[0m\n",
      "\u001b[0;32m~/miniforge_x86_64/envs/pytorch_x86/lib/python3.8/site-packages/sklearn/base.py\u001b[0m in \u001b[0;36m_check_n_features\u001b[0;34m(self, X, reset)\u001b[0m\n\u001b[1;32m    393\u001b[0m \u001b[0;34m\u001b[0m\u001b[0m\n\u001b[1;32m    394\u001b[0m         \u001b[0;32mif\u001b[0m \u001b[0mn_features\u001b[0m \u001b[0;34m!=\u001b[0m \u001b[0mself\u001b[0m\u001b[0;34m.\u001b[0m\u001b[0mn_features_in_\u001b[0m\u001b[0;34m:\u001b[0m\u001b[0;34m\u001b[0m\u001b[0;34m\u001b[0m\u001b[0m\n\u001b[0;32m--> 395\u001b[0;31m             raise ValueError(\n\u001b[0m\u001b[1;32m    396\u001b[0m                 \u001b[0;34mf\"X has {n_features} features, but {self.__class__.__name__} \"\u001b[0m\u001b[0;34m\u001b[0m\u001b[0;34m\u001b[0m\u001b[0m\n\u001b[1;32m    397\u001b[0m                 \u001b[0;34mf\"is expecting {self.n_features_in_} features as input.\"\u001b[0m\u001b[0;34m\u001b[0m\u001b[0;34m\u001b[0m\u001b[0m\n",
      "\u001b[0;31mValueError\u001b[0m: X has 784 features, but SVC is expecting 10 features as input."
     ]
    }
   ],
   "source": [
    "lr = LogisticRegression(\n",
    "    \n",
    "    multi_class='ovr',\n",
    "    random_state=random_seed,\n",
    "    verbose=True,\n",
    ") \n",
    "\n",
    "lr.fit(train_x, train_y)\n",
    "y_pred = svm.predict(test_x)"
   ]
  },
  {
   "cell_type": "code",
   "execution_count": 43,
   "id": "167011ca",
   "metadata": {},
   "outputs": [
    {
     "data": {
      "text/plain": [
       "(10, 784)"
      ]
     },
     "execution_count": 43,
     "metadata": {},
     "output_type": "execute_result"
    }
   ],
   "source": [
    "lr.coef_.shape"
   ]
  },
  {
   "cell_type": "code",
   "execution_count": 44,
   "id": "d83aedba",
   "metadata": {},
   "outputs": [
    {
     "data": {
      "image/png": "[encoded data removed]",
      "text/plain": [
       "<Figure size 576x576 with 2 Axes>"
      ]
     },
     "metadata": {
      "needs_background": "light"
     },
     "output_type": "display_data"
    }
   ],
   "source": [
    "conf_mat(test_y, y_pred)"
   ]
  },
  {
   "cell_type": "markdown",
   "id": "003ebcb1",
   "metadata": {},
   "source": [
    "### model report"
   ]
  },
  {
   "cell_type": "code",
   "execution_count": 45,
   "id": "e7af876e",
   "metadata": {
    "scrolled": true
   },
   "outputs": [
    {
     "name": "stdout",
     "output_type": "stream",
     "text": [
      "              precision    recall  f1-score   support\n",
      "\n",
      "           0     0.9602    0.9857    0.9728       980\n",
      "           1     0.9292    0.9947    0.9609      1135\n",
      "           2     0.9825    0.9254    0.9531      1032\n",
      "           3     0.9630    0.9535    0.9582      1010\n",
      "           4     0.9685    0.9399    0.9540       982\n",
      "           5     0.9500    0.9585    0.9542       892\n",
      "           6     0.9562    0.9802    0.9680       958\n",
      "           7     0.9392    0.9475    0.9433      1028\n",
      "           8     0.9803    0.9199    0.9492       974\n",
      "           9     0.9344    0.9455    0.9399      1009\n",
      "\n",
      "    accuracy                         0.9554     10000\n",
      "   macro avg     0.9564    0.9551    0.9554     10000\n",
      "weighted avg     0.9560    0.9554    0.9553     10000\n",
      "\n"
     ]
    }
   ],
   "source": [
    "clf_metrics(test_y, y_pred)"
   ]
  },
  {
   "cell_type": "markdown",
   "id": "09d846a6",
   "metadata": {},
   "source": [
    "### train on all datasets"
   ]
  },
  {
   "cell_type": "code",
   "execution_count": 20,
   "id": "44d451b2",
   "metadata": {},
   "outputs": [
    {
     "name": "stderr",
     "output_type": "stream",
     "text": [
      "100%|█████████████████████████████████████████████████████████████████████████████████████████████████████████████████████| 6/6 [01:05<00:00, 10.94s/it]\n"
     ]
    }
   ],
   "source": [
    "import pickle\n",
    "\n",
    "datasets = [\n",
    "    (train_x, train_y, 'balanced'),\n",
    "    (imb_train_x, imb_train_y, 'imbalanced'),\n",
    "    (bal_sym_train_x, bal_sym_train_y, 'bal_sym'),\n",
    "    (bal_asym_train_x, bal_asym_train_y, 'bal_asym'),\n",
    "    (imb_sym_train_x, imb_sym_train_y, 'imb_sym'),\n",
    "    (imb_asym_train_x, imb_asym_train_y, 'imb_asym'),\n",
    "]\n",
    "\n",
    "for _x, _y, name in tqdm(datasets):\n",
    "    _x, _y = preprocess(_x, _y)\n",
    "    \n",
    "    lr = LogisticRegression(\n",
    "        multi_class='ovr',\n",
    "        random_state=random_seed,\n",
    "        verbose=False,\n",
    "        n_jobs=-1\n",
    "    )  \n",
    "\n",
    "    lr.fit(_x, _y)\n",
    "    with open(f'lr-{name}', 'wb') as f:\n",
    "        pickle.dump(lr, f)"
   ]
  },
  {
   "cell_type": "markdown",
   "id": "e3fe7c46",
   "metadata": {},
   "source": [
    "### load and test lr model"
   ]
  },
  {
   "cell_type": "code",
   "execution_count": 21,
   "id": "9a2fae8f",
   "metadata": {
    "scrolled": true
   },
   "outputs": [
    {
     "name": "stdout",
     "output_type": "stream",
     "text": [
      "lr-balanced\n",
      "              precision    recall  f1-score   support\n",
      "\n",
      "           0     0.9458    0.9786    0.9619       980\n",
      "           1     0.9512    0.9789    0.9648      1135\n",
      "           2     0.9299    0.8866    0.9077      1032\n",
      "           3     0.9016    0.9069    0.9042      1010\n",
      "           4     0.9148    0.9297    0.9222       982\n",
      "           5     0.8895    0.8576    0.8733       892\n",
      "           6     0.9358    0.9436    0.9397       958\n",
      "           7     0.9301    0.9193    0.9247      1028\n",
      "           8     0.8717    0.8789    0.8753       974\n",
      "           9     0.8976    0.8860    0.8918      1009\n",
      "\n",
      "    accuracy                         0.9178     10000\n",
      "   macro avg     0.9168    0.9166    0.9166     10000\n",
      "weighted avg     0.9176    0.9178    0.9175     10000\n",
      "\n",
      "lr-imbalanced\n",
      "              precision    recall  f1-score   support\n",
      "\n",
      "           0     0.9770    0.9092    0.9419       980\n",
      "           1     0.9769    0.9295    0.9526      1135\n",
      "           2     0.8835    0.8963    0.8899      1032\n",
      "           3     0.8140    0.9228    0.8650      1010\n",
      "           4     0.8781    0.9389    0.9075       982\n",
      "           5     0.9497    0.6357    0.7616       892\n",
      "           6     0.8991    0.9676    0.9321       958\n",
      "           7     0.9529    0.7675    0.8502      1028\n",
      "           8     0.7630    0.9055    0.8282       974\n",
      "           9     0.7998    0.9148    0.8534      1009\n",
      "\n",
      "    accuracy                         0.8813     10000\n",
      "   macro avg     0.8894    0.8788    0.8782     10000\n",
      "weighted avg     0.8901    0.8813    0.8801     10000\n",
      "\n",
      "lr-bal_sym\n",
      "              precision    recall  f1-score   support\n",
      "\n",
      "           0     0.9203    0.9663    0.9428       980\n",
      "           1     0.9034    0.9718    0.9363      1135\n",
      "           2     0.9365    0.8295    0.8798      1032\n",
      "           3     0.8811    0.8733    0.8772      1010\n",
      "           4     0.8691    0.9063    0.8873       982\n",
      "           5     0.8721    0.8330    0.8521       892\n",
      "           6     0.9049    0.9238    0.9143       958\n",
      "           7     0.9050    0.8901    0.8975      1028\n",
      "           8     0.8450    0.8285    0.8367       974\n",
      "           9     0.8611    0.8662    0.8636      1009\n",
      "\n",
      "    accuracy                         0.8902     10000\n",
      "   macro avg     0.8899    0.8889    0.8888     10000\n",
      "weighted avg     0.8904    0.8902    0.8897     10000\n",
      "\n",
      "lr-bal_asym\n",
      "              precision    recall  f1-score   support\n",
      "\n",
      "           0     0.9293    0.9796    0.9538       980\n",
      "           1     0.8359    0.9692    0.8976      1135\n",
      "           2     0.9631    0.7578    0.8482      1032\n",
      "           3     0.9353    0.7871    0.8548      1010\n",
      "           4     0.8975    0.9277    0.9124       982\n",
      "           5     0.8712    0.7433    0.8022       892\n",
      "           6     0.8958    0.9061    0.9009       958\n",
      "           7     0.8323    0.7578    0.7933      1028\n",
      "           8     0.6924    0.8830    0.7762       974\n",
      "           9     0.8433    0.8910    0.8665      1009\n",
      "\n",
      "    accuracy                         0.8617     10000\n",
      "   macro avg     0.8696    0.8602    0.8606     10000\n",
      "weighted avg     0.8696    0.8617    0.8612     10000\n",
      "\n",
      "lr-imb_sym\n",
      "              precision    recall  f1-score   support\n",
      "\n",
      "           0     0.9491    0.8173    0.8783       980\n",
      "           1     0.9576    0.7753    0.8569      1135\n",
      "           2     0.7896    0.8692    0.8275      1032\n",
      "           3     0.6935    0.8871    0.7785      1010\n",
      "           4     0.7970    0.9155    0.8521       982\n",
      "           5     0.8945    0.2758    0.4216       892\n",
      "           6     0.8422    0.9415    0.8891       958\n",
      "           7     0.9247    0.4183    0.5760      1028\n",
      "           8     0.6204    0.8809    0.7280       974\n",
      "           9     0.6160    0.9078    0.7340      1009\n",
      "\n",
      "    accuracy                         0.7725     10000\n",
      "   macro avg     0.8085    0.7689    0.7542     10000\n",
      "weighted avg     0.8096    0.7725    0.7580     10000\n",
      "\n",
      "lr-imb_asym\n",
      "              precision    recall  f1-score   support\n",
      "\n",
      "           0     0.9667    0.9194    0.9425       980\n",
      "           1     0.8474    0.9004    0.8731      1135\n",
      "           2     0.9101    0.7849    0.8429      1032\n",
      "           3     0.8517    0.7901    0.8197      1010\n",
      "           4     0.8380    0.9379    0.8852       982\n",
      "           5     0.7643    0.2399    0.3652       892\n",
      "           6     0.8663    0.9061    0.8857       958\n",
      "           7     0.7911    0.3648    0.4993      1028\n",
      "           8     0.5142    0.9292    0.6620       974\n",
      "           9     0.6514    0.9167    0.7616      1009\n",
      "\n",
      "    accuracy                         0.7739     10000\n",
      "   macro avg     0.8001    0.7689    0.7537     10000\n",
      "weighted avg     0.8015    0.7739    0.7582     10000\n",
      "\n"
     ]
    }
   ],
   "source": [
    "for model_name in ['lr-balanced', 'lr-imbalanced', 'lr-bal_sym',\n",
    "                  'lr-bal_asym', 'lr-imb_sym', 'lr-imb_asym']:\n",
    "    with open(model_name, 'rb') as f:\n",
    "        lr = pickle.load(f)\n",
    "\n",
    "    print(model_name)\n",
    "    \n",
    "    y_pred = lr.predict(test_x)\n",
    "    clf_metrics(test_y, y_pred)"
   ]
  },
  {
   "cell_type": "markdown",
   "id": "54c52c43",
   "metadata": {},
   "source": [
    "## Embed-rf"
   ]
  },
  {
   "cell_type": "markdown",
   "id": "b1e1a107",
   "metadata": {},
   "source": [
    "### umap embeddings"
   ]
  },
  {
   "cell_type": "code",
   "execution_count": 32,
   "id": "80dea705",
   "metadata": {},
   "outputs": [],
   "source": [
    "import umap\n",
    "\n",
    "def encode_dataset(_x, reducer=None):\n",
    "    if reducer is None:\n",
    "        reducer = umap.UMAP(n_components=5, n_jobs=-1)\n",
    "        reducer.fit(_x)\n",
    "    return reducer.transform(_x), reducer\n",
    "    \n"
   ]
  },
  {
   "cell_type": "markdown",
   "id": "99774d1d",
   "metadata": {},
   "source": [
    "### training on all datasets"
   ]
  },
  {
   "cell_type": "code",
   "execution_count": 33,
   "id": "5b287795",
   "metadata": {},
   "outputs": [
    {
     "name": "stderr",
     "output_type": "stream",
     "text": [
      "100%|█████████████████████████████████████████████████████████████████████████████████████████████████████████████████████| 6/6 [02:18<00:00, 23.14s/it]"
     ]
    },
    {
     "name": "stdout",
     "output_type": "stream",
     "text": [
      "CPU times: user 10min 51s, sys: 2min 36s, total: 13min 27s\n",
      "Wall time: 2min 18s\n"
     ]
    },
    {
     "name": "stderr",
     "output_type": "stream",
     "text": [
      "\n"
     ]
    }
   ],
   "source": [
    "%%time\n",
    "\n",
    "import pickle\n",
    "from sklearn.ensemble import RandomForestClassifier\n",
    "\n",
    "datasets = [\n",
    "    (train_x, train_y, 'balanced'),\n",
    "    (imb_train_x, imb_train_y, 'imbalanced'),\n",
    "    (bal_sym_train_x, bal_sym_train_y, 'bal_sym'),\n",
    "    (bal_asym_train_x, bal_asym_train_y, 'bal_asym'),\n",
    "    (imb_sym_train_x, imb_sym_train_y, 'imb_sym'),\n",
    "    (imb_asym_train_x, imb_asym_train_y, 'imb_asym'),\n",
    "]\n",
    "\n",
    "for _x, _y, name in tqdm(datasets):\n",
    "    _x, _y = preprocess(_x, _y)\n",
    "    \n",
    "    _x, reducer = encode_dataset(_x)\n",
    "    \n",
    "    rf = RandomForestClassifier(\n",
    "        n_estimators=100,\n",
    "        max_depth=10,\n",
    "        random_state=random_seed,\n",
    "        n_jobs=-1\n",
    "    ) \n",
    "\n",
    "    rf.fit(_x, _y)\n",
    "    \n",
    "    with open(f'erf-{name}', 'wb') as f:\n",
    "        pickle.dump(rf, f)\n",
    "        \n",
    "    with open(f'erf-{name}-encoder', 'wb') as f:\n",
    "        pickle.dump(reducer, f)"
   ]
  },
  {
   "cell_type": "markdown",
   "id": "40543dbe",
   "metadata": {},
   "source": [
    "### validate"
   ]
  },
  {
   "cell_type": "code",
   "execution_count": 34,
   "id": "21e58c94",
   "metadata": {
    "scrolled": false
   },
   "outputs": [
    {
     "name": "stdout",
     "output_type": "stream",
     "text": [
      "erf-balanced\n",
      "              precision    recall  f1-score   support\n",
      "\n",
      "           0     0.9556    0.9888    0.9719       980\n",
      "           1     0.9270    0.9956    0.9601      1135\n",
      "           2     0.9856    0.9293    0.9566      1032\n",
      "           3     0.9602    0.9545    0.9573      1010\n",
      "           4     0.9725    0.9379    0.9549       982\n",
      "           5     0.9592    0.9496    0.9544       892\n",
      "           6     0.9591    0.9802    0.9695       958\n",
      "           7     0.9411    0.9475    0.9443      1028\n",
      "           8     0.9793    0.9251    0.9514       974\n",
      "           9     0.9337    0.9495    0.9415      1009\n",
      "\n",
      "    accuracy                         0.9562     10000\n",
      "   macro avg     0.9573    0.9558    0.9562     10000\n",
      "weighted avg     0.9569    0.9562    0.9561     10000\n",
      "\n",
      "erf-imbalanced\n",
      "              precision    recall  f1-score   support\n",
      "\n",
      "           0     0.9881    0.9286    0.9574       980\n",
      "           1     0.9381    0.9877    0.9622      1135\n",
      "           2     0.9690    0.9399    0.9543      1032\n",
      "           3     0.7671    0.9683    0.8560      1010\n",
      "           4     0.9176    0.9409    0.9291       982\n",
      "           5     0.9857    0.5426    0.6999       892\n",
      "           6     0.8869    0.9823    0.9321       958\n",
      "           7     0.9751    0.7617    0.8553      1028\n",
      "           8     0.9127    0.9127    0.9127       974\n",
      "           9     0.7594    0.9574    0.8470      1009\n",
      "\n",
      "    accuracy                         0.8966     10000\n",
      "   macro avg     0.9100    0.8922    0.8906     10000\n",
      "weighted avg     0.9095    0.8966    0.8932     10000\n",
      "\n",
      "erf-bal_sym\n",
      "              precision    recall  f1-score   support\n",
      "\n",
      "           0     0.9613    0.9878    0.9743       980\n",
      "           1     0.9254    0.9947    0.9588      1135\n",
      "           2     0.9856    0.9254    0.9545      1032\n",
      "           3     0.9546    0.9574    0.9560      1010\n",
      "           4     0.9685    0.9379    0.9529       982\n",
      "           5     0.9529    0.9529    0.9529       892\n",
      "           6     0.9591    0.9791    0.9690       958\n",
      "           7     0.9391    0.9455    0.9423      1028\n",
      "           8     0.9791    0.9117    0.9442       974\n",
      "           9     0.9290    0.9465    0.9377      1009\n",
      "\n",
      "    accuracy                         0.9543     10000\n",
      "   macro avg     0.9554    0.9539    0.9543     10000\n",
      "weighted avg     0.9550    0.9543    0.9542     10000\n",
      "\n",
      "erf-bal_asym\n",
      "              precision    recall  f1-score   support\n",
      "\n",
      "           0     0.9592    0.9837    0.9713       980\n",
      "           1     0.9276    0.9938    0.9596      1135\n",
      "           2     0.9836    0.9312    0.9567      1032\n",
      "           3     0.9590    0.9495    0.9542      1010\n",
      "           4     0.9684    0.9348    0.9513       982\n",
      "           5     0.9476    0.9529    0.9503       892\n",
      "           6     0.9661    0.9812    0.9736       958\n",
      "           7     0.9410    0.9465    0.9437      1028\n",
      "           8     0.9717    0.9158    0.9429       974\n",
      "           9     0.9283    0.9495    0.9388      1009\n",
      "\n",
      "    accuracy                         0.9543     10000\n",
      "   macro avg     0.9552    0.9539    0.9542     10000\n",
      "weighted avg     0.9549    0.9543    0.9542     10000\n",
      "\n",
      "erf-imb_sym\n",
      "              precision    recall  f1-score   support\n",
      "\n",
      "           0     0.9816    0.9265    0.9533       980\n",
      "           1     0.9323    0.9824    0.9567      1135\n",
      "           2     0.9573    0.9341    0.9456      1032\n",
      "           3     0.7420    0.9683    0.8402      1010\n",
      "           4     0.9290    0.9328    0.9309       982\n",
      "           5     0.9935    0.5157    0.6790       892\n",
      "           6     0.8835    0.9812    0.9298       958\n",
      "           7     0.9777    0.7665    0.8593      1028\n",
      "           8     0.9190    0.9199    0.9194       974\n",
      "           9     0.7675    0.9584    0.8524      1009\n",
      "\n",
      "    accuracy                         0.8932     10000\n",
      "   macro avg     0.9083    0.8886    0.8866     10000\n",
      "weighted avg     0.9077    0.8932    0.8894     10000\n",
      "\n",
      "erf-imb_asym\n",
      "              precision    recall  f1-score   support\n",
      "\n",
      "           0     0.9838    0.9276    0.9548       980\n",
      "           1     0.9356    0.9859    0.9601      1135\n",
      "           2     0.9623    0.9390    0.9505      1032\n",
      "           3     0.7909    0.9624    0.8682      1010\n",
      "           4     0.9232    0.9297    0.9264       982\n",
      "           5     0.9841    0.5538    0.7088       892\n",
      "           6     0.8621    0.9791    0.9169       958\n",
      "           7     0.9800    0.7626    0.8578      1028\n",
      "           8     0.8991    0.9148    0.9069       974\n",
      "           9     0.7590    0.9584    0.8471      1009\n",
      "\n",
      "    accuracy                         0.8956     10000\n",
      "   macro avg     0.9080    0.8913    0.8898     10000\n",
      "weighted avg     0.9077    0.8956    0.8923     10000\n",
      "\n"
     ]
    }
   ],
   "source": [
    "for model_name in ['erf-balanced', 'erf-imbalanced', 'erf-bal_sym', 'erf-bal_asym', 'erf-imb_sym', 'erf-imb_asym']:\n",
    "    with open(model_name, 'rb') as f:\n",
    "        erf = pickle.load(f)\n",
    "\n",
    "    with open(f\"{model_name}-encoder\", 'rb') as f:\n",
    "        reducer = pickle.load(f)\n",
    "        \n",
    "    print(model_name)\n",
    "    encode_x = encode_dataset(test_x, reducer)[0]\n",
    "    y_pred = erf.predict(encode_x)\n",
    "    clf_metrics(test_y, y_pred)"
   ]
  },
  {
   "cell_type": "markdown",
   "id": "173ed1a2",
   "metadata": {},
   "source": [
    "## visualize embedding space"
   ]
  },
  {
   "cell_type": "code",
   "execution_count": null,
   "id": "4867803b",
   "metadata": {},
   "outputs": [],
   "source": [
    "with open(f\"erf-balanced-encoder\", 'rb') as f:\n",
    "        reducer = pickle.load(f)\n",
    "        \n",
    "embedding = encode_dataset(test_x, reducer)[0]\n"
   ]
  },
  {
   "cell_type": "code",
   "execution_count": 38,
   "id": "5185f614",
   "metadata": {},
   "outputs": [
    {
     "data": {
      "image/png": "[encoded data removed]",
      "text/plain": [
       "<Figure size 720x720 with 2 Axes>"
      ]
     },
     "metadata": {
      "needs_background": "light"
     },
     "output_type": "display_data"
    }
   ],
   "source": [
    "plt.figure(figsize=(10, 10))\n",
    "plt.scatter(embedding[:, 0], embedding[:, 1], c=test_y, cmap='Spectral', s=5)\n",
    "plt.gca().set_aspect('equal', 'datalim')\n",
    "plt.colorbar(boundaries=np.arange(11)-0.5).set_ticks(np.arange(10))\n",
    "plt.title('UMAP projection of the Mnist dataset', fontsize=24);"
   ]
  },
  {
   "cell_type": "markdown",
   "id": "5e8b19e5",
   "metadata": {},
   "source": [
    "## SVM"
   ]
  },
  {
   "cell_type": "markdown",
   "id": "ad5f946d",
   "metadata": {},
   "source": [
    "### preprocessing data"
   ]
  },
  {
   "cell_type": "code",
   "execution_count": 21,
   "id": "1bf58c86",
   "metadata": {},
   "outputs": [
    {
     "data": {
      "text/plain": [
       "(50000, 784)"
      ]
     },
     "execution_count": 21,
     "metadata": {},
     "output_type": "execute_result"
    }
   ],
   "source": [
    "def preprocess(x, y):\n",
    "    x, y = np.array(x).squeeze(), np.array(y)\n",
    "    return x.reshape((x.shape[0], -1)), y\n",
    "\n",
    "train_x, train_y = preprocess(train_x, train_y)\n",
    "test_x, test_y = preprocess(test_x, test_y)\n",
    "valid_x, valid_y = preprocess(valid_x, valid_y)\n",
    "\n",
    "train_x.shape"
   ]
  },
  {
   "cell_type": "markdown",
   "id": "f1751626",
   "metadata": {},
   "source": [
    "### model definition"
   ]
  },
  {
   "cell_type": "code",
   "execution_count": 25,
   "id": "b6407eed",
   "metadata": {},
   "outputs": [
    {
     "name": "stdout",
     "output_type": "stream",
     "text": [
      "[LibSVM]*\n",
      "optimization finished, #iter = 591\n",
      "obj = -0.214330, rho = 0.373004\n",
      "nSV = 67, nBSV = 0\n",
      "......................*..............*\n",
      "optimization finished, #iter = 36848\n",
      "obj = -9.892223, rho = 4.243326\n",
      "nSV = 301, nBSV = 0\n",
      ".......*......*\n",
      "optimization finished, #iter = 13039\n",
      "obj = -2.908381, rho = 2.822099\n",
      "nSV = 219, nBSV = 0\n",
      "..*..*\n",
      "optimization finished, #iter = 4179\n",
      "obj = -0.994940, rho = 1.074030\n",
      "nSV = 165, nBSV = 0\n",
      "...................................................*.................................*\n",
      "optimization finished, #iter = 84723\n",
      "obj = -31.133473, rho = 10.758067\n",
      "nSV = 326, nBSV = 1\n",
      ".........*......*\n",
      "optimization finished, #iter = 15550\n",
      "obj = -5.314474, rho = 0.553138\n",
      "nSV = 233, nBSV = 0\n",
      "..*.*\n",
      "optimization finished, #iter = 3480\n",
      "obj = -0.842590, rho = 1.093112\n",
      "nSV = 148, nBSV = 0\n",
      ".........................*..................*\n",
      "optimization finished, #iter = 43702\n",
      "obj = -13.929025, rho = 2.170399\n",
      "nSV = 286, nBSV = 0\n",
      ".....*...*\n",
      "optimization finished, #iter = 8494\n",
      "obj = -2.794103, rho = 1.545561\n",
      "nSV = 206, nBSV = 0\n",
      ".......................*...............*\n",
      "optimization finished, #iter = 38208\n",
      "obj = -18.730242, rho = 6.984930\n",
      "nSV = 280, nBSV = 1\n",
      "...............*.......*\n",
      "optimization finished, #iter = 22335\n",
      "obj = -10.460653, rho = 5.701817\n",
      "nSV = 250, nBSV = 0\n",
      "...*..*\n",
      "optimization finished, #iter = 5305\n",
      "obj = -2.186787, rho = -0.075714\n",
      "nSV = 157, nBSV = 0\n",
      "....*...*\n",
      "optimization finished, #iter = 7005\n",
      "obj = -2.355917, rho = 3.991299\n",
      "nSV = 183, nBSV = 0\n",
      ".*\n",
      "optimization finished, #iter = 1890\n",
      "obj = -0.576357, rho = -0.345564\n",
      "nSV = 112, nBSV = 0\n",
      "....*...*\n",
      "optimization finished, #iter = 7204\n",
      "obj = -4.801273, rho = 2.997969\n",
      "nSV = 160, nBSV = 0\n",
      ".............................................................................*...........................................................................*..............................*\n",
      "optimization finished, #iter = 182674\n",
      "obj = -88.037205, rho = 7.049964\n",
      "nSV = 358, nBSV = 30\n",
      "....*...*\n",
      "optimization finished, #iter = 7304\n",
      "obj = -4.040700, rho = 1.629187\n",
      "nSV = 168, nBSV = 0\n",
      "......................................................................................................................................................................................................................................................................................................................................................................................................................................*.................................................................................................................................................................................................................................................................................................................................................................................................................................................................................................................................................................................*..........................................................................................................................................................................................................................................................................*\n",
      "optimization finished, #iter = 1248811\n",
      "obj = -379.150346, rho = 0.439116\n",
      "nSV = 683, nBSV = 224\n",
      "........................................................................................*.....................................................*\n",
      "optimization finished, #iter = 141712\n",
      "obj = -50.786930, rho = -4.698398\n",
      "nSV = 383, nBSV = 6\n",
      "..............................................................................................................*......................................................................*\n",
      "optimization finished, #iter = 180338\n",
      "obj = -76.053416, rho = 1.030450\n",
      "nSV = 409, nBSV = 15\n",
      "..............................................................................................................................*................................................................................................*\n",
      "optimization finished, #iter = 222220\n",
      "obj = -64.066768, rho = -8.558653\n",
      "nSV = 392, nBSV = 11\n",
      "......................................................................*............................................*....*\n",
      "optimization finished, #iter = 117807\n",
      "obj = -39.350604, rho = -5.534356\n",
      "nSV = 371, nBSV = 3\n",
      "..............................................................................................................................................................................................................................................................................................................................................................*...................................................................................................................................................................................................................................................................................................................................................................................................................................................*................................................................................................................................................................................................................................................................................................................................................................................*................................................................*\n",
      "optimization finished, #iter = 1216093\n",
      "obj = -323.232010, rho = -8.735571\n",
      "nSV = 630, nBSV = 187\n",
      ".............................*..................*\n",
      "optimization finished, #iter = 47332\n",
      "obj = -15.184386, rho = -2.942104\n",
      "nSV = 305, nBSV = 0\n",
      ".......*.....*\n",
      "optimization finished, #iter = 12349\n",
      "obj = -3.706065, rho = -2.126222\n",
      "nSV = 216, nBSV = 0\n",
      "........................................................................................................................................................................................................................................................................................................................................................................................................................................................................................*...........................................................................................................................................................................................................................................................................................................................................................................................................................................................................................................................................................................................................................................................................................................................................................................................................................................................................................*................................................................................................................................................................................................................................................................................................................................................................................................................................................................................................................................................................................................................................................................................................................................................................................*...................................................................................................................................................................................................*\n",
      "optimization finished, #iter = 2276827\n",
      "obj = -519.012220, rho = 5.450238\n",
      "nSV = 818, nBSV = 356\n",
      "....*...*\n",
      "optimization finished, #iter = 7224\n",
      "obj = -1.502578, rho = -1.226426\n",
      "nSV = 193, nBSV = 0\n",
      "...........................................*.............................*\n",
      "optimization finished, #iter = 72677\n",
      "obj = -29.791224, rho = -6.154032\n",
      "nSV = 329, nBSV = 1\n",
      "................................................................................................................................................................................................................................................................................................................................................................................................................................................................................................................................................................................................................................................................................*...............................................................................................................................................................................................................................................................................................................................................................................................................................................................................................................................................................................................................................................................................................................................................................................................................................................................................................................................*..................................................................................................................................................................................................................................................................................................................................................................................................................................................................................................................................................................................................................................................................................................................................................................................................................................*........................................................................................................................................................................................................................................................................................................................................................................................................................................................................................................*....................................................................................................*\n",
      "optimization finished, #iter = 2940068\n",
      "obj = -576.450850, rho = -8.796558\n",
      "nSV = 873, nBSV = 416\n",
      "....................................................................................................*................................................................................................................*.............................................................*\n",
      "optimization finished, #iter = 272829\n",
      "obj = -86.628386, rho = -7.124772\n",
      "nSV = 384, nBSV = 29\n",
      "..............*..........*\n",
      "optimization finished, #iter = 24085\n",
      "obj = -7.286524, rho = 5.823354\n",
      "nSV = 272, nBSV = 0\n",
      "..............*........*\n",
      "optimization finished, #iter = 22417\n",
      "obj = -8.387534, rho = 0.733740\n",
      "nSV = 260, nBSV = 0\n",
      "..........................................*................................*\n",
      "optimization finished, #iter = 74952\n",
      "obj = -22.316504, rho = 2.312647\n",
      "nSV = 320, nBSV = 0\n",
      "..........*........*\n",
      "optimization finished, #iter = 18125\n",
      "obj = -5.415218, rho = 1.156998\n",
      "nSV = 236, nBSV = 0\n",
      "............................................................................................................................................................................................................................................................*............................................................................................................................................................................................................................................................................................................................................*...........................................................................................................................................................................*...................*\n",
      "optimization finished, #iter = 773073\n",
      "obj = -388.470781, rho = 7.249280\n",
      "nSV = 678, nBSV = 272\n",
      "...........................................................................................................*.................................................................................*.....................*\n",
      "optimization finished, #iter = 208536\n",
      "obj = -77.925960, rho = -8.464076\n",
      "nSV = 365, nBSV = 23\n",
      "......*.....*\n",
      "optimization finished, #iter = 11407\n",
      "obj = -3.233808, rho = -1.851502\n",
      "nSV = 234, nBSV = 0\n"
     ]
    },
    {
     "name": "stdout",
     "output_type": "stream",
     "text": [
      "...........................................................................................................................................................................................................................................................................................................................................................................................................................................................................................................................................................................................................................*......................................................................................................................................................................................................................................................................................................................................................................................................................................................................................................................................................................................................................................................................................................................................................................*.......................................................................................................................................................................................................................................................................................................................................................*\n",
      "optimization finished, #iter = 1688477\n",
      "obj = -479.801638, rho = -6.931887\n",
      "nSV = 779, nBSV = 321\n",
      "..................................................................*......................................................................*\n",
      "optimization finished, #iter = 136844\n",
      "obj = -42.760605, rho = -9.121669\n",
      "nSV = 356, nBSV = 5\n",
      "*.*\n",
      "optimization finished, #iter = 1560\n",
      "obj = -0.310330, rho = 0.274334\n",
      "nSV = 132, nBSV = 0\n",
      ".................*..........*\n",
      "optimization finished, #iter = 27106\n",
      "obj = -9.699409, rho = 1.271029\n",
      "nSV = 250, nBSV = 0\n",
      ".*.*\n",
      "optimization finished, #iter = 2279\n",
      "obj = -0.432057, rho = 0.578112\n",
      "nSV = 132, nBSV = 0\n",
      "...............*........*\n",
      "optimization finished, #iter = 23955\n",
      "obj = -8.893957, rho = -0.255929\n",
      "nSV = 252, nBSV = 0\n",
      "..........................................................................................................................................................................................................................................................................................................................................................................................................................................................................................................................*................................................................................................................................................................................................................................................................................................................................................................................................................................................................................................................................................................................................................................................................................................................................................................................................................................................................*......................................................................................................................................................................................................................................................................................................................................................................................................................................................................................................................*..............................................................................................................................................................................................................................................................................................................*.......*\n",
      "optimization finished, #iter = 2148562\n",
      "obj = -603.584110, rho = -3.482965\n",
      "nSV = 894, nBSV = 456\n",
      ".....................................................................................................................................*.........................................................................................................................................*..*\n",
      "optimization finished, #iter = 272185\n",
      "obj = -82.847470, rho = -1.979032\n",
      "nSV = 381, nBSV = 27\n",
      "Total nSV = 8743\n"
     ]
    },
    {
     "ename": "KeyboardInterrupt",
     "evalue": "",
     "output_type": "error",
     "traceback": [
      "\u001b[0;31m---------------------------------------------------------------------------\u001b[0m",
      "\u001b[0;31mKeyboardInterrupt\u001b[0m                         Traceback (most recent call last)",
      "\u001b[0;32m/var/folders/c4/gdhzr5rd3q584gh9ycv3hc080000gn/T/ipykernel_1699/2175926182.py\u001b[0m in \u001b[0;36m<module>\u001b[0;34m\u001b[0m\n\u001b[1;32m      6\u001b[0m ) \n\u001b[1;32m      7\u001b[0m \u001b[0;34m\u001b[0m\u001b[0m\n\u001b[0;32m----> 8\u001b[0;31m \u001b[0msvm\u001b[0m\u001b[0;34m.\u001b[0m\u001b[0mfit\u001b[0m\u001b[0;34m(\u001b[0m\u001b[0mtrain_x\u001b[0m\u001b[0;34m,\u001b[0m \u001b[0mtrain_y\u001b[0m\u001b[0;34m)\u001b[0m\u001b[0;34m\u001b[0m\u001b[0;34m\u001b[0m\u001b[0m\n\u001b[0m\u001b[1;32m      9\u001b[0m \u001b[0my_pred\u001b[0m \u001b[0;34m=\u001b[0m \u001b[0msvm\u001b[0m\u001b[0;34m.\u001b[0m\u001b[0mpredict\u001b[0m\u001b[0;34m(\u001b[0m\u001b[0mtest_x\u001b[0m\u001b[0;34m)\u001b[0m\u001b[0;34m\u001b[0m\u001b[0;34m\u001b[0m\u001b[0m\n",
      "\u001b[0;32m~/miniforge_x86_64/envs/pytorch_x86/lib/python3.8/site-packages/sklearn/svm/_base.py\u001b[0m in \u001b[0;36mfit\u001b[0;34m(self, X, y, sample_weight)\u001b[0m\n\u001b[1;32m    253\u001b[0m \u001b[0;34m\u001b[0m\u001b[0m\n\u001b[1;32m    254\u001b[0m         \u001b[0mseed\u001b[0m \u001b[0;34m=\u001b[0m \u001b[0mrnd\u001b[0m\u001b[0;34m.\u001b[0m\u001b[0mrandint\u001b[0m\u001b[0;34m(\u001b[0m\u001b[0mnp\u001b[0m\u001b[0;34m.\u001b[0m\u001b[0miinfo\u001b[0m\u001b[0;34m(\u001b[0m\u001b[0;34m\"i\"\u001b[0m\u001b[0;34m)\u001b[0m\u001b[0;34m.\u001b[0m\u001b[0mmax\u001b[0m\u001b[0;34m)\u001b[0m\u001b[0;34m\u001b[0m\u001b[0;34m\u001b[0m\u001b[0m\n\u001b[0;32m--> 255\u001b[0;31m         \u001b[0mfit\u001b[0m\u001b[0;34m(\u001b[0m\u001b[0mX\u001b[0m\u001b[0;34m,\u001b[0m \u001b[0my\u001b[0m\u001b[0;34m,\u001b[0m \u001b[0msample_weight\u001b[0m\u001b[0;34m,\u001b[0m \u001b[0msolver_type\u001b[0m\u001b[0;34m,\u001b[0m \u001b[0mkernel\u001b[0m\u001b[0;34m,\u001b[0m \u001b[0mrandom_seed\u001b[0m\u001b[0;34m=\u001b[0m\u001b[0mseed\u001b[0m\u001b[0;34m)\u001b[0m\u001b[0;34m\u001b[0m\u001b[0;34m\u001b[0m\u001b[0m\n\u001b[0m\u001b[1;32m    256\u001b[0m         \u001b[0;31m# see comment on the other call to np.iinfo in this file\u001b[0m\u001b[0;34m\u001b[0m\u001b[0;34m\u001b[0m\u001b[0;34m\u001b[0m\u001b[0m\n\u001b[1;32m    257\u001b[0m \u001b[0;34m\u001b[0m\u001b[0m\n",
      "\u001b[0;32m~/miniforge_x86_64/envs/pytorch_x86/lib/python3.8/site-packages/sklearn/svm/_base.py\u001b[0m in \u001b[0;36m_dense_fit\u001b[0;34m(self, X, y, sample_weight, solver_type, kernel, random_seed)\u001b[0m\n\u001b[1;32m    313\u001b[0m             \u001b[0mself\u001b[0m\u001b[0;34m.\u001b[0m\u001b[0m_probB\u001b[0m\u001b[0;34m,\u001b[0m\u001b[0;34m\u001b[0m\u001b[0;34m\u001b[0m\u001b[0m\n\u001b[1;32m    314\u001b[0m             \u001b[0mself\u001b[0m\u001b[0;34m.\u001b[0m\u001b[0mfit_status_\u001b[0m\u001b[0;34m,\u001b[0m\u001b[0;34m\u001b[0m\u001b[0;34m\u001b[0m\u001b[0m\n\u001b[0;32m--> 315\u001b[0;31m         \u001b[0;34m)\u001b[0m \u001b[0;34m=\u001b[0m \u001b[0mlibsvm\u001b[0m\u001b[0;34m.\u001b[0m\u001b[0mfit\u001b[0m\u001b[0;34m(\u001b[0m\u001b[0;34m\u001b[0m\u001b[0;34m\u001b[0m\u001b[0m\n\u001b[0m\u001b[1;32m    316\u001b[0m             \u001b[0mX\u001b[0m\u001b[0;34m,\u001b[0m\u001b[0;34m\u001b[0m\u001b[0;34m\u001b[0m\u001b[0m\n\u001b[1;32m    317\u001b[0m             \u001b[0my\u001b[0m\u001b[0;34m,\u001b[0m\u001b[0;34m\u001b[0m\u001b[0;34m\u001b[0m\u001b[0m\n",
      "\u001b[0;31mKeyboardInterrupt\u001b[0m: "
     ]
    }
   ],
   "source": [
    "svm = SVC(\n",
    "    kernel='rbf',\n",
    "    decision_function_shape='ovr',\n",
    "    random_state=random_seed,\n",
    "    verbose=True,\n",
    ") \n",
    "\n",
    "svm.fit(train_x, train_y)\n",
    "y_pred = svm.predict(test_x)"
   ]
  },
  {
   "cell_type": "code",
   "execution_count": null,
   "id": "f28d3a7b",
   "metadata": {},
   "outputs": [],
   "source": [
    "svm.coef_.shape"
   ]
  },
  {
   "cell_type": "code",
   "execution_count": null,
   "id": "ce3b6a1e",
   "metadata": {},
   "outputs": [],
   "source": [
    "conf_mat(test_y, y_pred)"
   ]
  },
  {
   "cell_type": "markdown",
   "id": "f1b01709",
   "metadata": {},
   "source": [
    "### model report"
   ]
  },
  {
   "cell_type": "code",
   "execution_count": null,
   "id": "793731da",
   "metadata": {
    "scrolled": true
   },
   "outputs": [],
   "source": [
    "clf_metrics(test_y, y_pred)"
   ]
  },
  {
   "cell_type": "markdown",
   "id": "48545e6b",
   "metadata": {},
   "source": [
    "### train on all datasets"
   ]
  },
  {
   "cell_type": "code",
   "execution_count": 17,
   "id": "8af40132",
   "metadata": {},
   "outputs": [
    {
     "name": "stderr",
     "output_type": "stream",
     "text": [
      "\r",
      "  0%|                                                     | 0/5 [00:00<?, ?it/s]"
     ]
    },
    {
     "name": "stdout",
     "output_type": "stream",
     "text": [
      "[LibSVM]*\n",
      "optimization finished, #iter = 167\n",
      "obj = -18.116523, rho = -0.650438\n",
      "nSV = 74, nBSV = 8\n",
      "*\n",
      "optimization finished, #iter = 576\n",
      "obj = -98.138818, rho = 0.588515\n",
      "nSV = 300, nBSV = 80\n",
      "*\n",
      "optimization finished, #iter = 501\n",
      "obj = -75.427290, rho = 0.430316\n",
      "nSV = 265, nBSV = 57\n",
      "*\n",
      "optimization finished, #iter = 368\n",
      "obj = -50.972630, rho = 0.053942\n",
      "nSV = 189, nBSV = 40\n",
      "*\n",
      "optimization finished, #iter = 447\n",
      "obj = -66.821007, rho = 0.079031\n",
      "nSV = 223, nBSV = 47\n",
      "*\n",
      "optimization finished, #iter = 520\n",
      "obj = -89.226850, rho = 0.307024\n",
      "nSV = 263, nBSV = 74\n",
      "*\n",
      "optimization finished, #iter = 260\n",
      "obj = -38.311150, rho = -0.125786\n",
      "nSV = 137, nBSV = 29\n",
      "*\n",
      "optimization finished, #iter = 496\n",
      "obj = -82.770045, rho = 0.362379\n",
      "nSV = 266, nBSV = 67\n",
      "*\n",
      "optimization finished, #iter = 461\n",
      "obj = -69.971749, rho = 0.112476\n",
      "nSV = 228, nBSV = 57\n",
      "*\n",
      "optimization finished, #iter = 370\n",
      "obj = -91.837285, rho = 1.374290\n",
      "nSV = 216, nBSV = 102\n",
      "*\n",
      "optimization finished, #iter = 342\n",
      "obj = -85.226937, rho = 1.349535\n",
      "nSV = 207, nBSV = 91\n",
      "*\n",
      "optimization finished, #iter = 311\n",
      "obj = -60.266584, rho = 0.466379\n",
      "nSV = 166, nBSV = 61\n",
      "*\n",
      "optimization finished, #iter = 213\n",
      "obj = -48.092231, rho = 0.876050\n",
      "nSV = 131, nBSV = 47\n",
      "*\n",
      "optimization finished, #iter = 265\n",
      "obj = -55.539549, rho = 0.621375\n",
      "nSV = 163, nBSV = 59\n",
      "*\n",
      "optimization finished, #iter = 228\n",
      "obj = -46.471435, rho = 0.509122\n",
      "nSV = 120, nBSV = 45\n",
      "*\n",
      "optimization finished, #iter = 418\n",
      "obj = -125.069706, rho = 0.822012\n",
      "nSV = 261, nBSV = 147\n",
      "*\n",
      "optimization finished, #iter = 343\n",
      "obj = -62.172117, rho = 0.507213\n",
      "nSV = 169, nBSV = 58\n",
      ".*\n",
      "optimization finished, #iter = 1817\n",
      "obj = -367.214855, rho = -0.124745\n",
      "nSV = 1036, nBSV = 368\n",
      "*.*\n",
      "optimization finished, #iter = 1185\n",
      "obj = -210.408641, rho = -0.651508\n",
      "nSV = 641, nBSV = 187\n",
      "*\n",
      "optimization finished, #iter = 680\n",
      "obj = -118.991169, rho = -0.471114\n",
      "nSV = 361, nBSV = 111\n",
      "*.*\n",
      "optimization finished, #iter = 1395\n",
      "obj = -222.387752, rho = -0.626283\n",
      "nSV = 729, nBSV = 199\n",
      "*\n",
      "optimization finished, #iter = 545\n",
      "obj = -112.888296, rho = -0.537060\n",
      "nSV = 309, nBSV = 110\n",
      ".*\n",
      "optimization finished, #iter = 1742\n",
      "obj = -333.891713, rho = -0.752293\n",
      "nSV = 983, nBSV = 330\n",
      "*\n",
      "optimization finished, #iter = 954\n",
      "obj = -170.026692, rho = -0.467949\n",
      "nSV = 501, nBSV = 160\n",
      "*\n",
      "optimization finished, #iter = 894\n",
      "obj = -135.165635, rho = -0.505316\n",
      "nSV = 423, nBSV = 122\n",
      "*\n",
      "optimization finished, #iter = 986\n",
      "obj = -230.490060, rho = -0.306256\n",
      "nSV = 550, nBSV = 238\n",
      "*\n",
      "optimization finished, #iter = 851\n",
      "obj = -127.881758, rho = -0.420567\n",
      "nSV = 416, nBSV = 105\n",
      "*\n",
      "optimization finished, #iter = 572\n",
      "obj = -133.754553, rho = -0.644248\n",
      "nSV = 335, nBSV = 135\n",
      ".*.*\n",
      "optimization finished, #iter = 2275\n",
      "obj = -476.154705, rho = -1.023822\n",
      "nSV = 1244, nBSV = 530\n",
      "*.*\n",
      "optimization finished, #iter = 1312\n",
      "obj = -271.582394, rho = -0.662645\n",
      "nSV = 762, nBSV = 287\n",
      "*\n",
      "optimization finished, #iter = 593\n",
      "obj = -93.251187, rho = 0.147183\n",
      "nSV = 296, nBSV = 77\n",
      "*.*\n",
      "optimization finished, #iter = 1004\n",
      "obj = -177.979731, rho = 0.153632\n",
      "nSV = 495, nBSV = 154\n",
      "*\n",
      "optimization finished, #iter = 621\n",
      "obj = -116.549191, rho = -0.042691\n",
      "nSV = 332, nBSV = 118\n",
      "*.*\n",
      "optimization finished, #iter = 1119\n",
      "obj = -184.541383, rho = 0.265668\n",
      "nSV = 578, nBSV = 170\n",
      ".*.*\n",
      "optimization finished, #iter = 2156\n",
      "obj = -553.378462, rho = 0.036526\n",
      "nSV = 1239, nBSV = 652\n",
      "*\n",
      "optimization finished, #iter = 644\n",
      "obj = -130.763345, rho = -0.070259\n",
      "nSV = 352, nBSV = 124\n",
      "*\n",
      "optimization finished, #iter = 343\n",
      "obj = -62.040659, rho = -0.314577\n",
      "nSV = 186, nBSV = 53\n",
      "*\n",
      "optimization finished, #iter = 994\n",
      "obj = -193.541987, rho = -0.172812\n",
      "nSV = 525, nBSV = 183\n",
      "*\n",
      "optimization finished, #iter = 668\n",
      "obj = -136.912187, rho = -0.161443\n",
      "nSV = 368, nBSV = 132\n",
      "*\n",
      "optimization finished, #iter = 414\n",
      "obj = -43.221626, rho = -0.129305\n",
      "nSV = 193, nBSV = 25\n",
      "*.*\n",
      "optimization finished, #iter = 1034\n",
      "obj = -202.204188, rho = 0.087832\n",
      "nSV = 558, nBSV = 190\n",
      "*\n",
      "optimization finished, #iter = 731\n",
      "obj = -83.971676, rho = -0.067917\n",
      "nSV = 317, nBSV = 59\n",
      "*\n",
      "optimization finished, #iter = 533\n",
      "obj = -104.961109, rho = 0.397809\n",
      "nSV = 284, nBSV = 89\n",
      "*\n",
      "optimization finished, #iter = 925\n",
      "obj = -235.656787, rho = 0.046918\n",
      "nSV = 508, nBSV = 248\n",
      "."
     ]
    },
    {
     "name": "stderr",
     "output_type": "stream",
     "text": [
      "\r",
      " 20%|█████████                                    | 1/5 [00:59<03:58, 59.51s/it]"
     ]
    },
    {
     "name": "stdout",
     "output_type": "stream",
     "text": [
      "*\n",
      "optimization finished, #iter = 1590\n",
      "obj = -299.484642, rho = -0.150557\n",
      "nSV = 851, nBSV = 311\n",
      "Total nSV = 7562\n",
      "[LibSVM]....*.*\n",
      "optimization finished, #iter = 5773\n",
      "obj = -2562.035805, rho = 0.027085\n",
      "nSV = 3612, nBSV = 2528\n",
      "....*.*\n",
      "optimization finished, #iter = 5644\n",
      "obj = -2837.226897, rho = 0.087212\n",
      "nSV = 3995, nBSV = 2806\n",
      "....*..*\n",
      "optimization finished, #iter = 6258\n",
      "obj = -2803.413158, rho = 0.110960\n",
      "nSV = 4017, nBSV = 2705\n",
      "....*..*\n",
      "optimization finished, #iter = 6216\n",
      "obj = -2722.610071, rho = 0.051009\n",
      "nSV = 3933, nBSV = 2632\n",
      "....*..*\n",
      "optimization finished, #iter = 6126\n",
      "obj = -2802.862320, rho = 0.127683\n",
      "nSV = 4030, nBSV = 2771\n",
      "....*..*\n",
      "optimization finished, #iter = 6198\n",
      "obj = -2795.378994, rho = 0.175292\n",
      "nSV = 3973, nBSV = 2757\n",
      "....*..*\n",
      "optimization finished, #iter = 6298\n",
      "obj = -2686.320385, rho = 0.341358\n",
      "nSV = 3865, nBSV = 2593\n",
      "....*..*\n",
      "optimization finished, #iter = 6426\n",
      "obj = -2811.528237, rho = -0.534901\n",
      "nSV = 4078, nBSV = 2718\n",
      "....*.*\n",
      "optimization finished, #iter = 5900\n",
      "obj = -2730.904292, rho = -0.192053\n",
      "nSV = 3873, nBSV = 2689\n",
      "....*.*\n",
      "optimization finished, #iter = 5914\n",
      "obj = -2813.977838, rho = 0.241719\n",
      "nSV = 3922, nBSV = 2802\n",
      "....*..*\n",
      "optimization finished, #iter = 6297\n",
      "obj = -2759.469918, rho = 0.185397\n",
      "nSV = 3872, nBSV = 2687\n",
      "....*.*\n",
      "optimization finished, #iter = 5521\n",
      "obj = -2662.486721, rho = -0.062229\n",
      "nSV = 3627, nBSV = 2646\n",
      "....*.*\n",
      "optimization finished, #iter = 5432\n",
      "obj = -2677.658309, rho = 0.236114\n",
      "nSV = 3698, nBSV = 2688\n",
      "...*..*\n",
      "optimization finished, #iter = 5349\n",
      "obj = -2619.508099, rho = 0.030680\n",
      "nSV = 3557, nBSV = 2646\n",
      "...*..*.*\n",
      "optimization finished, #iter = 5321\n",
      "obj = -2685.714041, rho = 0.206190\n",
      "nSV = 3577, nBSV = 2735\n",
      "....*.*\n",
      "optimization finished, #iter = 5621\n",
      "obj = -2759.638882, rho = -0.728596\n",
      "nSV = 3812, nBSV = 2793\n",
      "....*.*\n",
      "optimization finished, #iter = 5661\n",
      "obj = -2659.139041, rho = -0.195877\n",
      "nSV = 3625, nBSV = 2654\n",
      ".....*.*\n",
      "optimization finished, #iter = 6870\n",
      "obj = -3099.098428, rho = -0.146956\n",
      "nSV = 4459, nBSV = 3058\n",
      "....*..*\n",
      "optimization finished, #iter = 6301\n",
      "obj = -2913.879918, rho = -0.184862\n",
      "nSV = 4166, nBSV = 2885\n",
      "....*.*\n",
      "optimization finished, #iter = 5984\n",
      "obj = -2834.568032, rho = -0.004442\n",
      "nSV = 4062, nBSV = 2803\n",
      "....*..*\n",
      "optimization finished, #iter = 6072\n",
      "obj = -2877.857701, rho = -0.096214\n",
      "nSV = 4104, nBSV = 2831\n",
      "....*.*\n",
      "optimization finished, #iter = 5865\n",
      "obj = -2847.986624, rho = 0.094474\n",
      "nSV = 4047, nBSV = 2840\n",
      "....*..*\n",
      "optimization finished, #iter = 6344\n",
      "obj = -3082.982874, rho = -0.966610\n",
      "nSV = 4344, nBSV = 3059\n",
      "....*..*\n",
      "optimization finished, #iter = 6188\n",
      "obj = -2836.685796, rho = -0.308418\n",
      "nSV = 4020, nBSV = 2779\n",
      "....*..*\n",
      "optimization finished, #iter = 6506\n",
      "obj = -2787.535381, rho = 0.009593\n",
      "nSV = 4027, nBSV = 2698\n",
      "....*..*\n",
      "optimization finished, #iter = 6507\n",
      "obj = -3116.872684, rho = 0.212807\n",
      "nSV = 4409, nBSV = 3150\n",
      "....*.*\n",
      "optimization finished, #iter = 5852\n",
      "obj = -2723.787268, rho = -0.081446\n",
      "nSV = 3867, nBSV = 2670\n",
      "....*..*\n",
      "optimization finished, #iter = 6537\n",
      "obj = -2825.329660, rho = 0.162759\n",
      "nSV = 4027, nBSV = 2731\n",
      "....*..*\n",
      "optimization finished, #iter = 6569\n",
      "obj = -3135.373174, rho = -0.952888\n",
      "nSV = 4443, nBSV = 3165\n",
      "....*..*\n",
      "optimization finished, #iter = 6649\n",
      "obj = -2896.591628, rho = -0.414731\n",
      "nSV = 4090, nBSV = 2820\n",
      "....*.*\n",
      "optimization finished, #iter = 5715\n",
      "obj = -2812.042746, rho = 0.274279\n",
      "nSV = 3921, nBSV = 2791\n",
      "....*..*\n",
      "optimization finished, #iter = 6640\n",
      "obj = -2786.720355, rho = 0.088226\n",
      "nSV = 3995, nBSV = 2700\n",
      "....*.*\n",
      "optimization finished, #iter = 5938\n",
      "obj = -2838.584772, rho = 0.289317\n",
      "nSV = 3918, nBSV = 2846\n",
      "....*..*\n",
      "optimization finished, #iter = 6633\n",
      "obj = -2934.497420, rho = -0.657292\n",
      "nSV = 4199, nBSV = 2872\n",
      "....*..*\n",
      "optimization finished, #iter = 6331\n",
      "obj = -3244.572814, rho = -0.360224\n",
      "nSV = 4440, nBSV = 3389\n",
      "....*.*\n",
      "optimization finished, #iter = 5658\n",
      "obj = -2846.191472, rho = -0.035682\n",
      "nSV = 3983, nBSV = 2881\n",
      "....*.*\n",
      "optimization finished, #iter = 5625\n",
      "obj = -2695.990366, rho = 0.066229\n",
      "nSV = 3761, nBSV = 2686\n",
      "....*..*\n",
      "optimization finished, #iter = 6362\n",
      "obj = -2979.238423, rho = -1.386538\n",
      "nSV = 4260, nBSV = 2996\n",
      "....*.*\n",
      "optimization finished, #iter = 5623\n",
      "obj = -2856.249123, rho = -0.412908\n",
      "nSV = 3934, nBSV = 2887\n",
      "....*..*\n",
      "optimization finished, #iter = 6062\n",
      "obj = -2608.217019, rho = 0.098413\n",
      "nSV = 3735, nBSV = 2529\n",
      "....*..*\n",
      "optimization finished, #iter = 6061\n",
      "obj = -2828.328406, rho = -0.773456\n",
      "nSV = 4000, nBSV = 2800\n",
      "....*..*\n",
      "optimization finished, #iter = 6023\n",
      "obj = -2624.205868, rho = -0.320441\n",
      "nSV = 3713, nBSV = 2573\n",
      "....*.*\n",
      "optimization finished, #iter = 5713\n",
      "obj = -2791.962375, rho = -0.752682\n",
      "nSV = 3911, nBSV = 2783\n",
      "....*.*\n",
      "optimization finished, #iter = 5756\n",
      "obj = -3032.657204, rho = -0.929386\n",
      "nSV = 4146, nBSV = 3166\n",
      "....*..*\n",
      "optimization finished, #iter = 6530\n",
      "obj = -2975.639472, rho = 0.498043\n",
      "nSV = 4171, nBSV = 2933\n",
      "Total nSV = 32717\n"
     ]
    },
    {
     "name": "stderr",
     "output_type": "stream",
     "text": [
      "\r",
      " 40%|█████████████████▌                          | 2/5 [15:10<26:14, 524.92s/it]"
     ]
    },
    {
     "name": "stdout",
     "output_type": "stream",
     "text": [
      "[LibSVM]*\n",
      "optimization finished, #iter = 632\n",
      "obj = -114.740338, rho = 0.178754\n",
      "nSV = 340, nBSV = 99\n",
      "*.*\n",
      "optimization finished, #iter = 1143\n",
      "obj = -188.983936, rho = 0.395855\n",
      "nSV = 557, nBSV = 168\n",
      "*\n",
      "optimization finished, #iter = 907\n",
      "obj = -137.368683, rho = 0.093136\n",
      "nSV = 444, nBSV = 110\n",
      "*\n",
      "optimization finished, #iter = 735\n",
      "obj = -106.799678, rho = -0.169562\n",
      "nSV = 357, nBSV = 82\n",
      ".*\n",
      "optimization finished, #iter = 1602\n",
      "obj = -281.645343, rho = 0.690542\n",
      "nSV = 760, nBSV = 258\n",
      "*.*\n",
      "optimization finished, #iter = 1464\n",
      "obj = -288.295136, rho = 0.538565\n",
      "nSV = 735, nBSV = 273\n",
      "*.*\n",
      "optimization finished, #iter = 1103\n",
      "obj = -221.284480, rho = 0.858450\n",
      "nSV = 587, nBSV = 212\n",
      "*.*\n",
      "optimization finished, #iter = 1300\n",
      "obj = -222.723971, rho = 0.394051\n",
      "nSV = 640, nBSV = 192\n",
      "*\n",
      "optimization finished, #iter = 839\n",
      "obj = -154.087293, rho = -0.057963\n",
      "nSV = 422, nBSV = 141\n",
      "*.*\n",
      "optimization finished, #iter = 1293\n",
      "obj = -326.901900, rho = 0.200828\n",
      "nSV = 718, nBSV = 348\n",
      "*.*\n",
      "optimization finished, #iter = 1288\n",
      "obj = -304.855685, rho = -0.099307\n",
      "nSV = 696, nBSV = 313\n",
      "*.*\n",
      "optimization finished, #iter = 1156\n",
      "obj = -256.862734, rho = -0.781052\n",
      "nSV = 612, nBSV = 267\n",
      "*.*\n",
      "optimization finished, #iter = 1407\n",
      "obj = -286.129129, rho = 0.245675\n",
      "nSV = 728, nBSV = 309\n",
      "*.*\n",
      "optimization finished, #iter = 1287\n",
      "obj = -257.166562, rho = 0.126760\n",
      "nSV = 673, nBSV = 268\n",
      ".......*....*\n",
      "optimization finished, #iter = 11575\n",
      "obj = -3299.521699, rho = 0.708108\n",
      "nSV = 4444, nBSV = 2760\n",
      ".*\n",
      "optimization finished, #iter = 1930\n",
      "obj = -466.630098, rho = -0.483489\n",
      "nSV = 1037, nBSV = 518\n",
      ".*\n",
      "optimization finished, #iter = 1739\n",
      "obj = -486.323170, rho = -0.895903\n",
      "nSV = 984, nBSV = 556\n",
      ".*\n",
      "optimization finished, #iter = 1595\n",
      "obj = -332.053743, rho = -0.319097\n",
      "nSV = 815, nBSV = 327\n",
      "*.*\n",
      "optimization finished, #iter = 1242\n",
      "obj = -214.906244, rho = -0.624923\n",
      "nSV = 602, nBSV = 196\n",
      ".*\n",
      "optimization finished, #iter = 1838\n",
      "obj = -295.097012, rho = 0.149762\n",
      "nSV = 885, nBSV = 270\n",
      ".*\n",
      "optimization finished, #iter = 1817\n",
      "obj = -306.961978, rho = 0.101831\n",
      "nSV = 876, nBSV = 284\n",
      "......*...*\n",
      "optimization finished, #iter = 9099\n",
      "obj = -3003.381661, rho = -0.049653\n",
      "nSV = 4311, nBSV = 2506\n",
      ".*.*\n",
      "optimization finished, #iter = 2314\n",
      "obj = -483.232562, rho = -0.242750\n",
      "nSV = 1186, nBSV = 495\n",
      "*.*\n",
      "optimization finished, #iter = 1065\n",
      "obj = -193.938919, rho = -0.387240\n",
      "nSV = 535, nBSV = 182\n",
      "*\n",
      "optimization finished, #iter = 890\n",
      "obj = -142.326692, rho = -0.482306\n",
      "nSV = 429, nBSV = 131\n",
      ".*.*\n",
      "optimization finished, #iter = 2136\n",
      "obj = -479.679834, rho = 0.622244\n",
      "nSV = 1100, nBSV = 502\n",
      ".*\n",
      "optimization finished, #iter = 1766\n",
      "obj = -399.351465, rho = 0.538183\n",
      "nSV = 937, nBSV = 425\n",
      ".*\n",
      "optimization finished, #iter = 1905\n",
      "obj = -406.176716, rho = 0.810247\n",
      "nSV = 973, nBSV = 413\n",
      "......*..*\n",
      "optimization finished, #iter = 8981\n",
      "obj = -3505.369860, rho = -0.275123\n",
      "nSV = 4792, nBSV = 3248\n",
      "*.*\n",
      "optimization finished, #iter = 1353\n",
      "obj = -284.691768, rho = -0.355131\n",
      "nSV = 688, nBSV = 290\n",
      ".*\n",
      "optimization finished, #iter = 1549\n",
      "obj = -302.598473, rho = 0.958450\n",
      "nSV = 775, nBSV = 299\n",
      ".*\n",
      "optimization finished, #iter = 1554\n",
      "obj = -296.026217, rho = 0.840787\n",
      "nSV = 776, nBSV = 294\n",
      ".*\n",
      "optimization finished, #iter = 1857\n",
      "obj = -396.824711, rho = 1.223534\n",
      "nSV = 919, nBSV = 414\n",
      "*.*\n",
      "optimization finished, #iter = 1326\n",
      "obj = -251.637014, rho = 0.577044\n",
      "nSV = 664, nBSV = 239\n",
      ".*.*\n",
      "optimization finished, #iter = 2507\n",
      "obj = -634.511339, rho = 0.154243\n",
      "nSV = 1290, nBSV = 720\n",
      "...........*.....*\n",
      "optimization finished, #iter = 16348\n",
      "obj = -5538.747643, rho = -0.347270\n",
      "nSV = 7265, nBSV = 4795\n",
      ".*.*\n",
      "optimization finished, #iter = 2144\n",
      "obj = -350.145925, rho = 0.231858\n",
      "nSV = 979, nBSV = 334\n",
      "..*.*\n",
      "optimization finished, #iter = 3281\n",
      "obj = -748.260987, rho = -0.850898\n",
      "nSV = 1678, nBSV = 803\n",
      "*.*\n",
      "optimization finished, #iter = 1518\n",
      "obj = -311.044566, rho = -0.963949\n",
      "nSV = 756, nBSV = 311\n",
      ".*\n",
      "optimization finished, #iter = 1994\n",
      "obj = -342.978794, rho = 0.338323\n",
      "nSV = 954, nBSV = 323\n",
      ".*.*\n",
      "optimization finished, #iter = 2747\n",
      "obj = -662.862186, rho = -0.694318\n",
      "nSV = 1476, nBSV = 720\n",
      "*.*\n",
      "optimization finished, #iter = 1388\n",
      "obj = -261.503919, rho = -0.783803\n",
      "nSV = 684, nBSV = 255\n",
      ".*.*\n",
      "optimization finished, #iter = 2610\n",
      "obj = -591.746373, rho = -0.784385\n",
      "nSV = 1366, nBSV = 616\n",
      ".*.*\n",
      "optimization finished, #iter = 2725\n",
      "obj = -672.925903, rho = -1.591669\n",
      "nSV = 1382, nBSV = 767\n",
      ".*.*\n",
      "optimization finished, #iter = 2138\n",
      "obj = -458.725043, rho = -0.673309\n",
      "nSV = 1056, nBSV = 472\n",
      "Total nSV = 25387\n"
     ]
    },
    {
     "name": "stderr",
     "output_type": "stream",
     "text": [
      "\r",
      " 60%|█████████████████████████▊                 | 3/5 [51:48<42:58, 1289.24s/it]"
     ]
    },
    {
     "name": "stdout",
     "output_type": "stream",
     "text": [
      "[LibSVM].\n",
      "Warning: using -h 0 may be faster\n",
      "*\n",
      "optimization finished, #iter = 1839\n",
      "obj = -1532.954330, rho = 0.253777\n",
      "nSV = 1989, nBSV = 1671\n",
      "..*.*\n",
      "optimization finished, #iter = 3598\n",
      "obj = -1706.508191, rho = 0.218528\n",
      "nSV = 2566, nBSV = 1656\n",
      "..*.*\n",
      "optimization finished, #iter = 3456\n",
      "obj = -1698.028555, rho = 0.409143\n",
      "nSV = 2511, nBSV = 1664\n",
      "..*.*\n",
      "optimization finished, #iter = 3570\n",
      "obj = -1629.527154, rho = 0.067079\n",
      "nSV = 2403, nBSV = 1579\n",
      ".\n",
      "Warning: using -h 0 may be faster\n",
      "*.*\n",
      "optimization finished, #iter = 2157\n",
      "obj = -1619.463074, rho = 0.175846\n",
      "nSV = 2141, nBSV = 1729\n",
      "..*.*\n",
      "optimization finished, #iter = 3163\n",
      "obj = -1608.943090, rho = -0.111845\n",
      "nSV = 2344, nBSV = 1620\n",
      ".\n",
      "Warning: using -h 0 may be faster\n",
      "*\n",
      "optimization finished, #iter = 1965\n",
      "obj = -1571.640346, rho = 0.347181\n",
      "nSV = 2056, nBSV = 1696\n",
      "..*.*\n",
      "optimization finished, #iter = 3625\n",
      "obj = -1673.527898, rho = -0.090798\n",
      "nSV = 2489, nBSV = 1611\n",
      "..*.*\n",
      "optimization finished, #iter = 3997\n",
      "obj = -1683.145672, rho = 0.163862\n",
      "nSV = 2502, nBSV = 1600\n",
      "..*.*\n",
      "optimization finished, #iter = 3698\n",
      "obj = -1764.330285, rho = 0.088444\n",
      "nSV = 2675, nBSV = 1751\n",
      "..*.*\n",
      "optimization finished, #iter = 3393\n",
      "obj = -1761.047939, rho = 0.234448\n",
      "nSV = 2526, nBSV = 1774\n",
      "..*.*\n",
      "optimization finished, #iter = 3295\n",
      "obj = -1706.162560, rho = -0.211990\n",
      "nSV = 2442, nBSV = 1714\n",
      ".\n",
      "Warning: using -h 0 may be faster\n",
      "*\n",
      "optimization finished, #iter = 1952\n",
      "obj = -1585.746037, rho = 0.043201\n",
      "nSV = 2096, nBSV = 1719\n",
      "..*.*\n",
      "optimization finished, #iter = 3341\n",
      "obj = -1627.002117, rho = -0.373301\n",
      "nSV = 2381, nBSV = 1627\n",
      ".\n",
      "Warning: using -h 0 may be faster\n",
      "*\n",
      "optimization finished, #iter = 1855\n",
      "obj = -1583.189058, rho = 0.175513\n",
      "nSV = 2048, nBSV = 1725\n",
      "..*.*\n",
      "optimization finished, #iter = 3314\n",
      "obj = -1774.846718, rho = -0.372631\n",
      "nSV = 2576, nBSV = 1831\n",
      "..*.*\n",
      "optimization finished, #iter = 3364\n",
      "obj = -1721.551490, rho = 0.041752\n",
      "nSV = 2423, nBSV = 1707\n",
      "...*..*\n",
      "optimization finished, #iter = 5176\n",
      "obj = -2110.370338, rho = 0.124878\n",
      "nSV = 3297, nBSV = 2056\n",
      "...*.*\n",
      "optimization finished, #iter = 4674\n",
      "obj = -1894.480951, rho = -0.301895\n",
      "nSV = 2987, nBSV = 1798\n",
      "..*.*\n",
      "optimization finished, #iter = 3217\n",
      "obj = -1779.985985, rho = -0.069493\n",
      "nSV = 2567, nBSV = 1785\n",
      "...*.*\n",
      "optimization finished, #iter = 4985\n",
      "obj = -1860.043960, rho = -0.406778\n",
      "nSV = 2960, nBSV = 1725\n",
      "..*.*\n",
      "optimization finished, #iter = 3881\n",
      "obj = -1741.360855, rho = 0.066126\n",
      "nSV = 2631, nBSV = 1652\n",
      "...*..*\n",
      "optimization finished, #iter = 5183\n",
      "obj = -2069.832832, rho = -0.602679\n",
      "nSV = 3274, nBSV = 1978\n",
      "...*.*\n",
      "optimization finished, #iter = 4730\n",
      "obj = -1901.960010, rho = -0.096114\n",
      "nSV = 2938, nBSV = 1805\n",
      "...*..*\n",
      "optimization finished, #iter = 5000\n",
      "obj = -1839.841600, rho = -0.340272\n",
      "nSV = 2926, nBSV = 1690\n",
      "..*.*\n",
      "optimization finished, #iter = 3554\n",
      "obj = -1866.553391, rho = 0.047214\n",
      "nSV = 2695, nBSV = 1906\n",
      "...*.*\n",
      "optimization finished, #iter = 4965\n",
      "obj = -1790.646864, rho = -0.377979\n",
      "nSV = 2832, nBSV = 1651\n",
      "..*.*\n",
      "optimization finished, #iter = 3270\n",
      "obj = -1734.999209, rho = -0.049271\n",
      "nSV = 2507, nBSV = 1748\n",
      "...*.*\n",
      "optimization finished, #iter = 4985\n",
      "obj = -2079.506132, rho = -0.761978\n",
      "nSV = 3230, nBSV = 2059\n",
      "...*..*\n",
      "optimization finished, #iter = 5308\n",
      "obj = -1965.446448, rho = -0.288649\n",
      "nSV = 3047, nBSV = 1862\n",
      "..*.*\n",
      "optimization finished, #iter = 3405\n",
      "obj = -1748.269895, rho = 0.082627\n",
      "nSV = 2519, nBSV = 1757\n",
      "...*..*\n",
      "optimization finished, #iter = 5088\n",
      "obj = -1849.141022, rho = -0.071622\n",
      "nSV = 2890, nBSV = 1695\n",
      "..*.*\n",
      "optimization finished, #iter = 3199\n",
      "obj = -1710.363336, rho = 0.384503\n",
      "nSV = 2433, nBSV = 1726\n",
      "...*.*\n",
      "optimization finished, #iter = 4927\n",
      "obj = -1844.524750, rho = -0.432659\n",
      "nSV = 2910, nBSV = 1728\n",
      "...*..*\n",
      "optimization finished, #iter = 5166\n",
      "obj = -2275.976118, rho = -0.089131\n",
      "nSV = 3393, nBSV = 2335\n",
      "..*.*\n",
      "optimization finished, #iter = 3452\n",
      "obj = -1703.499173, rho = -0.339397\n",
      "nSV = 2461, nBSV = 1703\n",
      ".\n",
      "Warning: using -h 0 may be faster\n",
      "*.*\n",
      "optimization finished, #iter = 2108\n",
      "obj = -1603.090009, rho = 0.072778\n",
      "nSV = 2114, nBSV = 1702\n",
      "..*.*\n",
      "optimization finished, #iter = 3660\n",
      "obj = -1877.918314, rho = -0.777192\n",
      "nSV = 2766, nBSV = 1915\n",
      "..*.*\n",
      "optimization finished, #iter = 3830\n",
      "obj = -1816.069420, rho = -0.163725\n",
      "nSV = 2636, nBSV = 1819\n",
      "..*.*\n",
      "optimization finished, #iter = 3295\n",
      "obj = -1594.171276, rho = 0.325647\n",
      "nSV = 2370, nBSV = 1597\n",
      "...*.*\n",
      "optimization finished, #iter = 4536\n",
      "obj = -1800.717839, rho = -0.130863\n",
      "nSV = 2809, nBSV = 1702\n",
      "...*..*\n",
      "optimization finished, #iter = 5100\n",
      "obj = -1773.075922, rho = 0.132026\n",
      "nSV = 2779, nBSV = 1614\n",
      "..*.*\n",
      "optimization finished, #iter = 3380\n",
      "obj = -1695.217968, rho = -0.443826\n",
      "nSV = 2491, nBSV = 1678\n",
      "..*.*\n",
      "optimization finished, #iter = 3664\n",
      "obj = -1852.593621, rho = -0.450274\n",
      "nSV = 2621, nBSV = 1858\n",
      "...*..*\n",
      "optimization finished, #iter = 5066\n",
      "obj = -1982.339915, rho = 0.436051\n",
      "nSV = 3035, nBSV = 1865\n",
      "Total nSV = 22006\n"
     ]
    },
    {
     "name": "stderr",
     "output_type": "stream",
     "text": [
      "\r",
      " 80%|████████████████████████████████▊        | 4/5 [1:06:29<18:47, 1127.68s/it]"
     ]
    },
    {
     "name": "stdout",
     "output_type": "stream",
     "text": [
      "[LibSVM]*\n",
      "optimization finished, #iter = 247\n",
      "obj = -34.424215, rho = -0.141740\n",
      "nSV = 120, nBSV = 26\n",
      "*\n",
      "optimization finished, #iter = 552\n",
      "obj = -92.006599, rho = 0.545667\n",
      "nSV = 299, nBSV = 77\n",
      "*\n",
      "optimization finished, #iter = 464\n",
      "obj = -70.222059, rho = 0.342303\n",
      "nSV = 252, nBSV = 55\n",
      "*\n",
      "optimization finished, #iter = 368\n",
      "obj = -50.972630, rho = 0.053942\n",
      "nSV = 189, nBSV = 40\n",
      "*\n",
      "optimization finished, #iter = 582\n",
      "obj = -103.419723, rho = 0.617673\n",
      "nSV = 298, nBSV = 92\n",
      "*\n",
      "optimization finished, #iter = 576\n",
      "obj = -103.177481, rho = 0.557917\n",
      "nSV = 291, nBSV = 80\n",
      "*\n",
      "optimization finished, #iter = 515\n",
      "obj = -91.889135, rho = 0.748946\n",
      "nSV = 283, nBSV = 77\n",
      "*\n",
      "optimization finished, #iter = 669\n",
      "obj = -100.418944, rho = 0.702711\n",
      "nSV = 321, nBSV = 73\n",
      "*\n",
      "optimization finished, #iter = 461\n",
      "obj = -69.971749, rho = 0.112476\n",
      "nSV = 228, nBSV = 57\n",
      "*\n",
      "optimization finished, #iter = 617\n",
      "obj = -136.770916, rho = 0.543174\n",
      "nSV = 343, nBSV = 140\n",
      "*\n",
      "optimization finished, #iter = 575\n",
      "obj = -155.992379, rho = 0.569733\n",
      "nSV = 359, nBSV = 170\n",
      "*\n",
      "optimization finished, #iter = 574\n",
      "obj = -106.084025, rho = -0.152687\n",
      "nSV = 296, nBSV = 98\n",
      "*\n",
      "optimization finished, #iter = 413\n",
      "obj = -96.257541, rho = 0.551770\n",
      "nSV = 247, nBSV = 100\n",
      "*\n",
      "optimization finished, #iter = 431\n",
      "obj = -91.473864, rho = 0.423925\n",
      "nSV = 250, nBSV = 90\n",
      "*.*\n",
      "optimization finished, #iter = 1089\n",
      "obj = -363.095330, rho = 0.962032\n",
      "nSV = 594, nBSV = 324\n",
      "*\n",
      "optimization finished, #iter = 808\n",
      "obj = -223.427301, rho = 0.301406\n",
      "nSV = 492, nBSV = 240\n",
      "*\n",
      "optimization finished, #iter = 717\n",
      "obj = -175.087349, rho = -0.145208\n",
      "nSV = 393, nBSV = 179\n",
      ".*\n",
      "optimization finished, #iter = 1475\n",
      "obj = -313.196629, rho = -0.229680\n",
      "nSV = 850, nBSV = 323\n",
      "*.*\n",
      "optimization finished, #iter = 1133\n",
      "obj = -197.086776, rho = -0.585936\n",
      "nSV = 590, nBSV = 173\n",
      "*.*\n",
      "optimization finished, #iter = 1352\n",
      "obj = -220.892292, rho = -0.080607\n",
      "nSV = 680, nBSV = 202\n",
      "*.*\n",
      "optimization finished, #iter = 1329\n",
      "obj = -232.305927, rho = -0.211977\n",
      "nSV = 715, nBSV = 204\n",
      "....*...*\n",
      "optimization finished, #iter = 7215\n",
      "obj = -2810.020708, rho = -0.075732\n",
      "nSV = 3882, nBSV = 2299\n",
      ".*.*\n",
      "optimization finished, #iter = 2018\n",
      "obj = -435.300005, rho = -0.073944\n",
      "nSV = 1146, nBSV = 436\n",
      "*\n",
      "optimization finished, #iter = 882\n",
      "obj = -161.934392, rho = -0.430260\n",
      "nSV = 467, nBSV = 148\n",
      "*\n",
      "optimization finished, #iter = 856\n",
      "obj = -125.784080, rho = -0.456216\n",
      "nSV = 408, nBSV = 114\n",
      "*.*\n",
      "optimization finished, #iter = 1229\n",
      "obj = -237.050764, rho = 0.128828\n",
      "nSV = 662, nBSV = 219\n",
      "*.*\n",
      "optimization finished, #iter = 1065\n",
      "obj = -197.251159, rho = 0.018202\n",
      "nSV = 552, nBSV = 184\n",
      "*.*\n",
      "optimization finished, #iter = 1359\n",
      "obj = -309.983040, rho = 0.592811\n",
      "nSV = 782, nBSV = 316\n",
      ".....*..*\n",
      "optimization finished, #iter = 7990\n",
      "obj = -3399.782269, rho = -0.163806\n",
      "nSV = 4603, nBSV = 3070\n",
      "*.*\n",
      "optimization finished, #iter = 1270\n",
      "obj = -240.644712, rho = -0.485434\n",
      "nSV = 681, nBSV = 245\n",
      "*.*\n",
      "optimization finished, #iter = 1065\n",
      "obj = -208.450007, rho = 0.597494\n",
      "nSV = 579, nBSV = 204\n",
      "*.*\n",
      "optimization finished, #iter = 1034\n",
      "obj = -208.034502, rho = 0.560098\n",
      "nSV = 571, nBSV = 197\n",
      "*.*\n",
      "optimization finished, #iter = 1211\n",
      "obj = -224.577869, rho = 1.017524\n",
      "nSV = 640, nBSV = 214\n",
      "*.*\n",
      "optimization finished, #iter = 1147\n",
      "obj = -217.033554, rho = 0.619651\n",
      "nSV = 662, nBSV = 215\n",
      ".*.*\n",
      "optimization finished, #iter = 2156\n",
      "obj = -553.378462, rho = 0.036526\n",
      "nSV = 1239, nBSV = 652\n",
      ".....*...*\n",
      "optimization finished, #iter = 8498\n",
      "obj = -3208.146476, rho = 0.201605\n",
      "nSV = 4169, nBSV = 2719\n",
      "*.*\n",
      "optimization finished, #iter = 1182\n",
      "obj = -207.431370, rho = 0.359031\n",
      "nSV = 613, nBSV = 190\n",
      ".*\n",
      "optimization finished, #iter = 1742\n",
      "obj = -409.810908, rho = -0.221107\n",
      "nSV = 1015, nBSV = 439\n",
      "*\n",
      "optimization finished, #iter = 966\n",
      "obj = -166.615295, rho = -0.592304\n",
      "nSV = 467, nBSV = 150\n",
      "*.*\n",
      "optimization finished, #iter = 1174\n",
      "obj = -206.403665, rho = 0.430499\n",
      "nSV = 612, nBSV = 180\n",
      ".*\n",
      "optimization finished, #iter = 1571\n",
      "obj = -364.721415, rho = -0.024820\n",
      "nSV = 923, nBSV = 380\n",
      "*\n",
      "optimization finished, #iter = 847\n",
      "obj = -137.216312, rho = -0.461724\n",
      "nSV = 406, nBSV = 119\n",
      ".*\n",
      "optimization finished, #iter = 1789\n",
      "obj = -421.809478, rho = -0.426071\n",
      "nSV = 1046, nBSV = 438\n",
      "*.*\n",
      "optimization finished, #iter = 1351\n",
      "obj = -313.515439, rho = -1.091207\n",
      "nSV = 753, nBSV = 332\n",
      "."
     ]
    },
    {
     "name": "stderr",
     "output_type": "stream",
     "text": [
      "100%|██████████████████████████████████████████| 5/5 [1:11:23<00:00, 856.62s/it]"
     ]
    },
    {
     "name": "stdout",
     "output_type": "stream",
     "text": [
      "*\n",
      "optimization finished, #iter = 1839\n",
      "obj = -395.219955, rho = -0.780101\n",
      "nSV = 1022, nBSV = 414\n",
      "Total nSV = 16898\n"
     ]
    },
    {
     "name": "stderr",
     "output_type": "stream",
     "text": [
      "\n"
     ]
    }
   ],
   "source": [
    "import pickle\n",
    "\n",
    "datasets = [\n",
    "    (train_x, train_y, 'balanced'),\n",
    "    (imb_train_x, imb_train_y, 'imbalanced'),\n",
    "    (bal_sym_train_x, bal_sym_train_y, 'bal_sym'),\n",
    "    (bal_asym_train_x, bal_asym_train_y, 'bal_asym'),\n",
    "    (imb_sym_train_x, imb_sym_train_y, 'imb_sym'),\n",
    "    (imb_asym_train_x, imb_asym_train_y, 'imb_asym'),\n",
    "]\n",
    "\n",
    "for _x, _y, name in tqdm(datasets):\n",
    "    _x, _y = preprocess(_x, _y)\n",
    "    svm = SVC(\n",
    "        kernel='rbf',\n",
    "        decision_function_shape='ovr',\n",
    "        random_state=random_seed,\n",
    "        verbose=True,\n",
    "    ) \n",
    "\n",
    "    svm.fit(_x, _y)\n",
    "    with open(f'svm-{name}', 'wb') as f:\n",
    "        pickle.dump(svm, f)"
   ]
  },
  {
   "cell_type": "markdown",
   "id": "f1b13a10",
   "metadata": {},
   "source": [
    "### load and test svm models"
   ]
  },
  {
   "cell_type": "code",
   "execution_count": 21,
   "id": "5280c07a",
   "metadata": {
    "scrolled": true
   },
   "outputs": [
    {
     "name": "stdout",
     "output_type": "stream",
     "text": [
      "svm-balanced\n",
      "              precision    recall  f1-score   support\n",
      "\n",
      "           0     0.9808    0.9918    0.9863       980\n",
      "           1     0.9886    0.9921    0.9903      1135\n",
      "           2     0.9729    0.9748    0.9739      1032\n",
      "           3     0.9764    0.9832    0.9798      1010\n",
      "           4     0.9796    0.9776    0.9786       982\n",
      "           5     0.9853    0.9787    0.9820       892\n",
      "           6     0.9843    0.9833    0.9838       958\n",
      "           7     0.9745    0.9669    0.9707      1028\n",
      "           8     0.9714    0.9774    0.9744       974\n",
      "           9     0.9739    0.9613    0.9676      1009\n",
      "\n",
      "    accuracy                         0.9788     10000\n",
      "   macro avg     0.9788    0.9787    0.9787     10000\n",
      "weighted avg     0.9788    0.9788    0.9788     10000\n",
      "\n",
      "svm-imbalanced\n",
      "              precision    recall  f1-score   support\n",
      "\n",
      "           0     0.9916    0.9684    0.9799       980\n",
      "           1     0.9902    0.9789    0.9845      1135\n",
      "           2     0.9406    0.9826    0.9611      1032\n",
      "           3     0.9069    0.9842    0.9440      1010\n",
      "           4     0.9494    0.9735    0.9613       982\n",
      "           5     0.9868    0.8408    0.9080       892\n",
      "           6     0.9498    0.9885    0.9688       958\n",
      "           7     0.9891    0.8794    0.9310      1028\n",
      "           8     0.9341    0.9743    0.9538       974\n",
      "           9     0.9231    0.9633    0.9428      1009\n",
      "\n",
      "    accuracy                         0.9546     10000\n",
      "   macro avg     0.9562    0.9534    0.9535     10000\n",
      "weighted avg     0.9563    0.9546    0.9542     10000\n",
      "\n",
      "svm-bal_sym\n",
      "              precision    recall  f1-score   support\n",
      "\n",
      "           0     0.9749    0.9918    0.9833       980\n",
      "           1     0.9869    0.9921    0.9895      1135\n",
      "           2     0.9785    0.9719    0.9752      1032\n",
      "           3     0.9773    0.9782    0.9777      1010\n",
      "           4     0.9727    0.9796    0.9762       982\n",
      "           5     0.9798    0.9798    0.9798       892\n",
      "           6     0.9833    0.9854    0.9844       958\n",
      "           7     0.9782    0.9621    0.9701      1028\n",
      "           8     0.9664    0.9754    0.9709       974\n",
      "           9     0.9707    0.9534    0.9620      1009\n",
      "\n",
      "    accuracy                         0.9770     10000\n",
      "   macro avg     0.9769    0.9770    0.9769     10000\n",
      "weighted avg     0.9770    0.9770    0.9770     10000\n",
      "\n",
      "svm-bal_asym\n",
      "              precision    recall  f1-score   support\n",
      "\n",
      "           0     0.9768    0.9888    0.9828       980\n",
      "           1     0.9791    0.9903    0.9847      1135\n",
      "           2     0.9814    0.9709    0.9761      1032\n",
      "           3     0.9848    0.9624    0.9735      1010\n",
      "           4     0.9746    0.9756    0.9751       982\n",
      "           5     0.9741    0.9686    0.9713       892\n",
      "           6     0.9760    0.9760    0.9760       958\n",
      "           7     0.9708    0.9689    0.9698      1028\n",
      "           8     0.9500    0.9764    0.9630       974\n",
      "           9     0.9719    0.9604    0.9661      1009\n",
      "\n",
      "    accuracy                         0.9740     10000\n",
      "   macro avg     0.9739    0.9738    0.9738     10000\n",
      "weighted avg     0.9741    0.9740    0.9740     10000\n",
      "\n",
      "svm-imb_sym\n",
      "              precision    recall  f1-score   support\n",
      "\n",
      "           0     0.9873    0.9541    0.9704       980\n",
      "           1     0.9840    0.9744    0.9792      1135\n",
      "           2     0.9387    0.9787    0.9583      1032\n",
      "           3     0.8809    0.9812    0.9283      1010\n",
      "           4     0.9508    0.9837    0.9670       982\n",
      "           5     0.9858    0.7791    0.8704       892\n",
      "           6     0.9395    0.9885    0.9634       958\n",
      "           7     0.9954    0.8385    0.9102      1028\n",
      "           8     0.9138    0.9795    0.9455       974\n",
      "           9     0.8972    0.9683    0.9314      1009\n",
      "\n",
      "    accuracy                         0.9443     10000\n",
      "   macro avg     0.9473    0.9426    0.9424     10000\n",
      "weighted avg     0.9474    0.9443    0.9434     10000\n",
      "\n"
     ]
    },
    {
     "ename": "FileNotFoundError",
     "evalue": "[Errno 2] No such file or directory: 'svm-imb_asm'",
     "output_type": "error",
     "traceback": [
      "\u001b[0;31m---------------------------------------------------------------------------\u001b[0m",
      "\u001b[0;31mFileNotFoundError\u001b[0m                         Traceback (most recent call last)",
      "\u001b[0;32m/var/folders/c4/gdhzr5rd3q584gh9ycv3hc080000gn/T/ipykernel_1876/3890657961.py\u001b[0m in \u001b[0;36m<module>\u001b[0;34m\u001b[0m\n\u001b[1;32m      1\u001b[0m for model_name in ['svm-balanced', 'svm-imbalanced', 'svm-bal_sym',\n\u001b[1;32m      2\u001b[0m                   'svm-bal_asym', 'svm-imb_sym', 'svm-imb_asm']:\n\u001b[0;32m----> 3\u001b[0;31m     \u001b[0;32mwith\u001b[0m \u001b[0mopen\u001b[0m\u001b[0;34m(\u001b[0m\u001b[0mmodel_name\u001b[0m\u001b[0;34m,\u001b[0m \u001b[0;34m'rb'\u001b[0m\u001b[0;34m)\u001b[0m \u001b[0;32mas\u001b[0m \u001b[0mf\u001b[0m\u001b[0;34m:\u001b[0m\u001b[0;34m\u001b[0m\u001b[0;34m\u001b[0m\u001b[0m\n\u001b[0m\u001b[1;32m      4\u001b[0m         \u001b[0msvm\u001b[0m \u001b[0;34m=\u001b[0m \u001b[0mpickle\u001b[0m\u001b[0;34m.\u001b[0m\u001b[0mload\u001b[0m\u001b[0;34m(\u001b[0m\u001b[0mf\u001b[0m\u001b[0;34m)\u001b[0m\u001b[0;34m\u001b[0m\u001b[0;34m\u001b[0m\u001b[0m\n\u001b[1;32m      5\u001b[0m \u001b[0;34m\u001b[0m\u001b[0m\n",
      "\u001b[0;31mFileNotFoundError\u001b[0m: [Errno 2] No such file or directory: 'svm-imb_asm'"
     ]
    }
   ],
   "source": [
    "for model_name in ['svm-balanced', 'svm-imbalanced', 'svm-bal_sym',\n",
    "                  'svm-bal_asym', 'svm-imb_sym', 'svm-imb_asym']:\n",
    "    with open(model_name, 'rb') as f:\n",
    "        svm = pickle.load(f)\n",
    "\n",
    "    print(model_name)\n",
    "    \n",
    "    y_pred = svm.predict(test_x)\n",
    "    clf_metrics(test_y, y_pred)"
   ]
  },
  {
   "cell_type": "code",
   "execution_count": 38,
   "id": "450c55e2",
   "metadata": {
    "scrolled": true
   },
   "outputs": [
    {
     "name": "stdout",
     "output_type": "stream",
     "text": [
      "svm-bal_sym\n",
      "              precision    recall  f1-score   support\n",
      "\n",
      "           0     0.9749    0.9918    0.9833       980\n",
      "           1     0.9869    0.9921    0.9895      1135\n",
      "           2     0.9785    0.9719    0.9752      1032\n",
      "           3     0.9773    0.9782    0.9777      1010\n",
      "           4     0.9727    0.9796    0.9762       982\n",
      "           5     0.9798    0.9798    0.9798       892\n",
      "           6     0.9833    0.9854    0.9844       958\n",
      "           7     0.9782    0.9621    0.9701      1028\n",
      "           8     0.9664    0.9754    0.9709       974\n",
      "           9     0.9707    0.9534    0.9620      1009\n",
      "\n",
      "    accuracy                         0.9770     10000\n",
      "   macro avg     0.9769    0.9770    0.9769     10000\n",
      "weighted avg     0.9770    0.9770    0.9770     10000\n",
      "\n"
     ]
    }
   ],
   "source": [
    "for model_name in ['svm-bal_sym']:\n",
    "    with open(model_name, 'rb') as f:\n",
    "        svm = pickle.load(f)\n",
    "\n",
    "    print(model_name)\n",
    "    \n",
    "    y_pred = svm.predict(test_x)\n",
    "    clf_metrics(test_y, y_pred)"
   ]
  },
  {
   "cell_type": "markdown",
   "id": "6e5f0705",
   "metadata": {},
   "source": [
    "## RF"
   ]
  },
  {
   "cell_type": "markdown",
   "id": "a238d71a",
   "metadata": {},
   "source": [
    "### preprocessing data"
   ]
  },
  {
   "cell_type": "code",
   "execution_count": 18,
   "id": "b309ff79",
   "metadata": {},
   "outputs": [
    {
     "data": {
      "text/plain": [
       "(50000, 784)"
      ]
     },
     "execution_count": 18,
     "metadata": {},
     "output_type": "execute_result"
    }
   ],
   "source": [
    "def preprocess(x, y):\n",
    "    x, y = np.array(x).squeeze(), np.array(y)\n",
    "    return x.reshape((x.shape[0], -1)), y\n",
    "\n",
    "train_x, train_y = preprocess(train_x, train_y)\n",
    "test_x, test_y = preprocess(test_x, test_y)\n",
    "valid_x, valid_y = preprocess(valid_x, valid_y)\n",
    "\n",
    "train_x.shape"
   ]
  },
  {
   "cell_type": "markdown",
   "id": "3e912ebb",
   "metadata": {},
   "source": [
    "### train on all datasets"
   ]
  },
  {
   "cell_type": "code",
   "execution_count": 29,
   "id": "9487e651",
   "metadata": {},
   "outputs": [
    {
     "name": "stderr",
     "output_type": "stream",
     "text": [
      "100%|█████████████████████████████████████████████████████████████████████████████████████████████████████████████████████| 6/6 [00:14<00:00,  2.44s/it]\n"
     ]
    }
   ],
   "source": [
    "import pickle\n",
    "\n",
    "datasets = [\n",
    "    (train_x, train_y, 'balanced'),\n",
    "    (imb_train_x, imb_train_y, 'imbalanced'),\n",
    "    (bal_sym_train_x, bal_sym_train_y, 'bal_sym'),\n",
    "    (bal_asym_train_x, bal_asym_train_y, 'bal_asym'),\n",
    "    (imb_sym_train_x, imb_sym_train_y, 'imb_sym'),\n",
    "    (imb_asym_train_x, imb_asym_train_y, 'imb_asym'),\n",
    "]\n",
    "\n",
    "for _x, _y, name in tqdm(datasets):\n",
    "    _x, _y = preprocess(_x, _y)\n",
    "    rf = RandomForestClassifier(\n",
    "        n_estimators=100,\n",
    "        max_depth=10,\n",
    "        random_state=random_seed,\n",
    "        n_jobs=-1\n",
    "    ) \n",
    "\n",
    "    rf.fit(_x, _y)\n",
    "    with open(f'rf-{name}', 'wb') as f:\n",
    "        pickle.dump(rf, f)"
   ]
  },
  {
   "cell_type": "markdown",
   "id": "86ed494e",
   "metadata": {},
   "source": [
    "### load and test svm models"
   ]
  },
  {
   "cell_type": "code",
   "execution_count": 30,
   "id": "6ee8a0a2",
   "metadata": {
    "scrolled": false
   },
   "outputs": [
    {
     "name": "stdout",
     "output_type": "stream",
     "text": [
      "rf-balanced\n",
      "              precision    recall  f1-score   support\n",
      "\n",
      "           0     0.9660    0.9867    0.9763       980\n",
      "           1     0.9765    0.9877    0.9820      1135\n",
      "           2     0.9412    0.9467    0.9440      1032\n",
      "           3     0.9459    0.9347    0.9402      1010\n",
      "           4     0.9519    0.9267    0.9391       982\n",
      "           5     0.9596    0.9327    0.9460       892\n",
      "           6     0.9539    0.9729    0.9633       958\n",
      "           7     0.9548    0.9251    0.9397      1028\n",
      "           8     0.9384    0.9230    0.9306       974\n",
      "           9     0.8888    0.9346    0.9111      1009\n",
      "\n",
      "    accuracy                         0.9476     10000\n",
      "   macro avg     0.9477    0.9471    0.9472     10000\n",
      "weighted avg     0.9479    0.9476    0.9476     10000\n",
      "\n",
      "rf-imbalanced\n",
      "              precision    recall  f1-score   support\n",
      "\n",
      "           0     0.9953    0.8653    0.9258       980\n",
      "           1     0.9953    0.9383    0.9660      1135\n",
      "           2     0.8560    0.9506    0.9008      1032\n",
      "           3     0.6950    0.9545    0.8043      1010\n",
      "           4     0.8636    0.9348    0.8978       982\n",
      "           5     1.0000    0.2915    0.4514       892\n",
      "           6     0.8859    0.9729    0.9274       958\n",
      "           7     0.9923    0.5019    0.6667      1028\n",
      "           8     0.7697    0.9435    0.8478       974\n",
      "           9     0.6573    0.9485    0.7765      1009\n",
      "\n",
      "    accuracy                         0.8360     10000\n",
      "   macro avg     0.8710    0.8302    0.8164     10000\n",
      "weighted avg     0.8712    0.8360    0.8213     10000\n",
      "\n",
      "rf-bal_sym\n",
      "              precision    recall  f1-score   support\n",
      "\n",
      "           0     0.9585    0.9888    0.9734       980\n",
      "           1     0.9722    0.9877    0.9799      1135\n",
      "           2     0.9491    0.9399    0.9445      1032\n",
      "           3     0.9464    0.9267    0.9365      1010\n",
      "           4     0.9530    0.9287    0.9407       982\n",
      "           5     0.9474    0.9283    0.9377       892\n",
      "           6     0.9554    0.9614    0.9584       958\n",
      "           7     0.9580    0.9309    0.9443      1028\n",
      "           8     0.9318    0.9261    0.9289       974\n",
      "           9     0.8890    0.9366    0.9122      1009\n",
      "\n",
      "    accuracy                         0.9461     10000\n",
      "   macro avg     0.9461    0.9455    0.9456     10000\n",
      "weighted avg     0.9464    0.9461    0.9461     10000\n",
      "\n",
      "rf-bal_asym\n",
      "              precision    recall  f1-score   support\n",
      "\n",
      "           0     0.9538    0.9898    0.9715       980\n",
      "           1     0.9598    0.9877    0.9735      1135\n",
      "           2     0.9591    0.9079    0.9328      1032\n",
      "           3     0.9760    0.8465    0.9067      1010\n",
      "           4     0.9369    0.9379    0.9374       982\n",
      "           5     0.9509    0.9126    0.9314       892\n",
      "           6     0.9630    0.9499    0.9564       958\n",
      "           7     0.9430    0.9018    0.9219      1028\n",
      "           8     0.8307    0.9569    0.8893       974\n",
      "           9     0.8816    0.9376    0.9087      1009\n",
      "\n",
      "    accuracy                         0.9333     10000\n",
      "   macro avg     0.9355    0.9328    0.9330     10000\n",
      "weighted avg     0.9358    0.9333    0.9334     10000\n",
      "\n",
      "rf-imb_sym\n",
      "              precision    recall  f1-score   support\n",
      "\n",
      "           0     0.9977    0.8816    0.9361       980\n",
      "           1     0.9917    0.9445    0.9675      1135\n",
      "           2     0.8549    0.9477    0.8989      1032\n",
      "           3     0.6789    0.9505    0.7921      1010\n",
      "           4     0.8534    0.9369    0.8932       982\n",
      "           5     1.0000    0.2287    0.3723       892\n",
      "           6     0.8884    0.9718    0.9282       958\n",
      "           7     0.9959    0.4708    0.6394      1028\n",
      "           8     0.7764    0.9446    0.8522       974\n",
      "           9     0.6406    0.9485    0.7647      1009\n",
      "\n",
      "    accuracy                         0.8290     10000\n",
      "   macro avg     0.8678    0.8226    0.8045     10000\n",
      "weighted avg     0.8679    0.8290    0.8100     10000\n",
      "\n",
      "rf-imb_asym\n",
      "              precision    recall  f1-score   support\n",
      "\n",
      "           0     0.9932    0.8878    0.9375       980\n",
      "           1     0.9917    0.9427    0.9666      1135\n",
      "           2     0.9123    0.9176    0.9150      1032\n",
      "           3     0.7741    0.8653    0.8172      1010\n",
      "           4     0.8552    0.9440    0.8974       982\n",
      "           5     0.9938    0.1805    0.3055       892\n",
      "           6     0.8947    0.9582    0.9254       958\n",
      "           7     0.9915    0.4514    0.6203      1028\n",
      "           8     0.5954    0.9641    0.7362       974\n",
      "           9     0.6131    0.9485    0.7447      1009\n",
      "\n",
      "    accuracy                         0.8127     10000\n",
      "   macro avg     0.8615    0.8060    0.7866     10000\n",
      "weighted avg     0.8623    0.8127    0.7932     10000\n",
      "\n"
     ]
    }
   ],
   "source": [
    "for model_name in ['rf-balanced', 'rf-imbalanced', 'rf-bal_sym',\n",
    "                  'rf-bal_asym', 'rf-imb_sym', 'rf-imb_asym']:\n",
    "    with open(model_name, 'rb') as f:\n",
    "        rf = pickle.load(f)\n",
    "\n",
    "    print(model_name)\n",
    "    \n",
    "    y_pred = rf.predict(test_x)\n",
    "    clf_metrics(test_y, y_pred)"
   ]
  },
  {
   "cell_type": "markdown",
   "id": "2bea99f5",
   "metadata": {},
   "source": [
    "## Embed-svm"
   ]
  },
  {
   "cell_type": "markdown",
   "id": "b4544c55",
   "metadata": {},
   "source": [
    "### umap embeddings"
   ]
  },
  {
   "cell_type": "code",
   "execution_count": 18,
   "id": "d663d105",
   "metadata": {},
   "outputs": [
    {
     "data": {
      "text/plain": [
       "((49357, 1, 28, 28), (49357,))"
      ]
     },
     "execution_count": 18,
     "metadata": {},
     "output_type": "execute_result"
    }
   ],
   "source": [
    "import umap\n",
    "from collections import Counter\n",
    "from skimage.transform import rotate\n",
    "\n",
    "def encode_dataset(_x, reducer=None):\n",
    "    if reducer is None:\n",
    "        reducer = umap.UMAP(random_state=random_seed, n_components=10)\n",
    "        reducer.fit(_x)\n",
    "    return reducer.transform(_x), reducer\n",
    "    \n",
    "\n",
    "\n",
    "def class_counter(_x, _y):\n",
    "    c = Counter()\n",
    "    for y in _y:\n",
    "        c.update([int(y),])\n",
    "    \n",
    "    clist = [0]*10\n",
    "    \n",
    "    for cls, cnt in c.items():\n",
    "        clist[cls] = cnt\n",
    "        \n",
    "    return clist\n",
    "\n",
    "\n",
    "def augment_dataset(_x, _y):\n",
    "    cls_cnt = class_counter(_x, _y)\n",
    "    aug_x, aug_y = [], []\n",
    "    \n",
    "    for img_x, img_y in zip(_x, _y):\n",
    "        n_augs = max(cls_cnt)//cls_cnt[img_y]\n",
    "        aug_x.append(img_x)\n",
    "        aug_y.append(img_y)\n",
    "        for _ in range(n_augs-1):\n",
    "            if np.random.rand()<0.5:\n",
    "                rot_x = np.fliplr(img_x)\n",
    "            else:\n",
    "                rot_x = rotate(img_x, np.random.randint(-7, 7))\n",
    "            aug_x.append(rot_x)\n",
    "            aug_y.append(img_y)\n",
    "    return np.array(aug_x), np.array(aug_y)\n",
    "    \n",
    "x, y = augment_dataset(imb_train_x, imb_train_y)\n",
    "x.shape, y.shape"
   ]
  },
  {
   "cell_type": "code",
   "execution_count": 19,
   "id": "b3109c93",
   "metadata": {},
   "outputs": [
    {
     "data": {
      "text/plain": [
       "<AxesSubplot:ylabel='Count'>"
      ]
     },
     "execution_count": 19,
     "metadata": {},
     "output_type": "execute_result"
    },
    {
     "data": {
      "image/png": "[encoded data removed]",
      "text/plain": [
       "<Figure size 432x288 with 1 Axes>"
      ]
     },
     "metadata": {
      "needs_background": "light"
     },
     "output_type": "display_data"
    }
   ],
   "source": [
    "sns.histplot(y, bins=[i for i in range(11)])\n"
   ]
  },
  {
   "cell_type": "markdown",
   "id": "a822ab7b",
   "metadata": {},
   "source": [
    "### training augment-svm"
   ]
  },
  {
   "cell_type": "code",
   "execution_count": 23,
   "id": "82e4ffbb",
   "metadata": {},
   "outputs": [
    {
     "name": "stderr",
     "output_type": "stream",
     "text": [
      "  0%|                                                                                                                             | 0/6 [00:00<?, ?it/s]/Users/navid/miniforge_x86_64/envs/pytorch_x86/lib/python3.8/site-packages/sklearn/svm/_base.py:284: ConvergenceWarning: Solver terminated early (max_iter=500).  Consider pre-processing your data with StandardScaler or MinMaxScaler.\n",
      "  warnings.warn(\n",
      " 17%|███████████████████▎                                                                                                | 1/6 [02:01<10:07, 121.55s/it]/Users/navid/miniforge_x86_64/envs/pytorch_x86/lib/python3.8/site-packages/sklearn/svm/_base.py:284: ConvergenceWarning: Solver terminated early (max_iter=500).  Consider pre-processing your data with StandardScaler or MinMaxScaler.\n",
      "  warnings.warn(\n",
      " 33%|██████████████████████████████████████▋                                                                             | 2/6 [03:30<06:50, 102.55s/it]/Users/navid/miniforge_x86_64/envs/pytorch_x86/lib/python3.8/site-packages/sklearn/svm/_base.py:284: ConvergenceWarning: Solver terminated early (max_iter=500).  Consider pre-processing your data with StandardScaler or MinMaxScaler.\n",
      "  warnings.warn(\n",
      " 50%|██████████████████████████████████████████████████████████                                                          | 3/6 [07:13<07:52, 157.40s/it]/Users/navid/miniforge_x86_64/envs/pytorch_x86/lib/python3.8/site-packages/sklearn/svm/_base.py:284: ConvergenceWarning: Solver terminated early (max_iter=500).  Consider pre-processing your data with StandardScaler or MinMaxScaler.\n",
      "  warnings.warn(\n",
      " 67%|█████████████████████████████████████████████████████████████████████████████▎                                      | 4/6 [18:53<12:23, 371.76s/it]/Users/navid/miniforge_x86_64/envs/pytorch_x86/lib/python3.8/site-packages/sklearn/svm/_base.py:284: ConvergenceWarning: Solver terminated early (max_iter=500).  Consider pre-processing your data with StandardScaler or MinMaxScaler.\n",
      "  warnings.warn(\n",
      " 83%|████████████████████████████████████████████████████████████████████████████████████████████████▋                   | 5/6 [21:29<04:53, 293.90s/it]/Users/navid/miniforge_x86_64/envs/pytorch_x86/lib/python3.8/site-packages/sklearn/svm/_base.py:284: ConvergenceWarning: Solver terminated early (max_iter=500).  Consider pre-processing your data with StandardScaler or MinMaxScaler.\n",
      "  warnings.warn(\n",
      "100%|████████████████████████████████████████████████████████████████████████████████████████████████████████████████████| 6/6 [23:26<00:00, 234.34s/it]"
     ]
    },
    {
     "name": "stdout",
     "output_type": "stream",
     "text": [
      "CPU times: user 14min 27s, sys: 4.12 s, total: 14min 31s\n",
      "Wall time: 23min 26s\n"
     ]
    },
    {
     "name": "stderr",
     "output_type": "stream",
     "text": [
      "\n"
     ]
    }
   ],
   "source": [
    "%%time\n",
    "\n",
    "import pickle\n",
    "\n",
    "datasets = [\n",
    "    (train_x, train_y, 'balanced'),\n",
    "    (imb_train_x, imb_train_y, 'imbalanced'),\n",
    "    (bal_sym_train_x, bal_sym_train_y, 'bal_sym'),\n",
    "    (bal_asym_train_x, bal_asym_train_y, 'bal_asym'),\n",
    "    (imb_sym_train_x, imb_sym_train_y, 'imb_sym'),\n",
    "    (imb_asym_train_x, imb_asym_train_y, 'imb_asym'),\n",
    "]\n",
    "\n",
    "for _x, _y, name in tqdm(datasets):\n",
    "    _x = np.array(_x).reshape(-1, 28, 28)\n",
    "    _x, _y = augment_dataset(_x, _y)\n",
    "    _x, _y = preprocess(_x, _y)\n",
    "    \n",
    "    \n",
    "    svm = SVC(\n",
    "        kernel='rbf',\n",
    "        max_iter=500,\n",
    "        decision_function_shape='ovr',\n",
    "        random_state=random_seed,\n",
    "        verbose=False,\n",
    "    ) \n",
    "\n",
    "    svm.fit(_x, _y)\n",
    "    \n",
    "    with open(f'augsvm-{name}', 'wb') as f:\n",
    "        pickle.dump(svm, f)\n"
   ]
  },
  {
   "cell_type": "markdown",
   "id": "99a87f7a",
   "metadata": {},
   "source": [
    "### validate"
   ]
  },
  {
   "cell_type": "code",
   "execution_count": 20,
   "id": "bef2f065",
   "metadata": {
    "scrolled": false
   },
   "outputs": [
    {
     "name": "stdout",
     "output_type": "stream",
     "text": [
      "augsvm-balanced\n",
      "              precision    recall  f1-score   support\n",
      "\n",
      "           0     0.9808    0.9918    0.9863       980\n",
      "           1     0.9886    0.9921    0.9903      1135\n",
      "           2     0.9729    0.9748    0.9739      1032\n",
      "           3     0.9774    0.9832    0.9803      1010\n",
      "           4     0.9785    0.9745    0.9765       982\n",
      "           5     0.9842    0.9787    0.9815       892\n",
      "           6     0.9843    0.9833    0.9838       958\n",
      "           7     0.9736    0.9679    0.9707      1028\n",
      "           8     0.9714    0.9774    0.9744       974\n",
      "           9     0.9719    0.9594    0.9656      1009\n",
      "\n",
      "    accuracy                         0.9784     10000\n",
      "   macro avg     0.9784    0.9783    0.9783     10000\n",
      "weighted avg     0.9784    0.9784    0.9784     10000\n",
      "\n",
      "augsvm-imbalanced\n",
      "              precision    recall  f1-score   support\n",
      "\n",
      "           0     0.9876    0.9755    0.9815       980\n",
      "           1     0.9886    0.9921    0.9903      1135\n",
      "           2     0.9557    0.9816    0.9685      1032\n",
      "           3     0.9465    0.9802    0.9630      1010\n",
      "           4     0.9667    0.9745    0.9706       982\n",
      "           5     0.9709    0.8980    0.9330       892\n",
      "           6     0.9712    0.9854    0.9782       958\n",
      "           7     0.9656    0.9270    0.9459      1028\n",
      "           8     0.9575    0.9713    0.9643       974\n",
      "           9     0.9522    0.9673    0.9597      1009\n",
      "\n",
      "    accuracy                         0.9662     10000\n",
      "   macro avg     0.9662    0.9653    0.9655     10000\n",
      "weighted avg     0.9664    0.9662    0.9661     10000\n",
      "\n",
      "augsvm-bal_sym\n",
      "              precision    recall  f1-score   support\n",
      "\n",
      "           0     0.3940    0.6469    0.4898       980\n",
      "           1     0.7233    0.8106    0.7644      1135\n",
      "           2     0.4749    0.3760    0.4197      1032\n",
      "           3     0.6246    0.6327    0.6286      1010\n",
      "           4     0.5909    0.5265    0.5568       982\n",
      "           5     0.7266    0.3397    0.4629       892\n",
      "           6     0.7042    0.5741    0.6325       958\n",
      "           7     0.8079    0.7325    0.7684      1028\n",
      "           8     0.5795    0.6509    0.6132       974\n",
      "           9     0.6686    0.7820    0.7209      1009\n",
      "\n",
      "    accuracy                         0.6127     10000\n",
      "   macro avg     0.6295    0.6072    0.6057     10000\n",
      "weighted avg     0.6301    0.6127    0.6096     10000\n",
      "\n",
      "augsvm-bal_asym\n",
      "              precision    recall  f1-score   support\n",
      "\n",
      "           0     0.9710    0.9898    0.9803       980\n",
      "           1     0.6811    0.5700    0.6206      1135\n",
      "           2     0.9140    0.8140    0.8611      1032\n",
      "           3     0.4802    0.4683    0.4742      1010\n",
      "           4     0.9657    0.9756    0.9706       982\n",
      "           5     0.4217    0.4978    0.4566       892\n",
      "           6     0.4726    0.3956    0.4307       958\n",
      "           7     0.5341    0.7228    0.6143      1028\n",
      "           8     0.4154    0.3881    0.4013       974\n",
      "           9     0.9680    0.9584    0.9631      1009\n",
      "\n",
      "    accuracy                         0.6799     10000\n",
      "   macro avg     0.6824    0.6780    0.6773     10000\n",
      "weighted avg     0.6860    0.6799    0.6800     10000\n",
      "\n",
      "augsvm-imb_sym\n",
      "              precision    recall  f1-score   support\n",
      "\n",
      "           0     0.5279    0.6469    0.5814       980\n",
      "           1     0.5740    0.5639    0.5689      1135\n",
      "           2     0.6357    0.5901    0.6121      1032\n",
      "           3     0.7173    0.7713    0.7433      1010\n",
      "           4     0.8519    0.6853    0.7596       982\n",
      "           5     0.6495    0.2679    0.3794       892\n",
      "           6     0.7909    0.7223    0.7550       958\n",
      "           7     0.6860    0.6206    0.6517      1028\n",
      "           8     0.5796    0.7290    0.6457       974\n",
      "           9     0.6185    0.8900    0.7298      1009\n",
      "\n",
      "    accuracy                         0.6512     10000\n",
      "   macro avg     0.6631    0.6487    0.6427     10000\n",
      "weighted avg     0.6617    0.6512    0.6441     10000\n",
      "\n",
      "augsvm-imb_asym\n",
      "              precision    recall  f1-score   support\n",
      "\n",
      "           0     0.9826    0.9786    0.9806       980\n",
      "           1     0.6433    0.9868    0.7789      1135\n",
      "           2     0.9312    0.4457    0.6029      1032\n",
      "           3     0.6037    0.4871    0.5392      1010\n",
      "           4     0.9531    0.9725    0.9627       982\n",
      "           5     0.5637    0.7197    0.6322       892\n",
      "           6     0.7942    0.5438    0.6456       958\n",
      "           7     0.3791    0.3813    0.3802      1028\n",
      "           8     0.4959    0.5585    0.5254       974\n",
      "           9     0.9264    0.9604    0.9431      1009\n",
      "\n",
      "    accuracy                         0.7054     10000\n",
      "   macro avg     0.7273    0.7034    0.6991     10000\n",
      "weighted avg     0.7271    0.7054    0.6994     10000\n",
      "\n"
     ]
    }
   ],
   "source": [
    "for model_name in ['augsvm-balanced', 'augsvm-imbalanced', 'augsvm-bal_sym', 'augsvm-bal_asym', 'augsvm-imb_sym', 'augsvm-imb_asym']:\n",
    "    with open(model_name, 'rb') as f:\n",
    "        svm = pickle.load(f)\n",
    "    \n",
    "    print(model_name)\n",
    "    y_pred = svm.predict(test_x)\n",
    "    clf_metrics(test_y, y_pred)"
   ]
  },
  {
   "cell_type": "markdown",
   "id": "66a0739f",
   "metadata": {},
   "source": [
    "### training on all datasets"
   ]
  },
  {
   "cell_type": "code",
   "execution_count": 38,
   "id": "50ef7a51",
   "metadata": {},
   "outputs": [
    {
     "name": "stderr",
     "output_type": "stream",
     "text": [
      "100%|█████████████████████████████████████████████████████████████████████████████████████████████████████████████████████| 1/1 [00:52<00:00, 52.76s/it]"
     ]
    },
    {
     "name": "stdout",
     "output_type": "stream",
     "text": [
      "CPU times: user 1min 29s, sys: 51 s, total: 2min 20s\n",
      "Wall time: 52.8 s\n"
     ]
    },
    {
     "name": "stderr",
     "output_type": "stream",
     "text": [
      "\n"
     ]
    }
   ],
   "source": [
    "%%time\n",
    "\n",
    "import pickle\n",
    "\n",
    "datasets = [\n",
    "    (train_x, train_y, 'balanced'),\n",
    "    (imb_train_x, imb_train_y, 'imbalanced'),\n",
    "    (bal_sym_train_x, bal_sym_train_y, 'bal_sym'),\n",
    "    (bal_asym_train_x, bal_asym_train_y, 'bal_asym'),\n",
    "    (imb_sym_train_x, imb_sym_train_y, 'imb_sym'),\n",
    "    (imb_asym_train_x, imb_asym_train_y, 'imb_asym'),\n",
    "]\n",
    "\n",
    "for _x, _y, name in tqdm(datasets):\n",
    "    _x, _y = preprocess(_x, _y)\n",
    "    \n",
    "    _x, reducer = encode_dataset(_x)\n",
    "    \n",
    "    svm = SVC(\n",
    "        kernel='rbf',\n",
    "        decision_function_shape='ovr',\n",
    "        random_state=random_seed,\n",
    "        verbose=False,\n",
    "    ) \n",
    "\n",
    "    svm.fit(_x, _y)\n",
    "    \n",
    "    with open(f'esvm-{name}', 'wb') as f:\n",
    "        pickle.dump(svm, f)\n",
    "        \n",
    "    with open(f'esvm-{name}-encoder', 'wb') as f:\n",
    "        pickle.dump(reducer, f)"
   ]
  },
  {
   "cell_type": "markdown",
   "id": "c9b6a020",
   "metadata": {},
   "source": [
    "### validate"
   ]
  },
  {
   "cell_type": "code",
   "execution_count": 37,
   "id": "05dd52df",
   "metadata": {
    "scrolled": true
   },
   "outputs": [
    {
     "name": "stdout",
     "output_type": "stream",
     "text": [
      "esvm-bal_sym\n",
      "              precision    recall  f1-score   support\n",
      "\n",
      "           0     0.9612    0.9857    0.9733       980\n",
      "           1     0.9285    0.9947    0.9604      1135\n",
      "           2     0.9835    0.9264    0.9541      1032\n",
      "           3     0.9630    0.9525    0.9577      1010\n",
      "           4     0.9694    0.9348    0.9518       982\n",
      "           5     0.9479    0.9585    0.9532       892\n",
      "           6     0.9572    0.9812    0.9691       958\n",
      "           7     0.9402    0.9484    0.9443      1028\n",
      "           8     0.9803    0.9189    0.9486       974\n",
      "           9     0.9299    0.9465    0.9381      1009\n",
      "\n",
      "    accuracy                         0.9551     10000\n",
      "   macro avg     0.9561    0.9548    0.9551     10000\n",
      "weighted avg     0.9557    0.9551    0.9550     10000\n",
      "\n"
     ]
    }
   ],
   "source": [
    "#for model_name in ['esvm-balanced', 'esvm-imbalanced', 'esvm-bal_sym', 'esvm-bal_asym', 'esvm-imb_sym', 'esvm-imb_asym']:\n",
    "for model_name in ['esvm-bal_sym']:\n",
    "    with open(model_name, 'rb') as f:\n",
    "        svm = pickle.load(f)\n",
    "\n",
    "    with open(f\"{model_name}-encoder\", 'rb') as f:\n",
    "        reducer = pickle.load(f)\n",
    "        \n",
    "    print(model_name)\n",
    "    encode_x = encode_dataset(test_x, reducer)[0]\n",
    "    y_pred = svm.predict(encode_x)\n",
    "    clf_metrics(test_y, y_pred)"
   ]
  },
  {
   "cell_type": "markdown",
   "id": "8731c57b",
   "metadata": {},
   "source": [
    "## Logistic Regression on pytorch"
   ]
  },
  {
   "cell_type": "markdown",
   "id": "62dd541d",
   "metadata": {},
   "source": [
    "### Model definition"
   ]
  },
  {
   "cell_type": "code",
   "execution_count": null,
   "id": "33aa807f",
   "metadata": {},
   "outputs": [],
   "source": [
    "input_features = train_x[0].shape[1]\n",
    "output_features = 10\n",
    "num_epochs = 1"
   ]
  },
  {
   "cell_type": "code",
   "execution_count": null,
   "id": "d0879205",
   "metadata": {},
   "outputs": [],
   "source": [
    "class LogisticRegression(torch.nn.Module):\n",
    "    def __init__(self, n_input_features, output_features):\n",
    "        super(LogisticRegression, self).__init__()\n",
    "        self.linear = torch.nn.Linear(n_input_features, output_features)\n",
    "\n",
    "    def forward(self, x):\n",
    "        y_predicted = self.linear(x)\n",
    "        return y_predicted\n",
    "\n",
    "\n",
    "model = LogisticRegression(input_features * input_features, output_features)\n"
   ]
  },
  {
   "cell_type": "code",
   "execution_count": null,
   "id": "1e92e6ae",
   "metadata": {},
   "outputs": [],
   "source": [
    "criterion = torch.nn.CrossEntropyLoss()\n",
    "optimizer = torch.optim.SGD(model.parameters(), lr=learning_rate)\n"
   ]
  },
  {
   "cell_type": "markdown",
   "id": "9960c87f",
   "metadata": {},
   "source": [
    "### Training the logistic regression model\n"
   ]
  },
  {
   "cell_type": "code",
   "execution_count": null,
   "id": "d08eb280",
   "metadata": {},
   "outputs": [],
   "source": [
    "iter = 5\n",
    "\n",
    "for epoch in range(num_epochs):\n",
    "    for batch_number, (images, labels) in enumerate(train_loader):\n",
    "        images = images.view(-1, input_features *\n",
    "                             input_features).requires_grad_()\n",
    "        labels = labels\n",
    "         # Clear gradients w.r.t. parameters\n",
    "        optimizer.zero_grad()\n",
    "\n",
    "        # Forward pass to get output/logits\n",
    "        outputs = model(images)\n",
    "         # Calculate Loss: softmax --> cross entropy loss\n",
    "        loss = criterion(outputs, labels)\n",
    "        \n",
    "        # Getting gradients w.r.t. parameters\n",
    "        loss.backward()\n",
    "\n",
    "        # Updating parameters\n",
    "        optimizer.step()\n",
    "        \n",
    "        batch_number += 1"
   ]
  },
  {
   "cell_type": "markdown",
   "id": "22b29da5",
   "metadata": {},
   "source": [
    "## Testing the logistic regression model"
   ]
  },
  {
   "cell_type": "code",
   "execution_count": null,
   "id": "4bc70b65",
   "metadata": {},
   "outputs": [],
   "source": [
    "predictions = []\n",
    "real_classes = []\n",
    "\n",
    "for images, labels in test_loader:\n",
    "    # Load images to a Torch Variable\n",
    "    images = images.view(-1, 28*28).requires_grad_()\n",
    "\n",
    "    # Forward pass only to get logits/output\n",
    "    outputs = model(images)\n",
    "\n",
    "    # Get predictions from the maximum value\n",
    "    _, predicted = torch.max(outputs.data, 1)\n",
    "    predicted = predicted.tolist()\n",
    "    labels = labels.tolist()\n",
    "    predictions.append(predicted)\n",
    "    real_classes.append(labels)\n",
    "\n",
    "predictions = [item for sublist in predictions for item in sublist]\n",
    "real_classes = [item for sublist in real_classes for item in sublist]"
   ]
  },
  {
   "cell_type": "markdown",
   "id": "51bcf6e0",
   "metadata": {},
   "source": [
    "### Confusion matrix and predictions for Logistic regression"
   ]
  },
  {
   "cell_type": "code",
   "execution_count": null,
   "id": "dabc2559",
   "metadata": {},
   "outputs": [],
   "source": [
    "conf_mat(real_classes,predictions)\n",
    "clf_metrics(real_classes,predictions)"
   ]
  },
  {
   "cell_type": "markdown",
   "id": "1468ae14",
   "metadata": {},
   "source": [
    "### Saving the model"
   ]
  },
  {
   "cell_type": "code",
   "execution_count": null,
   "id": "d2ba474b",
   "metadata": {},
   "outputs": [],
   "source": [
    "torch.save(model.state_dict(), 'models/logistic.pkl')"
   ]
  },
  {
   "cell_type": "markdown",
   "id": "e7049e5a",
   "metadata": {},
   "source": [
    "## LDAM"
   ]
  },
  {
   "cell_type": "code",
   "execution_count": 76,
   "id": "86542ced",
   "metadata": {},
   "outputs": [],
   "source": [
    "from collections import Counter\n",
    "\n",
    "\n",
    "def class_counter(data_loader):\n",
    "    c = Counter()\n",
    "    for _, batch_label in data_loader:\n",
    "        c.update([int(x) for x in batch_label.numpy()])\n",
    "    \n",
    "    clist = [0]*10\n",
    "    \n",
    "    for cls, cnt in c.items():\n",
    "        clist[cls] = cnt\n",
    "        \n",
    "    return clist\n",
    "\n",
    "cls_num_list = class_counter(train_loader)"
   ]
  },
  {
   "cell_type": "markdown",
   "id": "596c567f",
   "metadata": {},
   "source": [
    "### define components"
   ]
  },
  {
   "cell_type": "code",
   "execution_count": 93,
   "id": "63cfd393",
   "metadata": {},
   "outputs": [
    {
     "name": "stdout",
     "output_type": "stream",
     "text": [
      "[1325, 1956, 3091, 3126, 4381, 2237, 3444, 2315, 5916, 4436] cuda\n"
     ]
    }
   ],
   "source": [
    "from resnet import resnet20, resnet32\n",
    "from tqdm import tqdm\n",
    "import torch.nn as nn\n",
    "import torch.nn.functional as F\n",
    "\n",
    "\n",
    "class LDAMLoss(nn.Module):\n",
    "    \n",
    "    def __init__(self, cls_num_list, max_m=0.5, weight=None, s=30):\n",
    "        super(LDAMLoss, self).__init__()\n",
    "        m_list = 1.0 / np.sqrt(np.sqrt(cls_num_list))\n",
    "        m_list = m_list * (max_m / np.max(m_list))\n",
    "        m_list = torch.cuda.FloatTensor(m_list)\n",
    "        #m_list = torch.tensor(m_list, dtype=torch.float)\n",
    "        self.m_list = m_list\n",
    "        assert s > 0\n",
    "        self.s = s\n",
    "        self.weight = weight\n",
    "\n",
    "    def forward(self, x, target):\n",
    "        index = torch.zeros_like(x, dtype=torch.uint8)\n",
    "        index.scatter_(1, target.data.view(-1, 1), 1)\n",
    "        \n",
    "        index_float = index.type(torch.cuda.FloatTensor)\n",
    "        #index_float = torch.tensor(index, dtype=torch.float)\n",
    "        batch_m = torch.matmul(self.m_list[None, :], index_float.transpose(0,1))\n",
    "        batch_m = batch_m.view((-1, 1))\n",
    "        x_m = x - batch_m\n",
    "    \n",
    "        output = torch.where(index, x_m, x)\n",
    "        return F.cross_entropy(self.s*output, target, weight=self.weight)\n",
    "\n",
    "    \n",
    "device = 'cuda' if torch.cuda.is_available() else 'cpu'\n",
    "print(cls_num_list, device)\n",
    "learning_rate = 1e-4\n",
    "model = resnet32()\n",
    "model.to(device)\n",
    "criterion = LDAMLoss(cls_num_list)\n",
    "criterion.to(device)\n",
    "optimizer = torch.optim.SGD(model.parameters(), learning_rate,\n",
    "                                momentum=0.9,\n",
    "                                weight_decay=2e-4)"
   ]
  },
  {
   "cell_type": "markdown",
   "id": "41fb11ac",
   "metadata": {},
   "source": [
    "### training "
   ]
  },
  {
   "cell_type": "code",
   "execution_count": null,
   "id": "6d2c0ae5",
   "metadata": {},
   "outputs": [],
   "source": [
    "from datetime import datetime\n",
    "from sklearn.metrics import accuracy_score\n",
    "import os\n",
    "\n",
    "def log(_str, path='./log.txt'):\n",
    "    print(_str)\n",
    "    with open(path, 'a') as f:\n",
    "        f.write(f\"{_str}\\n\")\n",
    "\n",
    "def validate(model, criterion, valid_loader):\n",
    "    \n",
    "    losses = []\n",
    "    preds = []\n",
    "    y_true = []\n",
    "    \n",
    "    for images, labels in tqdm(valid_loader):\n",
    "        images = images.to(device)\n",
    "        labels = labels.to(device)\n",
    "        \n",
    "        y_true.extend(labels.cpu().numpy())\n",
    "        predictions = model(images)\n",
    "        preds.extend(predictions.cpu().numpy())\n",
    "        \n",
    "        loss = criterion(predictions, labels)\n",
    "        losses.append(loss.detach().cpu().numpy())\n",
    "        \n",
    "    return np.array(preds), np.array(y_true), np.mean(losses)\n",
    "        \n",
    "\n",
    "def save_model(model, name):\n",
    "    log(f\"saving best model: {name}\")\n",
    "    torch.save(model.state_dict(), os.path.join('models', name))\n",
    "\n",
    "def adjust_learning_rate(optimizer, epoch, lr):\n",
    "    \"\"\"Sets the learning rate to the initial LR decayed by 10 every 30 epochs\"\"\"\n",
    "    epoch = epoch + 1\n",
    "    if epoch <= 5:\n",
    "        lr = lr * epoch / 5\n",
    "    elif epoch > 180:\n",
    "        lr = lr * 0.0001\n",
    "    elif epoch > 160:\n",
    "        lr = lr * 0.01\n",
    "    else:\n",
    "        lr = lr\n",
    "    for param_group in optimizer.param_groups:\n",
    "        param_group['lr'] = lr\n",
    "        \n",
    "        \n",
    "def train_ldam(model, criterion, optimizer, train_loader, valid_loader, num_epochs, lr=0.1, verbose=1, model_prefix='balanced-ldam'):\n",
    "    \n",
    "    log(f\"{datetime.now()}: training ldam on {model_prefix}\")\n",
    "    best_loss = np.inf\n",
    "    \n",
    "    for epoch in range(1, num_epochs+1):\n",
    "        \n",
    "        model.train()\n",
    "        epoch_losses = []\n",
    "        adjust_learning_rate(optimizer, epoch, lr)\n",
    "        \n",
    "        for batch_number, (images, labels) in tqdm(enumerate(train_loader)):\n",
    "            images = images.to(device)\n",
    "            labels = labels.to(device)\n",
    "        \n",
    "            optimizer.zero_grad()\n",
    "            outputs = model(images)\n",
    "\n",
    "            loss = criterion(outputs, labels)\n",
    "            loss.backward()\n",
    "            optimizer.step()\n",
    "            \n",
    "            epoch_losses.append(loss.detach().cpu().numpy())\n",
    "\n",
    "        log(f\"epoch {epoch}, training loss: {np.mean(epoch_losses)}\")\n",
    "        \n",
    "        if verbose and epoch % verbose == 0:\n",
    "            #TODO: keep best model\n",
    "            \n",
    "            model.eval()\n",
    "            with torch.no_grad():\n",
    "                valid_preds, valid_labels, valid_loss = validate(model, criterion, valid_loader)\n",
    "                train_preds, train_labels, train_loss = validate(model, criterion, train_loader)\n",
    "                \n",
    "                train_pred_labels = np.argmax(train_preds, axis=1)\n",
    "                valid_pred_labels = np.argmax(valid_preds, axis=1)\n",
    "                \n",
    "                log(f\"training loss: {train_loss}, train accuracy: {accuracy_score(train_labels, train_pred_labels)}\")\n",
    "                log(f\"validation loss: {valid_loss}, validation accuracy: {accuracy_score(valid_labels, valid_pred_labels)}\")\n",
    "            if valid_loss < best_loss:\n",
    "                best_loss = valid_loss\n",
    "                save_model(model, f\"{model_prefix}-{epoch}\")\n",
    "                \n",
    "        \n",
    "train_ldam(model, criterion, optimizer, train_loader, valid_loader, verbose=5, num_epochs=100)\n"
   ]
  },
  {
   "cell_type": "markdown",
   "id": "261e2792",
   "metadata": {},
   "source": [
    "### training on different datasets"
   ]
  },
  {
   "cell_type": "code",
   "execution_count": null,
   "id": "363fd78e",
   "metadata": {},
   "outputs": [
    {
     "name": "stdout",
     "output_type": "stream",
     "text": [
      "[4965, 5652, 4929, 5119, 4856, 4563, 4915, 5162, 4893, 4946]\n",
      "2021-12-01 11:55:07.449357: training ldam on ldam-balanced\n"
     ]
    },
    {
     "name": "stderr",
     "output_type": "stream",
     "text": [
      "391it [00:14, 27.08it/s]\n"
     ]
    },
    {
     "name": "stdout",
     "output_type": "stream",
     "text": [
      "epoch 1, training loss: 65.8728256225586\n"
     ]
    },
    {
     "name": "stderr",
     "output_type": "stream",
     "text": [
      "391it [00:14, 27.39it/s]\n"
     ]
    },
    {
     "name": "stdout",
     "output_type": "stream",
     "text": [
      "epoch 2, training loss: 59.03557205200195\n"
     ]
    },
    {
     "name": "stderr",
     "output_type": "stream",
     "text": [
      "391it [00:14, 27.67it/s]\n"
     ]
    },
    {
     "name": "stdout",
     "output_type": "stream",
     "text": [
      "epoch 3, training loss: 115.76194763183594\n"
     ]
    },
    {
     "name": "stderr",
     "output_type": "stream",
     "text": [
      "391it [00:14, 27.65it/s]\n"
     ]
    },
    {
     "name": "stdout",
     "output_type": "stream",
     "text": [
      "epoch 4, training loss: 139.927490234375\n"
     ]
    },
    {
     "name": "stderr",
     "output_type": "stream",
     "text": [
      "391it [00:14, 27.24it/s]\n"
     ]
    },
    {
     "name": "stdout",
     "output_type": "stream",
     "text": [
      "epoch 5, training loss: 140.29441833496094\n"
     ]
    },
    {
     "name": "stderr",
     "output_type": "stream",
     "text": [
      "100%|██████████| 79/79 [00:01<00:00, 45.55it/s]\n",
      "100%|██████████| 391/391 [00:08<00:00, 45.18it/s]\n"
     ]
    },
    {
     "name": "stdout",
     "output_type": "stream",
     "text": [
      "training loss: 129.3938446044922, train accuracy: 0.09848\n",
      "validation loss: 128.3618621826172, validation accuracy: 0.1028\n",
      "saving best model: ldam-balanced-5\n"
     ]
    },
    {
     "name": "stderr",
     "output_type": "stream",
     "text": [
      "391it [00:14, 27.63it/s]\n"
     ]
    },
    {
     "name": "stdout",
     "output_type": "stream",
     "text": [
      "epoch 6, training loss: 139.60809326171875\n"
     ]
    },
    {
     "name": "stderr",
     "output_type": "stream",
     "text": [
      "391it [00:14, 27.69it/s]\n"
     ]
    },
    {
     "name": "stdout",
     "output_type": "stream",
     "text": [
      "epoch 7, training loss: 94.68280792236328\n"
     ]
    },
    {
     "name": "stderr",
     "output_type": "stream",
     "text": [
      "391it [00:13, 28.20it/s]\n"
     ]
    },
    {
     "name": "stdout",
     "output_type": "stream",
     "text": [
      "epoch 8, training loss: 21.681344985961914\n"
     ]
    },
    {
     "name": "stderr",
     "output_type": "stream",
     "text": [
      "391it [00:13, 28.32it/s]\n"
     ]
    },
    {
     "name": "stdout",
     "output_type": "stream",
     "text": [
      "epoch 9, training loss: 4.327630996704102\n"
     ]
    },
    {
     "name": "stderr",
     "output_type": "stream",
     "text": [
      "391it [00:13, 28.30it/s]\n"
     ]
    },
    {
     "name": "stdout",
     "output_type": "stream",
     "text": [
      "epoch 10, training loss: 2.1319923400878906\n"
     ]
    },
    {
     "name": "stderr",
     "output_type": "stream",
     "text": [
      "100%|██████████| 79/79 [00:01<00:00, 45.86it/s]\n",
      "100%|██████████| 391/391 [00:08<00:00, 44.58it/s]\n"
     ]
    },
    {
     "name": "stdout",
     "output_type": "stream",
     "text": [
      "training loss: 1.82845938205719, train accuracy: 0.95986\n",
      "validation loss: 2.1644480228424072, validation accuracy: 0.9533\n",
      "saving best model: ldam-balanced-10\n"
     ]
    },
    {
     "name": "stderr",
     "output_type": "stream",
     "text": [
      "391it [00:13, 28.19it/s]\n"
     ]
    },
    {
     "name": "stdout",
     "output_type": "stream",
     "text": [
      "epoch 11, training loss: 1.5703125\n"
     ]
    },
    {
     "name": "stderr",
     "output_type": "stream",
     "text": [
      "391it [00:13, 28.26it/s]\n"
     ]
    },
    {
     "name": "stdout",
     "output_type": "stream",
     "text": [
      "epoch 12, training loss: 1.4138295650482178\n"
     ]
    },
    {
     "name": "stderr",
     "output_type": "stream",
     "text": [
      "391it [00:13, 28.16it/s]\n"
     ]
    },
    {
     "name": "stdout",
     "output_type": "stream",
     "text": [
      "epoch 13, training loss: 1.065158486366272\n"
     ]
    },
    {
     "name": "stderr",
     "output_type": "stream",
     "text": [
      "391it [00:14, 27.83it/s]\n"
     ]
    },
    {
     "name": "stdout",
     "output_type": "stream",
     "text": [
      "epoch 14, training loss: 1.1000956296920776\n"
     ]
    },
    {
     "name": "stderr",
     "output_type": "stream",
     "text": [
      "391it [00:13, 28.14it/s]\n"
     ]
    },
    {
     "name": "stdout",
     "output_type": "stream",
     "text": [
      "epoch 15, training loss: 1.0139529705047607\n"
     ]
    },
    {
     "name": "stderr",
     "output_type": "stream",
     "text": [
      "100%|██████████| 79/79 [00:01<00:00, 45.58it/s]\n",
      "100%|██████████| 391/391 [00:08<00:00, 45.21it/s]\n"
     ]
    },
    {
     "name": "stdout",
     "output_type": "stream",
     "text": [
      "training loss: 1.6755845546722412, train accuracy: 0.96156\n",
      "validation loss: 1.8151624202728271, validation accuracy: 0.959\n",
      "saving best model: ldam-balanced-15\n"
     ]
    },
    {
     "name": "stderr",
     "output_type": "stream",
     "text": [
      "391it [00:13, 28.27it/s]\n"
     ]
    },
    {
     "name": "stdout",
     "output_type": "stream",
     "text": [
      "epoch 16, training loss: 1.0546760559082031\n"
     ]
    },
    {
     "name": "stderr",
     "output_type": "stream",
     "text": [
      "282it [00:10, 28.41it/s]"
     ]
    }
   ],
   "source": [
    "datasets = [\n",
    "    (bal_train_loader, bal_valid_loader, 'balanced'),\n",
    "    (imb_train_loader, imb_valid_loader, 'imbalanced'),\n",
    "    (bal_sym_train_loader, bal_sym_valid_loader, 'bal_sym'),\n",
    "    (bal_asym_train_loader, bal_asym_valid_loader, 'bal_asym'),\n",
    "    (imb_sym_train_loader, imb_sym_valid_loader, 'imb_sym'),\n",
    "    (imb_asym_train_loader, imb_asym_valid_loader, 'imb_asym'),\n",
    "]\n",
    "\n",
    "for train_loader, valid_loader, name in datasets:\n",
    "    device = 'cuda' if torch.cuda.is_available() else 'cpu'\n",
    "    cls_num_list = class_counter(train_loader)\n",
    "    log(cls_num_list, device)\n",
    "    learning_rate = 1e-4\n",
    "    model = resnet32()\n",
    "    model.to(device)\n",
    "    criterion = LDAMLoss(cls_num_list)\n",
    "    criterion.to(device)\n",
    "    optimizer = torch.optim.SGD(model.parameters(), learning_rate,\n",
    "                                momentum=0.9,\n",
    "                                weight_decay=2e-4)\n",
    "    train_ldam(model, criterion, optimizer, train_loader, valid_loader, verbose=5, num_epochs=100,\n",
    "               model_prefix=f\"ldam-{name}\")\n",
    "    "
   ]
  },
  {
   "cell_type": "markdown",
   "id": "4d758ad1",
   "metadata": {},
   "source": [
    "### load best model and test"
   ]
  },
  {
   "cell_type": "code",
   "execution_count": 14,
   "id": "c8db5b3f",
   "metadata": {},
   "outputs": [
    {
     "data": {
      "text/plain": [
       "ResNet_s(\n",
       "  (conv1): Conv2d(1, 16, kernel_size=(3, 3), stride=(1, 1), padding=(1, 1), bias=False)\n",
       "  (bn1): BatchNorm2d(16, eps=1e-05, momentum=0.1, affine=True, track_running_stats=True)\n",
       "  (layer1): Sequential(\n",
       "    (0): BasicBlock(\n",
       "      (conv1): Conv2d(16, 16, kernel_size=(3, 3), stride=(1, 1), padding=(1, 1), bias=False)\n",
       "      (bn1): BatchNorm2d(16, eps=1e-05, momentum=0.1, affine=True, track_running_stats=True)\n",
       "      (conv2): Conv2d(16, 16, kernel_size=(3, 3), stride=(1, 1), padding=(1, 1), bias=False)\n",
       "      (bn2): BatchNorm2d(16, eps=1e-05, momentum=0.1, affine=True, track_running_stats=True)\n",
       "      (shortcut): Sequential()\n",
       "    )\n",
       "    (1): BasicBlock(\n",
       "      (conv1): Conv2d(16, 16, kernel_size=(3, 3), stride=(1, 1), padding=(1, 1), bias=False)\n",
       "      (bn1): BatchNorm2d(16, eps=1e-05, momentum=0.1, affine=True, track_running_stats=True)\n",
       "      (conv2): Conv2d(16, 16, kernel_size=(3, 3), stride=(1, 1), padding=(1, 1), bias=False)\n",
       "      (bn2): BatchNorm2d(16, eps=1e-05, momentum=0.1, affine=True, track_running_stats=True)\n",
       "      (shortcut): Sequential()\n",
       "    )\n",
       "    (2): BasicBlock(\n",
       "      (conv1): Conv2d(16, 16, kernel_size=(3, 3), stride=(1, 1), padding=(1, 1), bias=False)\n",
       "      (bn1): BatchNorm2d(16, eps=1e-05, momentum=0.1, affine=True, track_running_stats=True)\n",
       "      (conv2): Conv2d(16, 16, kernel_size=(3, 3), stride=(1, 1), padding=(1, 1), bias=False)\n",
       "      (bn2): BatchNorm2d(16, eps=1e-05, momentum=0.1, affine=True, track_running_stats=True)\n",
       "      (shortcut): Sequential()\n",
       "    )\n",
       "    (3): BasicBlock(\n",
       "      (conv1): Conv2d(16, 16, kernel_size=(3, 3), stride=(1, 1), padding=(1, 1), bias=False)\n",
       "      (bn1): BatchNorm2d(16, eps=1e-05, momentum=0.1, affine=True, track_running_stats=True)\n",
       "      (conv2): Conv2d(16, 16, kernel_size=(3, 3), stride=(1, 1), padding=(1, 1), bias=False)\n",
       "      (bn2): BatchNorm2d(16, eps=1e-05, momentum=0.1, affine=True, track_running_stats=True)\n",
       "      (shortcut): Sequential()\n",
       "    )\n",
       "    (4): BasicBlock(\n",
       "      (conv1): Conv2d(16, 16, kernel_size=(3, 3), stride=(1, 1), padding=(1, 1), bias=False)\n",
       "      (bn1): BatchNorm2d(16, eps=1e-05, momentum=0.1, affine=True, track_running_stats=True)\n",
       "      (conv2): Conv2d(16, 16, kernel_size=(3, 3), stride=(1, 1), padding=(1, 1), bias=False)\n",
       "      (bn2): BatchNorm2d(16, eps=1e-05, momentum=0.1, affine=True, track_running_stats=True)\n",
       "      (shortcut): Sequential()\n",
       "    )\n",
       "  )\n",
       "  (layer2): Sequential(\n",
       "    (0): BasicBlock(\n",
       "      (conv1): Conv2d(16, 32, kernel_size=(3, 3), stride=(2, 2), padding=(1, 1), bias=False)\n",
       "      (bn1): BatchNorm2d(32, eps=1e-05, momentum=0.1, affine=True, track_running_stats=True)\n",
       "      (conv2): Conv2d(32, 32, kernel_size=(3, 3), stride=(1, 1), padding=(1, 1), bias=False)\n",
       "      (bn2): BatchNorm2d(32, eps=1e-05, momentum=0.1, affine=True, track_running_stats=True)\n",
       "      (shortcut): LambdaLayer()\n",
       "    )\n",
       "    (1): BasicBlock(\n",
       "      (conv1): Conv2d(32, 32, kernel_size=(3, 3), stride=(1, 1), padding=(1, 1), bias=False)\n",
       "      (bn1): BatchNorm2d(32, eps=1e-05, momentum=0.1, affine=True, track_running_stats=True)\n",
       "      (conv2): Conv2d(32, 32, kernel_size=(3, 3), stride=(1, 1), padding=(1, 1), bias=False)\n",
       "      (bn2): BatchNorm2d(32, eps=1e-05, momentum=0.1, affine=True, track_running_stats=True)\n",
       "      (shortcut): Sequential()\n",
       "    )\n",
       "    (2): BasicBlock(\n",
       "      (conv1): Conv2d(32, 32, kernel_size=(3, 3), stride=(1, 1), padding=(1, 1), bias=False)\n",
       "      (bn1): BatchNorm2d(32, eps=1e-05, momentum=0.1, affine=True, track_running_stats=True)\n",
       "      (conv2): Conv2d(32, 32, kernel_size=(3, 3), stride=(1, 1), padding=(1, 1), bias=False)\n",
       "      (bn2): BatchNorm2d(32, eps=1e-05, momentum=0.1, affine=True, track_running_stats=True)\n",
       "      (shortcut): Sequential()\n",
       "    )\n",
       "    (3): BasicBlock(\n",
       "      (conv1): Conv2d(32, 32, kernel_size=(3, 3), stride=(1, 1), padding=(1, 1), bias=False)\n",
       "      (bn1): BatchNorm2d(32, eps=1e-05, momentum=0.1, affine=True, track_running_stats=True)\n",
       "      (conv2): Conv2d(32, 32, kernel_size=(3, 3), stride=(1, 1), padding=(1, 1), bias=False)\n",
       "      (bn2): BatchNorm2d(32, eps=1e-05, momentum=0.1, affine=True, track_running_stats=True)\n",
       "      (shortcut): Sequential()\n",
       "    )\n",
       "    (4): BasicBlock(\n",
       "      (conv1): Conv2d(32, 32, kernel_size=(3, 3), stride=(1, 1), padding=(1, 1), bias=False)\n",
       "      (bn1): BatchNorm2d(32, eps=1e-05, momentum=0.1, affine=True, track_running_stats=True)\n",
       "      (conv2): Conv2d(32, 32, kernel_size=(3, 3), stride=(1, 1), padding=(1, 1), bias=False)\n",
       "      (bn2): BatchNorm2d(32, eps=1e-05, momentum=0.1, affine=True, track_running_stats=True)\n",
       "      (shortcut): Sequential()\n",
       "    )\n",
       "  )\n",
       "  (layer3): Sequential(\n",
       "    (0): BasicBlock(\n",
       "      (conv1): Conv2d(32, 64, kernel_size=(3, 3), stride=(2, 2), padding=(1, 1), bias=False)\n",
       "      (bn1): BatchNorm2d(64, eps=1e-05, momentum=0.1, affine=True, track_running_stats=True)\n",
       "      (conv2): Conv2d(64, 64, kernel_size=(3, 3), stride=(1, 1), padding=(1, 1), bias=False)\n",
       "      (bn2): BatchNorm2d(64, eps=1e-05, momentum=0.1, affine=True, track_running_stats=True)\n",
       "      (shortcut): LambdaLayer()\n",
       "    )\n",
       "    (1): BasicBlock(\n",
       "      (conv1): Conv2d(64, 64, kernel_size=(3, 3), stride=(1, 1), padding=(1, 1), bias=False)\n",
       "      (bn1): BatchNorm2d(64, eps=1e-05, momentum=0.1, affine=True, track_running_stats=True)\n",
       "      (conv2): Conv2d(64, 64, kernel_size=(3, 3), stride=(1, 1), padding=(1, 1), bias=False)\n",
       "      (bn2): BatchNorm2d(64, eps=1e-05, momentum=0.1, affine=True, track_running_stats=True)\n",
       "      (shortcut): Sequential()\n",
       "    )\n",
       "    (2): BasicBlock(\n",
       "      (conv1): Conv2d(64, 64, kernel_size=(3, 3), stride=(1, 1), padding=(1, 1), bias=False)\n",
       "      (bn1): BatchNorm2d(64, eps=1e-05, momentum=0.1, affine=True, track_running_stats=True)\n",
       "      (conv2): Conv2d(64, 64, kernel_size=(3, 3), stride=(1, 1), padding=(1, 1), bias=False)\n",
       "      (bn2): BatchNorm2d(64, eps=1e-05, momentum=0.1, affine=True, track_running_stats=True)\n",
       "      (shortcut): Sequential()\n",
       "    )\n",
       "    (3): BasicBlock(\n",
       "      (conv1): Conv2d(64, 64, kernel_size=(3, 3), stride=(1, 1), padding=(1, 1), bias=False)\n",
       "      (bn1): BatchNorm2d(64, eps=1e-05, momentum=0.1, affine=True, track_running_stats=True)\n",
       "      (conv2): Conv2d(64, 64, kernel_size=(3, 3), stride=(1, 1), padding=(1, 1), bias=False)\n",
       "      (bn2): BatchNorm2d(64, eps=1e-05, momentum=0.1, affine=True, track_running_stats=True)\n",
       "      (shortcut): Sequential()\n",
       "    )\n",
       "    (4): BasicBlock(\n",
       "      (conv1): Conv2d(64, 64, kernel_size=(3, 3), stride=(1, 1), padding=(1, 1), bias=False)\n",
       "      (bn1): BatchNorm2d(64, eps=1e-05, momentum=0.1, affine=True, track_running_stats=True)\n",
       "      (conv2): Conv2d(64, 64, kernel_size=(3, 3), stride=(1, 1), padding=(1, 1), bias=False)\n",
       "      (bn2): BatchNorm2d(64, eps=1e-05, momentum=0.1, affine=True, track_running_stats=True)\n",
       "      (shortcut): Sequential()\n",
       "    )\n",
       "  )\n",
       "  (linear): Linear(in_features=64, out_features=10, bias=True)\n",
       ")"
      ]
     },
     "execution_count": 14,
     "metadata": {},
     "output_type": "execute_result"
    }
   ],
   "source": [
    "def load_model(path):\n",
    "    model = resnet32()\n",
    "    model.to(device)\n",
    "    model.load_state_dict(torch.load(path))\n",
    "    \n",
    "    return model\n",
    "\n",
    "\n",
    "model = load_model(os.path.join('models', 'balanced-70'))\n",
    "model"
   ]
  },
  {
   "cell_type": "code",
   "execution_count": 18,
   "id": "b7a35b22",
   "metadata": {},
   "outputs": [
    {
     "name": "stderr",
     "output_type": "stream",
     "text": [
      "100%|██████████| 79/79 [00:01<00:00, 44.57it/s]\n"
     ]
    }
   ],
   "source": [
    "def evaluate(test_loader, model):\n",
    "        \n",
    "    losses = []\n",
    "    preds = []\n",
    "    y_true = []\n",
    "    model.eval()\n",
    "    \n",
    "    with torch.no_grad():\n",
    "        for images, labels in tqdm(valid_loader):\n",
    "            images = images.to(device)\n",
    "            labels = labels.to(device)\n",
    "\n",
    "            y_true.extend(labels.cpu().numpy())\n",
    "            predictions = model(images)\n",
    "            preds.extend(predictions.cpu().numpy())\n",
    "\n",
    "            loss = criterion(predictions, labels)\n",
    "            losses.append(loss.detach().cpu().numpy())\n",
    "        \n",
    "    return np.argmax(np.array(preds), axis=1), np.array(y_true), np.mean(losses)\n",
    "\n",
    "preds, y_true, loss = evaluate(test_loader, model)"
   ]
  },
  {
   "cell_type": "markdown",
   "id": "1458e54c",
   "metadata": {},
   "source": [
    "### model report"
   ]
  },
  {
   "cell_type": "code",
   "execution_count": 90,
   "id": "b195ea92",
   "metadata": {},
   "outputs": [],
   "source": [
    "def report(model_name):\n",
    "    print(\"model:\", model_name)\n",
    "    model = load_model(os.path.join('models', model_name))\n",
    "    preds, y_true, loss = evaluate(test_loader, model)\n",
    "    clf_metrics(y_true, preds)"
   ]
  },
  {
   "cell_type": "code",
   "execution_count": 92,
   "id": "c01b8f96",
   "metadata": {
    "scrolled": false
   },
   "outputs": [
    {
     "name": "stdout",
     "output_type": "stream",
     "text": [
      "model: ldam-balanced-95\n"
     ]
    },
    {
     "ename": "FileNotFoundError",
     "evalue": "[Errno 2] No such file or directory: 'models/ldam-balanced-95'",
     "output_type": "error",
     "traceback": [
      "\u001b[0;31m---------------------------------------------------------------------------\u001b[0m",
      "\u001b[0;31mFileNotFoundError\u001b[0m                         Traceback (most recent call last)",
      "\u001b[0;32m/scratch/8677713/ipykernel_2459/1808891821.py\u001b[0m in \u001b[0;36m<module>\u001b[0;34m\u001b[0m\n\u001b[0;32m----> 1\u001b[0;31m \u001b[0mreport\u001b[0m\u001b[0;34m(\u001b[0m\u001b[0;34m'ldam-balanced-95'\u001b[0m\u001b[0;34m)\u001b[0m\u001b[0;34m\u001b[0m\u001b[0;34m\u001b[0m\u001b[0m\n\u001b[0m\u001b[1;32m      2\u001b[0m \u001b[0;31m# report('ldam-imbalanced-70')\u001b[0m\u001b[0;34m\u001b[0m\u001b[0;34m\u001b[0m\u001b[0;34m\u001b[0m\u001b[0m\n\u001b[1;32m      3\u001b[0m \u001b[0;31m# report('ldam-imb_sym-10')\u001b[0m\u001b[0;34m\u001b[0m\u001b[0;34m\u001b[0m\u001b[0;34m\u001b[0m\u001b[0m\n\u001b[1;32m      4\u001b[0m \u001b[0;31m# report('ldam-imb_asym-5')\u001b[0m\u001b[0;34m\u001b[0m\u001b[0;34m\u001b[0m\u001b[0;34m\u001b[0m\u001b[0m\n\u001b[1;32m      5\u001b[0m \u001b[0;31m# report('ldam-bal_sym-5')\u001b[0m\u001b[0;34m\u001b[0m\u001b[0;34m\u001b[0m\u001b[0;34m\u001b[0m\u001b[0m\n",
      "\u001b[0;32m/scratch/8677713/ipykernel_2459/2508066167.py\u001b[0m in \u001b[0;36mreport\u001b[0;34m(model_name)\u001b[0m\n\u001b[1;32m      1\u001b[0m \u001b[0;32mdef\u001b[0m \u001b[0mreport\u001b[0m\u001b[0;34m(\u001b[0m\u001b[0mmodel_name\u001b[0m\u001b[0;34m)\u001b[0m\u001b[0;34m:\u001b[0m\u001b[0;34m\u001b[0m\u001b[0;34m\u001b[0m\u001b[0m\n\u001b[1;32m      2\u001b[0m     \u001b[0mprint\u001b[0m\u001b[0;34m(\u001b[0m\u001b[0;34m\"model:\"\u001b[0m\u001b[0;34m,\u001b[0m \u001b[0mmodel_name\u001b[0m\u001b[0;34m)\u001b[0m\u001b[0;34m\u001b[0m\u001b[0;34m\u001b[0m\u001b[0m\n\u001b[0;32m----> 3\u001b[0;31m     \u001b[0mmodel\u001b[0m \u001b[0;34m=\u001b[0m \u001b[0mload_model\u001b[0m\u001b[0;34m(\u001b[0m\u001b[0mos\u001b[0m\u001b[0;34m.\u001b[0m\u001b[0mpath\u001b[0m\u001b[0;34m.\u001b[0m\u001b[0mjoin\u001b[0m\u001b[0;34m(\u001b[0m\u001b[0;34m'models'\u001b[0m\u001b[0;34m,\u001b[0m \u001b[0mmodel_name\u001b[0m\u001b[0;34m)\u001b[0m\u001b[0;34m)\u001b[0m\u001b[0;34m\u001b[0m\u001b[0;34m\u001b[0m\u001b[0m\n\u001b[0m\u001b[1;32m      4\u001b[0m     \u001b[0mpreds\u001b[0m\u001b[0;34m,\u001b[0m \u001b[0my_true\u001b[0m\u001b[0;34m,\u001b[0m \u001b[0mloss\u001b[0m \u001b[0;34m=\u001b[0m \u001b[0mevaluate\u001b[0m\u001b[0;34m(\u001b[0m\u001b[0mtest_loader\u001b[0m\u001b[0;34m,\u001b[0m \u001b[0mmodel\u001b[0m\u001b[0;34m)\u001b[0m\u001b[0;34m\u001b[0m\u001b[0;34m\u001b[0m\u001b[0m\n\u001b[1;32m      5\u001b[0m     \u001b[0mclf_metrics\u001b[0m\u001b[0;34m(\u001b[0m\u001b[0my_true\u001b[0m\u001b[0;34m,\u001b[0m \u001b[0mpreds\u001b[0m\u001b[0;34m)\u001b[0m\u001b[0;34m\u001b[0m\u001b[0;34m\u001b[0m\u001b[0m\n",
      "\u001b[0;32m/scratch/8677713/ipykernel_2459/190770705.py\u001b[0m in \u001b[0;36mload_model\u001b[0;34m(path)\u001b[0m\n\u001b[1;32m      2\u001b[0m     \u001b[0mmodel\u001b[0m \u001b[0;34m=\u001b[0m \u001b[0mresnet32\u001b[0m\u001b[0;34m(\u001b[0m\u001b[0;34m)\u001b[0m\u001b[0;34m\u001b[0m\u001b[0;34m\u001b[0m\u001b[0m\n\u001b[1;32m      3\u001b[0m     \u001b[0mmodel\u001b[0m\u001b[0;34m.\u001b[0m\u001b[0mto\u001b[0m\u001b[0;34m(\u001b[0m\u001b[0mdevice\u001b[0m\u001b[0;34m)\u001b[0m\u001b[0;34m\u001b[0m\u001b[0;34m\u001b[0m\u001b[0m\n\u001b[0;32m----> 4\u001b[0;31m     \u001b[0mmodel\u001b[0m\u001b[0;34m.\u001b[0m\u001b[0mload_state_dict\u001b[0m\u001b[0;34m(\u001b[0m\u001b[0mtorch\u001b[0m\u001b[0;34m.\u001b[0m\u001b[0mload\u001b[0m\u001b[0;34m(\u001b[0m\u001b[0mpath\u001b[0m\u001b[0;34m)\u001b[0m\u001b[0;34m)\u001b[0m\u001b[0;34m\u001b[0m\u001b[0;34m\u001b[0m\u001b[0m\n\u001b[0m\u001b[1;32m      5\u001b[0m \u001b[0;34m\u001b[0m\u001b[0m\n\u001b[1;32m      6\u001b[0m     \u001b[0;32mreturn\u001b[0m \u001b[0mmodel\u001b[0m\u001b[0;34m\u001b[0m\u001b[0;34m\u001b[0m\u001b[0m\n",
      "\u001b[0;32m/projects/academic/kjoseph/navid/anaconda3/envs/py38/lib/python3.8/site-packages/torch/serialization.py\u001b[0m in \u001b[0;36mload\u001b[0;34m(f, map_location, pickle_module, **pickle_load_args)\u001b[0m\n\u001b[1;32m    592\u001b[0m         \u001b[0mpickle_load_args\u001b[0m\u001b[0;34m[\u001b[0m\u001b[0;34m'encoding'\u001b[0m\u001b[0;34m]\u001b[0m \u001b[0;34m=\u001b[0m \u001b[0;34m'utf-8'\u001b[0m\u001b[0;34m\u001b[0m\u001b[0;34m\u001b[0m\u001b[0m\n\u001b[1;32m    593\u001b[0m \u001b[0;34m\u001b[0m\u001b[0m\n\u001b[0;32m--> 594\u001b[0;31m     \u001b[0;32mwith\u001b[0m \u001b[0m_open_file_like\u001b[0m\u001b[0;34m(\u001b[0m\u001b[0mf\u001b[0m\u001b[0;34m,\u001b[0m \u001b[0;34m'rb'\u001b[0m\u001b[0;34m)\u001b[0m \u001b[0;32mas\u001b[0m \u001b[0mopened_file\u001b[0m\u001b[0;34m:\u001b[0m\u001b[0;34m\u001b[0m\u001b[0;34m\u001b[0m\u001b[0m\n\u001b[0m\u001b[1;32m    595\u001b[0m         \u001b[0;32mif\u001b[0m \u001b[0m_is_zipfile\u001b[0m\u001b[0;34m(\u001b[0m\u001b[0mopened_file\u001b[0m\u001b[0;34m)\u001b[0m\u001b[0;34m:\u001b[0m\u001b[0;34m\u001b[0m\u001b[0;34m\u001b[0m\u001b[0m\n\u001b[1;32m    596\u001b[0m             \u001b[0;31m# The zipfile reader is going to advance the current file position.\u001b[0m\u001b[0;34m\u001b[0m\u001b[0;34m\u001b[0m\u001b[0;34m\u001b[0m\u001b[0m\n",
      "\u001b[0;32m/projects/academic/kjoseph/navid/anaconda3/envs/py38/lib/python3.8/site-packages/torch/serialization.py\u001b[0m in \u001b[0;36m_open_file_like\u001b[0;34m(name_or_buffer, mode)\u001b[0m\n\u001b[1;32m    228\u001b[0m \u001b[0;32mdef\u001b[0m \u001b[0m_open_file_like\u001b[0m\u001b[0;34m(\u001b[0m\u001b[0mname_or_buffer\u001b[0m\u001b[0;34m,\u001b[0m \u001b[0mmode\u001b[0m\u001b[0;34m)\u001b[0m\u001b[0;34m:\u001b[0m\u001b[0;34m\u001b[0m\u001b[0;34m\u001b[0m\u001b[0m\n\u001b[1;32m    229\u001b[0m     \u001b[0;32mif\u001b[0m \u001b[0m_is_path\u001b[0m\u001b[0;34m(\u001b[0m\u001b[0mname_or_buffer\u001b[0m\u001b[0;34m)\u001b[0m\u001b[0;34m:\u001b[0m\u001b[0;34m\u001b[0m\u001b[0;34m\u001b[0m\u001b[0m\n\u001b[0;32m--> 230\u001b[0;31m         \u001b[0;32mreturn\u001b[0m \u001b[0m_open_file\u001b[0m\u001b[0;34m(\u001b[0m\u001b[0mname_or_buffer\u001b[0m\u001b[0;34m,\u001b[0m \u001b[0mmode\u001b[0m\u001b[0;34m)\u001b[0m\u001b[0;34m\u001b[0m\u001b[0;34m\u001b[0m\u001b[0m\n\u001b[0m\u001b[1;32m    231\u001b[0m     \u001b[0;32melse\u001b[0m\u001b[0;34m:\u001b[0m\u001b[0;34m\u001b[0m\u001b[0;34m\u001b[0m\u001b[0m\n\u001b[1;32m    232\u001b[0m         \u001b[0;32mif\u001b[0m \u001b[0;34m'w'\u001b[0m \u001b[0;32min\u001b[0m \u001b[0mmode\u001b[0m\u001b[0;34m:\u001b[0m\u001b[0;34m\u001b[0m\u001b[0;34m\u001b[0m\u001b[0m\n",
      "\u001b[0;32m/projects/academic/kjoseph/navid/anaconda3/envs/py38/lib/python3.8/site-packages/torch/serialization.py\u001b[0m in \u001b[0;36m__init__\u001b[0;34m(self, name, mode)\u001b[0m\n\u001b[1;32m    209\u001b[0m \u001b[0;32mclass\u001b[0m \u001b[0m_open_file\u001b[0m\u001b[0;34m(\u001b[0m\u001b[0m_opener\u001b[0m\u001b[0;34m)\u001b[0m\u001b[0;34m:\u001b[0m\u001b[0;34m\u001b[0m\u001b[0;34m\u001b[0m\u001b[0m\n\u001b[1;32m    210\u001b[0m     \u001b[0;32mdef\u001b[0m \u001b[0m__init__\u001b[0m\u001b[0;34m(\u001b[0m\u001b[0mself\u001b[0m\u001b[0;34m,\u001b[0m \u001b[0mname\u001b[0m\u001b[0;34m,\u001b[0m \u001b[0mmode\u001b[0m\u001b[0;34m)\u001b[0m\u001b[0;34m:\u001b[0m\u001b[0;34m\u001b[0m\u001b[0;34m\u001b[0m\u001b[0m\n\u001b[0;32m--> 211\u001b[0;31m         \u001b[0msuper\u001b[0m\u001b[0;34m(\u001b[0m\u001b[0m_open_file\u001b[0m\u001b[0;34m,\u001b[0m \u001b[0mself\u001b[0m\u001b[0;34m)\u001b[0m\u001b[0;34m.\u001b[0m\u001b[0m__init__\u001b[0m\u001b[0;34m(\u001b[0m\u001b[0mopen\u001b[0m\u001b[0;34m(\u001b[0m\u001b[0mname\u001b[0m\u001b[0;34m,\u001b[0m \u001b[0mmode\u001b[0m\u001b[0;34m)\u001b[0m\u001b[0;34m)\u001b[0m\u001b[0;34m\u001b[0m\u001b[0;34m\u001b[0m\u001b[0m\n\u001b[0m\u001b[1;32m    212\u001b[0m \u001b[0;34m\u001b[0m\u001b[0m\n\u001b[1;32m    213\u001b[0m     \u001b[0;32mdef\u001b[0m \u001b[0m__exit__\u001b[0m\u001b[0;34m(\u001b[0m\u001b[0mself\u001b[0m\u001b[0;34m,\u001b[0m \u001b[0;34m*\u001b[0m\u001b[0margs\u001b[0m\u001b[0;34m)\u001b[0m\u001b[0;34m:\u001b[0m\u001b[0;34m\u001b[0m\u001b[0;34m\u001b[0m\u001b[0m\n",
      "\u001b[0;31mFileNotFoundError\u001b[0m: [Errno 2] No such file or directory: 'models/ldam-balanced-95'"
     ]
    }
   ],
   "source": [
    "report('ldam-balanced-95')\n",
    "# report('ldam-imbalanced-70')\n",
    "# report('ldam-imb_sym-10')\n",
    "# report('ldam-imb_asym-5')\n",
    "# report('ldam-bal_sym-5')\n",
    "# report('ldam-bal_asym-5')"
   ]
  },
  {
   "cell_type": "markdown",
   "id": "dacfd425",
   "metadata": {},
   "source": [
    "# SCE"
   ]
  },
  {
   "cell_type": "markdown",
   "id": "a0fbf501",
   "metadata": {},
   "source": [
    "## defining components"
   ]
  },
  {
   "cell_type": "code",
   "execution_count": 30,
   "id": "b745b741",
   "metadata": {},
   "outputs": [],
   "source": [
    "import torch.nn as nn\n",
    "import torch.nn.functional as F\n",
    "\n",
    "\n",
    "class ConvBrunch(nn.Module):\n",
    "    def __init__(self, in_planes, out_planes, kernel_size=3):\n",
    "        super(ConvBrunch, self).__init__()\n",
    "        padding = (kernel_size - 1) // 2\n",
    "        self.out_conv = nn.Sequential(\n",
    "            nn.Conv2d(in_planes, out_planes, kernel_size=kernel_size, padding=padding),\n",
    "            nn.BatchNorm2d(out_planes),\n",
    "            nn.ReLU())\n",
    "\n",
    "    def forward(self, x):\n",
    "        return self.out_conv(x)\n",
    "\n",
    "\n",
    "class SCEModel(nn.Module):\n",
    "    def __init__(self):\n",
    "        super(SCEModel, self).__init__()\n",
    "        self.block1 = nn.Sequential(\n",
    "            ConvBrunch(1, 64, 3),\n",
    "            ConvBrunch(64, 64, 3),\n",
    "            nn.MaxPool2d(kernel_size=2, stride=2))\n",
    "        self.block2 = nn.Sequential(\n",
    "            ConvBrunch(64, 128, 3),\n",
    "            ConvBrunch(128, 128, 3),\n",
    "            nn.MaxPool2d(kernel_size=2, stride=2))\n",
    "        self.block3 = nn.Sequential(\n",
    "            ConvBrunch(128, 196, 3),\n",
    "            ConvBrunch(196, 196, 3),\n",
    "            nn.MaxPool2d(kernel_size=2, stride=2))\n",
    "        # self.global_avg_pool = nn.AdaptiveAvgPool2d((1, 1))\n",
    "        self.fc1 = nn.Sequential(\n",
    "            nn.Linear(1764, 256),\n",
    "            nn.BatchNorm1d(256),\n",
    "            nn.ReLU())\n",
    "        self.fc2 = nn.Linear(256, 10)\n",
    "\n",
    "    def forward(self, x):\n",
    "        x = self.block1(x)\n",
    "        \n",
    "        x = self.block2(x)\n",
    "        x = self.block3(x)\n",
    "        # x = self.global_avg_pool(x)\n",
    "        x = x.view(-1, 1764)\n",
    "        x = self.fc1(x)\n",
    "        x = self.fc2(x)\n",
    "\n",
    "        return x\n"
   ]
  },
  {
   "cell_type": "markdown",
   "id": "04a7d3aa",
   "metadata": {},
   "source": [
    "## defining loss function"
   ]
  },
  {
   "cell_type": "code",
   "execution_count": 32,
   "id": "dbb2ecd0",
   "metadata": {},
   "outputs": [],
   "source": [
    "class SCELoss(torch.nn.Module):\n",
    "    def __init__(self, alpha, beta, num_classes=10):\n",
    "        super(SCELoss, self).__init__()\n",
    "        self.device = 'cuda' if torch.cuda.is_available() else 'cpu'\n",
    "        self.alpha = alpha\n",
    "        self.beta = beta\n",
    "        self.num_classes = num_classes\n",
    "        self.cross_entropy = torch.nn.CrossEntropyLoss()\n",
    "\n",
    "    def forward(self, pred, labels):\n",
    "        # CCE\n",
    "        ce = self.cross_entropy(pred, labels)\n",
    "\n",
    "        # RCE\n",
    "        pred = F.softmax(pred, dim=1)\n",
    "        pred = torch.clamp(pred, min=1e-7, max=1.0)\n",
    "        label_one_hot = torch.nn.functional.one_hot(labels, self.num_classes).float().to(self.device)\n",
    "        label_one_hot = torch.clamp(label_one_hot, min=1e-4, max=1.0)\n",
    "        rce = (-1*torch.sum(pred * torch.log(label_one_hot), dim=1))\n",
    "\n",
    "        # Loss\n",
    "        loss = self.alpha * ce + self.beta * rce.mean()\n",
    "        return loss\n",
    "    \n",
    "device = 'cuda' if torch.cuda.is_available() else 'cpu'\n",
    "learning_rate = 1e-4\n",
    "sce_model = SCEModel()\n",
    "sce_model.to(device)\n",
    "sce_criterion = SCELoss(alpha=0.1, beta=1.0)\n",
    "sce_criterion.to(device)\n",
    "sce_optimizer = torch.optim.Adam(model.parameters(), lr=learning_rate)"
   ]
  },
  {
   "cell_type": "markdown",
   "id": "a8bbd409",
   "metadata": {},
   "source": [
    "## training "
   ]
  },
  {
   "cell_type": "code",
   "execution_count": 86,
   "id": "7132b093",
   "metadata": {},
   "outputs": [],
   "source": [
    "from datetime import datetime\n",
    "from sklearn.metrics import accuracy_score\n",
    "import os\n",
    "\n",
    "def log(_str, path='./log.txt'):\n",
    "    print(_str)\n",
    "    with open(path, 'a') as f:\n",
    "        f.write(f\"{_str}\\n\")\n",
    "\n",
    "def validate(model, criterion, valid_loader):\n",
    "    \n",
    "    losses = []\n",
    "    preds = []\n",
    "    y_true = []\n",
    "    \n",
    "    for images, labels in tqdm(valid_loader):\n",
    "        images = images.to(device)\n",
    "        labels = labels.to(device)\n",
    "        \n",
    "        y_true.extend(labels.cpu().numpy())\n",
    "        predictions = model(images)\n",
    "        preds.extend(predictions.cpu().numpy())\n",
    "        \n",
    "        loss = criterion(predictions, labels)\n",
    "        losses.append(loss.detach().cpu().numpy())\n",
    "        \n",
    "    return np.array(preds), np.array(y_true), np.mean(losses)\n",
    "        \n",
    "\n",
    "def save_model(model, name):\n",
    "    log(f\"saving best model: {name}\")\n",
    "    torch.save(model.state_dict(), os.path.join('models', name))\n",
    "\n",
    "        \n",
    "def train_sce(model, criterion, optimizer, train_loader, valid_loader, num_epochs, verbose=1, model_prefix='balanced_sce'):\n",
    "    \n",
    "    log(f\"{datetime.now()}: training sce on {model_prefix}\")\n",
    "    best_loss = np.inf\n",
    "    \n",
    "    for epoch in range(1, num_epochs+1):\n",
    "        \n",
    "        model.train()\n",
    "        epoch_losses = []\n",
    "        \n",
    "        for batch_number, (images, labels) in tqdm(enumerate(train_loader)):\n",
    "            images = images.to(device)\n",
    "            labels = labels.to(device)\n",
    "        \n",
    "            optimizer.zero_grad()\n",
    "            outputs = model(images)\n",
    "\n",
    "            loss = criterion(outputs, labels)\n",
    "            loss.backward()\n",
    "            optimizer.step()\n",
    "            \n",
    "            epoch_losses.append(loss.detach().cpu().numpy())\n",
    "\n",
    "        log(f\"epoch {epoch}, training loss: {np.mean(epoch_losses)}\")\n",
    "        \n",
    "        if verbose and epoch % verbose == 0:\n",
    "            #TODO: keep best model\n",
    "            \n",
    "            model.eval()\n",
    "            with torch.no_grad():\n",
    "                valid_preds, valid_labels, valid_loss = validate(model, criterion, valid_loader)\n",
    "                train_preds, train_labels, train_loss = validate(model, criterion, train_loader)\n",
    "                \n",
    "                train_pred_labels = np.argmax(train_preds, axis=1)\n",
    "                valid_pred_labels = np.argmax(valid_preds, axis=1)\n",
    "                \n",
    "                log(f\"training loss: {train_loss}, train accuracy: {accuracy_score(train_labels, train_pred_labels)}\")\n",
    "                log(f\"validation loss: {valid_loss}, validation accuracy: {accuracy_score(valid_labels, valid_pred_labels)}\")\n",
    "            if valid_loss < best_loss:\n",
    "                best_loss = valid_loss\n",
    "                save_model(model, f\"{model_prefix}-{epoch}\")\n",
    "                \n",
    "        \n",
    "#train_sce(sce_model, sce_criterion, sce_optimizer, train_loader, valid_loader, verbose=5, num_epochs=100)\n"
   ]
  },
  {
   "cell_type": "markdown",
   "id": "7eac8648",
   "metadata": {},
   "source": [
    "## train on all datasets"
   ]
  },
  {
   "cell_type": "code",
   "execution_count": 88,
   "id": "03688861",
   "metadata": {},
   "outputs": [
    {
     "name": "stdout",
     "output_type": "stream",
     "text": [
      "2021-11-30 21:56:55.998591: training sce on sce-balanced\n"
     ]
    },
    {
     "name": "stderr",
     "output_type": "stream",
     "text": [
      "252it [00:01, 132.32it/s]\n"
     ]
    },
    {
     "name": "stdout",
     "output_type": "stream",
     "text": [
      "epoch 1, training loss: 2.6504039764404297\n"
     ]
    },
    {
     "name": "stderr",
     "output_type": "stream",
     "text": [
      "252it [00:01, 135.32it/s]\n"
     ]
    },
    {
     "name": "stdout",
     "output_type": "stream",
     "text": [
      "epoch 2, training loss: 1.7308382987976074\n"
     ]
    },
    {
     "name": "stderr",
     "output_type": "stream",
     "text": [
      "252it [00:01, 136.85it/s]\n"
     ]
    },
    {
     "name": "stdout",
     "output_type": "stream",
     "text": [
      "epoch 3, training loss: 1.6207009553909302\n"
     ]
    },
    {
     "name": "stderr",
     "output_type": "stream",
     "text": [
      "252it [00:01, 136.19it/s]\n"
     ]
    },
    {
     "name": "stdout",
     "output_type": "stream",
     "text": [
      "epoch 4, training loss: 1.5712660551071167\n"
     ]
    },
    {
     "name": "stderr",
     "output_type": "stream",
     "text": [
      "252it [00:01, 136.88it/s]\n"
     ]
    },
    {
     "name": "stdout",
     "output_type": "stream",
     "text": [
      "epoch 5, training loss: 1.543624997138977\n"
     ]
    },
    {
     "name": "stderr",
     "output_type": "stream",
     "text": [
      "100%|██████████| 28/28 [00:00<00:00, 383.73it/s]\n",
      "100%|██████████| 252/252 [00:00<00:00, 385.93it/s]\n"
     ]
    },
    {
     "name": "stdout",
     "output_type": "stream",
     "text": [
      "training loss: 1.5167022943496704, train accuracy: 0.8472398920160115\n",
      "validation loss: 1.4754616022109985, validation accuracy: 0.8541899441340782\n",
      "saving best model: sce-balanced-5\n"
     ]
    },
    {
     "name": "stderr",
     "output_type": "stream",
     "text": [
      "252it [00:01, 136.05it/s]\n"
     ]
    },
    {
     "name": "stdout",
     "output_type": "stream",
     "text": [
      "epoch 6, training loss: 1.5258822441101074\n"
     ]
    },
    {
     "name": "stderr",
     "output_type": "stream",
     "text": [
      "252it [00:01, 136.56it/s]\n"
     ]
    },
    {
     "name": "stdout",
     "output_type": "stream",
     "text": [
      "epoch 7, training loss: 1.5070571899414062\n"
     ]
    },
    {
     "name": "stderr",
     "output_type": "stream",
     "text": [
      "252it [00:01, 136.33it/s]\n"
     ]
    },
    {
     "name": "stdout",
     "output_type": "stream",
     "text": [
      "epoch 8, training loss: 1.4831078052520752\n"
     ]
    },
    {
     "name": "stderr",
     "output_type": "stream",
     "text": [
      "252it [00:01, 137.11it/s]\n"
     ]
    },
    {
     "name": "stdout",
     "output_type": "stream",
     "text": [
      "epoch 9, training loss: 1.469217300415039\n"
     ]
    },
    {
     "name": "stderr",
     "output_type": "stream",
     "text": [
      "252it [00:01, 136.28it/s]\n"
     ]
    },
    {
     "name": "stdout",
     "output_type": "stream",
     "text": [
      "epoch 10, training loss: 1.4442259073257446\n"
     ]
    },
    {
     "name": "stderr",
     "output_type": "stream",
     "text": [
      "100%|██████████| 28/28 [00:00<00:00, 386.01it/s]\n",
      "100%|██████████| 252/252 [00:00<00:00, 386.82it/s]\n"
     ]
    },
    {
     "name": "stdout",
     "output_type": "stream",
     "text": [
      "training loss: 1.3812077045440674, train accuracy: 0.861389518105936\n",
      "validation loss: 1.5441255569458008, validation accuracy: 0.8458100558659218\n"
     ]
    },
    {
     "name": "stderr",
     "output_type": "stream",
     "text": [
      "252it [00:01, 137.06it/s]\n"
     ]
    },
    {
     "name": "stdout",
     "output_type": "stream",
     "text": [
      "epoch 11, training loss: 1.414228081703186\n"
     ]
    },
    {
     "name": "stderr",
     "output_type": "stream",
     "text": [
      "252it [00:01, 135.52it/s]\n"
     ]
    },
    {
     "name": "stdout",
     "output_type": "stream",
     "text": [
      "epoch 12, training loss: 1.3805973529815674\n"
     ]
    },
    {
     "name": "stderr",
     "output_type": "stream",
     "text": [
      "252it [00:01, 136.25it/s]\n"
     ]
    },
    {
     "name": "stdout",
     "output_type": "stream",
     "text": [
      "epoch 13, training loss: 1.3352322578430176\n"
     ]
    },
    {
     "name": "stderr",
     "output_type": "stream",
     "text": [
      "252it [00:01, 136.77it/s]\n"
     ]
    },
    {
     "name": "stdout",
     "output_type": "stream",
     "text": [
      "epoch 14, training loss: 1.2942564487457275\n"
     ]
    },
    {
     "name": "stderr",
     "output_type": "stream",
     "text": [
      "252it [00:01, 137.68it/s]\n"
     ]
    },
    {
     "name": "stdout",
     "output_type": "stream",
     "text": [
      "epoch 15, training loss: 1.243958830833435\n"
     ]
    },
    {
     "name": "stderr",
     "output_type": "stream",
     "text": [
      "100%|██████████| 28/28 [00:00<00:00, 388.62it/s]\n",
      "100%|██████████| 252/252 [00:00<00:00, 389.82it/s]\n"
     ]
    },
    {
     "name": "stdout",
     "output_type": "stream",
     "text": [
      "training loss: 1.1402982473373413, train accuracy: 0.8877338877338877\n",
      "validation loss: 1.702967882156372, validation accuracy: 0.8301675977653631\n"
     ]
    },
    {
     "name": "stderr",
     "output_type": "stream",
     "text": [
      "252it [00:01, 136.77it/s]\n"
     ]
    },
    {
     "name": "stdout",
     "output_type": "stream",
     "text": [
      "epoch 16, training loss: 1.203803300857544\n"
     ]
    },
    {
     "name": "stderr",
     "output_type": "stream",
     "text": [
      "252it [00:01, 137.82it/s]\n"
     ]
    },
    {
     "name": "stdout",
     "output_type": "stream",
     "text": [
      "epoch 17, training loss: 1.1533221006393433\n"
     ]
    },
    {
     "name": "stderr",
     "output_type": "stream",
     "text": [
      "252it [00:01, 142.60it/s]\n"
     ]
    },
    {
     "name": "stdout",
     "output_type": "stream",
     "text": [
      "epoch 18, training loss: 1.113701343536377\n"
     ]
    },
    {
     "name": "stderr",
     "output_type": "stream",
     "text": [
      "252it [00:01, 142.32it/s]\n"
     ]
    },
    {
     "name": "stdout",
     "output_type": "stream",
     "text": [
      "epoch 19, training loss: 1.073592185974121\n"
     ]
    },
    {
     "name": "stderr",
     "output_type": "stream",
     "text": [
      "252it [00:01, 137.18it/s]\n"
     ]
    },
    {
     "name": "stdout",
     "output_type": "stream",
     "text": [
      "epoch 20, training loss: 1.029803991317749\n"
     ]
    },
    {
     "name": "stderr",
     "output_type": "stream",
     "text": [
      "100%|██████████| 28/28 [00:00<00:00, 379.12it/s]\n",
      "100%|██████████| 252/252 [00:00<00:00, 380.46it/s]\n"
     ]
    },
    {
     "name": "stdout",
     "output_type": "stream",
     "text": [
      "training loss: 0.9480012059211731, train accuracy: 0.907593012070624\n",
      "validation loss: 1.7899154424667358, validation accuracy: 0.8201117318435754\n"
     ]
    },
    {
     "name": "stderr",
     "output_type": "stream",
     "text": [
      "252it [00:01, 136.09it/s]\n"
     ]
    },
    {
     "name": "stdout",
     "output_type": "stream",
     "text": [
      "epoch 21, training loss: 0.9696616530418396\n"
     ]
    },
    {
     "name": "stderr",
     "output_type": "stream",
     "text": [
      "252it [00:01, 135.61it/s]\n"
     ]
    },
    {
     "name": "stdout",
     "output_type": "stream",
     "text": [
      "epoch 22, training loss: 0.9549485445022583\n"
     ]
    },
    {
     "name": "stderr",
     "output_type": "stream",
     "text": [
      "252it [00:01, 135.59it/s]\n"
     ]
    },
    {
     "name": "stdout",
     "output_type": "stream",
     "text": [
      "epoch 23, training loss: 0.9195381999015808\n"
     ]
    },
    {
     "name": "stderr",
     "output_type": "stream",
     "text": [
      "252it [00:01, 135.91it/s]\n"
     ]
    },
    {
     "name": "stdout",
     "output_type": "stream",
     "text": [
      "epoch 24, training loss: 0.9017449021339417\n"
     ]
    },
    {
     "name": "stderr",
     "output_type": "stream",
     "text": [
      "252it [00:01, 135.02it/s]\n"
     ]
    },
    {
     "name": "stdout",
     "output_type": "stream",
     "text": [
      "epoch 25, training loss: 0.8651062250137329\n"
     ]
    },
    {
     "name": "stderr",
     "output_type": "stream",
     "text": [
      "100%|██████████| 28/28 [00:00<00:00, 380.54it/s]\n",
      "100%|██████████| 252/252 [00:00<00:00, 383.18it/s]\n"
     ]
    },
    {
     "name": "stdout",
     "output_type": "stream",
     "text": [
      "training loss: 0.7955367565155029, train accuracy: 0.9215874887516678\n",
      "validation loss: 1.7963874340057373, validation accuracy: 0.8206703910614526\n"
     ]
    },
    {
     "name": "stderr",
     "output_type": "stream",
     "text": [
      "252it [00:01, 135.27it/s]\n"
     ]
    },
    {
     "name": "stdout",
     "output_type": "stream",
     "text": [
      "epoch 26, training loss: 0.8533318042755127\n"
     ]
    },
    {
     "name": "stderr",
     "output_type": "stream",
     "text": [
      "252it [00:01, 134.99it/s]\n"
     ]
    },
    {
     "name": "stdout",
     "output_type": "stream",
     "text": [
      "epoch 27, training loss: 0.834099531173706\n"
     ]
    },
    {
     "name": "stderr",
     "output_type": "stream",
     "text": [
      "252it [00:01, 135.58it/s]\n"
     ]
    },
    {
     "name": "stdout",
     "output_type": "stream",
     "text": [
      "epoch 28, training loss: 0.8295735716819763\n"
     ]
    },
    {
     "name": "stderr",
     "output_type": "stream",
     "text": [
      "252it [00:01, 134.90it/s]\n"
     ]
    },
    {
     "name": "stdout",
     "output_type": "stream",
     "text": [
      "epoch 29, training loss: 0.8083573579788208\n"
     ]
    },
    {
     "name": "stderr",
     "output_type": "stream",
     "text": [
      "252it [00:01, 135.58it/s]\n"
     ]
    },
    {
     "name": "stdout",
     "output_type": "stream",
     "text": [
      "epoch 30, training loss: 0.7944598197937012\n"
     ]
    },
    {
     "name": "stderr",
     "output_type": "stream",
     "text": [
      "100%|██████████| 28/28 [00:00<00:00, 382.07it/s]\n",
      "100%|██████████| 252/252 [00:00<00:00, 383.23it/s]\n"
     ]
    },
    {
     "name": "stdout",
     "output_type": "stream",
     "text": [
      "training loss: 0.7441560626029968, train accuracy: 0.9272969869984795\n",
      "validation loss: 1.9699615240097046, validation accuracy: 0.8025139664804469\n"
     ]
    },
    {
     "name": "stderr",
     "output_type": "stream",
     "text": [
      "252it [00:01, 135.49it/s]\n"
     ]
    },
    {
     "name": "stdout",
     "output_type": "stream",
     "text": [
      "epoch 31, training loss: 0.7707741260528564\n"
     ]
    },
    {
     "name": "stderr",
     "output_type": "stream",
     "text": [
      "252it [00:01, 137.46it/s]\n"
     ]
    },
    {
     "name": "stdout",
     "output_type": "stream",
     "text": [
      "epoch 32, training loss: 0.7762047648429871\n"
     ]
    },
    {
     "name": "stderr",
     "output_type": "stream",
     "text": [
      "252it [00:01, 136.68it/s]\n"
     ]
    },
    {
     "name": "stdout",
     "output_type": "stream",
     "text": [
      "epoch 33, training loss: 0.7512274980545044\n"
     ]
    },
    {
     "name": "stderr",
     "output_type": "stream",
     "text": [
      "252it [00:01, 137.32it/s]\n"
     ]
    },
    {
     "name": "stdout",
     "output_type": "stream",
     "text": [
      "epoch 34, training loss: 0.7406295537948608\n"
     ]
    },
    {
     "name": "stderr",
     "output_type": "stream",
     "text": [
      "252it [00:01, 137.11it/s]\n"
     ]
    },
    {
     "name": "stdout",
     "output_type": "stream",
     "text": [
      "epoch 35, training loss: 0.7332488894462585\n"
     ]
    },
    {
     "name": "stderr",
     "output_type": "stream",
     "text": [
      "100%|██████████| 28/28 [00:00<00:00, 386.68it/s]\n",
      "100%|██████████| 252/252 [00:00<00:00, 389.55it/s]\n"
     ]
    },
    {
     "name": "stdout",
     "output_type": "stream",
     "text": [
      "training loss: 0.7224028706550598, train accuracy: 0.9291898097868247\n",
      "validation loss: 1.919547200202942, validation accuracy: 0.8089385474860336\n"
     ]
    },
    {
     "name": "stderr",
     "output_type": "stream",
     "text": [
      "252it [00:01, 135.51it/s]\n"
     ]
    },
    {
     "name": "stdout",
     "output_type": "stream",
     "text": [
      "epoch 36, training loss: 0.7299472689628601\n"
     ]
    },
    {
     "name": "stderr",
     "output_type": "stream",
     "text": [
      "252it [00:01, 135.30it/s]\n"
     ]
    },
    {
     "name": "stdout",
     "output_type": "stream",
     "text": [
      "epoch 37, training loss: 0.7371657490730286\n"
     ]
    },
    {
     "name": "stderr",
     "output_type": "stream",
     "text": [
      "252it [00:01, 135.21it/s]\n"
     ]
    },
    {
     "name": "stdout",
     "output_type": "stream",
     "text": [
      "epoch 38, training loss: 0.7227480411529541\n"
     ]
    },
    {
     "name": "stderr",
     "output_type": "stream",
     "text": [
      "252it [00:01, 135.94it/s]\n"
     ]
    },
    {
     "name": "stdout",
     "output_type": "stream",
     "text": [
      "epoch 39, training loss: 0.7161478996276855\n"
     ]
    },
    {
     "name": "stderr",
     "output_type": "stream",
     "text": [
      "252it [00:01, 135.06it/s]\n"
     ]
    },
    {
     "name": "stdout",
     "output_type": "stream",
     "text": [
      "epoch 40, training loss: 0.7055249214172363\n"
     ]
    },
    {
     "name": "stderr",
     "output_type": "stream",
     "text": [
      "100%|██████████| 28/28 [00:00<00:00, 382.63it/s]\n",
      "100%|██████████| 252/252 [00:00<00:00, 384.62it/s]\n"
     ]
    },
    {
     "name": "stdout",
     "output_type": "stream",
     "text": [
      "training loss: 0.664656400680542, train accuracy: 0.9344959195705465\n",
      "validation loss: 1.8874294757843018, validation accuracy: 0.8114525139664804\n"
     ]
    },
    {
     "name": "stderr",
     "output_type": "stream",
     "text": [
      "252it [00:01, 135.93it/s]\n"
     ]
    },
    {
     "name": "stdout",
     "output_type": "stream",
     "text": [
      "epoch 41, training loss: 0.6972812414169312\n"
     ]
    },
    {
     "name": "stderr",
     "output_type": "stream",
     "text": [
      "252it [00:01, 135.19it/s]\n"
     ]
    },
    {
     "name": "stdout",
     "output_type": "stream",
     "text": [
      "epoch 42, training loss: 0.6897284388542175\n"
     ]
    },
    {
     "name": "stderr",
     "output_type": "stream",
     "text": [
      "252it [00:01, 135.90it/s]\n"
     ]
    },
    {
     "name": "stdout",
     "output_type": "stream",
     "text": [
      "epoch 43, training loss: 0.6948606967926025\n"
     ]
    },
    {
     "name": "stderr",
     "output_type": "stream",
     "text": [
      "252it [00:01, 135.23it/s]\n"
     ]
    },
    {
     "name": "stdout",
     "output_type": "stream",
     "text": [
      "epoch 44, training loss: 0.6870933175086975\n"
     ]
    },
    {
     "name": "stderr",
     "output_type": "stream",
     "text": [
      "252it [00:01, 135.97it/s]\n"
     ]
    },
    {
     "name": "stdout",
     "output_type": "stream",
     "text": [
      "epoch 45, training loss: 0.6871210932731628\n"
     ]
    },
    {
     "name": "stderr",
     "output_type": "stream",
     "text": [
      "100%|██████████| 28/28 [00:00<00:00, 383.10it/s]\n",
      "100%|██████████| 252/252 [00:00<00:00, 384.50it/s]\n"
     ]
    },
    {
     "name": "stdout",
     "output_type": "stream",
     "text": [
      "training loss: 0.6558879017829895, train accuracy: 0.9353647562602786\n",
      "validation loss: 1.9059463739395142, validation accuracy: 0.8083798882681564\n"
     ]
    },
    {
     "name": "stderr",
     "output_type": "stream",
     "text": [
      "252it [00:01, 135.20it/s]\n"
     ]
    },
    {
     "name": "stdout",
     "output_type": "stream",
     "text": [
      "epoch 46, training loss: 0.6936360597610474\n"
     ]
    },
    {
     "name": "stderr",
     "output_type": "stream",
     "text": [
      "252it [00:01, 135.99it/s]\n"
     ]
    },
    {
     "name": "stdout",
     "output_type": "stream",
     "text": [
      "epoch 47, training loss: 0.6828854084014893\n"
     ]
    },
    {
     "name": "stderr",
     "output_type": "stream",
     "text": [
      "252it [00:01, 135.09it/s]\n"
     ]
    },
    {
     "name": "stdout",
     "output_type": "stream",
     "text": [
      "epoch 48, training loss: 0.6902734041213989\n"
     ]
    },
    {
     "name": "stderr",
     "output_type": "stream",
     "text": [
      "252it [00:01, 135.66it/s]\n"
     ]
    },
    {
     "name": "stdout",
     "output_type": "stream",
     "text": [
      "epoch 49, training loss: 0.674740731716156\n"
     ]
    },
    {
     "name": "stderr",
     "output_type": "stream",
     "text": [
      "252it [00:01, 135.10it/s]\n"
     ]
    },
    {
     "name": "stdout",
     "output_type": "stream",
     "text": [
      "epoch 50, training loss: 0.6735668778419495\n"
     ]
    },
    {
     "name": "stderr",
     "output_type": "stream",
     "text": [
      "100%|██████████| 28/28 [00:00<00:00, 379.96it/s]\n",
      "100%|██████████| 252/252 [00:00<00:00, 384.32it/s]\n"
     ]
    },
    {
     "name": "stdout",
     "output_type": "stream",
     "text": [
      "training loss: 0.6500571370124817, train accuracy: 0.9359853538958016\n",
      "validation loss: 1.9017305374145508, validation accuracy: 0.8083798882681564\n"
     ]
    },
    {
     "name": "stderr",
     "output_type": "stream",
     "text": [
      "252it [00:01, 135.73it/s]\n"
     ]
    },
    {
     "name": "stdout",
     "output_type": "stream",
     "text": [
      "epoch 51, training loss: 0.6763421297073364\n"
     ]
    },
    {
     "name": "stderr",
     "output_type": "stream",
     "text": [
      "252it [00:01, 134.65it/s]\n"
     ]
    },
    {
     "name": "stdout",
     "output_type": "stream",
     "text": [
      "epoch 52, training loss: 0.6656560301780701\n"
     ]
    },
    {
     "name": "stderr",
     "output_type": "stream",
     "text": [
      "252it [00:01, 134.76it/s]\n"
     ]
    },
    {
     "name": "stdout",
     "output_type": "stream",
     "text": [
      "epoch 53, training loss: 0.6708052754402161\n"
     ]
    },
    {
     "name": "stderr",
     "output_type": "stream",
     "text": [
      "252it [00:01, 134.55it/s]\n"
     ]
    },
    {
     "name": "stdout",
     "output_type": "stream",
     "text": [
      "epoch 54, training loss: 0.658674955368042\n"
     ]
    },
    {
     "name": "stderr",
     "output_type": "stream",
     "text": [
      "252it [00:01, 135.07it/s]\n"
     ]
    },
    {
     "name": "stdout",
     "output_type": "stream",
     "text": [
      "epoch 55, training loss: 0.6689059734344482\n"
     ]
    },
    {
     "name": "stderr",
     "output_type": "stream",
     "text": [
      "100%|██████████| 28/28 [00:00<00:00, 368.83it/s]\n",
      "100%|██████████| 252/252 [00:00<00:00, 374.24it/s]\n"
     ]
    },
    {
     "name": "stdout",
     "output_type": "stream",
     "text": [
      "training loss: 0.6359509229660034, train accuracy: 0.9371334595215193\n",
      "validation loss: 1.8862640857696533, validation accuracy: 0.8117318435754189\n"
     ]
    },
    {
     "name": "stderr",
     "output_type": "stream",
     "text": [
      "252it [00:01, 134.55it/s]\n"
     ]
    },
    {
     "name": "stdout",
     "output_type": "stream",
     "text": [
      "epoch 56, training loss: 0.6609993577003479\n"
     ]
    },
    {
     "name": "stderr",
     "output_type": "stream",
     "text": [
      "252it [00:01, 135.17it/s]\n"
     ]
    },
    {
     "name": "stdout",
     "output_type": "stream",
     "text": [
      "epoch 57, training loss: 0.6540868878364563\n"
     ]
    },
    {
     "name": "stderr",
     "output_type": "stream",
     "text": [
      "252it [00:01, 134.41it/s]\n"
     ]
    },
    {
     "name": "stdout",
     "output_type": "stream",
     "text": [
      "epoch 58, training loss: 0.6512303352355957\n"
     ]
    },
    {
     "name": "stderr",
     "output_type": "stream",
     "text": [
      "252it [00:01, 134.98it/s]\n"
     ]
    },
    {
     "name": "stdout",
     "output_type": "stream",
     "text": [
      "epoch 59, training loss: 0.6561508774757385\n"
     ]
    },
    {
     "name": "stderr",
     "output_type": "stream",
     "text": [
      "252it [00:01, 135.13it/s]\n"
     ]
    },
    {
     "name": "stdout",
     "output_type": "stream",
     "text": [
      "epoch 60, training loss: 0.6609635353088379\n"
     ]
    },
    {
     "name": "stderr",
     "output_type": "stream",
     "text": [
      "100%|██████████| 28/28 [00:00<00:00, 371.31it/s]\n",
      "100%|██████████| 252/252 [00:00<00:00, 369.49it/s]\n"
     ]
    },
    {
     "name": "stdout",
     "output_type": "stream",
     "text": [
      "training loss: 0.623222827911377, train accuracy: 0.9381574456201321\n",
      "validation loss: 1.8833644390106201, validation accuracy: 0.8122905027932961\n"
     ]
    },
    {
     "name": "stderr",
     "output_type": "stream",
     "text": [
      "252it [00:01, 134.91it/s]\n"
     ]
    },
    {
     "name": "stdout",
     "output_type": "stream",
     "text": [
      "epoch 61, training loss: 0.6555545330047607\n"
     ]
    },
    {
     "name": "stderr",
     "output_type": "stream",
     "text": [
      "252it [00:01, 135.22it/s]\n"
     ]
    },
    {
     "name": "stdout",
     "output_type": "stream",
     "text": [
      "epoch 62, training loss: 0.6539958119392395\n"
     ]
    },
    {
     "name": "stderr",
     "output_type": "stream",
     "text": [
      "252it [00:01, 134.58it/s]\n"
     ]
    },
    {
     "name": "stdout",
     "output_type": "stream",
     "text": [
      "epoch 63, training loss: 0.6532998085021973\n"
     ]
    },
    {
     "name": "stderr",
     "output_type": "stream",
     "text": [
      "252it [00:01, 136.12it/s]\n"
     ]
    },
    {
     "name": "stdout",
     "output_type": "stream",
     "text": [
      "epoch 64, training loss: 0.6509063243865967\n"
     ]
    },
    {
     "name": "stderr",
     "output_type": "stream",
     "text": [
      "252it [00:01, 135.57it/s]\n"
     ]
    },
    {
     "name": "stdout",
     "output_type": "stream",
     "text": [
      "epoch 65, training loss: 0.6510745882987976\n"
     ]
    },
    {
     "name": "stderr",
     "output_type": "stream",
     "text": [
      "100%|██████████| 28/28 [00:00<00:00, 376.99it/s]\n",
      "100%|██████████| 252/252 [00:00<00:00, 379.14it/s]\n"
     ]
    },
    {
     "name": "stdout",
     "output_type": "stream",
     "text": [
      "training loss: 0.6292967796325684, train accuracy: 0.9375989077481615\n",
      "validation loss: 1.8616255521774292, validation accuracy: 0.8125698324022347\n"
     ]
    },
    {
     "name": "stderr",
     "output_type": "stream",
     "text": [
      "252it [00:01, 136.21it/s]\n"
     ]
    },
    {
     "name": "stdout",
     "output_type": "stream",
     "text": [
      "epoch 66, training loss: 0.6514735817909241\n"
     ]
    },
    {
     "name": "stderr",
     "output_type": "stream",
     "text": [
      "252it [00:01, 135.67it/s]\n"
     ]
    },
    {
     "name": "stdout",
     "output_type": "stream",
     "text": [
      "epoch 67, training loss: 0.640839695930481\n"
     ]
    },
    {
     "name": "stderr",
     "output_type": "stream",
     "text": [
      "252it [00:01, 136.82it/s]\n"
     ]
    },
    {
     "name": "stdout",
     "output_type": "stream",
     "text": [
      "epoch 68, training loss: 0.6361036896705627\n"
     ]
    },
    {
     "name": "stderr",
     "output_type": "stream",
     "text": [
      "252it [00:01, 135.67it/s]\n"
     ]
    },
    {
     "name": "stdout",
     "output_type": "stream",
     "text": [
      "epoch 69, training loss: 0.6457011103630066\n"
     ]
    },
    {
     "name": "stderr",
     "output_type": "stream",
     "text": [
      "252it [00:01, 135.38it/s]\n"
     ]
    },
    {
     "name": "stdout",
     "output_type": "stream",
     "text": [
      "epoch 70, training loss: 0.6514978408813477\n"
     ]
    },
    {
     "name": "stderr",
     "output_type": "stream",
     "text": [
      "100%|██████████| 28/28 [00:00<00:00, 380.63it/s]\n",
      "100%|██████████| 252/252 [00:00<00:00, 375.31it/s]\n"
     ]
    },
    {
     "name": "stdout",
     "output_type": "stream",
     "text": [
      "training loss: 0.6238427758216858, train accuracy: 0.938343624910789\n",
      "validation loss: 1.797972559928894, validation accuracy: 0.8195530726256983\n"
     ]
    },
    {
     "name": "stderr",
     "output_type": "stream",
     "text": [
      "252it [00:01, 134.47it/s]\n"
     ]
    },
    {
     "name": "stdout",
     "output_type": "stream",
     "text": [
      "epoch 71, training loss: 0.6354640126228333\n"
     ]
    },
    {
     "name": "stderr",
     "output_type": "stream",
     "text": [
      "252it [00:01, 135.25it/s]\n"
     ]
    },
    {
     "name": "stdout",
     "output_type": "stream",
     "text": [
      "epoch 72, training loss: 0.6281846165657043\n"
     ]
    },
    {
     "name": "stderr",
     "output_type": "stream",
     "text": [
      "252it [00:01, 134.54it/s]\n"
     ]
    },
    {
     "name": "stdout",
     "output_type": "stream",
     "text": [
      "epoch 73, training loss: 0.6218724250793457\n"
     ]
    },
    {
     "name": "stderr",
     "output_type": "stream",
     "text": [
      "252it [00:01, 135.17it/s]\n"
     ]
    },
    {
     "name": "stdout",
     "output_type": "stream",
     "text": [
      "epoch 74, training loss: 0.6342693567276001\n"
     ]
    },
    {
     "name": "stderr",
     "output_type": "stream",
     "text": [
      "252it [00:01, 134.56it/s]\n"
     ]
    },
    {
     "name": "stdout",
     "output_type": "stream",
     "text": [
      "epoch 75, training loss: 0.6356469988822937\n"
     ]
    },
    {
     "name": "stderr",
     "output_type": "stream",
     "text": [
      "100%|██████████| 28/28 [00:00<00:00, 368.74it/s]\n",
      "100%|██████████| 252/252 [00:00<00:00, 372.25it/s]\n"
     ]
    },
    {
     "name": "stdout",
     "output_type": "stream",
     "text": [
      "training loss: 0.6118043065071106, train accuracy: 0.9392124616005213\n",
      "validation loss: 1.862611174583435, validation accuracy: 0.8142458100558659\n"
     ]
    },
    {
     "name": "stderr",
     "output_type": "stream",
     "text": [
      "252it [00:01, 134.99it/s]\n"
     ]
    },
    {
     "name": "stdout",
     "output_type": "stream",
     "text": [
      "epoch 76, training loss: 0.6353546977043152\n"
     ]
    },
    {
     "name": "stderr",
     "output_type": "stream",
     "text": [
      "252it [00:01, 134.55it/s]\n"
     ]
    },
    {
     "name": "stdout",
     "output_type": "stream",
     "text": [
      "epoch 77, training loss: 0.635410487651825\n"
     ]
    },
    {
     "name": "stderr",
     "output_type": "stream",
     "text": [
      "252it [00:01, 134.90it/s]\n"
     ]
    },
    {
     "name": "stdout",
     "output_type": "stream",
     "text": [
      "epoch 78, training loss: 0.6413901448249817\n"
     ]
    },
    {
     "name": "stderr",
     "output_type": "stream",
     "text": [
      "252it [00:01, 134.55it/s]\n"
     ]
    },
    {
     "name": "stdout",
     "output_type": "stream",
     "text": [
      "epoch 79, training loss: 0.6376200914382935\n"
     ]
    },
    {
     "name": "stderr",
     "output_type": "stream",
     "text": [
      "252it [00:01, 135.06it/s]\n"
     ]
    },
    {
     "name": "stdout",
     "output_type": "stream",
     "text": [
      "epoch 80, training loss: 0.6318550705909729\n"
     ]
    },
    {
     "name": "stderr",
     "output_type": "stream",
     "text": [
      "100%|██████████| 28/28 [00:00<00:00, 367.65it/s]\n",
      "100%|██████████| 252/252 [00:00<00:00, 370.28it/s]\n"
     ]
    },
    {
     "name": "stdout",
     "output_type": "stream",
     "text": [
      "training loss: 0.6027640700340271, train accuracy: 0.9399571787631489\n",
      "validation loss: 1.9308617115020752, validation accuracy: 0.806145251396648\n"
     ]
    },
    {
     "name": "stderr",
     "output_type": "stream",
     "text": [
      "252it [00:01, 134.07it/s]\n"
     ]
    },
    {
     "name": "stdout",
     "output_type": "stream",
     "text": [
      "epoch 81, training loss: 0.6376049518585205\n"
     ]
    },
    {
     "name": "stderr",
     "output_type": "stream",
     "text": [
      "252it [00:01, 135.64it/s]\n"
     ]
    },
    {
     "name": "stdout",
     "output_type": "stream",
     "text": [
      "epoch 82, training loss: 0.6311627626419067\n"
     ]
    },
    {
     "name": "stderr",
     "output_type": "stream",
     "text": [
      "252it [00:01, 135.38it/s]\n"
     ]
    },
    {
     "name": "stdout",
     "output_type": "stream",
     "text": [
      "epoch 83, training loss: 0.6320233941078186\n"
     ]
    },
    {
     "name": "stderr",
     "output_type": "stream",
     "text": [
      "252it [00:01, 135.91it/s]\n"
     ]
    },
    {
     "name": "stdout",
     "output_type": "stream",
     "text": [
      "epoch 84, training loss: 0.6352030634880066\n"
     ]
    },
    {
     "name": "stderr",
     "output_type": "stream",
     "text": [
      "252it [00:01, 135.55it/s]\n"
     ]
    },
    {
     "name": "stdout",
     "output_type": "stream",
     "text": [
      "epoch 85, training loss: 0.6259584426879883\n"
     ]
    },
    {
     "name": "stderr",
     "output_type": "stream",
     "text": [
      "100%|██████████| 28/28 [00:00<00:00, 368.38it/s]\n",
      "100%|██████████| 252/252 [00:00<00:00, 377.07it/s]\n"
     ]
    },
    {
     "name": "stdout",
     "output_type": "stream",
     "text": [
      "training loss: 0.5985019207000732, train accuracy: 0.9401433580538058\n",
      "validation loss: 1.8946298360824585, validation accuracy: 0.8111731843575419\n"
     ]
    },
    {
     "name": "stderr",
     "output_type": "stream",
     "text": [
      "252it [00:01, 135.81it/s]\n"
     ]
    },
    {
     "name": "stdout",
     "output_type": "stream",
     "text": [
      "epoch 86, training loss: 0.6188141107559204\n"
     ]
    },
    {
     "name": "stderr",
     "output_type": "stream",
     "text": [
      "252it [00:01, 135.19it/s]\n"
     ]
    },
    {
     "name": "stdout",
     "output_type": "stream",
     "text": [
      "epoch 87, training loss: 0.6153451204299927\n"
     ]
    },
    {
     "name": "stderr",
     "output_type": "stream",
     "text": [
      "252it [00:01, 136.60it/s]\n"
     ]
    },
    {
     "name": "stdout",
     "output_type": "stream",
     "text": [
      "epoch 88, training loss: 0.6170049905776978\n"
     ]
    },
    {
     "name": "stderr",
     "output_type": "stream",
     "text": [
      "252it [00:01, 136.84it/s]\n"
     ]
    },
    {
     "name": "stdout",
     "output_type": "stream",
     "text": [
      "epoch 89, training loss: 0.6146631836891174\n"
     ]
    },
    {
     "name": "stderr",
     "output_type": "stream",
     "text": [
      "252it [00:01, 137.56it/s]\n"
     ]
    },
    {
     "name": "stdout",
     "output_type": "stream",
     "text": [
      "epoch 90, training loss: 0.6213675737380981\n"
     ]
    },
    {
     "name": "stderr",
     "output_type": "stream",
     "text": [
      "100%|██████████| 28/28 [00:00<00:00, 386.85it/s]\n",
      "100%|██████████| 252/252 [00:00<00:00, 386.56it/s]\n"
     ]
    },
    {
     "name": "stdout",
     "output_type": "stream",
     "text": [
      "training loss: 0.5955376625061035, train accuracy: 0.9403295373444627\n",
      "validation loss: 1.8746603727340698, validation accuracy: 0.8134078212290503\n"
     ]
    },
    {
     "name": "stderr",
     "output_type": "stream",
     "text": [
      "252it [00:01, 136.29it/s]\n"
     ]
    },
    {
     "name": "stdout",
     "output_type": "stream",
     "text": [
      "epoch 91, training loss: 0.6206927299499512\n"
     ]
    },
    {
     "name": "stderr",
     "output_type": "stream",
     "text": [
      "252it [00:01, 136.79it/s]\n"
     ]
    },
    {
     "name": "stdout",
     "output_type": "stream",
     "text": [
      "epoch 92, training loss: 0.6278239488601685\n"
     ]
    },
    {
     "name": "stderr",
     "output_type": "stream",
     "text": [
      "252it [00:01, 136.78it/s]\n"
     ]
    },
    {
     "name": "stdout",
     "output_type": "stream",
     "text": [
      "epoch 93, training loss: 0.620984673500061\n"
     ]
    },
    {
     "name": "stderr",
     "output_type": "stream",
     "text": [
      "252it [00:01, 136.89it/s]\n"
     ]
    },
    {
     "name": "stdout",
     "output_type": "stream",
     "text": [
      "epoch 94, training loss: 0.6125882863998413\n"
     ]
    },
    {
     "name": "stderr",
     "output_type": "stream",
     "text": [
      "252it [00:01, 136.87it/s]\n"
     ]
    },
    {
     "name": "stdout",
     "output_type": "stream",
     "text": [
      "epoch 95, training loss: 0.6142347455024719\n"
     ]
    },
    {
     "name": "stderr",
     "output_type": "stream",
     "text": [
      "100%|██████████| 28/28 [00:00<00:00, 384.19it/s]\n",
      "100%|██████████| 252/252 [00:00<00:00, 387.13it/s]\n"
     ]
    },
    {
     "name": "stdout",
     "output_type": "stream",
     "text": [
      "training loss: 0.5920438170433044, train accuracy: 0.9405467465168957\n",
      "validation loss: 1.9038513898849487, validation accuracy: 0.8106145251396648\n"
     ]
    },
    {
     "name": "stderr",
     "output_type": "stream",
     "text": [
      "252it [00:01, 136.55it/s]\n"
     ]
    },
    {
     "name": "stdout",
     "output_type": "stream",
     "text": [
      "epoch 96, training loss: 0.6144972443580627\n"
     ]
    },
    {
     "name": "stderr",
     "output_type": "stream",
     "text": [
      "252it [00:01, 136.89it/s]\n"
     ]
    },
    {
     "name": "stdout",
     "output_type": "stream",
     "text": [
      "epoch 97, training loss: 0.6176661252975464\n"
     ]
    },
    {
     "name": "stderr",
     "output_type": "stream",
     "text": [
      "252it [00:01, 136.83it/s]\n"
     ]
    },
    {
     "name": "stdout",
     "output_type": "stream",
     "text": [
      "epoch 98, training loss: 0.6233676671981812\n"
     ]
    },
    {
     "name": "stderr",
     "output_type": "stream",
     "text": [
      "252it [00:01, 136.74it/s]\n"
     ]
    },
    {
     "name": "stdout",
     "output_type": "stream",
     "text": [
      "epoch 99, training loss: 0.6283915638923645\n"
     ]
    },
    {
     "name": "stderr",
     "output_type": "stream",
     "text": [
      "252it [00:01, 136.71it/s]\n"
     ]
    },
    {
     "name": "stdout",
     "output_type": "stream",
     "text": [
      "epoch 100, training loss: 0.617298424243927\n"
     ]
    },
    {
     "name": "stderr",
     "output_type": "stream",
     "text": [
      "100%|██████████| 28/28 [00:00<00:00, 380.64it/s]\n",
      "100%|██████████| 252/252 [00:00<00:00, 382.97it/s]\n"
     ]
    },
    {
     "name": "stdout",
     "output_type": "stream",
     "text": [
      "training loss: 0.5928305387496948, train accuracy: 0.9404846867533435\n",
      "validation loss: 1.8828283548355103, validation accuracy: 0.8128491620111732\n",
      "2021-11-30 22:00:17.220195: training sce on sce-imbalanced\n"
     ]
    },
    {
     "name": "stderr",
     "output_type": "stream",
     "text": [
      "252it [00:01, 136.34it/s]\n"
     ]
    },
    {
     "name": "stdout",
     "output_type": "stream",
     "text": [
      "epoch 1, training loss: 1.363159418106079\n"
     ]
    },
    {
     "name": "stderr",
     "output_type": "stream",
     "text": [
      "252it [00:01, 136.83it/s]\n"
     ]
    },
    {
     "name": "stdout",
     "output_type": "stream",
     "text": [
      "epoch 2, training loss: 0.2330298274755478\n"
     ]
    },
    {
     "name": "stderr",
     "output_type": "stream",
     "text": [
      "252it [00:01, 136.50it/s]\n"
     ]
    },
    {
     "name": "stdout",
     "output_type": "stream",
     "text": [
      "epoch 3, training loss: 0.10481327027082443\n"
     ]
    },
    {
     "name": "stderr",
     "output_type": "stream",
     "text": [
      "252it [00:01, 136.37it/s]\n"
     ]
    },
    {
     "name": "stdout",
     "output_type": "stream",
     "text": [
      "epoch 4, training loss: 0.05538972094655037\n"
     ]
    },
    {
     "name": "stderr",
     "output_type": "stream",
     "text": [
      "252it [00:01, 135.17it/s]\n"
     ]
    },
    {
     "name": "stdout",
     "output_type": "stream",
     "text": [
      "epoch 5, training loss: 0.032889094203710556\n"
     ]
    },
    {
     "name": "stderr",
     "output_type": "stream",
     "text": [
      "100%|██████████| 28/28 [00:00<00:00, 378.69it/s]\n",
      "100%|██████████| 252/252 [00:00<00:00, 381.15it/s]\n"
     ]
    },
    {
     "name": "stdout",
     "output_type": "stream",
     "text": [
      "training loss: 0.01998012699186802, train accuracy: 0.9994104322462531\n",
      "validation loss: 0.05042549967765808, validation accuracy: 0.9974860335195531\n",
      "saving best model: sce-imbalanced-5\n"
     ]
    },
    {
     "name": "stderr",
     "output_type": "stream",
     "text": [
      "252it [00:01, 133.46it/s]\n"
     ]
    },
    {
     "name": "stdout",
     "output_type": "stream",
     "text": [
      "epoch 6, training loss: 0.019434958696365356\n"
     ]
    },
    {
     "name": "stderr",
     "output_type": "stream",
     "text": [
      "252it [00:01, 133.01it/s]\n"
     ]
    },
    {
     "name": "stdout",
     "output_type": "stream",
     "text": [
      "epoch 7, training loss: 0.013116816990077496\n"
     ]
    },
    {
     "name": "stderr",
     "output_type": "stream",
     "text": [
      "252it [00:01, 135.04it/s]\n"
     ]
    },
    {
     "name": "stdout",
     "output_type": "stream",
     "text": [
      "epoch 8, training loss: 0.010573042556643486\n"
     ]
    },
    {
     "name": "stderr",
     "output_type": "stream",
     "text": [
      "252it [00:01, 135.09it/s]\n"
     ]
    },
    {
     "name": "stdout",
     "output_type": "stream",
     "text": [
      "epoch 9, training loss: 0.007080865558236837\n"
     ]
    },
    {
     "name": "stderr",
     "output_type": "stream",
     "text": [
      "252it [00:01, 134.92it/s]\n"
     ]
    },
    {
     "name": "stdout",
     "output_type": "stream",
     "text": [
      "epoch 10, training loss: 0.03835119679570198\n"
     ]
    },
    {
     "name": "stderr",
     "output_type": "stream",
     "text": [
      "100%|██████████| 28/28 [00:00<00:00, 379.11it/s]\n",
      "100%|██████████| 252/252 [00:00<00:00, 382.16it/s]\n"
     ]
    },
    {
     "name": "stdout",
     "output_type": "stream",
     "text": [
      "training loss: 0.06355582922697067, train accuracy: 0.9986036553200732\n",
      "validation loss: 0.1101008802652359, validation accuracy: 0.9941340782122905\n"
     ]
    },
    {
     "name": "stderr",
     "output_type": "stream",
     "text": [
      "252it [00:01, 135.04it/s]\n"
     ]
    },
    {
     "name": "stdout",
     "output_type": "stream",
     "text": [
      "epoch 11, training loss: 0.04036877676844597\n"
     ]
    },
    {
     "name": "stderr",
     "output_type": "stream",
     "text": [
      "252it [00:01, 135.00it/s]\n"
     ]
    },
    {
     "name": "stdout",
     "output_type": "stream",
     "text": [
      "epoch 12, training loss: 0.01816144585609436\n"
     ]
    },
    {
     "name": "stderr",
     "output_type": "stream",
     "text": [
      "252it [00:01, 134.08it/s]\n"
     ]
    },
    {
     "name": "stdout",
     "output_type": "stream",
     "text": [
      "epoch 13, training loss: 0.007288465742021799\n"
     ]
    },
    {
     "name": "stderr",
     "output_type": "stream",
     "text": [
      "252it [00:01, 135.18it/s]\n"
     ]
    },
    {
     "name": "stdout",
     "output_type": "stream",
     "text": [
      "epoch 14, training loss: 0.006309026852250099\n"
     ]
    },
    {
     "name": "stderr",
     "output_type": "stream",
     "text": [
      "252it [00:01, 135.21it/s]\n"
     ]
    },
    {
     "name": "stdout",
     "output_type": "stream",
     "text": [
      "epoch 15, training loss: 0.004889956675469875\n"
     ]
    },
    {
     "name": "stderr",
     "output_type": "stream",
     "text": [
      "100%|██████████| 28/28 [00:00<00:00, 383.38it/s]\n",
      "100%|██████████| 252/252 [00:00<00:00, 382.29it/s]\n"
     ]
    },
    {
     "name": "stdout",
     "output_type": "stream",
     "text": [
      "training loss: 0.003950139973312616, train accuracy: 0.9997827908275669\n",
      "validation loss: 0.02805382013320923, validation accuracy: 0.9977653631284916\n",
      "saving best model: sce-imbalanced-15\n"
     ]
    },
    {
     "name": "stderr",
     "output_type": "stream",
     "text": [
      "252it [00:01, 133.85it/s]\n"
     ]
    },
    {
     "name": "stdout",
     "output_type": "stream",
     "text": [
      "epoch 16, training loss: 0.003118691500276327\n"
     ]
    },
    {
     "name": "stderr",
     "output_type": "stream",
     "text": [
      "252it [00:01, 135.11it/s]\n"
     ]
    },
    {
     "name": "stdout",
     "output_type": "stream",
     "text": [
      "epoch 17, training loss: 0.002374839037656784\n"
     ]
    },
    {
     "name": "stderr",
     "output_type": "stream",
     "text": [
      "252it [00:01, 134.94it/s]\n"
     ]
    },
    {
     "name": "stdout",
     "output_type": "stream",
     "text": [
      "epoch 18, training loss: 0.0020774933509528637\n"
     ]
    },
    {
     "name": "stderr",
     "output_type": "stream",
     "text": [
      "252it [00:01, 133.93it/s]\n"
     ]
    },
    {
     "name": "stdout",
     "output_type": "stream",
     "text": [
      "epoch 19, training loss: 0.024258453398942947\n"
     ]
    },
    {
     "name": "stderr",
     "output_type": "stream",
     "text": [
      "252it [00:01, 136.12it/s]\n"
     ]
    },
    {
     "name": "stdout",
     "output_type": "stream",
     "text": [
      "epoch 20, training loss: 0.028026485815644264\n"
     ]
    },
    {
     "name": "stderr",
     "output_type": "stream",
     "text": [
      "100%|██████████| 28/28 [00:00<00:00, 376.92it/s]\n",
      "100%|██████████| 252/252 [00:00<00:00, 381.67it/s]\n"
     ]
    },
    {
     "name": "stdout",
     "output_type": "stream",
     "text": [
      "training loss: 0.0070305862464010715, train accuracy: 0.9998758804728954\n",
      "validation loss: 0.027448410168290138, validation accuracy: 0.9983240223463687\n",
      "saving best model: sce-imbalanced-20\n"
     ]
    },
    {
     "name": "stderr",
     "output_type": "stream",
     "text": [
      "252it [00:01, 135.22it/s]\n"
     ]
    },
    {
     "name": "stdout",
     "output_type": "stream",
     "text": [
      "epoch 21, training loss: 0.009929471649229527\n"
     ]
    },
    {
     "name": "stderr",
     "output_type": "stream",
     "text": [
      "252it [00:01, 133.17it/s]\n"
     ]
    },
    {
     "name": "stdout",
     "output_type": "stream",
     "text": [
      "epoch 22, training loss: 0.0030304999090731144\n"
     ]
    },
    {
     "name": "stderr",
     "output_type": "stream",
     "text": [
      "252it [00:01, 135.49it/s]\n"
     ]
    },
    {
     "name": "stdout",
     "output_type": "stream",
     "text": [
      "epoch 23, training loss: 0.0018554687267169356\n"
     ]
    },
    {
     "name": "stderr",
     "output_type": "stream",
     "text": [
      "252it [00:01, 135.49it/s]\n"
     ]
    },
    {
     "name": "stdout",
     "output_type": "stream",
     "text": [
      "epoch 24, training loss: 0.001405552844516933\n"
     ]
    },
    {
     "name": "stderr",
     "output_type": "stream",
     "text": [
      "252it [00:01, 135.36it/s]\n"
     ]
    },
    {
     "name": "stdout",
     "output_type": "stream",
     "text": [
      "epoch 25, training loss: 0.0010551390005275607\n"
     ]
    },
    {
     "name": "stderr",
     "output_type": "stream",
     "text": [
      "100%|██████████| 28/28 [00:00<00:00, 372.14it/s]\n",
      "100%|██████████| 252/252 [00:00<00:00, 375.03it/s]\n"
     ]
    },
    {
     "name": "stdout",
     "output_type": "stream",
     "text": [
      "training loss: 0.0012009844649583101, train accuracy: 0.9999069103546715\n",
      "validation loss: 0.019928697496652603, validation accuracy: 0.9980446927374301\n",
      "saving best model: sce-imbalanced-25\n"
     ]
    },
    {
     "name": "stderr",
     "output_type": "stream",
     "text": [
      "252it [00:01, 133.84it/s]\n"
     ]
    },
    {
     "name": "stdout",
     "output_type": "stream",
     "text": [
      "epoch 26, training loss: 0.001318628084845841\n"
     ]
    },
    {
     "name": "stderr",
     "output_type": "stream",
     "text": [
      "252it [00:01, 134.39it/s]\n"
     ]
    },
    {
     "name": "stdout",
     "output_type": "stream",
     "text": [
      "epoch 27, training loss: 0.0009330181055702269\n"
     ]
    },
    {
     "name": "stderr",
     "output_type": "stream",
     "text": [
      "252it [00:01, 134.17it/s]\n"
     ]
    },
    {
     "name": "stdout",
     "output_type": "stream",
     "text": [
      "epoch 28, training loss: 0.012252293527126312\n"
     ]
    },
    {
     "name": "stderr",
     "output_type": "stream",
     "text": [
      "252it [00:01, 133.05it/s]\n"
     ]
    },
    {
     "name": "stdout",
     "output_type": "stream",
     "text": [
      "epoch 29, training loss: 0.026812231168150902\n"
     ]
    },
    {
     "name": "stderr",
     "output_type": "stream",
     "text": [
      "252it [00:01, 134.19it/s]\n"
     ]
    },
    {
     "name": "stdout",
     "output_type": "stream",
     "text": [
      "epoch 30, training loss: 0.013381806202232838\n"
     ]
    },
    {
     "name": "stderr",
     "output_type": "stream",
     "text": [
      "100%|██████████| 28/28 [00:00<00:00, 375.96it/s]\n",
      "100%|██████████| 252/252 [00:00<00:00, 380.29it/s]\n"
     ]
    },
    {
     "name": "stdout",
     "output_type": "stream",
     "text": [
      "training loss: 0.039339158684015274, train accuracy: 0.9971452508765941\n",
      "validation loss: 0.0802096277475357, validation accuracy: 0.9932960893854749\n"
     ]
    },
    {
     "name": "stderr",
     "output_type": "stream",
     "text": [
      "252it [00:01, 134.28it/s]\n"
     ]
    },
    {
     "name": "stdout",
     "output_type": "stream",
     "text": [
      "epoch 31, training loss: 0.005494616460055113\n"
     ]
    },
    {
     "name": "stderr",
     "output_type": "stream",
     "text": [
      "252it [00:01, 133.15it/s]\n"
     ]
    },
    {
     "name": "stdout",
     "output_type": "stream",
     "text": [
      "epoch 32, training loss: 0.0019324144814163446\n"
     ]
    },
    {
     "name": "stderr",
     "output_type": "stream",
     "text": [
      "252it [00:01, 134.13it/s]\n"
     ]
    },
    {
     "name": "stdout",
     "output_type": "stream",
     "text": [
      "epoch 33, training loss: 0.0016266807215288281\n"
     ]
    },
    {
     "name": "stderr",
     "output_type": "stream",
     "text": [
      "252it [00:01, 134.25it/s]\n"
     ]
    },
    {
     "name": "stdout",
     "output_type": "stream",
     "text": [
      "epoch 34, training loss: 0.0009267364512197673\n"
     ]
    },
    {
     "name": "stderr",
     "output_type": "stream",
     "text": [
      "252it [00:01, 133.53it/s]\n"
     ]
    },
    {
     "name": "stdout",
     "output_type": "stream",
     "text": [
      "epoch 35, training loss: 0.0008412898750975728\n"
     ]
    },
    {
     "name": "stderr",
     "output_type": "stream",
     "text": [
      "100%|██████████| 28/28 [00:00<00:00, 371.89it/s]\n",
      "100%|██████████| 252/252 [00:00<00:00, 377.54it/s]\n"
     ]
    },
    {
     "name": "stdout",
     "output_type": "stream",
     "text": [
      "training loss: 0.0007393316482193768, train accuracy: 0.9999379402364477\n",
      "validation loss: 0.025381196290254593, validation accuracy: 0.9977653631284916\n"
     ]
    },
    {
     "name": "stderr",
     "output_type": "stream",
     "text": [
      "252it [00:01, 134.19it/s]\n"
     ]
    },
    {
     "name": "stdout",
     "output_type": "stream",
     "text": [
      "epoch 36, training loss: 0.0008135075913742185\n"
     ]
    },
    {
     "name": "stderr",
     "output_type": "stream",
     "text": [
      "252it [00:01, 134.27it/s]\n"
     ]
    },
    {
     "name": "stdout",
     "output_type": "stream",
     "text": [
      "epoch 37, training loss: 0.0007987981662154198\n"
     ]
    },
    {
     "name": "stderr",
     "output_type": "stream",
     "text": [
      "252it [00:01, 133.91it/s]\n"
     ]
    },
    {
     "name": "stdout",
     "output_type": "stream",
     "text": [
      "epoch 38, training loss: 0.0007673790096305311\n"
     ]
    },
    {
     "name": "stderr",
     "output_type": "stream",
     "text": [
      "252it [00:01, 133.30it/s]\n"
     ]
    },
    {
     "name": "stdout",
     "output_type": "stream",
     "text": [
      "epoch 39, training loss: 0.00045498230610974133\n"
     ]
    },
    {
     "name": "stderr",
     "output_type": "stream",
     "text": [
      "252it [00:01, 134.26it/s]\n"
     ]
    },
    {
     "name": "stdout",
     "output_type": "stream",
     "text": [
      "epoch 40, training loss: 0.00042096347897313535\n"
     ]
    },
    {
     "name": "stderr",
     "output_type": "stream",
     "text": [
      "100%|██████████| 28/28 [00:00<00:00, 380.52it/s]\n",
      "100%|██████████| 252/252 [00:00<00:00, 380.19it/s]\n"
     ]
    },
    {
     "name": "stdout",
     "output_type": "stream",
     "text": [
      "training loss: 0.0003677417116705328, train accuracy: 0.9999689701182238\n",
      "validation loss: 0.024407031014561653, validation accuracy: 0.9977653631284916\n"
     ]
    },
    {
     "name": "stderr",
     "output_type": "stream",
     "text": [
      "252it [00:01, 134.08it/s]\n"
     ]
    },
    {
     "name": "stdout",
     "output_type": "stream",
     "text": [
      "epoch 41, training loss: 0.0004101450031157583\n"
     ]
    },
    {
     "name": "stderr",
     "output_type": "stream",
     "text": [
      "252it [00:01, 133.12it/s]\n"
     ]
    },
    {
     "name": "stdout",
     "output_type": "stream",
     "text": [
      "epoch 42, training loss: 0.0004007974930573255\n"
     ]
    },
    {
     "name": "stderr",
     "output_type": "stream",
     "text": [
      "252it [00:01, 134.30it/s]\n"
     ]
    },
    {
     "name": "stdout",
     "output_type": "stream",
     "text": [
      "epoch 43, training loss: 0.00038284360198304057\n"
     ]
    },
    {
     "name": "stderr",
     "output_type": "stream",
     "text": [
      "252it [00:01, 134.18it/s]\n"
     ]
    },
    {
     "name": "stdout",
     "output_type": "stream",
     "text": [
      "epoch 44, training loss: 0.00037789129419252276\n"
     ]
    },
    {
     "name": "stderr",
     "output_type": "stream",
     "text": [
      "252it [00:01, 133.19it/s]\n"
     ]
    },
    {
     "name": "stdout",
     "output_type": "stream",
     "text": [
      "epoch 45, training loss: 0.0003585273225326091\n"
     ]
    },
    {
     "name": "stderr",
     "output_type": "stream",
     "text": [
      "100%|██████████| 28/28 [00:00<00:00, 376.51it/s]\n",
      "100%|██████████| 252/252 [00:00<00:00, 380.99it/s]\n"
     ]
    },
    {
     "name": "stdout",
     "output_type": "stream",
     "text": [
      "training loss: 0.00014607571938540787, train accuracy: 1.0\n",
      "validation loss: 0.023993417620658875, validation accuracy: 0.9977653631284916\n"
     ]
    },
    {
     "name": "stderr",
     "output_type": "stream",
     "text": [
      "252it [00:01, 134.32it/s]\n"
     ]
    },
    {
     "name": "stdout",
     "output_type": "stream",
     "text": [
      "epoch 46, training loss: 0.005568273831158876\n"
     ]
    },
    {
     "name": "stderr",
     "output_type": "stream",
     "text": [
      "252it [00:01, 134.29it/s]\n"
     ]
    },
    {
     "name": "stdout",
     "output_type": "stream",
     "text": [
      "epoch 47, training loss: 0.05630350857973099\n"
     ]
    },
    {
     "name": "stderr",
     "output_type": "stream",
     "text": [
      "252it [00:01, 135.02it/s]\n"
     ]
    },
    {
     "name": "stdout",
     "output_type": "stream",
     "text": [
      "epoch 48, training loss: 0.011584808118641376\n"
     ]
    },
    {
     "name": "stderr",
     "output_type": "stream",
     "text": [
      "252it [00:01, 142.20it/s]\n"
     ]
    },
    {
     "name": "stdout",
     "output_type": "stream",
     "text": [
      "epoch 49, training loss: 0.004278778564184904\n"
     ]
    },
    {
     "name": "stderr",
     "output_type": "stream",
     "text": [
      "252it [00:01, 142.56it/s]\n"
     ]
    },
    {
     "name": "stdout",
     "output_type": "stream",
     "text": [
      "epoch 50, training loss: 0.002486311597749591\n"
     ]
    },
    {
     "name": "stderr",
     "output_type": "stream",
     "text": [
      "100%|██████████| 28/28 [00:00<00:00, 385.15it/s]\n",
      "100%|██████████| 252/252 [00:00<00:00, 389.15it/s]\n"
     ]
    },
    {
     "name": "stdout",
     "output_type": "stream",
     "text": [
      "training loss: 0.0028192210011184216, train accuracy: 0.9997827908275669\n",
      "validation loss: 0.023437703028321266, validation accuracy: 0.9980446927374301\n"
     ]
    },
    {
     "name": "stderr",
     "output_type": "stream",
     "text": [
      "252it [00:01, 135.04it/s]\n"
     ]
    },
    {
     "name": "stdout",
     "output_type": "stream",
     "text": [
      "epoch 51, training loss: 0.002786970464512706\n"
     ]
    },
    {
     "name": "stderr",
     "output_type": "stream",
     "text": [
      "252it [00:01, 135.22it/s]\n"
     ]
    },
    {
     "name": "stdout",
     "output_type": "stream",
     "text": [
      "epoch 52, training loss: 0.0018529606750234962\n"
     ]
    },
    {
     "name": "stderr",
     "output_type": "stream",
     "text": [
      "252it [00:01, 135.51it/s]\n"
     ]
    },
    {
     "name": "stdout",
     "output_type": "stream",
     "text": [
      "epoch 53, training loss: 0.0008767663384787738\n"
     ]
    },
    {
     "name": "stderr",
     "output_type": "stream",
     "text": [
      "252it [00:01, 135.45it/s]\n"
     ]
    },
    {
     "name": "stdout",
     "output_type": "stream",
     "text": [
      "epoch 54, training loss: 0.0007654241635464132\n"
     ]
    },
    {
     "name": "stderr",
     "output_type": "stream",
     "text": [
      "252it [00:01, 133.90it/s]\n"
     ]
    },
    {
     "name": "stdout",
     "output_type": "stream",
     "text": [
      "epoch 55, training loss: 0.0007330329972319305\n"
     ]
    },
    {
     "name": "stderr",
     "output_type": "stream",
     "text": [
      "100%|██████████| 28/28 [00:00<00:00, 381.62it/s]\n",
      "100%|██████████| 252/252 [00:00<00:00, 384.92it/s]\n"
     ]
    },
    {
     "name": "stdout",
     "output_type": "stream",
     "text": [
      "training loss: 0.0005776071920990944, train accuracy: 0.9999379402364477\n",
      "validation loss: 0.019345268607139587, validation accuracy: 0.9983240223463687\n",
      "saving best model: sce-imbalanced-55\n"
     ]
    },
    {
     "name": "stderr",
     "output_type": "stream",
     "text": [
      "252it [00:01, 136.04it/s]\n"
     ]
    },
    {
     "name": "stdout",
     "output_type": "stream",
     "text": [
      "epoch 56, training loss: 0.0007356659043580294\n"
     ]
    },
    {
     "name": "stderr",
     "output_type": "stream",
     "text": [
      "252it [00:01, 136.20it/s]\n"
     ]
    },
    {
     "name": "stdout",
     "output_type": "stream",
     "text": [
      "epoch 57, training loss: 0.00042258950998075306\n"
     ]
    },
    {
     "name": "stderr",
     "output_type": "stream",
     "text": [
      "252it [00:01, 136.42it/s]\n"
     ]
    },
    {
     "name": "stdout",
     "output_type": "stream",
     "text": [
      "epoch 58, training loss: 0.0003854271781165153\n"
     ]
    },
    {
     "name": "stderr",
     "output_type": "stream",
     "text": [
      "252it [00:01, 135.71it/s]\n"
     ]
    },
    {
     "name": "stdout",
     "output_type": "stream",
     "text": [
      "epoch 59, training loss: 0.0003992368874605745\n"
     ]
    },
    {
     "name": "stderr",
     "output_type": "stream",
     "text": [
      "252it [00:01, 136.33it/s]\n"
     ]
    },
    {
     "name": "stdout",
     "output_type": "stream",
     "text": [
      "epoch 60, training loss: 0.016712499782443047\n"
     ]
    },
    {
     "name": "stderr",
     "output_type": "stream",
     "text": [
      "100%|██████████| 28/28 [00:00<00:00, 379.85it/s]\n",
      "100%|██████████| 252/252 [00:00<00:00, 383.64it/s]\n"
     ]
    },
    {
     "name": "stdout",
     "output_type": "stream",
     "text": [
      "training loss: 0.01717210002243519, train accuracy: 0.9989449840196108\n",
      "validation loss: 0.04908580332994461, validation accuracy: 0.9955307262569832\n"
     ]
    },
    {
     "name": "stderr",
     "output_type": "stream",
     "text": [
      "252it [00:01, 137.15it/s]\n"
     ]
    },
    {
     "name": "stdout",
     "output_type": "stream",
     "text": [
      "epoch 61, training loss: 0.013072315603494644\n"
     ]
    },
    {
     "name": "stderr",
     "output_type": "stream",
     "text": [
      "252it [00:01, 137.40it/s]\n"
     ]
    },
    {
     "name": "stdout",
     "output_type": "stream",
     "text": [
      "epoch 62, training loss: 0.007944990880787373\n"
     ]
    },
    {
     "name": "stderr",
     "output_type": "stream",
     "text": [
      "252it [00:01, 137.59it/s]\n"
     ]
    },
    {
     "name": "stdout",
     "output_type": "stream",
     "text": [
      "epoch 63, training loss: 0.002822806593030691\n"
     ]
    },
    {
     "name": "stderr",
     "output_type": "stream",
     "text": [
      "252it [00:01, 135.48it/s]\n"
     ]
    },
    {
     "name": "stdout",
     "output_type": "stream",
     "text": [
      "epoch 96, training loss: 1.168840299214935e-05\n"
     ]
    },
    {
     "name": "stderr",
     "output_type": "stream",
     "text": [
      "252it [00:01, 134.49it/s]\n"
     ]
    },
    {
     "name": "stdout",
     "output_type": "stream",
     "text": [
      "epoch 97, training loss: 1.1471011930552777e-05\n"
     ]
    },
    {
     "name": "stderr",
     "output_type": "stream",
     "text": [
      "252it [00:01, 134.04it/s]\n"
     ]
    },
    {
     "name": "stdout",
     "output_type": "stream",
     "text": [
      "epoch 98, training loss: 1.0956100595649332e-05\n"
     ]
    },
    {
     "name": "stderr",
     "output_type": "stream",
     "text": [
      "252it [00:01, 134.64it/s]\n"
     ]
    },
    {
     "name": "stdout",
     "output_type": "stream",
     "text": [
      "epoch 99, training loss: 1.0790443411679007e-05\n"
     ]
    },
    {
     "name": "stderr",
     "output_type": "stream",
     "text": [
      "252it [00:01, 134.09it/s]\n"
     ]
    },
    {
     "name": "stdout",
     "output_type": "stream",
     "text": [
      "epoch 100, training loss: 1.0618417945806868e-05\n"
     ]
    },
    {
     "name": "stderr",
     "output_type": "stream",
     "text": [
      "100%|██████████| 28/28 [00:00<00:00, 375.49it/s]\n",
      "100%|██████████| 252/252 [00:00<00:00, 379.17it/s]\n"
     ]
    },
    {
     "name": "stdout",
     "output_type": "stream",
     "text": [
      "training loss: 8.83064330992056e-06, train accuracy: 1.0\n",
      "validation loss: 0.01973225735127926, validation accuracy: 0.9980446927374301\n",
      "2021-11-30 22:03:38.769941: training sce on sce-bal_sym\n"
     ]
    },
    {
     "name": "stderr",
     "output_type": "stream",
     "text": [
      "352it [00:02, 134.42it/s]\n"
     ]
    },
    {
     "name": "stdout",
     "output_type": "stream",
     "text": [
      "epoch 1, training loss: 3.4794068336486816\n"
     ]
    },
    {
     "name": "stderr",
     "output_type": "stream",
     "text": [
      "352it [00:02, 134.78it/s]\n"
     ]
    },
    {
     "name": "stdout",
     "output_type": "stream",
     "text": [
      "epoch 2, training loss: 2.8564224243164062\n"
     ]
    },
    {
     "name": "stderr",
     "output_type": "stream",
     "text": [
      "352it [00:02, 135.38it/s]\n"
     ]
    },
    {
     "name": "stdout",
     "output_type": "stream",
     "text": [
      "epoch 3, training loss: 2.799910545349121\n"
     ]
    },
    {
     "name": "stderr",
     "output_type": "stream",
     "text": [
      "352it [00:02, 135.48it/s]\n"
     ]
    },
    {
     "name": "stdout",
     "output_type": "stream",
     "text": [
      "epoch 4, training loss: 2.7727701663970947\n"
     ]
    },
    {
     "name": "stderr",
     "output_type": "stream",
     "text": [
      "352it [00:02, 134.56it/s]\n"
     ]
    },
    {
     "name": "stdout",
     "output_type": "stream",
     "text": [
      "epoch 5, training loss: 2.7574374675750732\n"
     ]
    },
    {
     "name": "stderr",
     "output_type": "stream",
     "text": [
      "100%|██████████| 40/40 [00:00<00:00, 377.45it/s]\n",
      "100%|██████████| 352/352 [00:00<00:00, 378.05it/s]\n"
     ]
    },
    {
     "name": "stdout",
     "output_type": "stream",
     "text": [
      "training loss: 2.734945058822632, train accuracy: 0.7311333333333333\n",
      "validation loss: 2.8051393032073975, validation accuracy: 0.7254\n",
      "saving best model: sce-bal_sym-5\n"
     ]
    },
    {
     "name": "stderr",
     "output_type": "stream",
     "text": [
      "352it [00:02, 134.25it/s]\n"
     ]
    },
    {
     "name": "stdout",
     "output_type": "stream",
     "text": [
      "epoch 6, training loss: 2.7385778427124023\n"
     ]
    },
    {
     "name": "stderr",
     "output_type": "stream",
     "text": [
      "352it [00:02, 141.24it/s]\n"
     ]
    },
    {
     "name": "stdout",
     "output_type": "stream",
     "text": [
      "epoch 7, training loss: 2.727094888687134\n"
     ]
    },
    {
     "name": "stderr",
     "output_type": "stream",
     "text": [
      "352it [00:02, 138.26it/s]\n"
     ]
    },
    {
     "name": "stdout",
     "output_type": "stream",
     "text": [
      "epoch 8, training loss: 2.716001033782959\n"
     ]
    },
    {
     "name": "stderr",
     "output_type": "stream",
     "text": [
      "352it [00:02, 140.81it/s]\n"
     ]
    },
    {
     "name": "stdout",
     "output_type": "stream",
     "text": [
      "epoch 9, training loss: 2.70489501953125\n"
     ]
    },
    {
     "name": "stderr",
     "output_type": "stream",
     "text": [
      "352it [00:02, 142.11it/s]\n"
     ]
    },
    {
     "name": "stdout",
     "output_type": "stream",
     "text": [
      "epoch 10, training loss: 2.7046210765838623\n"
     ]
    },
    {
     "name": "stderr",
     "output_type": "stream",
     "text": [
      "100%|██████████| 40/40 [00:00<00:00, 383.27it/s]\n",
      "100%|██████████| 352/352 [00:00<00:00, 371.55it/s]\n"
     ]
    },
    {
     "name": "stdout",
     "output_type": "stream",
     "text": [
      "training loss: 2.695542812347412, train accuracy: 0.7351777777777778\n",
      "validation loss: 2.8351967334747314, validation accuracy: 0.7232\n"
     ]
    },
    {
     "name": "stderr",
     "output_type": "stream",
     "text": [
      "352it [00:02, 133.58it/s]\n"
     ]
    },
    {
     "name": "stdout",
     "output_type": "stream",
     "text": [
      "epoch 11, training loss: 2.6866753101348877\n"
     ]
    },
    {
     "name": "stderr",
     "output_type": "stream",
     "text": [
      "352it [00:02, 135.59it/s]\n"
     ]
    },
    {
     "name": "stdout",
     "output_type": "stream",
     "text": [
      "epoch 12, training loss: 2.6682066917419434\n"
     ]
    },
    {
     "name": "stderr",
     "output_type": "stream",
     "text": [
      "352it [00:02, 135.58it/s]\n"
     ]
    },
    {
     "name": "stdout",
     "output_type": "stream",
     "text": [
      "epoch 13, training loss: 2.6600875854492188\n"
     ]
    },
    {
     "name": "stderr",
     "output_type": "stream",
     "text": [
      "352it [00:02, 134.18it/s]\n"
     ]
    },
    {
     "name": "stdout",
     "output_type": "stream",
     "text": [
      "epoch 14, training loss: 2.6430482864379883\n"
     ]
    },
    {
     "name": "stderr",
     "output_type": "stream",
     "text": [
      "352it [00:02, 134.71it/s]\n"
     ]
    },
    {
     "name": "stdout",
     "output_type": "stream",
     "text": [
      "epoch 15, training loss: 2.6261484622955322\n"
     ]
    },
    {
     "name": "stderr",
     "output_type": "stream",
     "text": [
      "100%|██████████| 40/40 [00:00<00:00, 372.97it/s]\n",
      "100%|██████████| 352/352 [00:00<00:00, 376.38it/s]\n"
     ]
    },
    {
     "name": "stdout",
     "output_type": "stream",
     "text": [
      "training loss: 2.5916483402252197, train accuracy: 0.7436444444444444\n",
      "validation loss: 2.8890254497528076, validation accuracy: 0.7208\n"
     ]
    },
    {
     "name": "stderr",
     "output_type": "stream",
     "text": [
      "352it [00:02, 135.01it/s]\n"
     ]
    },
    {
     "name": "stdout",
     "output_type": "stream",
     "text": [
      "epoch 16, training loss: 2.6067140102386475\n"
     ]
    },
    {
     "name": "stderr",
     "output_type": "stream",
     "text": [
      "352it [00:02, 135.38it/s]\n"
     ]
    },
    {
     "name": "stdout",
     "output_type": "stream",
     "text": [
      "epoch 17, training loss: 2.57827091217041\n"
     ]
    },
    {
     "name": "stderr",
     "output_type": "stream",
     "text": [
      "352it [00:02, 133.58it/s]\n"
     ]
    },
    {
     "name": "stdout",
     "output_type": "stream",
     "text": [
      "epoch 18, training loss: 2.5469319820404053\n"
     ]
    },
    {
     "name": "stderr",
     "output_type": "stream",
     "text": [
      "352it [00:02, 135.58it/s]\n"
     ]
    },
    {
     "name": "stdout",
     "output_type": "stream",
     "text": [
      "epoch 19, training loss: 2.521820306777954\n"
     ]
    },
    {
     "name": "stderr",
     "output_type": "stream",
     "text": [
      "352it [00:02, 138.47it/s]\n"
     ]
    },
    {
     "name": "stdout",
     "output_type": "stream",
     "text": [
      "epoch 20, training loss: 2.485002040863037\n"
     ]
    },
    {
     "name": "stderr",
     "output_type": "stream",
     "text": [
      "100%|██████████| 40/40 [00:00<00:00, 385.01it/s]\n",
      "100%|██████████| 352/352 [00:00<00:00, 378.93it/s]\n"
     ]
    },
    {
     "name": "stdout",
     "output_type": "stream",
     "text": [
      "training loss: 2.4183967113494873, train accuracy: 0.7609333333333334\n",
      "validation loss: 2.967491865158081, validation accuracy: 0.716\n"
     ]
    },
    {
     "name": "stderr",
     "output_type": "stream",
     "text": [
      "352it [00:02, 140.50it/s]\n"
     ]
    },
    {
     "name": "stdout",
     "output_type": "stream",
     "text": [
      "epoch 21, training loss: 2.4424126148223877\n"
     ]
    },
    {
     "name": "stderr",
     "output_type": "stream",
     "text": [
      "352it [00:02, 141.36it/s]\n"
     ]
    },
    {
     "name": "stdout",
     "output_type": "stream",
     "text": [
      "epoch 22, training loss: 2.3995656967163086\n"
     ]
    },
    {
     "name": "stderr",
     "output_type": "stream",
     "text": [
      "352it [00:02, 142.21it/s]\n"
     ]
    },
    {
     "name": "stdout",
     "output_type": "stream",
     "text": [
      "epoch 23, training loss: 2.354773759841919\n"
     ]
    },
    {
     "name": "stderr",
     "output_type": "stream",
     "text": [
      "352it [00:02, 141.07it/s]\n"
     ]
    },
    {
     "name": "stdout",
     "output_type": "stream",
     "text": [
      "epoch 24, training loss: 2.2940433025360107\n"
     ]
    },
    {
     "name": "stderr",
     "output_type": "stream",
     "text": [
      "352it [00:02, 137.08it/s]\n"
     ]
    },
    {
     "name": "stdout",
     "output_type": "stream",
     "text": [
      "epoch 25, training loss: 2.2455313205718994\n"
     ]
    },
    {
     "name": "stderr",
     "output_type": "stream",
     "text": [
      "100%|██████████| 40/40 [00:00<00:00, 376.46it/s]\n",
      "100%|██████████| 352/352 [00:00<00:00, 378.35it/s]\n"
     ]
    },
    {
     "name": "stdout",
     "output_type": "stream",
     "text": [
      "training loss: 2.1433420181274414, train accuracy: 0.7888222222222222\n",
      "validation loss: 3.136803388595581, validation accuracy: 0.7068\n"
     ]
    },
    {
     "name": "stderr",
     "output_type": "stream",
     "text": [
      "352it [00:02, 133.98it/s]\n"
     ]
    },
    {
     "name": "stdout",
     "output_type": "stream",
     "text": [
      "epoch 26, training loss: 2.1677627563476562\n"
     ]
    },
    {
     "name": "stderr",
     "output_type": "stream",
     "text": [
      "352it [00:02, 135.12it/s]\n"
     ]
    },
    {
     "name": "stdout",
     "output_type": "stream",
     "text": [
      "epoch 27, training loss: 2.100811243057251\n"
     ]
    },
    {
     "name": "stderr",
     "output_type": "stream",
     "text": [
      "352it [00:02, 133.93it/s]\n"
     ]
    },
    {
     "name": "stdout",
     "output_type": "stream",
     "text": [
      "epoch 28, training loss: 2.0322742462158203\n"
     ]
    },
    {
     "name": "stderr",
     "output_type": "stream",
     "text": [
      "352it [00:02, 134.92it/s]\n"
     ]
    },
    {
     "name": "stdout",
     "output_type": "stream",
     "text": [
      "epoch 29, training loss: 1.971923828125\n"
     ]
    },
    {
     "name": "stderr",
     "output_type": "stream",
     "text": [
      "352it [00:02, 134.84it/s]\n"
     ]
    },
    {
     "name": "stdout",
     "output_type": "stream",
     "text": [
      "epoch 30, training loss: 1.8840720653533936\n"
     ]
    },
    {
     "name": "stderr",
     "output_type": "stream",
     "text": [
      "100%|██████████| 40/40 [00:00<00:00, 379.33it/s]\n",
      "100%|██████████| 352/352 [00:00<00:00, 376.36it/s]\n"
     ]
    },
    {
     "name": "stdout",
     "output_type": "stream",
     "text": [
      "training loss: 1.7678196430206299, train accuracy: 0.8278888888888889\n",
      "validation loss: 3.3773627281188965, validation accuracy: 0.6846\n"
     ]
    },
    {
     "name": "stderr",
     "output_type": "stream",
     "text": [
      "352it [00:02, 135.31it/s]\n"
     ]
    },
    {
     "name": "stdout",
     "output_type": "stream",
     "text": [
      "epoch 31, training loss: 1.8139710426330566\n"
     ]
    },
    {
     "name": "stderr",
     "output_type": "stream",
     "text": [
      "352it [00:02, 134.55it/s]\n"
     ]
    },
    {
     "name": "stdout",
     "output_type": "stream",
     "text": [
      "epoch 32, training loss: 1.7468407154083252\n"
     ]
    },
    {
     "name": "stderr",
     "output_type": "stream",
     "text": [
      "352it [00:02, 132.96it/s]\n"
     ]
    },
    {
     "name": "stdout",
     "output_type": "stream",
     "text": [
      "epoch 33, training loss: 1.6933926343917847\n"
     ]
    },
    {
     "name": "stderr",
     "output_type": "stream",
     "text": [
      "352it [00:02, 133.95it/s]\n"
     ]
    },
    {
     "name": "stdout",
     "output_type": "stream",
     "text": [
      "epoch 34, training loss: 1.6103817224502563\n"
     ]
    },
    {
     "name": "stderr",
     "output_type": "stream",
     "text": [
      "352it [00:02, 136.14it/s]\n"
     ]
    },
    {
     "name": "stdout",
     "output_type": "stream",
     "text": [
      "epoch 35, training loss: 1.543666958808899\n"
     ]
    },
    {
     "name": "stderr",
     "output_type": "stream",
     "text": [
      "100%|██████████| 40/40 [00:00<00:00, 389.99it/s]\n",
      "100%|██████████| 352/352 [00:00<00:00, 381.10it/s]\n"
     ]
    },
    {
     "name": "stdout",
     "output_type": "stream",
     "text": [
      "training loss: 1.4445958137512207, train accuracy: 0.8605333333333334\n",
      "validation loss: 3.4844462871551514, validation accuracy: 0.6688\n"
     ]
    },
    {
     "name": "stderr",
     "output_type": "stream",
     "text": [
      "352it [00:02, 131.49it/s]\n"
     ]
    },
    {
     "name": "stdout",
     "output_type": "stream",
     "text": [
      "epoch 36, training loss: 1.4942363500595093\n"
     ]
    },
    {
     "name": "stderr",
     "output_type": "stream",
     "text": [
      "352it [00:02, 134.60it/s]\n"
     ]
    },
    {
     "name": "stdout",
     "output_type": "stream",
     "text": [
      "epoch 37, training loss: 1.433982014656067\n"
     ]
    },
    {
     "name": "stderr",
     "output_type": "stream",
     "text": [
      "352it [00:02, 132.81it/s]\n"
     ]
    },
    {
     "name": "stdout",
     "output_type": "stream",
     "text": [
      "epoch 38, training loss: 1.3741405010223389\n"
     ]
    },
    {
     "name": "stderr",
     "output_type": "stream",
     "text": [
      "352it [00:02, 134.76it/s]\n"
     ]
    },
    {
     "name": "stdout",
     "output_type": "stream",
     "text": [
      "epoch 39, training loss: 1.3268694877624512\n"
     ]
    },
    {
     "name": "stderr",
     "output_type": "stream",
     "text": [
      "352it [00:02, 134.38it/s]\n"
     ]
    },
    {
     "name": "stdout",
     "output_type": "stream",
     "text": [
      "epoch 40, training loss: 1.2715705633163452\n"
     ]
    },
    {
     "name": "stderr",
     "output_type": "stream",
     "text": [
      "100%|██████████| 40/40 [00:00<00:00, 380.74it/s]\n",
      "100%|██████████| 352/352 [00:00<00:00, 380.44it/s]\n"
     ]
    },
    {
     "name": "stdout",
     "output_type": "stream",
     "text": [
      "training loss: 1.1705331802368164, train accuracy: 0.8871555555555556\n",
      "validation loss: 3.5833563804626465, validation accuracy: 0.6634\n"
     ]
    },
    {
     "name": "stderr",
     "output_type": "stream",
     "text": [
      "352it [00:02, 134.10it/s]\n"
     ]
    },
    {
     "name": "stdout",
     "output_type": "stream",
     "text": [
      "epoch 41, training loss: 1.2143515348434448\n"
     ]
    },
    {
     "name": "stderr",
     "output_type": "stream",
     "text": [
      "352it [00:02, 135.05it/s]\n"
     ]
    },
    {
     "name": "stdout",
     "output_type": "stream",
     "text": [
      "epoch 42, training loss: 1.1749110221862793\n"
     ]
    },
    {
     "name": "stderr",
     "output_type": "stream",
     "text": [
      "352it [00:02, 132.49it/s]\n"
     ]
    },
    {
     "name": "stdout",
     "output_type": "stream",
     "text": [
      "epoch 43, training loss: 1.1341443061828613\n"
     ]
    },
    {
     "name": "stderr",
     "output_type": "stream",
     "text": [
      "352it [00:02, 136.87it/s]\n"
     ]
    },
    {
     "name": "stdout",
     "output_type": "stream",
     "text": [
      "epoch 44, training loss: 1.0908164978027344\n"
     ]
    },
    {
     "name": "stderr",
     "output_type": "stream",
     "text": [
      "352it [00:02, 137.85it/s]\n"
     ]
    },
    {
     "name": "stdout",
     "output_type": "stream",
     "text": [
      "epoch 45, training loss: 1.0406990051269531\n"
     ]
    },
    {
     "name": "stderr",
     "output_type": "stream",
     "text": [
      "100%|██████████| 40/40 [00:00<00:00, 371.15it/s]\n",
      "100%|██████████| 352/352 [00:00<00:00, 371.92it/s]\n"
     ]
    },
    {
     "name": "stdout",
     "output_type": "stream",
     "text": [
      "training loss: 0.9729442596435547, train accuracy: 0.9079555555555555\n",
      "validation loss: 3.6240310668945312, validation accuracy: 0.6584\n"
     ]
    },
    {
     "name": "stderr",
     "output_type": "stream",
     "text": [
      "352it [00:02, 135.39it/s]\n"
     ]
    },
    {
     "name": "stdout",
     "output_type": "stream",
     "text": [
      "epoch 46, training loss: 1.0063437223434448\n"
     ]
    },
    {
     "name": "stderr",
     "output_type": "stream",
     "text": [
      "352it [00:02, 135.23it/s]\n"
     ]
    },
    {
     "name": "stdout",
     "output_type": "stream",
     "text": [
      "epoch 47, training loss: 0.9621970653533936\n"
     ]
    },
    {
     "name": "stderr",
     "output_type": "stream",
     "text": [
      "352it [00:02, 136.04it/s]\n"
     ]
    },
    {
     "name": "stdout",
     "output_type": "stream",
     "text": [
      "epoch 48, training loss: 0.9387348294258118\n"
     ]
    },
    {
     "name": "stderr",
     "output_type": "stream",
     "text": [
      "352it [00:02, 135.96it/s]\n"
     ]
    },
    {
     "name": "stdout",
     "output_type": "stream",
     "text": [
      "epoch 49, training loss: 0.8860727548599243\n"
     ]
    },
    {
     "name": "stderr",
     "output_type": "stream",
     "text": [
      "352it [00:02, 136.74it/s]\n"
     ]
    },
    {
     "name": "stdout",
     "output_type": "stream",
     "text": [
      "epoch 50, training loss: 0.8449182510375977\n"
     ]
    },
    {
     "name": "stderr",
     "output_type": "stream",
     "text": [
      "100%|██████████| 40/40 [00:00<00:00, 382.40it/s]\n",
      "100%|██████████| 352/352 [00:00<00:00, 392.11it/s]\n"
     ]
    },
    {
     "name": "stdout",
     "output_type": "stream",
     "text": [
      "training loss: 0.8164951801300049, train accuracy: 0.9241333333333334\n",
      "validation loss: 3.8559303283691406, validation accuracy: 0.6308\n"
     ]
    },
    {
     "name": "stderr",
     "output_type": "stream",
     "text": [
      "352it [00:02, 137.47it/s]\n"
     ]
    },
    {
     "name": "stdout",
     "output_type": "stream",
     "text": [
      "epoch 51, training loss: 0.8239737153053284\n"
     ]
    },
    {
     "name": "stderr",
     "output_type": "stream",
     "text": [
      "352it [00:02, 138.40it/s]\n"
     ]
    },
    {
     "name": "stdout",
     "output_type": "stream",
     "text": [
      "epoch 52, training loss: 0.8085874915122986\n"
     ]
    },
    {
     "name": "stderr",
     "output_type": "stream",
     "text": [
      "352it [00:02, 140.19it/s]\n"
     ]
    },
    {
     "name": "stdout",
     "output_type": "stream",
     "text": [
      "epoch 53, training loss: 0.7590163946151733\n"
     ]
    },
    {
     "name": "stderr",
     "output_type": "stream",
     "text": [
      "352it [00:02, 142.56it/s]\n"
     ]
    },
    {
     "name": "stdout",
     "output_type": "stream",
     "text": [
      "epoch 54, training loss: 0.7421169877052307\n"
     ]
    },
    {
     "name": "stderr",
     "output_type": "stream",
     "text": [
      "352it [00:02, 145.15it/s]\n"
     ]
    },
    {
     "name": "stdout",
     "output_type": "stream",
     "text": [
      "epoch 55, training loss: 0.7234850525856018\n"
     ]
    },
    {
     "name": "stderr",
     "output_type": "stream",
     "text": [
      "100%|██████████| 40/40 [00:00<00:00, 399.72it/s]\n",
      "100%|██████████| 352/352 [00:00<00:00, 395.88it/s]\n"
     ]
    },
    {
     "name": "stdout",
     "output_type": "stream",
     "text": [
      "training loss: 0.6495609283447266, train accuracy: 0.9396222222222222\n",
      "validation loss: 3.927963972091675, validation accuracy: 0.6344\n"
     ]
    },
    {
     "name": "stderr",
     "output_type": "stream",
     "text": [
      "352it [00:02, 145.41it/s]\n"
     ]
    },
    {
     "name": "stdout",
     "output_type": "stream",
     "text": [
      "epoch 56, training loss: 0.6866884827613831\n"
     ]
    },
    {
     "name": "stderr",
     "output_type": "stream",
     "text": [
      "352it [00:02, 144.96it/s]\n"
     ]
    },
    {
     "name": "stdout",
     "output_type": "stream",
     "text": [
      "epoch 57, training loss: 0.6500157713890076\n"
     ]
    },
    {
     "name": "stderr",
     "output_type": "stream",
     "text": [
      "352it [00:02, 144.73it/s]\n"
     ]
    },
    {
     "name": "stdout",
     "output_type": "stream",
     "text": [
      "epoch 58, training loss: 0.6210623979568481\n"
     ]
    },
    {
     "name": "stderr",
     "output_type": "stream",
     "text": [
      "352it [00:02, 144.95it/s]\n"
     ]
    },
    {
     "name": "stdout",
     "output_type": "stream",
     "text": [
      "epoch 59, training loss: 0.6096896529197693\n"
     ]
    },
    {
     "name": "stderr",
     "output_type": "stream",
     "text": [
      "352it [00:02, 145.13it/s]\n"
     ]
    },
    {
     "name": "stdout",
     "output_type": "stream",
     "text": [
      "epoch 60, training loss: 0.5990195870399475\n"
     ]
    },
    {
     "name": "stderr",
     "output_type": "stream",
     "text": [
      "100%|██████████| 40/40 [00:00<00:00, 396.67it/s]\n",
      "100%|██████████| 352/352 [00:00<00:00, 394.76it/s]\n"
     ]
    },
    {
     "name": "stdout",
     "output_type": "stream",
     "text": [
      "training loss: 0.5389643311500549, train accuracy: 0.9497777777777778\n",
      "validation loss: 3.818028688430786, validation accuracy: 0.6498\n"
     ]
    },
    {
     "name": "stderr",
     "output_type": "stream",
     "text": [
      "352it [00:02, 144.33it/s]\n"
     ]
    },
    {
     "name": "stdout",
     "output_type": "stream",
     "text": [
      "epoch 61, training loss: 0.5783929228782654\n"
     ]
    },
    {
     "name": "stderr",
     "output_type": "stream",
     "text": [
      "352it [00:02, 143.76it/s]\n"
     ]
    },
    {
     "name": "stdout",
     "output_type": "stream",
     "text": [
      "epoch 62, training loss: 0.5408087372779846\n"
     ]
    },
    {
     "name": "stderr",
     "output_type": "stream",
     "text": [
      "352it [00:02, 144.26it/s]\n"
     ]
    },
    {
     "name": "stdout",
     "output_type": "stream",
     "text": [
      "epoch 63, training loss: 0.5297500491142273\n"
     ]
    },
    {
     "name": "stderr",
     "output_type": "stream",
     "text": [
      "352it [00:02, 143.68it/s]\n"
     ]
    },
    {
     "name": "stdout",
     "output_type": "stream",
     "text": [
      "epoch 64, training loss: 0.5161036849021912\n"
     ]
    },
    {
     "name": "stderr",
     "output_type": "stream",
     "text": [
      "352it [00:02, 143.78it/s]\n"
     ]
    },
    {
     "name": "stdout",
     "output_type": "stream",
     "text": [
      "epoch 65, training loss: 0.5027157068252563\n"
     ]
    },
    {
     "name": "stderr",
     "output_type": "stream",
     "text": [
      "100%|██████████| 40/40 [00:00<00:00, 388.64it/s]\n",
      "100%|██████████| 352/352 [00:00<00:00, 388.06it/s]\n"
     ]
    },
    {
     "name": "stdout",
     "output_type": "stream",
     "text": [
      "training loss: 0.4621295630931854, train accuracy: 0.9574888888888888\n",
      "validation loss: 3.980935573577881, validation accuracy: 0.6268\n"
     ]
    },
    {
     "name": "stderr",
     "output_type": "stream",
     "text": [
      "352it [00:02, 137.57it/s]\n"
     ]
    },
    {
     "name": "stdout",
     "output_type": "stream",
     "text": [
      "epoch 66, training loss: 0.48724600672721863\n"
     ]
    },
    {
     "name": "stderr",
     "output_type": "stream",
     "text": [
      "352it [00:02, 136.38it/s]\n"
     ]
    },
    {
     "name": "stdout",
     "output_type": "stream",
     "text": [
      "epoch 67, training loss: 0.4652528464794159\n"
     ]
    },
    {
     "name": "stderr",
     "output_type": "stream",
     "text": [
      "352it [00:02, 135.49it/s]\n"
     ]
    },
    {
     "name": "stdout",
     "output_type": "stream",
     "text": [
      "epoch 68, training loss: 0.45136040449142456\n"
     ]
    },
    {
     "name": "stderr",
     "output_type": "stream",
     "text": [
      "352it [00:02, 135.67it/s]\n"
     ]
    },
    {
     "name": "stdout",
     "output_type": "stream",
     "text": [
      "epoch 69, training loss: 0.4465970993041992\n"
     ]
    },
    {
     "name": "stderr",
     "output_type": "stream",
     "text": [
      "352it [00:02, 134.83it/s]\n"
     ]
    },
    {
     "name": "stdout",
     "output_type": "stream",
     "text": [
      "epoch 70, training loss: 0.4356699287891388\n"
     ]
    },
    {
     "name": "stderr",
     "output_type": "stream",
     "text": [
      "100%|██████████| 40/40 [00:00<00:00, 377.85it/s]\n",
      "100%|██████████| 352/352 [00:00<00:00, 375.69it/s]\n"
     ]
    },
    {
     "name": "stdout",
     "output_type": "stream",
     "text": [
      "training loss: 0.39919808506965637, train accuracy: 0.9641111111111111\n",
      "validation loss: 4.021876335144043, validation accuracy: 0.6246\n"
     ]
    },
    {
     "name": "stderr",
     "output_type": "stream",
     "text": [
      "352it [00:02, 134.21it/s]\n"
     ]
    },
    {
     "name": "stdout",
     "output_type": "stream",
     "text": [
      "epoch 71, training loss: 0.4122062921524048\n"
     ]
    },
    {
     "name": "stderr",
     "output_type": "stream",
     "text": [
      "352it [00:02, 133.92it/s]\n"
     ]
    },
    {
     "name": "stdout",
     "output_type": "stream",
     "text": [
      "epoch 72, training loss: 0.41403916478157043\n"
     ]
    },
    {
     "name": "stderr",
     "output_type": "stream",
     "text": [
      "352it [00:02, 134.04it/s]\n"
     ]
    },
    {
     "name": "stdout",
     "output_type": "stream",
     "text": [
      "epoch 73, training loss: 0.4030892550945282\n"
     ]
    },
    {
     "name": "stderr",
     "output_type": "stream",
     "text": [
      "352it [00:02, 130.60it/s]\n"
     ]
    },
    {
     "name": "stdout",
     "output_type": "stream",
     "text": [
      "epoch 74, training loss: 0.37275925278663635\n"
     ]
    },
    {
     "name": "stderr",
     "output_type": "stream",
     "text": [
      "352it [00:02, 134.54it/s]\n"
     ]
    },
    {
     "name": "stdout",
     "output_type": "stream",
     "text": [
      "epoch 75, training loss: 0.35586997866630554\n"
     ]
    },
    {
     "name": "stderr",
     "output_type": "stream",
     "text": [
      "100%|██████████| 40/40 [00:00<00:00, 364.83it/s]\n",
      "100%|██████████| 352/352 [00:00<00:00, 360.32it/s]\n"
     ]
    },
    {
     "name": "stdout",
     "output_type": "stream",
     "text": [
      "training loss: 0.3246835768222809, train accuracy: 0.9708222222222223\n",
      "validation loss: 3.880497694015503, validation accuracy: 0.6326\n"
     ]
    },
    {
     "name": "stderr",
     "output_type": "stream",
     "text": [
      "352it [00:02, 133.24it/s]\n"
     ]
    },
    {
     "name": "stdout",
     "output_type": "stream",
     "text": [
      "epoch 76, training loss: 0.35292860865592957\n"
     ]
    },
    {
     "name": "stderr",
     "output_type": "stream",
     "text": [
      "352it [00:02, 135.66it/s]\n"
     ]
    },
    {
     "name": "stdout",
     "output_type": "stream",
     "text": [
      "epoch 77, training loss: 0.3442019522190094\n"
     ]
    },
    {
     "name": "stderr",
     "output_type": "stream",
     "text": [
      "352it [00:02, 135.31it/s]\n"
     ]
    },
    {
     "name": "stdout",
     "output_type": "stream",
     "text": [
      "epoch 78, training loss: 0.3224564790725708\n"
     ]
    },
    {
     "name": "stderr",
     "output_type": "stream",
     "text": [
      "352it [00:02, 135.48it/s]\n"
     ]
    },
    {
     "name": "stdout",
     "output_type": "stream",
     "text": [
      "epoch 79, training loss: 0.3006752133369446\n"
     ]
    },
    {
     "name": "stderr",
     "output_type": "stream",
     "text": [
      "352it [00:02, 135.57it/s]\n"
     ]
    },
    {
     "name": "stdout",
     "output_type": "stream",
     "text": [
      "epoch 80, training loss: 0.2976684272289276\n"
     ]
    },
    {
     "name": "stderr",
     "output_type": "stream",
     "text": [
      "100%|██████████| 40/40 [00:00<00:00, 372.99it/s]\n",
      "100%|██████████| 352/352 [00:00<00:00, 375.39it/s]\n"
     ]
    },
    {
     "name": "stdout",
     "output_type": "stream",
     "text": [
      "training loss: 0.3077314496040344, train accuracy: 0.9724444444444444\n",
      "validation loss: 4.0962419509887695, validation accuracy: 0.622\n"
     ]
    },
    {
     "name": "stderr",
     "output_type": "stream",
     "text": [
      "352it [00:02, 135.69it/s]\n"
     ]
    },
    {
     "name": "stdout",
     "output_type": "stream",
     "text": [
      "epoch 81, training loss: 0.3097301721572876\n"
     ]
    },
    {
     "name": "stderr",
     "output_type": "stream",
     "text": [
      "352it [00:02, 134.24it/s]\n"
     ]
    },
    {
     "name": "stdout",
     "output_type": "stream",
     "text": [
      "epoch 82, training loss: 0.3007931411266327\n"
     ]
    },
    {
     "name": "stderr",
     "output_type": "stream",
     "text": [
      "352it [00:02, 134.07it/s]\n"
     ]
    },
    {
     "name": "stdout",
     "output_type": "stream",
     "text": [
      "epoch 83, training loss: 0.29983285069465637\n"
     ]
    },
    {
     "name": "stderr",
     "output_type": "stream",
     "text": [
      "352it [00:02, 135.06it/s]\n"
     ]
    },
    {
     "name": "stdout",
     "output_type": "stream",
     "text": [
      "epoch 84, training loss: 0.28144070506095886\n"
     ]
    },
    {
     "name": "stderr",
     "output_type": "stream",
     "text": [
      "352it [00:02, 135.08it/s]\n"
     ]
    },
    {
     "name": "stdout",
     "output_type": "stream",
     "text": [
      "epoch 85, training loss: 0.2668093740940094\n"
     ]
    },
    {
     "name": "stderr",
     "output_type": "stream",
     "text": [
      "100%|██████████| 40/40 [00:00<00:00, 373.39it/s]\n",
      "100%|██████████| 352/352 [00:00<00:00, 371.79it/s]\n"
     ]
    },
    {
     "name": "stdout",
     "output_type": "stream",
     "text": [
      "training loss: 0.22562971711158752, train accuracy: 0.9797111111111111\n",
      "validation loss: 3.936297655105591, validation accuracy: 0.635\n"
     ]
    },
    {
     "name": "stderr",
     "output_type": "stream",
     "text": [
      "352it [00:02, 134.84it/s]\n"
     ]
    },
    {
     "name": "stdout",
     "output_type": "stream",
     "text": [
      "epoch 86, training loss: 0.2627095878124237\n"
     ]
    },
    {
     "name": "stderr",
     "output_type": "stream",
     "text": [
      "352it [00:02, 134.82it/s]\n"
     ]
    },
    {
     "name": "stdout",
     "output_type": "stream",
     "text": [
      "epoch 87, training loss: 0.26242363452911377\n"
     ]
    },
    {
     "name": "stderr",
     "output_type": "stream",
     "text": [
      "352it [00:02, 135.18it/s]\n"
     ]
    },
    {
     "name": "stdout",
     "output_type": "stream",
     "text": [
      "epoch 88, training loss: 0.24607990682125092\n"
     ]
    },
    {
     "name": "stderr",
     "output_type": "stream",
     "text": [
      "352it [00:02, 136.17it/s]\n"
     ]
    },
    {
     "name": "stdout",
     "output_type": "stream",
     "text": [
      "epoch 89, training loss: 0.24350565671920776\n"
     ]
    },
    {
     "name": "stderr",
     "output_type": "stream",
     "text": [
      "352it [00:02, 136.74it/s]\n"
     ]
    },
    {
     "name": "stdout",
     "output_type": "stream",
     "text": [
      "epoch 90, training loss: 0.23057673871517181\n"
     ]
    },
    {
     "name": "stderr",
     "output_type": "stream",
     "text": [
      "100%|██████████| 40/40 [00:00<00:00, 374.80it/s]\n",
      "100%|██████████| 352/352 [00:00<00:00, 370.41it/s]\n"
     ]
    },
    {
     "name": "stdout",
     "output_type": "stream",
     "text": [
      "training loss: 0.2041648030281067, train accuracy: 0.9821111111111112\n",
      "validation loss: 4.160099506378174, validation accuracy: 0.6172\n"
     ]
    },
    {
     "name": "stderr",
     "output_type": "stream",
     "text": [
      "352it [00:02, 135.06it/s]\n"
     ]
    },
    {
     "name": "stdout",
     "output_type": "stream",
     "text": [
      "epoch 91, training loss: 0.22655190527439117\n"
     ]
    },
    {
     "name": "stderr",
     "output_type": "stream",
     "text": [
      "352it [00:02, 134.48it/s]\n"
     ]
    },
    {
     "name": "stdout",
     "output_type": "stream",
     "text": [
      "epoch 92, training loss: 0.24103142321109772\n"
     ]
    },
    {
     "name": "stderr",
     "output_type": "stream",
     "text": [
      "352it [00:02, 134.63it/s]\n"
     ]
    },
    {
     "name": "stdout",
     "output_type": "stream",
     "text": [
      "epoch 93, training loss: 0.23199893534183502\n"
     ]
    },
    {
     "name": "stderr",
     "output_type": "stream",
     "text": [
      "352it [00:02, 135.04it/s]\n"
     ]
    },
    {
     "name": "stdout",
     "output_type": "stream",
     "text": [
      "epoch 94, training loss: 0.20625309646129608\n"
     ]
    },
    {
     "name": "stderr",
     "output_type": "stream",
     "text": [
      "352it [00:02, 136.47it/s]\n"
     ]
    },
    {
     "name": "stdout",
     "output_type": "stream",
     "text": [
      "epoch 95, training loss: 0.2149837166070938\n"
     ]
    },
    {
     "name": "stderr",
     "output_type": "stream",
     "text": [
      "100%|██████████| 40/40 [00:00<00:00, 383.99it/s]\n",
      "100%|██████████| 352/352 [00:00<00:00, 380.39it/s]\n"
     ]
    },
    {
     "name": "stdout",
     "output_type": "stream",
     "text": [
      "training loss: 0.17138303816318512, train accuracy: 0.9850666666666666\n",
      "validation loss: 4.036840438842773, validation accuracy: 0.6174\n"
     ]
    },
    {
     "name": "stderr",
     "output_type": "stream",
     "text": [
      "352it [00:02, 136.85it/s]\n"
     ]
    },
    {
     "name": "stdout",
     "output_type": "stream",
     "text": [
      "epoch 96, training loss: 0.19844208657741547\n"
     ]
    },
    {
     "name": "stderr",
     "output_type": "stream",
     "text": [
      "352it [00:02, 136.87it/s]\n"
     ]
    },
    {
     "name": "stdout",
     "output_type": "stream",
     "text": [
      "epoch 97, training loss: 0.19229374825954437\n"
     ]
    },
    {
     "name": "stderr",
     "output_type": "stream",
     "text": [
      "352it [00:02, 136.99it/s]\n"
     ]
    },
    {
     "name": "stdout",
     "output_type": "stream",
     "text": [
      "epoch 98, training loss: 0.2120027095079422\n"
     ]
    },
    {
     "name": "stderr",
     "output_type": "stream",
     "text": [
      "352it [00:02, 136.66it/s]\n"
     ]
    },
    {
     "name": "stdout",
     "output_type": "stream",
     "text": [
      "epoch 99, training loss: 0.1857871413230896\n"
     ]
    },
    {
     "name": "stderr",
     "output_type": "stream",
     "text": [
      "352it [00:02, 137.37it/s]\n"
     ]
    },
    {
     "name": "stdout",
     "output_type": "stream",
     "text": [
      "epoch 100, training loss: 0.17527444660663605\n"
     ]
    },
    {
     "name": "stderr",
     "output_type": "stream",
     "text": [
      "100%|██████████| 40/40 [00:00<00:00, 384.90it/s]\n",
      "100%|██████████| 352/352 [00:00<00:00, 384.59it/s]\n"
     ]
    },
    {
     "name": "stdout",
     "output_type": "stream",
     "text": [
      "training loss: 0.1493179351091385, train accuracy: 0.9868444444444444\n",
      "validation loss: 4.111350059509277, validation accuracy: 0.6244\n",
      "2021-11-30 22:08:18.222643: training sce on sce-bal_asym\n"
     ]
    },
    {
     "name": "stderr",
     "output_type": "stream",
     "text": [
      "352it [00:02, 136.47it/s]\n"
     ]
    },
    {
     "name": "stdout",
     "output_type": "stream",
     "text": [
      "epoch 1, training loss: 2.3349246978759766\n"
     ]
    },
    {
     "name": "stderr",
     "output_type": "stream",
     "text": [
      "352it [00:02, 137.22it/s]\n"
     ]
    },
    {
     "name": "stdout",
     "output_type": "stream",
     "text": [
      "epoch 2, training loss: 1.6198875904083252\n"
     ]
    },
    {
     "name": "stderr",
     "output_type": "stream",
     "text": [
      "352it [00:02, 133.37it/s]\n"
     ]
    },
    {
     "name": "stdout",
     "output_type": "stream",
     "text": [
      "epoch 3, training loss: 1.5494697093963623\n"
     ]
    },
    {
     "name": "stderr",
     "output_type": "stream",
     "text": [
      "352it [00:02, 133.19it/s]\n"
     ]
    },
    {
     "name": "stdout",
     "output_type": "stream",
     "text": [
      "epoch 4, training loss: 1.5133639574050903\n"
     ]
    },
    {
     "name": "stderr",
     "output_type": "stream",
     "text": [
      "352it [00:02, 134.43it/s]\n"
     ]
    },
    {
     "name": "stdout",
     "output_type": "stream",
     "text": [
      "epoch 5, training loss: 1.4895820617675781\n"
     ]
    },
    {
     "name": "stderr",
     "output_type": "stream",
     "text": [
      "100%|██████████| 40/40 [00:00<00:00, 373.94it/s]\n",
      "100%|██████████| 352/352 [00:00<00:00, 372.04it/s]\n"
     ]
    },
    {
     "name": "stdout",
     "output_type": "stream",
     "text": [
      "training loss: 1.4566307067871094, train accuracy: 0.8532\n",
      "validation loss: 1.6364730596542358, validation accuracy: 0.8424\n",
      "saving best model: sce-bal_asym-5\n"
     ]
    },
    {
     "name": "stderr",
     "output_type": "stream",
     "text": [
      "352it [00:02, 134.27it/s]\n"
     ]
    },
    {
     "name": "stdout",
     "output_type": "stream",
     "text": [
      "epoch 6, training loss: 1.473181962966919\n"
     ]
    },
    {
     "name": "stderr",
     "output_type": "stream",
     "text": [
      "352it [00:02, 134.54it/s]\n"
     ]
    },
    {
     "name": "stdout",
     "output_type": "stream",
     "text": [
      "epoch 7, training loss: 1.4598278999328613\n"
     ]
    },
    {
     "name": "stderr",
     "output_type": "stream",
     "text": [
      "352it [00:02, 135.01it/s]\n"
     ]
    },
    {
     "name": "stdout",
     "output_type": "stream",
     "text": [
      "epoch 8, training loss: 1.4425511360168457\n"
     ]
    },
    {
     "name": "stderr",
     "output_type": "stream",
     "text": [
      "352it [00:02, 134.57it/s]\n"
     ]
    },
    {
     "name": "stdout",
     "output_type": "stream",
     "text": [
      "epoch 9, training loss: 1.4201678037643433\n"
     ]
    },
    {
     "name": "stderr",
     "output_type": "stream",
     "text": [
      "352it [00:02, 134.51it/s]\n"
     ]
    },
    {
     "name": "stdout",
     "output_type": "stream",
     "text": [
      "epoch 10, training loss: 1.404419183731079\n"
     ]
    },
    {
     "name": "stderr",
     "output_type": "stream",
     "text": [
      "100%|██████████| 40/40 [00:00<00:00, 373.27it/s]\n",
      "100%|██████████| 352/352 [00:00<00:00, 372.55it/s]\n"
     ]
    },
    {
     "name": "stdout",
     "output_type": "stream",
     "text": [
      "training loss: 1.334135890007019, train accuracy: 0.8652888888888889\n",
      "validation loss: 1.682787537574768, validation accuracy: 0.8368\n"
     ]
    },
    {
     "name": "stderr",
     "output_type": "stream",
     "text": [
      "352it [00:02, 134.66it/s]\n"
     ]
    },
    {
     "name": "stdout",
     "output_type": "stream",
     "text": [
      "epoch 11, training loss: 1.3640414476394653\n"
     ]
    },
    {
     "name": "stderr",
     "output_type": "stream",
     "text": [
      "352it [00:02, 134.76it/s]\n"
     ]
    },
    {
     "name": "stdout",
     "output_type": "stream",
     "text": [
      "epoch 12, training loss: 1.335870623588562\n"
     ]
    },
    {
     "name": "stderr",
     "output_type": "stream",
     "text": [
      "352it [00:02, 136.48it/s]\n"
     ]
    },
    {
     "name": "stdout",
     "output_type": "stream",
     "text": [
      "epoch 13, training loss: 1.2924809455871582\n"
     ]
    },
    {
     "name": "stderr",
     "output_type": "stream",
     "text": [
      "352it [00:02, 136.49it/s]\n"
     ]
    },
    {
     "name": "stdout",
     "output_type": "stream",
     "text": [
      "epoch 14, training loss: 1.2305638790130615\n"
     ]
    },
    {
     "name": "stderr",
     "output_type": "stream",
     "text": [
      "352it [00:02, 136.24it/s]\n"
     ]
    },
    {
     "name": "stdout",
     "output_type": "stream",
     "text": [
      "epoch 15, training loss: 1.1772559881210327\n"
     ]
    },
    {
     "name": "stderr",
     "output_type": "stream",
     "text": [
      "100%|██████████| 40/40 [00:00<00:00, 384.98it/s]\n",
      "100%|██████████| 352/352 [00:00<00:00, 383.91it/s]\n"
     ]
    },
    {
     "name": "stdout",
     "output_type": "stream",
     "text": [
      "training loss: 1.1039990186691284, train accuracy: 0.8910444444444444\n",
      "validation loss: 1.7805877923965454, validation accuracy: 0.8188\n"
     ]
    },
    {
     "name": "stderr",
     "output_type": "stream",
     "text": [
      "352it [00:02, 136.38it/s]\n"
     ]
    },
    {
     "name": "stdout",
     "output_type": "stream",
     "text": [
      "epoch 16, training loss: 1.1040860414505005\n"
     ]
    },
    {
     "name": "stderr",
     "output_type": "stream",
     "text": [
      "352it [00:02, 137.11it/s]\n"
     ]
    },
    {
     "name": "stdout",
     "output_type": "stream",
     "text": [
      "epoch 17, training loss: 1.0244413614273071\n"
     ]
    },
    {
     "name": "stderr",
     "output_type": "stream",
     "text": [
      "352it [00:02, 137.44it/s]\n"
     ]
    },
    {
     "name": "stdout",
     "output_type": "stream",
     "text": [
      "epoch 18, training loss: 0.939872145652771\n"
     ]
    },
    {
     "name": "stderr",
     "output_type": "stream",
     "text": [
      "352it [00:02, 136.71it/s]\n"
     ]
    },
    {
     "name": "stdout",
     "output_type": "stream",
     "text": [
      "epoch 19, training loss: 0.8801801800727844\n"
     ]
    },
    {
     "name": "stderr",
     "output_type": "stream",
     "text": [
      "352it [00:02, 136.46it/s]\n"
     ]
    },
    {
     "name": "stdout",
     "output_type": "stream",
     "text": [
      "epoch 20, training loss: 0.8145108819007874\n"
     ]
    },
    {
     "name": "stderr",
     "output_type": "stream",
     "text": [
      "100%|██████████| 40/40 [00:00<00:00, 382.90it/s]\n",
      "100%|██████████| 352/352 [00:00<00:00, 383.31it/s]\n"
     ]
    },
    {
     "name": "stdout",
     "output_type": "stream",
     "text": [
      "training loss: 0.6932332515716553, train accuracy: 0.9332222222222222\n",
      "validation loss: 1.8802974224090576, validation accuracy: 0.8136\n"
     ]
    },
    {
     "name": "stderr",
     "output_type": "stream",
     "text": [
      "352it [00:02, 135.97it/s]\n"
     ]
    },
    {
     "name": "stdout",
     "output_type": "stream",
     "text": [
      "epoch 21, training loss: 0.7377374768257141\n"
     ]
    },
    {
     "name": "stderr",
     "output_type": "stream",
     "text": [
      "352it [00:02, 137.12it/s]\n"
     ]
    },
    {
     "name": "stdout",
     "output_type": "stream",
     "text": [
      "epoch 22, training loss: 0.6650370955467224\n"
     ]
    },
    {
     "name": "stderr",
     "output_type": "stream",
     "text": [
      "352it [00:02, 136.88it/s]\n"
     ]
    },
    {
     "name": "stdout",
     "output_type": "stream",
     "text": [
      "epoch 23, training loss: 0.596136212348938\n"
     ]
    },
    {
     "name": "stderr",
     "output_type": "stream",
     "text": [
      "352it [00:02, 136.12it/s]\n"
     ]
    },
    {
     "name": "stdout",
     "output_type": "stream",
     "text": [
      "epoch 24, training loss: 0.5495898723602295\n"
     ]
    },
    {
     "name": "stderr",
     "output_type": "stream",
     "text": [
      "352it [00:02, 136.19it/s]\n"
     ]
    },
    {
     "name": "stdout",
     "output_type": "stream",
     "text": [
      "epoch 25, training loss: 0.4994446039199829\n"
     ]
    },
    {
     "name": "stderr",
     "output_type": "stream",
     "text": [
      "100%|██████████| 40/40 [00:00<00:00, 377.05it/s]\n",
      "100%|██████████| 352/352 [00:00<00:00, 376.42it/s]\n"
     ]
    },
    {
     "name": "stdout",
     "output_type": "stream",
     "text": [
      "training loss: 0.4571128189563751, train accuracy: 0.9571777777777778\n",
      "validation loss: 2.0198111534118652, validation accuracy: 0.7988\n"
     ]
    },
    {
     "name": "stderr",
     "output_type": "stream",
     "text": [
      "352it [00:02, 135.81it/s]\n"
     ]
    },
    {
     "name": "stdout",
     "output_type": "stream",
     "text": [
      "epoch 26, training loss: 0.4627610146999359\n"
     ]
    },
    {
     "name": "stderr",
     "output_type": "stream",
     "text": [
      "352it [00:02, 136.13it/s]\n"
     ]
    },
    {
     "name": "stdout",
     "output_type": "stream",
     "text": [
      "epoch 27, training loss: 0.4306788742542267\n"
     ]
    },
    {
     "name": "stderr",
     "output_type": "stream",
     "text": [
      "352it [00:02, 135.17it/s]\n"
     ]
    },
    {
     "name": "stdout",
     "output_type": "stream",
     "text": [
      "epoch 28, training loss: 0.38898277282714844\n"
     ]
    },
    {
     "name": "stderr",
     "output_type": "stream",
     "text": [
      "352it [00:02, 135.32it/s]\n"
     ]
    },
    {
     "name": "stdout",
     "output_type": "stream",
     "text": [
      "epoch 29, training loss: 0.35261812806129456\n"
     ]
    },
    {
     "name": "stderr",
     "output_type": "stream",
     "text": [
      "352it [00:02, 135.23it/s]\n"
     ]
    },
    {
     "name": "stdout",
     "output_type": "stream",
     "text": [
      "epoch 30, training loss: 0.33635303378105164\n"
     ]
    },
    {
     "name": "stderr",
     "output_type": "stream",
     "text": [
      "100%|██████████| 40/40 [00:00<00:00, 376.25it/s]\n",
      "100%|██████████| 352/352 [00:00<00:00, 373.92it/s]\n"
     ]
    },
    {
     "name": "stdout",
     "output_type": "stream",
     "text": [
      "training loss: 0.3196033239364624, train accuracy: 0.9708222222222223\n",
      "validation loss: 2.13257098197937, validation accuracy: 0.7868\n"
     ]
    },
    {
     "name": "stderr",
     "output_type": "stream",
     "text": [
      "352it [00:02, 135.10it/s]\n"
     ]
    },
    {
     "name": "stdout",
     "output_type": "stream",
     "text": [
      "epoch 31, training loss: 0.3137495815753937\n"
     ]
    },
    {
     "name": "stderr",
     "output_type": "stream",
     "text": [
      "352it [00:02, 135.35it/s]\n"
     ]
    },
    {
     "name": "stdout",
     "output_type": "stream",
     "text": [
      "epoch 32, training loss: 0.2830394506454468\n"
     ]
    },
    {
     "name": "stderr",
     "output_type": "stream",
     "text": [
      "352it [00:02, 136.13it/s]\n"
     ]
    },
    {
     "name": "stdout",
     "output_type": "stream",
     "text": [
      "epoch 33, training loss: 0.27857568860054016\n"
     ]
    },
    {
     "name": "stderr",
     "output_type": "stream",
     "text": [
      "352it [00:02, 136.11it/s]\n"
     ]
    },
    {
     "name": "stdout",
     "output_type": "stream",
     "text": [
      "epoch 34, training loss: 0.2394627034664154\n"
     ]
    },
    {
     "name": "stderr",
     "output_type": "stream",
     "text": [
      "352it [00:02, 135.97it/s]\n"
     ]
    },
    {
     "name": "stdout",
     "output_type": "stream",
     "text": [
      "epoch 35, training loss: 0.22179915010929108\n"
     ]
    },
    {
     "name": "stderr",
     "output_type": "stream",
     "text": [
      "100%|██████████| 40/40 [00:00<00:00, 377.78it/s]\n",
      "100%|██████████| 352/352 [00:00<00:00, 377.97it/s]\n"
     ]
    },
    {
     "name": "stdout",
     "output_type": "stream",
     "text": [
      "training loss: 0.18046355247497559, train accuracy: 0.9835555555555555\n",
      "validation loss: 2.025282382965088, validation accuracy: 0.7964\n"
     ]
    },
    {
     "name": "stderr",
     "output_type": "stream",
     "text": [
      "352it [00:02, 135.96it/s]\n"
     ]
    },
    {
     "name": "stdout",
     "output_type": "stream",
     "text": [
      "epoch 36, training loss: 0.21786926686763763\n"
     ]
    },
    {
     "name": "stderr",
     "output_type": "stream",
     "text": [
      "352it [00:02, 136.04it/s]\n"
     ]
    },
    {
     "name": "stdout",
     "output_type": "stream",
     "text": [
      "epoch 37, training loss: 0.1972547173500061\n"
     ]
    },
    {
     "name": "stderr",
     "output_type": "stream",
     "text": [
      "352it [00:02, 135.72it/s]\n"
     ]
    },
    {
     "name": "stdout",
     "output_type": "stream",
     "text": [
      "epoch 38, training loss: 0.1868266612291336\n"
     ]
    },
    {
     "name": "stderr",
     "output_type": "stream",
     "text": [
      "352it [00:02, 135.07it/s]\n"
     ]
    },
    {
     "name": "stdout",
     "output_type": "stream",
     "text": [
      "epoch 39, training loss: 0.17514890432357788\n"
     ]
    },
    {
     "name": "stderr",
     "output_type": "stream",
     "text": [
      "352it [00:02, 134.87it/s]\n"
     ]
    },
    {
     "name": "stdout",
     "output_type": "stream",
     "text": [
      "epoch 40, training loss: 0.1828118860721588\n"
     ]
    },
    {
     "name": "stderr",
     "output_type": "stream",
     "text": [
      "100%|██████████| 40/40 [00:00<00:00, 374.64it/s]\n",
      "100%|██████████| 352/352 [00:00<00:00, 372.34it/s]\n"
     ]
    },
    {
     "name": "stdout",
     "output_type": "stream",
     "text": [
      "training loss: 0.15470387041568756, train accuracy: 0.9863555555555555\n",
      "validation loss: 2.0911145210266113, validation accuracy: 0.7896\n"
     ]
    },
    {
     "name": "stderr",
     "output_type": "stream",
     "text": [
      "352it [00:02, 133.02it/s]\n"
     ]
    },
    {
     "name": "stdout",
     "output_type": "stream",
     "text": [
      "epoch 41, training loss: 0.18408150970935822\n"
     ]
    },
    {
     "name": "stderr",
     "output_type": "stream",
     "text": [
      "352it [00:02, 134.92it/s]\n"
     ]
    },
    {
     "name": "stdout",
     "output_type": "stream",
     "text": [
      "epoch 42, training loss: 0.14645090699195862\n"
     ]
    },
    {
     "name": "stderr",
     "output_type": "stream",
     "text": [
      "352it [00:02, 135.46it/s]\n"
     ]
    },
    {
     "name": "stdout",
     "output_type": "stream",
     "text": [
      "epoch 43, training loss: 0.1501912921667099\n"
     ]
    },
    {
     "name": "stderr",
     "output_type": "stream",
     "text": [
      "352it [00:02, 134.89it/s]\n"
     ]
    },
    {
     "name": "stdout",
     "output_type": "stream",
     "text": [
      "epoch 44, training loss: 0.1507321447134018\n"
     ]
    },
    {
     "name": "stderr",
     "output_type": "stream",
     "text": [
      "352it [00:02, 135.46it/s]\n"
     ]
    },
    {
     "name": "stdout",
     "output_type": "stream",
     "text": [
      "epoch 45, training loss: 0.14419005811214447\n"
     ]
    },
    {
     "name": "stderr",
     "output_type": "stream",
     "text": [
      "100%|██████████| 40/40 [00:00<00:00, 376.25it/s]\n",
      "100%|██████████| 352/352 [00:00<00:00, 373.55it/s]\n"
     ]
    },
    {
     "name": "stdout",
     "output_type": "stream",
     "text": [
      "training loss: 0.1612357348203659, train accuracy: 0.9857555555555556\n",
      "validation loss: 2.2499890327453613, validation accuracy: 0.7786\n"
     ]
    },
    {
     "name": "stderr",
     "output_type": "stream",
     "text": [
      "352it [00:02, 135.20it/s]\n"
     ]
    },
    {
     "name": "stdout",
     "output_type": "stream",
     "text": [
      "epoch 46, training loss: 0.1341465413570404\n"
     ]
    },
    {
     "name": "stderr",
     "output_type": "stream",
     "text": [
      "352it [00:02, 134.97it/s]\n"
     ]
    },
    {
     "name": "stdout",
     "output_type": "stream",
     "text": [
      "epoch 47, training loss: 0.12892113626003265\n"
     ]
    },
    {
     "name": "stderr",
     "output_type": "stream",
     "text": [
      "352it [00:02, 135.91it/s]\n"
     ]
    },
    {
     "name": "stdout",
     "output_type": "stream",
     "text": [
      "epoch 48, training loss: 0.11401980370283127\n"
     ]
    },
    {
     "name": "stderr",
     "output_type": "stream",
     "text": [
      "352it [00:02, 134.85it/s]\n"
     ]
    },
    {
     "name": "stdout",
     "output_type": "stream",
     "text": [
      "epoch 49, training loss: 0.12194204330444336\n"
     ]
    },
    {
     "name": "stderr",
     "output_type": "stream",
     "text": [
      "352it [00:02, 134.68it/s]\n"
     ]
    },
    {
     "name": "stdout",
     "output_type": "stream",
     "text": [
      "epoch 50, training loss: 0.12059677392244339\n"
     ]
    },
    {
     "name": "stderr",
     "output_type": "stream",
     "text": [
      "100%|██████████| 40/40 [00:00<00:00, 373.32it/s]\n",
      "100%|██████████| 352/352 [00:00<00:00, 373.34it/s]\n"
     ]
    },
    {
     "name": "stdout",
     "output_type": "stream",
     "text": [
      "training loss: 0.10242093354463577, train accuracy: 0.991\n",
      "validation loss: 2.1332740783691406, validation accuracy: 0.7906\n"
     ]
    },
    {
     "name": "stderr",
     "output_type": "stream",
     "text": [
      "352it [00:02, 134.58it/s]\n"
     ]
    },
    {
     "name": "stdout",
     "output_type": "stream",
     "text": [
      "epoch 51, training loss: 0.11684928089380264\n"
     ]
    },
    {
     "name": "stderr",
     "output_type": "stream",
     "text": [
      "352it [00:02, 135.22it/s]\n"
     ]
    },
    {
     "name": "stdout",
     "output_type": "stream",
     "text": [
      "epoch 52, training loss: 0.10644182562828064\n"
     ]
    },
    {
     "name": "stderr",
     "output_type": "stream",
     "text": [
      "352it [00:02, 135.41it/s]\n"
     ]
    },
    {
     "name": "stdout",
     "output_type": "stream",
     "text": [
      "epoch 53, training loss: 0.1030125543475151\n"
     ]
    },
    {
     "name": "stderr",
     "output_type": "stream",
     "text": [
      "352it [00:02, 136.63it/s]\n"
     ]
    },
    {
     "name": "stdout",
     "output_type": "stream",
     "text": [
      "epoch 54, training loss: 0.10221783816814423\n"
     ]
    },
    {
     "name": "stderr",
     "output_type": "stream",
     "text": [
      "352it [00:02, 136.90it/s]\n"
     ]
    },
    {
     "name": "stdout",
     "output_type": "stream",
     "text": [
      "epoch 55, training loss: 0.10294518619775772\n"
     ]
    },
    {
     "name": "stderr",
     "output_type": "stream",
     "text": [
      "100%|██████████| 40/40 [00:00<00:00, 384.73it/s]\n",
      "100%|██████████| 352/352 [00:00<00:00, 383.22it/s]\n"
     ]
    },
    {
     "name": "stdout",
     "output_type": "stream",
     "text": [
      "training loss: 0.09348208457231522, train accuracy: 0.9917111111111111\n",
      "validation loss: 2.1177663803100586, validation accuracy: 0.7894\n"
     ]
    },
    {
     "name": "stderr",
     "output_type": "stream",
     "text": [
      "352it [00:02, 136.55it/s]\n"
     ]
    },
    {
     "name": "stdout",
     "output_type": "stream",
     "text": [
      "epoch 56, training loss: 0.09761512279510498\n"
     ]
    },
    {
     "name": "stderr",
     "output_type": "stream",
     "text": [
      "352it [00:02, 137.27it/s]\n"
     ]
    },
    {
     "name": "stdout",
     "output_type": "stream",
     "text": [
      "epoch 57, training loss: 0.09168462455272675\n"
     ]
    },
    {
     "name": "stderr",
     "output_type": "stream",
     "text": [
      "352it [00:02, 136.22it/s]\n"
     ]
    },
    {
     "name": "stdout",
     "output_type": "stream",
     "text": [
      "epoch 58, training loss: 0.07186970114707947\n"
     ]
    },
    {
     "name": "stderr",
     "output_type": "stream",
     "text": [
      "352it [00:02, 136.36it/s]\n"
     ]
    },
    {
     "name": "stdout",
     "output_type": "stream",
     "text": [
      "epoch 59, training loss: 0.09421823173761368\n"
     ]
    },
    {
     "name": "stderr",
     "output_type": "stream",
     "text": [
      "352it [00:02, 136.52it/s]\n"
     ]
    },
    {
     "name": "stdout",
     "output_type": "stream",
     "text": [
      "epoch 60, training loss: 0.10969679057598114\n"
     ]
    },
    {
     "name": "stderr",
     "output_type": "stream",
     "text": [
      "100%|██████████| 40/40 [00:00<00:00, 381.96it/s]\n",
      "100%|██████████| 352/352 [00:00<00:00, 382.60it/s]\n"
     ]
    },
    {
     "name": "stdout",
     "output_type": "stream",
     "text": [
      "training loss: 0.08675884455442429, train accuracy: 0.9924888888888889\n",
      "validation loss: 2.1524910926818848, validation accuracy: 0.7814\n"
     ]
    },
    {
     "name": "stderr",
     "output_type": "stream",
     "text": [
      "352it [00:02, 137.22it/s]\n"
     ]
    },
    {
     "name": "stdout",
     "output_type": "stream",
     "text": [
      "epoch 61, training loss: 0.08676259964704514\n"
     ]
    },
    {
     "name": "stderr",
     "output_type": "stream",
     "text": [
      "352it [00:02, 136.16it/s]\n"
     ]
    },
    {
     "name": "stdout",
     "output_type": "stream",
     "text": [
      "epoch 62, training loss: 0.06826698035001755\n"
     ]
    },
    {
     "name": "stderr",
     "output_type": "stream",
     "text": [
      "352it [00:02, 134.42it/s]\n"
     ]
    },
    {
     "name": "stdout",
     "output_type": "stream",
     "text": [
      "epoch 63, training loss: 0.08143710345029831\n"
     ]
    },
    {
     "name": "stderr",
     "output_type": "stream",
     "text": [
      "352it [00:02, 136.18it/s]\n"
     ]
    },
    {
     "name": "stdout",
     "output_type": "stream",
     "text": [
      "epoch 64, training loss: 0.07773271203041077\n"
     ]
    },
    {
     "name": "stderr",
     "output_type": "stream",
     "text": [
      "352it [00:02, 137.03it/s]\n"
     ]
    },
    {
     "name": "stdout",
     "output_type": "stream",
     "text": [
      "epoch 65, training loss: 0.06460690498352051\n"
     ]
    },
    {
     "name": "stderr",
     "output_type": "stream",
     "text": [
      "100%|██████████| 40/40 [00:00<00:00, 384.32it/s]\n",
      "100%|██████████| 352/352 [00:00<00:00, 384.09it/s]\n"
     ]
    },
    {
     "name": "stdout",
     "output_type": "stream",
     "text": [
      "training loss: 0.05643418803811073, train accuracy: 0.9952\n",
      "validation loss: 2.2264366149902344, validation accuracy: 0.777\n"
     ]
    },
    {
     "name": "stderr",
     "output_type": "stream",
     "text": [
      "352it [00:02, 136.56it/s]\n"
     ]
    },
    {
     "name": "stdout",
     "output_type": "stream",
     "text": [
      "epoch 66, training loss: 0.05724005401134491\n"
     ]
    },
    {
     "name": "stderr",
     "output_type": "stream",
     "text": [
      "352it [00:02, 136.97it/s]\n"
     ]
    },
    {
     "name": "stdout",
     "output_type": "stream",
     "text": [
      "epoch 67, training loss: 0.060440436005592346\n"
     ]
    },
    {
     "name": "stderr",
     "output_type": "stream",
     "text": [
      "352it [00:02, 136.58it/s]\n"
     ]
    },
    {
     "name": "stdout",
     "output_type": "stream",
     "text": [
      "epoch 68, training loss: 0.06512755900621414\n"
     ]
    },
    {
     "name": "stderr",
     "output_type": "stream",
     "text": [
      "352it [00:02, 137.22it/s]\n"
     ]
    },
    {
     "name": "stdout",
     "output_type": "stream",
     "text": [
      "epoch 69, training loss: 0.07375812530517578\n"
     ]
    },
    {
     "name": "stderr",
     "output_type": "stream",
     "text": [
      "352it [00:02, 136.00it/s]\n"
     ]
    },
    {
     "name": "stdout",
     "output_type": "stream",
     "text": [
      "epoch 70, training loss: 0.07372570782899857\n"
     ]
    },
    {
     "name": "stderr",
     "output_type": "stream",
     "text": [
      "100%|██████████| 40/40 [00:00<00:00, 383.55it/s]\n",
      "100%|██████████| 352/352 [00:00<00:00, 383.24it/s]\n"
     ]
    },
    {
     "name": "stdout",
     "output_type": "stream",
     "text": [
      "training loss: 0.05356207862496376, train accuracy: 0.9954444444444445\n",
      "validation loss: 2.1190898418426514, validation accuracy: 0.7906\n"
     ]
    },
    {
     "name": "stderr",
     "output_type": "stream",
     "text": [
      "352it [00:02, 137.05it/s]\n"
     ]
    },
    {
     "name": "stdout",
     "output_type": "stream",
     "text": [
      "epoch 71, training loss: 0.06262591481208801\n"
     ]
    },
    {
     "name": "stderr",
     "output_type": "stream",
     "text": [
      "352it [00:02, 137.11it/s]\n"
     ]
    },
    {
     "name": "stdout",
     "output_type": "stream",
     "text": [
      "epoch 72, training loss: 0.05217568576335907\n"
     ]
    },
    {
     "name": "stderr",
     "output_type": "stream",
     "text": [
      "352it [00:02, 136.46it/s]\n"
     ]
    },
    {
     "name": "stdout",
     "output_type": "stream",
     "text": [
      "epoch 73, training loss: 0.06525766104459763\n"
     ]
    },
    {
     "name": "stderr",
     "output_type": "stream",
     "text": [
      "352it [00:02, 136.09it/s]\n"
     ]
    },
    {
     "name": "stdout",
     "output_type": "stream",
     "text": [
      "epoch 74, training loss: 0.054073356091976166\n"
     ]
    },
    {
     "name": "stderr",
     "output_type": "stream",
     "text": [
      "352it [00:02, 136.49it/s]\n"
     ]
    },
    {
     "name": "stdout",
     "output_type": "stream",
     "text": [
      "epoch 75, training loss: 0.05339841544628143\n"
     ]
    },
    {
     "name": "stderr",
     "output_type": "stream",
     "text": [
      "100%|██████████| 40/40 [00:00<00:00, 384.21it/s]\n",
      "100%|██████████| 352/352 [00:00<00:00, 384.34it/s]\n"
     ]
    },
    {
     "name": "stdout",
     "output_type": "stream",
     "text": [
      "training loss: 0.04253711923956871, train accuracy: 0.9964\n",
      "validation loss: 2.1522791385650635, validation accuracy: 0.7934\n"
     ]
    },
    {
     "name": "stderr",
     "output_type": "stream",
     "text": [
      "352it [00:02, 136.42it/s]\n"
     ]
    },
    {
     "name": "stdout",
     "output_type": "stream",
     "text": [
      "epoch 76, training loss: 0.05625003203749657\n"
     ]
    },
    {
     "name": "stderr",
     "output_type": "stream",
     "text": [
      "352it [00:02, 136.43it/s]\n"
     ]
    },
    {
     "name": "stdout",
     "output_type": "stream",
     "text": [
      "epoch 77, training loss: 0.0639943853020668\n"
     ]
    },
    {
     "name": "stderr",
     "output_type": "stream",
     "text": [
      "352it [00:02, 135.91it/s]\n"
     ]
    },
    {
     "name": "stdout",
     "output_type": "stream",
     "text": [
      "epoch 78, training loss: 0.05197624862194061\n"
     ]
    },
    {
     "name": "stderr",
     "output_type": "stream",
     "text": [
      "352it [00:02, 136.30it/s]\n"
     ]
    },
    {
     "name": "stdout",
     "output_type": "stream",
     "text": [
      "epoch 79, training loss: 0.049324825406074524\n"
     ]
    },
    {
     "name": "stderr",
     "output_type": "stream",
     "text": [
      "352it [00:02, 136.13it/s]\n"
     ]
    },
    {
     "name": "stdout",
     "output_type": "stream",
     "text": [
      "epoch 80, training loss: 0.06653464585542679\n"
     ]
    },
    {
     "name": "stderr",
     "output_type": "stream",
     "text": [
      "100%|██████████| 40/40 [00:00<00:00, 378.20it/s]\n",
      "100%|██████████| 352/352 [00:00<00:00, 377.32it/s]\n"
     ]
    },
    {
     "name": "stdout",
     "output_type": "stream",
     "text": [
      "training loss: 0.05897891893982887, train accuracy: 0.9947555555555555\n",
      "validation loss: 2.2747409343719482, validation accuracy: 0.7818\n"
     ]
    },
    {
     "name": "stderr",
     "output_type": "stream",
     "text": [
      "352it [00:02, 136.23it/s]\n"
     ]
    },
    {
     "name": "stdout",
     "output_type": "stream",
     "text": [
      "epoch 81, training loss: 0.060888729989528656\n"
     ]
    },
    {
     "name": "stderr",
     "output_type": "stream",
     "text": [
      "352it [00:02, 135.70it/s]\n"
     ]
    },
    {
     "name": "stdout",
     "output_type": "stream",
     "text": [
      "epoch 82, training loss: 0.05241734907031059\n"
     ]
    },
    {
     "name": "stderr",
     "output_type": "stream",
     "text": [
      "352it [00:02, 136.31it/s]\n"
     ]
    },
    {
     "name": "stdout",
     "output_type": "stream",
     "text": [
      "epoch 83, training loss: 0.04739191383123398\n"
     ]
    },
    {
     "name": "stderr",
     "output_type": "stream",
     "text": [
      "352it [00:02, 135.50it/s]\n"
     ]
    },
    {
     "name": "stdout",
     "output_type": "stream",
     "text": [
      "epoch 84, training loss: 0.051113829016685486\n"
     ]
    },
    {
     "name": "stderr",
     "output_type": "stream",
     "text": [
      "352it [00:02, 136.34it/s]\n"
     ]
    },
    {
     "name": "stdout",
     "output_type": "stream",
     "text": [
      "epoch 85, training loss: 0.057332493364810944\n"
     ]
    },
    {
     "name": "stderr",
     "output_type": "stream",
     "text": [
      "100%|██████████| 40/40 [00:00<00:00, 377.36it/s]\n",
      "100%|██████████| 352/352 [00:00<00:00, 376.58it/s]\n"
     ]
    },
    {
     "name": "stdout",
     "output_type": "stream",
     "text": [
      "training loss: 0.03895840793848038, train accuracy: 0.9966888888888888\n",
      "validation loss: 2.215405225753784, validation accuracy: 0.7842\n"
     ]
    },
    {
     "name": "stderr",
     "output_type": "stream",
     "text": [
      "352it [00:02, 128.47it/s]\n"
     ]
    },
    {
     "name": "stdout",
     "output_type": "stream",
     "text": [
      "epoch 86, training loss: 0.043080780655145645\n"
     ]
    },
    {
     "name": "stderr",
     "output_type": "stream",
     "text": [
      "352it [00:02, 136.07it/s]\n"
     ]
    },
    {
     "name": "stdout",
     "output_type": "stream",
     "text": [
      "epoch 87, training loss: 0.04099413752555847\n"
     ]
    },
    {
     "name": "stderr",
     "output_type": "stream",
     "text": [
      "352it [00:02, 136.08it/s]\n"
     ]
    },
    {
     "name": "stdout",
     "output_type": "stream",
     "text": [
      "epoch 88, training loss: 0.04428032040596008\n"
     ]
    },
    {
     "name": "stderr",
     "output_type": "stream",
     "text": [
      "352it [00:02, 135.45it/s]\n"
     ]
    },
    {
     "name": "stdout",
     "output_type": "stream",
     "text": [
      "epoch 89, training loss: 0.046611834317445755\n"
     ]
    },
    {
     "name": "stderr",
     "output_type": "stream",
     "text": [
      "352it [00:02, 135.12it/s]\n"
     ]
    },
    {
     "name": "stdout",
     "output_type": "stream",
     "text": [
      "epoch 90, training loss: 0.05861452966928482\n"
     ]
    },
    {
     "name": "stderr",
     "output_type": "stream",
     "text": [
      "100%|██████████| 40/40 [00:00<00:00, 378.04it/s]\n",
      "100%|██████████| 352/352 [00:00<00:00, 377.21it/s]\n"
     ]
    },
    {
     "name": "stdout",
     "output_type": "stream",
     "text": [
      "training loss: 0.03877339884638786, train accuracy: 0.9964888888888889\n",
      "validation loss: 2.203258991241455, validation accuracy: 0.7846\n"
     ]
    },
    {
     "name": "stderr",
     "output_type": "stream",
     "text": [
      "352it [00:02, 135.14it/s]\n"
     ]
    },
    {
     "name": "stdout",
     "output_type": "stream",
     "text": [
      "epoch 91, training loss: 0.04489577189087868\n"
     ]
    },
    {
     "name": "stderr",
     "output_type": "stream",
     "text": [
      "352it [00:02, 133.42it/s]\n"
     ]
    },
    {
     "name": "stdout",
     "output_type": "stream",
     "text": [
      "epoch 92, training loss: 0.04096057265996933\n"
     ]
    },
    {
     "name": "stderr",
     "output_type": "stream",
     "text": [
      "352it [00:02, 132.96it/s]\n"
     ]
    },
    {
     "name": "stdout",
     "output_type": "stream",
     "text": [
      "epoch 93, training loss: 0.03862755373120308\n"
     ]
    },
    {
     "name": "stderr",
     "output_type": "stream",
     "text": [
      "352it [00:02, 132.54it/s]\n"
     ]
    },
    {
     "name": "stdout",
     "output_type": "stream",
     "text": [
      "epoch 94, training loss: 0.03519027307629585\n"
     ]
    },
    {
     "name": "stderr",
     "output_type": "stream",
     "text": [
      "352it [00:02, 136.27it/s]\n"
     ]
    },
    {
     "name": "stdout",
     "output_type": "stream",
     "text": [
      "epoch 95, training loss: 0.04443599283695221\n"
     ]
    },
    {
     "name": "stderr",
     "output_type": "stream",
     "text": [
      "100%|██████████| 40/40 [00:00<00:00, 382.20it/s]\n",
      "100%|██████████| 352/352 [00:00<00:00, 383.00it/s]\n"
     ]
    },
    {
     "name": "stdout",
     "output_type": "stream",
     "text": [
      "training loss: 0.0219638142734766, train accuracy: 0.9983333333333333\n",
      "validation loss: 2.1727683544158936, validation accuracy: 0.7934\n"
     ]
    },
    {
     "name": "stderr",
     "output_type": "stream",
     "text": [
      "352it [00:02, 136.59it/s]\n"
     ]
    },
    {
     "name": "stdout",
     "output_type": "stream",
     "text": [
      "epoch 96, training loss: 0.040698856115341187\n"
     ]
    },
    {
     "name": "stderr",
     "output_type": "stream",
     "text": [
      "352it [00:02, 136.37it/s]\n"
     ]
    },
    {
     "name": "stdout",
     "output_type": "stream",
     "text": [
      "epoch 97, training loss: 0.04362950101494789\n"
     ]
    },
    {
     "name": "stderr",
     "output_type": "stream",
     "text": [
      "352it [00:02, 136.66it/s]\n"
     ]
    },
    {
     "name": "stdout",
     "output_type": "stream",
     "text": [
      "epoch 98, training loss: 0.035463158041238785\n"
     ]
    },
    {
     "name": "stderr",
     "output_type": "stream",
     "text": [
      "352it [00:02, 136.66it/s]\n"
     ]
    },
    {
     "name": "stdout",
     "output_type": "stream",
     "text": [
      "epoch 99, training loss: 0.05040239170193672\n"
     ]
    },
    {
     "name": "stderr",
     "output_type": "stream",
     "text": [
      "352it [00:02, 136.23it/s]\n"
     ]
    },
    {
     "name": "stdout",
     "output_type": "stream",
     "text": [
      "epoch 100, training loss: 0.04531349241733551\n"
     ]
    },
    {
     "name": "stderr",
     "output_type": "stream",
     "text": [
      "100%|██████████| 40/40 [00:00<00:00, 383.42it/s]\n",
      "100%|██████████| 352/352 [00:00<00:00, 380.99it/s]\n"
     ]
    },
    {
     "name": "stdout",
     "output_type": "stream",
     "text": [
      "training loss: 0.02651706151664257, train accuracy: 0.9978222222222223\n",
      "validation loss: 2.1461105346679688, validation accuracy: 0.7876\n",
      "2021-11-30 22:12:59.540390: training sce on sce-imb_sym\n"
     ]
    },
    {
     "name": "stderr",
     "output_type": "stream",
     "text": [
      "252it [00:01, 136.11it/s]\n"
     ]
    },
    {
     "name": "stdout",
     "output_type": "stream",
     "text": [
      "epoch 1, training loss: 3.667851448059082\n"
     ]
    },
    {
     "name": "stderr",
     "output_type": "stream",
     "text": [
      "252it [00:01, 136.03it/s]\n"
     ]
    },
    {
     "name": "stdout",
     "output_type": "stream",
     "text": [
      "epoch 2, training loss: 2.877591609954834\n"
     ]
    },
    {
     "name": "stderr",
     "output_type": "stream",
     "text": [
      "252it [00:01, 136.19it/s]\n"
     ]
    },
    {
     "name": "stdout",
     "output_type": "stream",
     "text": [
      "epoch 3, training loss: 2.7921879291534424\n"
     ]
    },
    {
     "name": "stderr",
     "output_type": "stream",
     "text": [
      "252it [00:01, 136.38it/s]\n"
     ]
    },
    {
     "name": "stdout",
     "output_type": "stream",
     "text": [
      "epoch 4, training loss: 2.7600064277648926\n"
     ]
    },
    {
     "name": "stderr",
     "output_type": "stream",
     "text": [
      "252it [00:01, 136.29it/s]\n"
     ]
    },
    {
     "name": "stdout",
     "output_type": "stream",
     "text": [
      "epoch 5, training loss: 2.739243268966675\n"
     ]
    },
    {
     "name": "stderr",
     "output_type": "stream",
     "text": [
      "100%|██████████| 28/28 [00:00<00:00, 377.41it/s]\n",
      "100%|██████████| 252/252 [00:00<00:00, 382.14it/s]\n"
     ]
    },
    {
     "name": "stdout",
     "output_type": "stream",
     "text": [
      "training loss: 2.716498851776123, train accuracy: 0.7308468054736711\n",
      "validation loss: 2.7355358600616455, validation accuracy: 0.7335195530726257\n",
      "saving best model: sce-imb_sym-5\n"
     ]
    },
    {
     "name": "stderr",
     "output_type": "stream",
     "text": [
      "252it [00:01, 136.18it/s]\n"
     ]
    },
    {
     "name": "stdout",
     "output_type": "stream",
     "text": [
      "epoch 6, training loss: 2.7306642532348633\n"
     ]
    },
    {
     "name": "stderr",
     "output_type": "stream",
     "text": [
      "252it [00:01, 134.82it/s]\n"
     ]
    },
    {
     "name": "stdout",
     "output_type": "stream",
     "text": [
      "epoch 7, training loss: 2.719045877456665\n"
     ]
    },
    {
     "name": "stderr",
     "output_type": "stream",
     "text": [
      "252it [00:01, 134.91it/s]\n"
     ]
    },
    {
     "name": "stdout",
     "output_type": "stream",
     "text": [
      "epoch 8, training loss: 2.713409900665283\n"
     ]
    },
    {
     "name": "stderr",
     "output_type": "stream",
     "text": [
      "252it [00:01, 135.16it/s]\n"
     ]
    },
    {
     "name": "stdout",
     "output_type": "stream",
     "text": [
      "epoch 9, training loss: 2.6996004581451416\n"
     ]
    },
    {
     "name": "stderr",
     "output_type": "stream",
     "text": [
      "252it [00:01, 135.09it/s]\n"
     ]
    },
    {
     "name": "stdout",
     "output_type": "stream",
     "text": [
      "epoch 10, training loss: 2.685776472091675\n"
     ]
    },
    {
     "name": "stderr",
     "output_type": "stream",
     "text": [
      "100%|██████████| 28/28 [00:00<00:00, 375.05it/s]\n",
      "100%|██████████| 252/252 [00:00<00:00, 377.28it/s]\n"
     ]
    },
    {
     "name": "stdout",
     "output_type": "stream",
     "text": [
      "training loss: 2.666370153427124, train accuracy: 0.7351909889223323\n",
      "validation loss: 2.772853136062622, validation accuracy: 0.7301675977653631\n"
     ]
    },
    {
     "name": "stderr",
     "output_type": "stream",
     "text": [
      "252it [00:01, 134.94it/s]\n"
     ]
    },
    {
     "name": "stdout",
     "output_type": "stream",
     "text": [
      "epoch 11, training loss: 2.686736822128296\n"
     ]
    },
    {
     "name": "stderr",
     "output_type": "stream",
     "text": [
      "252it [00:01, 135.12it/s]\n"
     ]
    },
    {
     "name": "stdout",
     "output_type": "stream",
     "text": [
      "epoch 12, training loss: 2.675537586212158\n"
     ]
    },
    {
     "name": "stderr",
     "output_type": "stream",
     "text": [
      "252it [00:01, 134.72it/s]\n"
     ]
    },
    {
     "name": "stdout",
     "output_type": "stream",
     "text": [
      "epoch 13, training loss: 2.6618990898132324\n"
     ]
    },
    {
     "name": "stderr",
     "output_type": "stream",
     "text": [
      "252it [00:01, 135.09it/s]\n"
     ]
    },
    {
     "name": "stdout",
     "output_type": "stream",
     "text": [
      "epoch 14, training loss: 2.649712085723877\n"
     ]
    },
    {
     "name": "stderr",
     "output_type": "stream",
     "text": [
      "252it [00:01, 135.19it/s]\n"
     ]
    },
    {
     "name": "stdout",
     "output_type": "stream",
     "text": [
      "epoch 15, training loss: 2.634047746658325\n"
     ]
    },
    {
     "name": "stderr",
     "output_type": "stream",
     "text": [
      "100%|██████████| 28/28 [00:00<00:00, 375.02it/s]\n",
      "100%|██████████| 252/252 [00:00<00:00, 376.43it/s]\n"
     ]
    },
    {
     "name": "stdout",
     "output_type": "stream",
     "text": [
      "training loss: 2.601163148880005, train accuracy: 0.7418934433859807\n",
      "validation loss: 2.8473947048187256, validation accuracy: 0.7268156424581006\n"
     ]
    },
    {
     "name": "stderr",
     "output_type": "stream",
     "text": [
      "252it [00:01, 135.05it/s]\n"
     ]
    },
    {
     "name": "stdout",
     "output_type": "stream",
     "text": [
      "epoch 16, training loss: 2.614593029022217\n"
     ]
    },
    {
     "name": "stderr",
     "output_type": "stream",
     "text": [
      "252it [00:01, 135.14it/s]\n"
     ]
    },
    {
     "name": "stdout",
     "output_type": "stream",
     "text": [
      "epoch 17, training loss: 2.5988526344299316\n"
     ]
    },
    {
     "name": "stderr",
     "output_type": "stream",
     "text": [
      "252it [00:01, 134.80it/s]\n"
     ]
    },
    {
     "name": "stdout",
     "output_type": "stream",
     "text": [
      "epoch 18, training loss: 2.577683687210083\n"
     ]
    },
    {
     "name": "stderr",
     "output_type": "stream",
     "text": [
      "252it [00:01, 135.01it/s]\n"
     ]
    },
    {
     "name": "stdout",
     "output_type": "stream",
     "text": [
      "epoch 19, training loss: 2.558624267578125\n"
     ]
    },
    {
     "name": "stderr",
     "output_type": "stream",
     "text": [
      "252it [00:01, 134.99it/s]\n"
     ]
    },
    {
     "name": "stdout",
     "output_type": "stream",
     "text": [
      "epoch 20, training loss: 2.530874490737915\n"
     ]
    },
    {
     "name": "stderr",
     "output_type": "stream",
     "text": [
      "100%|██████████| 28/28 [00:00<00:00, 374.25it/s]\n",
      "100%|██████████| 252/252 [00:00<00:00, 376.92it/s]\n"
     ]
    },
    {
     "name": "stdout",
     "output_type": "stream",
     "text": [
      "training loss: 2.4846749305725098, train accuracy: 0.7550811431408446\n",
      "validation loss: 2.963085412979126, validation accuracy: 0.7153631284916201\n"
     ]
    },
    {
     "name": "stderr",
     "output_type": "stream",
     "text": [
      "252it [00:01, 135.07it/s]\n"
     ]
    },
    {
     "name": "stdout",
     "output_type": "stream",
     "text": [
      "epoch 21, training loss: 2.4963481426239014\n"
     ]
    },
    {
     "name": "stderr",
     "output_type": "stream",
     "text": [
      "252it [00:01, 134.91it/s]\n"
     ]
    },
    {
     "name": "stdout",
     "output_type": "stream",
     "text": [
      "epoch 22, training loss: 2.4646859169006348\n"
     ]
    },
    {
     "name": "stderr",
     "output_type": "stream",
     "text": [
      "252it [00:01, 134.94it/s]\n"
     ]
    },
    {
     "name": "stdout",
     "output_type": "stream",
     "text": [
      "epoch 23, training loss: 2.4385995864868164\n"
     ]
    },
    {
     "name": "stderr",
     "output_type": "stream",
     "text": [
      "252it [00:01, 134.63it/s]\n"
     ]
    },
    {
     "name": "stdout",
     "output_type": "stream",
     "text": [
      "epoch 24, training loss: 2.397690534591675\n"
     ]
    },
    {
     "name": "stderr",
     "output_type": "stream",
     "text": [
      "252it [00:01, 135.02it/s]\n"
     ]
    },
    {
     "name": "stdout",
     "output_type": "stream",
     "text": [
      "epoch 25, training loss: 2.362118721008301\n"
     ]
    },
    {
     "name": "stderr",
     "output_type": "stream",
     "text": [
      "100%|██████████| 28/28 [00:00<00:00, 375.49it/s]\n",
      "100%|██████████| 252/252 [00:00<00:00, 376.14it/s]\n"
     ]
    },
    {
     "name": "stdout",
     "output_type": "stream",
     "text": [
      "training loss: 2.297171115875244, train accuracy: 0.7733577435069973\n",
      "validation loss: 3.0474350452423096, validation accuracy: 0.7061452513966481\n"
     ]
    },
    {
     "name": "stderr",
     "output_type": "stream",
     "text": [
      "252it [00:01, 136.46it/s]\n"
     ]
    },
    {
     "name": "stdout",
     "output_type": "stream",
     "text": [
      "epoch 26, training loss: 2.316427230834961\n"
     ]
    },
    {
     "name": "stderr",
     "output_type": "stream",
     "text": [
      "252it [00:01, 136.56it/s]\n"
     ]
    },
    {
     "name": "stdout",
     "output_type": "stream",
     "text": [
      "epoch 27, training loss: 2.279203414916992\n"
     ]
    },
    {
     "name": "stderr",
     "output_type": "stream",
     "text": [
      "252it [00:01, 136.67it/s]\n"
     ]
    },
    {
     "name": "stdout",
     "output_type": "stream",
     "text": [
      "epoch 28, training loss: 2.2479872703552246\n"
     ]
    },
    {
     "name": "stderr",
     "output_type": "stream",
     "text": [
      "252it [00:01, 136.03it/s]\n"
     ]
    },
    {
     "name": "stdout",
     "output_type": "stream",
     "text": [
      "epoch 29, training loss: 2.2054443359375\n"
     ]
    },
    {
     "name": "stderr",
     "output_type": "stream",
     "text": [
      "252it [00:01, 136.47it/s]\n"
     ]
    },
    {
     "name": "stdout",
     "output_type": "stream",
     "text": [
      "epoch 30, training loss: 2.1615190505981445\n"
     ]
    },
    {
     "name": "stderr",
     "output_type": "stream",
     "text": [
      "100%|██████████| 28/28 [00:00<00:00, 381.91it/s]\n",
      "100%|██████████| 252/252 [00:00<00:00, 384.53it/s]\n"
     ]
    },
    {
     "name": "stdout",
     "output_type": "stream",
     "text": [
      "training loss: 2.08593487739563, train accuracy: 0.7948924814596456\n",
      "validation loss: 3.2467093467712402, validation accuracy: 0.6918994413407821\n"
     ]
    },
    {
     "name": "stderr",
     "output_type": "stream",
     "text": [
      "252it [00:01, 136.51it/s]\n"
     ]
    },
    {
     "name": "stdout",
     "output_type": "stream",
     "text": [
      "epoch 31, training loss: 2.1236064434051514\n"
     ]
    },
    {
     "name": "stderr",
     "output_type": "stream",
     "text": [
      "252it [00:01, 136.56it/s]\n"
     ]
    },
    {
     "name": "stdout",
     "output_type": "stream",
     "text": [
      "epoch 32, training loss: 2.0851666927337646\n"
     ]
    },
    {
     "name": "stderr",
     "output_type": "stream",
     "text": [
      "252it [00:01, 136.43it/s]\n"
     ]
    },
    {
     "name": "stdout",
     "output_type": "stream",
     "text": [
      "epoch 33, training loss: 2.054464101791382\n"
     ]
    },
    {
     "name": "stderr",
     "output_type": "stream",
     "text": [
      "252it [00:01, 136.21it/s]\n"
     ]
    },
    {
     "name": "stdout",
     "output_type": "stream",
     "text": [
      "epoch 34, training loss: 2.0079824924468994\n"
     ]
    },
    {
     "name": "stderr",
     "output_type": "stream",
     "text": [
      "252it [00:01, 136.05it/s]\n"
     ]
    },
    {
     "name": "stdout",
     "output_type": "stream",
     "text": [
      "epoch 35, training loss: 1.9778379201889038\n"
     ]
    },
    {
     "name": "stderr",
     "output_type": "stream",
     "text": [
      "100%|██████████| 28/28 [00:00<00:00, 383.25it/s]\n",
      "100%|██████████| 252/252 [00:00<00:00, 383.35it/s]\n"
     ]
    },
    {
     "name": "stdout",
     "output_type": "stream",
     "text": [
      "training loss: 1.9246251583099365, train accuracy: 0.8134793806435597\n",
      "validation loss: 3.477813482284546, validation accuracy: 0.6701117318435754\n"
     ]
    },
    {
     "name": "stderr",
     "output_type": "stream",
     "text": [
      "252it [00:01, 136.45it/s]\n"
     ]
    },
    {
     "name": "stdout",
     "output_type": "stream",
     "text": [
      "epoch 36, training loss: 1.946028470993042\n"
     ]
    },
    {
     "name": "stderr",
     "output_type": "stream",
     "text": [
      "252it [00:01, 136.51it/s]\n"
     ]
    },
    {
     "name": "stdout",
     "output_type": "stream",
     "text": [
      "epoch 37, training loss: 1.9034065008163452\n"
     ]
    },
    {
     "name": "stderr",
     "output_type": "stream",
     "text": [
      "252it [00:01, 136.39it/s]\n"
     ]
    },
    {
     "name": "stdout",
     "output_type": "stream",
     "text": [
      "epoch 38, training loss: 1.8755004405975342\n"
     ]
    },
    {
     "name": "stderr",
     "output_type": "stream",
     "text": [
      "252it [00:01, 136.60it/s]\n"
     ]
    },
    {
     "name": "stdout",
     "output_type": "stream",
     "text": [
      "epoch 39, training loss: 1.8441944122314453\n"
     ]
    },
    {
     "name": "stderr",
     "output_type": "stream",
     "text": [
      "252it [00:01, 135.93it/s]\n"
     ]
    },
    {
     "name": "stdout",
     "output_type": "stream",
     "text": [
      "epoch 40, training loss: 1.8172394037246704\n"
     ]
    },
    {
     "name": "stderr",
     "output_type": "stream",
     "text": [
      "100%|██████████| 28/28 [00:00<00:00, 373.45it/s]\n",
      "100%|██████████| 252/252 [00:00<00:00, 375.81it/s]\n"
     ]
    },
    {
     "name": "stdout",
     "output_type": "stream",
     "text": [
      "training loss: 1.746371865272522, train accuracy: 0.8302665466844571\n",
      "validation loss: 3.536785364151001, validation accuracy: 0.6625698324022347\n"
     ]
    },
    {
     "name": "stderr",
     "output_type": "stream",
     "text": [
      "252it [00:01, 134.90it/s]\n"
     ]
    },
    {
     "name": "stdout",
     "output_type": "stream",
     "text": [
      "epoch 41, training loss: 1.7783583402633667\n"
     ]
    },
    {
     "name": "stderr",
     "output_type": "stream",
     "text": [
      "252it [00:01, 134.97it/s]\n"
     ]
    },
    {
     "name": "stdout",
     "output_type": "stream",
     "text": [
      "epoch 42, training loss: 1.7623802423477173\n"
     ]
    },
    {
     "name": "stderr",
     "output_type": "stream",
     "text": [
      "252it [00:01, 136.40it/s]\n"
     ]
    },
    {
     "name": "stdout",
     "output_type": "stream",
     "text": [
      "epoch 43, training loss: 1.7241945266723633\n"
     ]
    },
    {
     "name": "stderr",
     "output_type": "stream",
     "text": [
      "252it [00:01, 136.42it/s]\n"
     ]
    },
    {
     "name": "stdout",
     "output_type": "stream",
     "text": [
      "epoch 44, training loss: 1.6995749473571777\n"
     ]
    },
    {
     "name": "stderr",
     "output_type": "stream",
     "text": [
      "252it [00:01, 136.38it/s]\n"
     ]
    },
    {
     "name": "stdout",
     "output_type": "stream",
     "text": [
      "epoch 45, training loss: 1.6871320009231567\n"
     ]
    },
    {
     "name": "stderr",
     "output_type": "stream",
     "text": [
      "100%|██████████| 28/28 [00:00<00:00, 381.51it/s]\n",
      "100%|██████████| 252/252 [00:00<00:00, 383.12it/s]\n"
     ]
    },
    {
     "name": "stdout",
     "output_type": "stream",
     "text": [
      "training loss: 1.6408071517944336, train accuracy: 0.8413442144785428\n",
      "validation loss: 3.6553053855895996, validation accuracy: 0.6511173184357542\n"
     ]
    },
    {
     "name": "stderr",
     "output_type": "stream",
     "text": [
      "252it [00:01, 136.40it/s]\n"
     ]
    },
    {
     "name": "stdout",
     "output_type": "stream",
     "text": [
      "epoch 46, training loss: 1.6758110523223877\n"
     ]
    },
    {
     "name": "stderr",
     "output_type": "stream",
     "text": [
      "252it [00:01, 136.53it/s]\n"
     ]
    },
    {
     "name": "stdout",
     "output_type": "stream",
     "text": [
      "epoch 47, training loss: 1.6444145441055298\n"
     ]
    },
    {
     "name": "stderr",
     "output_type": "stream",
     "text": [
      "252it [00:01, 136.44it/s]\n"
     ]
    },
    {
     "name": "stdout",
     "output_type": "stream",
     "text": [
      "epoch 48, training loss: 1.615673542022705\n"
     ]
    },
    {
     "name": "stderr",
     "output_type": "stream",
     "text": [
      "252it [00:01, 136.48it/s]\n"
     ]
    },
    {
     "name": "stdout",
     "output_type": "stream",
     "text": [
      "epoch 49, training loss: 1.6055912971496582\n"
     ]
    },
    {
     "name": "stderr",
     "output_type": "stream",
     "text": [
      "252it [00:01, 135.76it/s]\n"
     ]
    },
    {
     "name": "stdout",
     "output_type": "stream",
     "text": [
      "epoch 50, training loss: 1.5834097862243652\n"
     ]
    },
    {
     "name": "stderr",
     "output_type": "stream",
     "text": [
      "100%|██████████| 28/28 [00:00<00:00, 375.82it/s]\n",
      "100%|██████████| 252/252 [00:00<00:00, 375.98it/s]\n"
     ]
    },
    {
     "name": "stdout",
     "output_type": "stream",
     "text": [
      "training loss: 1.539562702178955, train accuracy: 0.8501256710211934\n",
      "validation loss: 3.6045801639556885, validation accuracy: 0.6564245810055865\n"
     ]
    },
    {
     "name": "stderr",
     "output_type": "stream",
     "text": [
      "252it [00:01, 135.14it/s]\n"
     ]
    },
    {
     "name": "stdout",
     "output_type": "stream",
     "text": [
      "epoch 51, training loss: 1.5738251209259033\n"
     ]
    },
    {
     "name": "stderr",
     "output_type": "stream",
     "text": [
      "252it [00:01, 135.47it/s]\n"
     ]
    },
    {
     "name": "stdout",
     "output_type": "stream",
     "text": [
      "epoch 52, training loss: 1.5639970302581787\n"
     ]
    },
    {
     "name": "stderr",
     "output_type": "stream",
     "text": [
      "252it [00:01, 135.36it/s]\n"
     ]
    },
    {
     "name": "stdout",
     "output_type": "stream",
     "text": [
      "epoch 53, training loss: 1.5550909042358398\n"
     ]
    },
    {
     "name": "stderr",
     "output_type": "stream",
     "text": [
      "252it [00:01, 135.37it/s]\n"
     ]
    },
    {
     "name": "stdout",
     "output_type": "stream",
     "text": [
      "epoch 54, training loss: 1.5380566120147705\n"
     ]
    },
    {
     "name": "stderr",
     "output_type": "stream",
     "text": [
      "252it [00:01, 135.42it/s]\n"
     ]
    },
    {
     "name": "stdout",
     "output_type": "stream",
     "text": [
      "epoch 55, training loss: 1.5306633710861206\n"
     ]
    },
    {
     "name": "stderr",
     "output_type": "stream",
     "text": [
      "100%|██████████| 28/28 [00:00<00:00, 376.35it/s]\n",
      "100%|██████████| 252/252 [00:00<00:00, 379.77it/s]\n"
     ]
    },
    {
     "name": "stdout",
     "output_type": "stream",
     "text": [
      "training loss: 1.4918080568313599, train accuracy: 0.8554938405684674\n",
      "validation loss: 3.734170436859131, validation accuracy: 0.6446927374301676\n"
     ]
    },
    {
     "name": "stderr",
     "output_type": "stream",
     "text": [
      "252it [00:01, 134.97it/s]\n"
     ]
    },
    {
     "name": "stdout",
     "output_type": "stream",
     "text": [
      "epoch 56, training loss: 1.5332263708114624\n"
     ]
    },
    {
     "name": "stderr",
     "output_type": "stream",
     "text": [
      "252it [00:01, 135.48it/s]\n"
     ]
    },
    {
     "name": "stdout",
     "output_type": "stream",
     "text": [
      "epoch 57, training loss: 1.5056650638580322\n"
     ]
    },
    {
     "name": "stderr",
     "output_type": "stream",
     "text": [
      "252it [00:01, 135.39it/s]\n"
     ]
    },
    {
     "name": "stdout",
     "output_type": "stream",
     "text": [
      "epoch 58, training loss: 1.4983776807785034\n"
     ]
    },
    {
     "name": "stderr",
     "output_type": "stream",
     "text": [
      "252it [00:01, 135.30it/s]\n"
     ]
    },
    {
     "name": "stdout",
     "output_type": "stream",
     "text": [
      "epoch 59, training loss: 1.487294316291809\n"
     ]
    },
    {
     "name": "stderr",
     "output_type": "stream",
     "text": [
      "252it [00:01, 135.32it/s]\n"
     ]
    },
    {
     "name": "stdout",
     "output_type": "stream",
     "text": [
      "epoch 60, training loss: 1.4737069606781006\n"
     ]
    },
    {
     "name": "stderr",
     "output_type": "stream",
     "text": [
      "100%|██████████| 28/28 [00:00<00:00, 377.95it/s]\n",
      "100%|██████████| 252/252 [00:00<00:00, 379.02it/s]\n"
     ]
    },
    {
     "name": "stdout",
     "output_type": "stream",
     "text": [
      "training loss: 1.4205418825149536, train accuracy: 0.860986129642846\n",
      "validation loss: 3.6960318088531494, validation accuracy: 0.646927374301676\n"
     ]
    },
    {
     "name": "stderr",
     "output_type": "stream",
     "text": [
      "252it [00:01, 134.96it/s]\n"
     ]
    },
    {
     "name": "stdout",
     "output_type": "stream",
     "text": [
      "epoch 61, training loss: 1.4689339399337769\n"
     ]
    },
    {
     "name": "stderr",
     "output_type": "stream",
     "text": [
      "252it [00:01, 135.42it/s]\n"
     ]
    },
    {
     "name": "stdout",
     "output_type": "stream",
     "text": [
      "epoch 62, training loss: 1.4709094762802124\n"
     ]
    },
    {
     "name": "stderr",
     "output_type": "stream",
     "text": [
      "252it [00:01, 135.47it/s]\n"
     ]
    },
    {
     "name": "stdout",
     "output_type": "stream",
     "text": [
      "epoch 63, training loss: 1.4556758403778076\n"
     ]
    },
    {
     "name": "stderr",
     "output_type": "stream",
     "text": [
      "252it [00:01, 135.48it/s]\n"
     ]
    },
    {
     "name": "stdout",
     "output_type": "stream",
     "text": [
      "epoch 64, training loss: 1.4381682872772217\n"
     ]
    },
    {
     "name": "stderr",
     "output_type": "stream",
     "text": [
      "252it [00:01, 135.20it/s]\n"
     ]
    },
    {
     "name": "stdout",
     "output_type": "stream",
     "text": [
      "epoch 65, training loss: 1.4457075595855713\n"
     ]
    },
    {
     "name": "stderr",
     "output_type": "stream",
     "text": [
      "100%|██████████| 28/28 [00:00<00:00, 377.03it/s]\n",
      "100%|██████████| 252/252 [00:00<00:00, 378.46it/s]\n"
     ]
    },
    {
     "name": "stdout",
     "output_type": "stream",
     "text": [
      "training loss: 1.4155149459838867, train accuracy: 0.8633444006578335\n",
      "validation loss: 3.784182071685791, validation accuracy: 0.6410614525139665\n"
     ]
    },
    {
     "name": "stderr",
     "output_type": "stream",
     "text": [
      "252it [00:01, 135.05it/s]\n"
     ]
    },
    {
     "name": "stdout",
     "output_type": "stream",
     "text": [
      "epoch 66, training loss: 1.4528577327728271\n"
     ]
    },
    {
     "name": "stderr",
     "output_type": "stream",
     "text": [
      "252it [00:01, 135.14it/s]\n"
     ]
    },
    {
     "name": "stdout",
     "output_type": "stream",
     "text": [
      "epoch 67, training loss: 1.4374631643295288\n"
     ]
    },
    {
     "name": "stderr",
     "output_type": "stream",
     "text": [
      "252it [00:01, 135.25it/s]\n"
     ]
    },
    {
     "name": "stdout",
     "output_type": "stream",
     "text": [
      "epoch 68, training loss: 1.4145557880401611\n"
     ]
    },
    {
     "name": "stderr",
     "output_type": "stream",
     "text": [
      "252it [00:01, 135.23it/s]\n"
     ]
    },
    {
     "name": "stdout",
     "output_type": "stream",
     "text": [
      "epoch 69, training loss: 1.4110718965530396\n"
     ]
    },
    {
     "name": "stderr",
     "output_type": "stream",
     "text": [
      "252it [00:01, 135.33it/s]\n"
     ]
    },
    {
     "name": "stdout",
     "output_type": "stream",
     "text": [
      "epoch 70, training loss: 1.4098817110061646\n"
     ]
    },
    {
     "name": "stderr",
     "output_type": "stream",
     "text": [
      "100%|██████████| 28/28 [00:00<00:00, 376.75it/s]\n",
      "100%|██████████| 252/252 [00:00<00:00, 378.18it/s]\n"
     ]
    },
    {
     "name": "stdout",
     "output_type": "stream",
     "text": [
      "training loss: 1.372839093208313, train accuracy: 0.8663232693083439\n",
      "validation loss: 3.72239351272583, validation accuracy: 0.6430167597765363\n"
     ]
    },
    {
     "name": "stderr",
     "output_type": "stream",
     "text": [
      "252it [00:01, 135.00it/s]\n"
     ]
    },
    {
     "name": "stdout",
     "output_type": "stream",
     "text": [
      "epoch 71, training loss: 1.4250714778900146\n"
     ]
    },
    {
     "name": "stderr",
     "output_type": "stream",
     "text": [
      "252it [00:01, 135.28it/s]\n"
     ]
    },
    {
     "name": "stdout",
     "output_type": "stream",
     "text": [
      "epoch 72, training loss: 1.4087125062942505\n"
     ]
    },
    {
     "name": "stderr",
     "output_type": "stream",
     "text": [
      "252it [00:01, 135.39it/s]\n"
     ]
    },
    {
     "name": "stdout",
     "output_type": "stream",
     "text": [
      "epoch 73, training loss: 1.4022035598754883\n"
     ]
    },
    {
     "name": "stderr",
     "output_type": "stream",
     "text": [
      "252it [00:01, 135.34it/s]\n"
     ]
    },
    {
     "name": "stdout",
     "output_type": "stream",
     "text": [
      "epoch 74, training loss: 1.3972620964050293\n"
     ]
    },
    {
     "name": "stderr",
     "output_type": "stream",
     "text": [
      "252it [00:01, 135.29it/s]\n"
     ]
    },
    {
     "name": "stdout",
     "output_type": "stream",
     "text": [
      "epoch 75, training loss: 1.3936876058578491\n"
     ]
    },
    {
     "name": "stderr",
     "output_type": "stream",
     "text": [
      "100%|██████████| 28/28 [00:00<00:00, 377.59it/s]\n",
      "100%|██████████| 252/252 [00:00<00:00, 378.72it/s]\n"
     ]
    },
    {
     "name": "stdout",
     "output_type": "stream",
     "text": [
      "training loss: 1.3549538850784302, train accuracy: 0.867781673751823\n",
      "validation loss: 3.7878355979919434, validation accuracy: 0.638268156424581\n"
     ]
    },
    {
     "name": "stderr",
     "output_type": "stream",
     "text": [
      "252it [00:01, 135.02it/s]\n"
     ]
    },
    {
     "name": "stdout",
     "output_type": "stream",
     "text": [
      "epoch 76, training loss: 1.395644187927246\n"
     ]
    },
    {
     "name": "stderr",
     "output_type": "stream",
     "text": [
      "252it [00:01, 135.33it/s]\n"
     ]
    },
    {
     "name": "stdout",
     "output_type": "stream",
     "text": [
      "epoch 77, training loss: 1.3902456760406494\n"
     ]
    },
    {
     "name": "stderr",
     "output_type": "stream",
     "text": [
      "252it [00:01, 135.29it/s]\n"
     ]
    },
    {
     "name": "stdout",
     "output_type": "stream",
     "text": [
      "epoch 78, training loss: 1.3895732164382935\n"
     ]
    },
    {
     "name": "stderr",
     "output_type": "stream",
     "text": [
      "252it [00:01, 135.33it/s]\n"
     ]
    },
    {
     "name": "stdout",
     "output_type": "stream",
     "text": [
      "epoch 79, training loss: 1.3825937509536743\n"
     ]
    },
    {
     "name": "stderr",
     "output_type": "stream",
     "text": [
      "252it [00:01, 135.37it/s]\n"
     ]
    },
    {
     "name": "stdout",
     "output_type": "stream",
     "text": [
      "epoch 80, training loss: 1.3782199621200562\n"
     ]
    },
    {
     "name": "stderr",
     "output_type": "stream",
     "text": [
      "100%|██████████| 28/28 [00:00<00:00, 378.07it/s]\n",
      "100%|██████████| 252/252 [00:00<00:00, 378.70it/s]\n"
     ]
    },
    {
     "name": "stdout",
     "output_type": "stream",
     "text": [
      "training loss: 1.3332267999649048, train accuracy: 0.8690538989046451\n",
      "validation loss: 3.8237290382385254, validation accuracy: 0.6363128491620111\n"
     ]
    },
    {
     "name": "stderr",
     "output_type": "stream",
     "text": [
      "252it [00:01, 135.22it/s]\n"
     ]
    },
    {
     "name": "stdout",
     "output_type": "stream",
     "text": [
      "epoch 81, training loss: 1.3787047863006592\n"
     ]
    },
    {
     "name": "stderr",
     "output_type": "stream",
     "text": [
      "252it [00:01, 135.17it/s]\n"
     ]
    },
    {
     "name": "stdout",
     "output_type": "stream",
     "text": [
      "epoch 82, training loss: 1.3762083053588867\n"
     ]
    },
    {
     "name": "stderr",
     "output_type": "stream",
     "text": [
      "252it [00:01, 135.47it/s]\n"
     ]
    },
    {
     "name": "stdout",
     "output_type": "stream",
     "text": [
      "epoch 83, training loss: 1.366167664527893\n"
     ]
    },
    {
     "name": "stderr",
     "output_type": "stream",
     "text": [
      "252it [00:01, 135.30it/s]\n"
     ]
    },
    {
     "name": "stdout",
     "output_type": "stream",
     "text": [
      "epoch 84, training loss: 1.3649338483810425\n"
     ]
    },
    {
     "name": "stderr",
     "output_type": "stream",
     "text": [
      "252it [00:01, 135.46it/s]\n"
     ]
    },
    {
     "name": "stdout",
     "output_type": "stream",
     "text": [
      "epoch 85, training loss: 1.3648422956466675\n"
     ]
    },
    {
     "name": "stderr",
     "output_type": "stream",
     "text": [
      "100%|██████████| 28/28 [00:00<00:00, 376.72it/s]\n",
      "100%|██████████| 252/252 [00:00<00:00, 378.01it/s]\n"
     ]
    },
    {
     "name": "stdout",
     "output_type": "stream",
     "text": [
      "training loss: 1.3315367698669434, train accuracy: 0.8697365563037205\n",
      "validation loss: 3.8392598628997803, validation accuracy: 0.6368715083798883\n"
     ]
    },
    {
     "name": "stderr",
     "output_type": "stream",
     "text": [
      "252it [00:01, 135.23it/s]\n"
     ]
    },
    {
     "name": "stdout",
     "output_type": "stream",
     "text": [
      "epoch 86, training loss: 1.365753173828125\n"
     ]
    },
    {
     "name": "stderr",
     "output_type": "stream",
     "text": [
      "252it [00:01, 134.95it/s]\n"
     ]
    },
    {
     "name": "stdout",
     "output_type": "stream",
     "text": [
      "epoch 87, training loss: 1.3612903356552124\n"
     ]
    },
    {
     "name": "stderr",
     "output_type": "stream",
     "text": [
      "252it [00:01, 135.36it/s]\n"
     ]
    },
    {
     "name": "stdout",
     "output_type": "stream",
     "text": [
      "epoch 88, training loss: 1.3635824918746948\n"
     ]
    },
    {
     "name": "stderr",
     "output_type": "stream",
     "text": [
      "252it [00:01, 135.32it/s]\n"
     ]
    },
    {
     "name": "stdout",
     "output_type": "stream",
     "text": [
      "epoch 89, training loss: 1.3604440689086914\n"
     ]
    },
    {
     "name": "stderr",
     "output_type": "stream",
     "text": [
      "252it [00:01, 135.35it/s]\n"
     ]
    },
    {
     "name": "stdout",
     "output_type": "stream",
     "text": [
      "epoch 90, training loss: 1.3591325283050537\n"
     ]
    },
    {
     "name": "stderr",
     "output_type": "stream",
     "text": [
      "100%|██████████| 28/28 [00:00<00:00, 378.42it/s]\n",
      "100%|██████████| 252/252 [00:00<00:00, 378.02it/s]\n"
     ]
    },
    {
     "name": "stdout",
     "output_type": "stream",
     "text": [
      "training loss: 1.3144792318344116, train accuracy: 0.8704502435845719\n",
      "validation loss: 3.7710607051849365, validation accuracy: 0.6391061452513966\n"
     ]
    },
    {
     "name": "stderr",
     "output_type": "stream",
     "text": [
      "252it [00:01, 135.37it/s]\n"
     ]
    },
    {
     "name": "stdout",
     "output_type": "stream",
     "text": [
      "epoch 91, training loss: 1.3584967851638794\n"
     ]
    },
    {
     "name": "stderr",
     "output_type": "stream",
     "text": [
      "252it [00:01, 135.09it/s]\n"
     ]
    },
    {
     "name": "stdout",
     "output_type": "stream",
     "text": [
      "epoch 92, training loss: 1.3496277332305908\n"
     ]
    },
    {
     "name": "stderr",
     "output_type": "stream",
     "text": [
      "252it [00:01, 135.48it/s]\n"
     ]
    },
    {
     "name": "stdout",
     "output_type": "stream",
     "text": [
      "epoch 93, training loss: 1.3502488136291504\n"
     ]
    },
    {
     "name": "stderr",
     "output_type": "stream",
     "text": [
      "252it [00:01, 135.47it/s]\n"
     ]
    },
    {
     "name": "stdout",
     "output_type": "stream",
     "text": [
      "epoch 94, training loss: 1.3619861602783203\n"
     ]
    },
    {
     "name": "stderr",
     "output_type": "stream",
     "text": [
      "252it [00:01, 135.24it/s]\n"
     ]
    },
    {
     "name": "stdout",
     "output_type": "stream",
     "text": [
      "epoch 95, training loss: 1.3496755361557007\n"
     ]
    },
    {
     "name": "stderr",
     "output_type": "stream",
     "text": [
      "100%|██████████| 28/28 [00:00<00:00, 377.08it/s]\n",
      "100%|██████████| 252/252 [00:00<00:00, 378.35it/s]\n"
     ]
    },
    {
     "name": "stdout",
     "output_type": "stream",
     "text": [
      "training loss: 1.310606598854065, train accuracy: 0.8707915722841096\n",
      "validation loss: 3.744875192642212, validation accuracy: 0.6438547486033519\n"
     ]
    },
    {
     "name": "stderr",
     "output_type": "stream",
     "text": [
      "252it [00:01, 135.29it/s]\n"
     ]
    },
    {
     "name": "stdout",
     "output_type": "stream",
     "text": [
      "epoch 96, training loss: 1.3453845977783203\n"
     ]
    },
    {
     "name": "stderr",
     "output_type": "stream",
     "text": [
      "252it [00:01, 134.99it/s]\n"
     ]
    },
    {
     "name": "stdout",
     "output_type": "stream",
     "text": [
      "epoch 97, training loss: 1.3414626121520996\n"
     ]
    },
    {
     "name": "stderr",
     "output_type": "stream",
     "text": [
      "252it [00:01, 135.32it/s]\n"
     ]
    },
    {
     "name": "stdout",
     "output_type": "stream",
     "text": [
      "epoch 98, training loss: 1.3423621654510498\n"
     ]
    },
    {
     "name": "stderr",
     "output_type": "stream",
     "text": [
      "252it [00:01, 135.32it/s]\n"
     ]
    },
    {
     "name": "stdout",
     "output_type": "stream",
     "text": [
      "epoch 99, training loss: 1.3371899127960205\n"
     ]
    },
    {
     "name": "stderr",
     "output_type": "stream",
     "text": [
      "252it [00:01, 135.24it/s]\n"
     ]
    },
    {
     "name": "stdout",
     "output_type": "stream",
     "text": [
      "epoch 100, training loss: 1.3403204679489136\n"
     ]
    },
    {
     "name": "stderr",
     "output_type": "stream",
     "text": [
      "100%|██████████| 28/28 [00:00<00:00, 376.88it/s]\n",
      "100%|██████████| 252/252 [00:00<00:00, 377.93it/s]\n"
     ]
    },
    {
     "name": "stdout",
     "output_type": "stream",
     "text": [
      "training loss: 1.3127496242523193, train accuracy: 0.8706053929934527\n",
      "validation loss: 3.7904434204101562, validation accuracy: 0.6396648044692738\n",
      "2021-11-30 22:16:21.293406: training sce on sce-imb_asym\n"
     ]
    },
    {
     "name": "stderr",
     "output_type": "stream",
     "text": [
      "252it [00:01, 133.35it/s]\n"
     ]
    },
    {
     "name": "stdout",
     "output_type": "stream",
     "text": [
      "epoch 1, training loss: 2.6428050994873047\n"
     ]
    },
    {
     "name": "stderr",
     "output_type": "stream",
     "text": [
      "252it [00:01, 134.97it/s]\n"
     ]
    },
    {
     "name": "stdout",
     "output_type": "stream",
     "text": [
      "epoch 2, training loss: 1.7250932455062866\n"
     ]
    },
    {
     "name": "stderr",
     "output_type": "stream",
     "text": [
      "252it [00:01, 135.38it/s]\n"
     ]
    },
    {
     "name": "stdout",
     "output_type": "stream",
     "text": [
      "epoch 3, training loss: 1.619970679283142\n"
     ]
    },
    {
     "name": "stderr",
     "output_type": "stream",
     "text": [
      "252it [00:01, 135.42it/s]\n"
     ]
    },
    {
     "name": "stdout",
     "output_type": "stream",
     "text": [
      "epoch 4, training loss: 1.568921446800232\n"
     ]
    },
    {
     "name": "stderr",
     "output_type": "stream",
     "text": [
      "252it [00:01, 135.38it/s]\n"
     ]
    },
    {
     "name": "stdout",
     "output_type": "stream",
     "text": [
      "epoch 5, training loss: 1.5496898889541626\n"
     ]
    },
    {
     "name": "stderr",
     "output_type": "stream",
     "text": [
      "100%|██████████| 28/28 [00:00<00:00, 376.27it/s]\n",
      "100%|██████████| 252/252 [00:00<00:00, 378.15it/s]\n"
     ]
    },
    {
     "name": "stdout",
     "output_type": "stream",
     "text": [
      "training loss: 1.5070319175720215, train accuracy: 0.8490396251590282\n",
      "validation loss: 1.4895306825637817, validation accuracy: 0.8541899441340782\n",
      "saving best model: sce-imb_asym-5\n"
     ]
    },
    {
     "name": "stderr",
     "output_type": "stream",
     "text": [
      "252it [00:01, 135.33it/s]\n"
     ]
    },
    {
     "name": "stdout",
     "output_type": "stream",
     "text": [
      "epoch 6, training loss: 1.527885913848877\n"
     ]
    },
    {
     "name": "stderr",
     "output_type": "stream",
     "text": [
      "252it [00:01, 135.23it/s]\n"
     ]
    },
    {
     "name": "stdout",
     "output_type": "stream",
     "text": [
      "epoch 7, training loss: 1.4963390827178955\n"
     ]
    },
    {
     "name": "stderr",
     "output_type": "stream",
     "text": [
      "252it [00:01, 135.24it/s]\n"
     ]
    },
    {
     "name": "stdout",
     "output_type": "stream",
     "text": [
      "epoch 8, training loss: 1.479422688484192\n"
     ]
    },
    {
     "name": "stderr",
     "output_type": "stream",
     "text": [
      "252it [00:01, 135.41it/s]\n"
     ]
    },
    {
     "name": "stdout",
     "output_type": "stream",
     "text": [
      "epoch 9, training loss: 1.4611308574676514\n"
     ]
    },
    {
     "name": "stderr",
     "output_type": "stream",
     "text": [
      "252it [00:01, 135.46it/s]\n"
     ]
    },
    {
     "name": "stdout",
     "output_type": "stream",
     "text": [
      "epoch 10, training loss: 1.4378024339675903\n"
     ]
    },
    {
     "name": "stderr",
     "output_type": "stream",
     "text": [
      "100%|██████████| 28/28 [00:00<00:00, 376.51it/s]\n",
      "100%|██████████| 252/252 [00:00<00:00, 378.50it/s]\n"
     ]
    },
    {
     "name": "stdout",
     "output_type": "stream",
     "text": [
      "training loss: 1.3698195219039917, train accuracy: 0.8623204145592205\n",
      "validation loss: 1.5456202030181885, validation accuracy: 0.8449720670391061\n"
     ]
    },
    {
     "name": "stderr",
     "output_type": "stream",
     "text": [
      "252it [00:01, 135.40it/s]\n"
     ]
    },
    {
     "name": "stdout",
     "output_type": "stream",
     "text": [
      "epoch 11, training loss: 1.4085969924926758\n"
     ]
    },
    {
     "name": "stderr",
     "output_type": "stream",
     "text": [
      "252it [00:01, 135.26it/s]\n"
     ]
    },
    {
     "name": "stdout",
     "output_type": "stream",
     "text": [
      "epoch 12, training loss: 1.3799532651901245\n"
     ]
    },
    {
     "name": "stderr",
     "output_type": "stream",
     "text": [
      "252it [00:01, 135.17it/s]\n"
     ]
    },
    {
     "name": "stdout",
     "output_type": "stream",
     "text": [
      "epoch 13, training loss: 1.3436163663864136\n"
     ]
    },
    {
     "name": "stderr",
     "output_type": "stream",
     "text": [
      "252it [00:01, 135.38it/s]\n"
     ]
    },
    {
     "name": "stdout",
     "output_type": "stream",
     "text": [
      "epoch 14, training loss: 1.2944064140319824\n"
     ]
    },
    {
     "name": "stderr",
     "output_type": "stream",
     "text": [
      "252it [00:01, 135.44it/s]\n"
     ]
    },
    {
     "name": "stdout",
     "output_type": "stream",
     "text": [
      "epoch 15, training loss: 1.2652428150177002\n"
     ]
    },
    {
     "name": "stderr",
     "output_type": "stream",
     "text": [
      "100%|██████████| 28/28 [00:00<00:00, 376.45it/s]\n",
      "100%|██████████| 252/252 [00:00<00:00, 377.41it/s]\n"
     ]
    },
    {
     "name": "stdout",
     "output_type": "stream",
     "text": [
      "training loss: 1.1495468616485596, train accuracy: 0.8872994693890216\n",
      "validation loss: 1.6851129531860352, validation accuracy: 0.8337988826815642\n"
     ]
    },
    {
     "name": "stderr",
     "output_type": "stream",
     "text": [
      "252it [00:01, 135.35it/s]\n"
     ]
    },
    {
     "name": "stdout",
     "output_type": "stream",
     "text": [
      "epoch 16, training loss: 1.2000566720962524\n"
     ]
    },
    {
     "name": "stderr",
     "output_type": "stream",
     "text": [
      "252it [00:01, 135.43it/s]\n"
     ]
    },
    {
     "name": "stdout",
     "output_type": "stream",
     "text": [
      "epoch 17, training loss: 1.1527583599090576\n"
     ]
    },
    {
     "name": "stderr",
     "output_type": "stream",
     "text": [
      "252it [00:01, 134.42it/s]\n"
     ]
    },
    {
     "name": "stdout",
     "output_type": "stream",
     "text": [
      "epoch 18, training loss: 1.1156351566314697\n"
     ]
    },
    {
     "name": "stderr",
     "output_type": "stream",
     "text": [
      "252it [00:01, 135.01it/s]\n"
     ]
    },
    {
     "name": "stdout",
     "output_type": "stream",
     "text": [
      "epoch 19, training loss: 1.0768656730651855\n"
     ]
    },
    {
     "name": "stderr",
     "output_type": "stream",
     "text": [
      "252it [00:01, 134.95it/s]\n"
     ]
    },
    {
     "name": "stdout",
     "output_type": "stream",
     "text": [
      "epoch 20, training loss: 1.0214362144470215\n"
     ]
    },
    {
     "name": "stderr",
     "output_type": "stream",
     "text": [
      "100%|██████████| 28/28 [00:00<00:00, 374.13it/s]\n",
      "100%|██████████| 252/252 [00:00<00:00, 375.57it/s]\n"
     ]
    },
    {
     "name": "stdout",
     "output_type": "stream",
     "text": [
      "training loss: 0.9404342770576477, train accuracy: 0.9066621156173394\n",
      "validation loss: 1.6677964925765991, validation accuracy: 0.8329608938547486\n"
     ]
    },
    {
     "name": "stderr",
     "output_type": "stream",
     "text": [
      "252it [00:01, 134.86it/s]\n"
     ]
    },
    {
     "name": "stdout",
     "output_type": "stream",
     "text": [
      "epoch 21, training loss: 0.980239748954773\n"
     ]
    },
    {
     "name": "stderr",
     "output_type": "stream",
     "text": [
      "252it [00:01, 134.90it/s]\n"
     ]
    },
    {
     "name": "stdout",
     "output_type": "stream",
     "text": [
      "epoch 22, training loss: 0.9665866494178772\n"
     ]
    },
    {
     "name": "stderr",
     "output_type": "stream",
     "text": [
      "252it [00:01, 134.62it/s]\n"
     ]
    },
    {
     "name": "stdout",
     "output_type": "stream",
     "text": [
      "epoch 23, training loss: 0.9212371706962585\n"
     ]
    },
    {
     "name": "stderr",
     "output_type": "stream",
     "text": [
      "252it [00:01, 135.03it/s]\n"
     ]
    },
    {
     "name": "stdout",
     "output_type": "stream",
     "text": [
      "epoch 24, training loss: 0.895612895488739\n"
     ]
    },
    {
     "name": "stderr",
     "output_type": "stream",
     "text": [
      "252it [00:01, 134.96it/s]\n"
     ]
    },
    {
     "name": "stdout",
     "output_type": "stream",
     "text": [
      "epoch 25, training loss: 0.8565899133682251\n"
     ]
    },
    {
     "name": "stderr",
     "output_type": "stream",
     "text": [
      "100%|██████████| 28/28 [00:00<00:00, 375.32it/s]\n",
      "100%|██████████| 252/252 [00:00<00:00, 374.72it/s]\n"
     ]
    },
    {
     "name": "stdout",
     "output_type": "stream",
     "text": [
      "training loss: 0.8019464612007141, train accuracy: 0.9215254289881155\n",
      "validation loss: 1.7885593175888062, validation accuracy: 0.8240223463687151\n"
     ]
    },
    {
     "name": "stderr",
     "output_type": "stream",
     "text": [
      "252it [00:01, 134.90it/s]\n"
     ]
    },
    {
     "name": "stdout",
     "output_type": "stream",
     "text": [
      "epoch 26, training loss: 0.852544367313385\n"
     ]
    },
    {
     "name": "stderr",
     "output_type": "stream",
     "text": [
      "252it [00:01, 134.92it/s]\n"
     ]
    },
    {
     "name": "stdout",
     "output_type": "stream",
     "text": [
      "epoch 27, training loss: 0.836163341999054\n"
     ]
    },
    {
     "name": "stderr",
     "output_type": "stream",
     "text": [
      "252it [00:01, 134.51it/s]\n"
     ]
    },
    {
     "name": "stdout",
     "output_type": "stream",
     "text": [
      "epoch 28, training loss: 0.8304653763771057\n"
     ]
    },
    {
     "name": "stderr",
     "output_type": "stream",
     "text": [
      "252it [00:01, 134.79it/s]\n"
     ]
    },
    {
     "name": "stdout",
     "output_type": "stream",
     "text": [
      "epoch 29, training loss: 0.8066567182540894\n"
     ]
    },
    {
     "name": "stderr",
     "output_type": "stream",
     "text": [
      "252it [00:01, 134.84it/s]\n"
     ]
    },
    {
     "name": "stdout",
     "output_type": "stream",
     "text": [
      "epoch 30, training loss: 0.7926682233810425\n"
     ]
    },
    {
     "name": "stderr",
     "output_type": "stream",
     "text": [
      "100%|██████████| 28/28 [00:00<00:00, 373.46it/s]\n",
      "100%|██████████| 252/252 [00:00<00:00, 374.34it/s]\n"
     ]
    },
    {
     "name": "stdout",
     "output_type": "stream",
     "text": [
      "training loss: 0.743706464767456, train accuracy: 0.9268625686536134\n",
      "validation loss: 1.842872977256775, validation accuracy: 0.8187150837988827\n"
     ]
    },
    {
     "name": "stderr",
     "output_type": "stream",
     "text": [
      "252it [00:01, 134.81it/s]\n"
     ]
    },
    {
     "name": "stdout",
     "output_type": "stream",
     "text": [
      "epoch 31, training loss: 0.7800930738449097\n"
     ]
    },
    {
     "name": "stderr",
     "output_type": "stream",
     "text": [
      "252it [00:01, 134.67it/s]\n"
     ]
    },
    {
     "name": "stdout",
     "output_type": "stream",
     "text": [
      "epoch 32, training loss: 0.7677503228187561\n"
     ]
    },
    {
     "name": "stderr",
     "output_type": "stream",
     "text": [
      "252it [00:01, 134.43it/s]\n"
     ]
    },
    {
     "name": "stdout",
     "output_type": "stream",
     "text": [
      "epoch 33, training loss: 0.7513333559036255\n"
     ]
    },
    {
     "name": "stderr",
     "output_type": "stream",
     "text": [
      "252it [00:01, 134.88it/s]\n"
     ]
    },
    {
     "name": "stdout",
     "output_type": "stream",
     "text": [
      "epoch 34, training loss: 0.7425394058227539\n"
     ]
    },
    {
     "name": "stderr",
     "output_type": "stream",
     "text": [
      "252it [00:01, 134.96it/s]\n"
     ]
    },
    {
     "name": "stdout",
     "output_type": "stream",
     "text": [
      "epoch 35, training loss: 0.7248203754425049\n"
     ]
    },
    {
     "name": "stderr",
     "output_type": "stream",
     "text": [
      "100%|██████████| 28/28 [00:00<00:00, 375.03it/s]\n",
      "100%|██████████| 252/252 [00:00<00:00, 376.28it/s]\n"
     ]
    },
    {
     "name": "stdout",
     "output_type": "stream",
     "text": [
      "training loss: 0.6888290643692017, train accuracy: 0.9321066186737829\n",
      "validation loss: 1.8654299974441528, validation accuracy: 0.8148044692737431\n"
     ]
    },
    {
     "name": "stderr",
     "output_type": "stream",
     "text": [
      "252it [00:01, 134.98it/s]\n"
     ]
    },
    {
     "name": "stdout",
     "output_type": "stream",
     "text": [
      "epoch 36, training loss: 0.7274574637413025\n"
     ]
    },
    {
     "name": "stderr",
     "output_type": "stream",
     "text": [
      "252it [00:01, 134.94it/s]\n"
     ]
    },
    {
     "name": "stdout",
     "output_type": "stream",
     "text": [
      "epoch 37, training loss: 0.7292769551277161\n"
     ]
    },
    {
     "name": "stderr",
     "output_type": "stream",
     "text": [
      "252it [00:01, 134.49it/s]\n"
     ]
    },
    {
     "name": "stdout",
     "output_type": "stream",
     "text": [
      "epoch 38, training loss: 0.7317623496055603\n"
     ]
    },
    {
     "name": "stderr",
     "output_type": "stream",
     "text": [
      "252it [00:01, 134.98it/s]\n"
     ]
    },
    {
     "name": "stdout",
     "output_type": "stream",
     "text": [
      "epoch 39, training loss: 0.717437744140625\n"
     ]
    },
    {
     "name": "stderr",
     "output_type": "stream",
     "text": [
      "252it [00:01, 134.95it/s]\n"
     ]
    },
    {
     "name": "stdout",
     "output_type": "stream",
     "text": [
      "epoch 40, training loss: 0.7173089981079102\n"
     ]
    },
    {
     "name": "stderr",
     "output_type": "stream",
     "text": [
      "100%|██████████| 28/28 [00:00<00:00, 375.68it/s]\n",
      "100%|██████████| 252/252 [00:00<00:00, 376.01it/s]\n"
     ]
    },
    {
     "name": "stdout",
     "output_type": "stream",
     "text": [
      "training loss: 0.6835861206054688, train accuracy: 0.9325720669004252\n",
      "validation loss: 1.885782241821289, validation accuracy: 0.8117318435754189\n"
     ]
    },
    {
     "name": "stderr",
     "output_type": "stream",
     "text": [
      "252it [00:01, 134.87it/s]\n"
     ]
    },
    {
     "name": "stdout",
     "output_type": "stream",
     "text": [
      "epoch 41, training loss: 0.7051477432250977\n"
     ]
    },
    {
     "name": "stderr",
     "output_type": "stream",
     "text": [
      "252it [00:01, 134.76it/s]\n"
     ]
    },
    {
     "name": "stdout",
     "output_type": "stream",
     "text": [
      "epoch 42, training loss: 0.6961225867271423\n"
     ]
    },
    {
     "name": "stderr",
     "output_type": "stream",
     "text": [
      "252it [00:01, 134.57it/s]\n"
     ]
    },
    {
     "name": "stdout",
     "output_type": "stream",
     "text": [
      "epoch 43, training loss: 0.6927983164787292\n"
     ]
    },
    {
     "name": "stderr",
     "output_type": "stream",
     "text": [
      "252it [00:01, 134.91it/s]\n"
     ]
    },
    {
     "name": "stdout",
     "output_type": "stream",
     "text": [
      "epoch 44, training loss: 0.6961371898651123\n"
     ]
    },
    {
     "name": "stderr",
     "output_type": "stream",
     "text": [
      "252it [00:01, 134.78it/s]\n"
     ]
    },
    {
     "name": "stdout",
     "output_type": "stream",
     "text": [
      "epoch 45, training loss: 0.67434161901474\n"
     ]
    },
    {
     "name": "stderr",
     "output_type": "stream",
     "text": [
      "100%|██████████| 28/28 [00:00<00:00, 375.11it/s]\n",
      "100%|██████████| 252/252 [00:00<00:00, 376.31it/s]\n"
     ]
    },
    {
     "name": "stdout",
     "output_type": "stream",
     "text": [
      "training loss: 0.6456717848777771, train accuracy: 0.9359232941322494\n",
      "validation loss: 1.8393018245697021, validation accuracy: 0.8173184357541899\n"
     ]
    },
    {
     "name": "stderr",
     "output_type": "stream",
     "text": [
      "252it [00:01, 134.82it/s]\n"
     ]
    },
    {
     "name": "stdout",
     "output_type": "stream",
     "text": [
      "epoch 46, training loss: 0.6713367104530334\n"
     ]
    },
    {
     "name": "stderr",
     "output_type": "stream",
     "text": [
      "252it [00:01, 134.81it/s]\n"
     ]
    },
    {
     "name": "stdout",
     "output_type": "stream",
     "text": [
      "epoch 47, training loss: 0.6868377327919006\n"
     ]
    },
    {
     "name": "stderr",
     "output_type": "stream",
     "text": [
      "252it [00:01, 134.52it/s]\n"
     ]
    },
    {
     "name": "stdout",
     "output_type": "stream",
     "text": [
      "epoch 48, training loss: 0.6959725022315979\n"
     ]
    },
    {
     "name": "stderr",
     "output_type": "stream",
     "text": [
      "252it [00:01, 135.29it/s]\n"
     ]
    },
    {
     "name": "stdout",
     "output_type": "stream",
     "text": [
      "epoch 49, training loss: 0.6931633949279785\n"
     ]
    },
    {
     "name": "stderr",
     "output_type": "stream",
     "text": [
      "252it [00:01, 135.45it/s]\n"
     ]
    },
    {
     "name": "stdout",
     "output_type": "stream",
     "text": [
      "epoch 50, training loss: 0.693408191204071\n"
     ]
    },
    {
     "name": "stderr",
     "output_type": "stream",
     "text": [
      "100%|██████████| 28/28 [00:00<00:00, 376.21it/s]\n",
      "100%|██████████| 252/252 [00:00<00:00, 378.05it/s]\n"
     ]
    },
    {
     "name": "stdout",
     "output_type": "stream",
     "text": [
      "training loss: 0.6424533724784851, train accuracy: 0.9365438917677724\n",
      "validation loss: 1.9275749921798706, validation accuracy: 0.8086592178770949\n"
     ]
    },
    {
     "name": "stderr",
     "output_type": "stream",
     "text": [
      "252it [00:01, 135.32it/s]\n"
     ]
    },
    {
     "name": "stdout",
     "output_type": "stream",
     "text": [
      "epoch 51, training loss: 0.6749900579452515\n"
     ]
    },
    {
     "name": "stderr",
     "output_type": "stream",
     "text": [
      "252it [00:01, 135.39it/s]\n"
     ]
    },
    {
     "name": "stdout",
     "output_type": "stream",
     "text": [
      "epoch 52, training loss: 0.6723135709762573\n"
     ]
    },
    {
     "name": "stderr",
     "output_type": "stream",
     "text": [
      "252it [00:01, 135.47it/s]\n"
     ]
    },
    {
     "name": "stdout",
     "output_type": "stream",
     "text": [
      "epoch 53, training loss: 0.6674655675888062\n"
     ]
    },
    {
     "name": "stderr",
     "output_type": "stream",
     "text": [
      "252it [00:01, 135.47it/s]\n"
     ]
    },
    {
     "name": "stdout",
     "output_type": "stream",
     "text": [
      "epoch 54, training loss: 0.6577041149139404\n"
     ]
    },
    {
     "name": "stderr",
     "output_type": "stream",
     "text": [
      "252it [00:01, 135.49it/s]\n"
     ]
    },
    {
     "name": "stdout",
     "output_type": "stream",
     "text": [
      "epoch 55, training loss: 0.6511260271072388\n"
     ]
    },
    {
     "name": "stderr",
     "output_type": "stream",
     "text": [
      "100%|██████████| 28/28 [00:00<00:00, 376.67it/s]\n",
      "100%|██████████| 252/252 [00:00<00:00, 378.79it/s]\n"
     ]
    },
    {
     "name": "stdout",
     "output_type": "stream",
     "text": [
      "training loss: 0.6223275065422058, train accuracy: 0.9380333260930276\n",
      "validation loss: 1.8522688150405884, validation accuracy: 0.8131284916201117\n"
     ]
    },
    {
     "name": "stderr",
     "output_type": "stream",
     "text": [
      "252it [00:01, 135.21it/s]\n"
     ]
    },
    {
     "name": "stdout",
     "output_type": "stream",
     "text": [
      "epoch 56, training loss: 0.6480746865272522\n"
     ]
    },
    {
     "name": "stderr",
     "output_type": "stream",
     "text": [
      "252it [00:01, 135.39it/s]\n"
     ]
    },
    {
     "name": "stdout",
     "output_type": "stream",
     "text": [
      "epoch 57, training loss: 0.6580653190612793\n"
     ]
    },
    {
     "name": "stderr",
     "output_type": "stream",
     "text": [
      "252it [00:01, 135.36it/s]\n"
     ]
    },
    {
     "name": "stdout",
     "output_type": "stream",
     "text": [
      "epoch 58, training loss: 0.6640663146972656\n"
     ]
    },
    {
     "name": "stderr",
     "output_type": "stream",
     "text": [
      "252it [00:01, 135.41it/s]\n"
     ]
    },
    {
     "name": "stdout",
     "output_type": "stream",
     "text": [
      "epoch 59, training loss: 0.6609706282615662\n"
     ]
    },
    {
     "name": "stderr",
     "output_type": "stream",
     "text": [
      "252it [00:01, 135.61it/s]\n"
     ]
    },
    {
     "name": "stdout",
     "output_type": "stream",
     "text": [
      "epoch 60, training loss: 0.6540188789367676\n"
     ]
    },
    {
     "name": "stderr",
     "output_type": "stream",
     "text": [
      "100%|██████████| 28/28 [00:00<00:00, 376.19it/s]\n",
      "100%|██████████| 252/252 [00:00<00:00, 377.14it/s]\n"
     ]
    },
    {
     "name": "stdout",
     "output_type": "stream",
     "text": [
      "training loss: 0.6193579435348511, train accuracy: 0.9385918639649983\n",
      "validation loss: 1.934228539466858, validation accuracy: 0.8064245810055866\n"
     ]
    },
    {
     "name": "stderr",
     "output_type": "stream",
     "text": [
      "252it [00:01, 135.49it/s]\n"
     ]
    },
    {
     "name": "stdout",
     "output_type": "stream",
     "text": [
      "epoch 61, training loss: 0.6531281471252441\n"
     ]
    },
    {
     "name": "stderr",
     "output_type": "stream",
     "text": [
      "252it [00:01, 135.56it/s]\n"
     ]
    },
    {
     "name": "stdout",
     "output_type": "stream",
     "text": [
      "epoch 62, training loss: 0.644572913646698\n"
     ]
    },
    {
     "name": "stderr",
     "output_type": "stream",
     "text": [
      "252it [00:01, 136.43it/s]\n"
     ]
    },
    {
     "name": "stdout",
     "output_type": "stream",
     "text": [
      "epoch 63, training loss: 0.6661320328712463\n"
     ]
    },
    {
     "name": "stderr",
     "output_type": "stream",
     "text": [
      "252it [00:01, 135.54it/s]\n"
     ]
    },
    {
     "name": "stdout",
     "output_type": "stream",
     "text": [
      "epoch 64, training loss: 0.6469972133636475\n"
     ]
    },
    {
     "name": "stderr",
     "output_type": "stream",
     "text": [
      "252it [00:01, 135.60it/s]\n"
     ]
    },
    {
     "name": "stdout",
     "output_type": "stream",
     "text": [
      "epoch 65, training loss: 0.6480664610862732\n"
     ]
    },
    {
     "name": "stderr",
     "output_type": "stream",
     "text": [
      "100%|██████████| 28/28 [00:00<00:00, 377.15it/s]\n",
      "100%|██████████| 252/252 [00:00<00:00, 378.79it/s]\n"
     ]
    },
    {
     "name": "stdout",
     "output_type": "stream",
     "text": [
      "training loss: 0.6169400215148926, train accuracy: 0.9388711329009837\n",
      "validation loss: 1.8820836544036865, validation accuracy: 0.8114525139664804\n"
     ]
    },
    {
     "name": "stderr",
     "output_type": "stream",
     "text": [
      "252it [00:01, 135.57it/s]\n"
     ]
    },
    {
     "name": "stdout",
     "output_type": "stream",
     "text": [
      "epoch 66, training loss: 0.6360882520675659\n"
     ]
    },
    {
     "name": "stderr",
     "output_type": "stream",
     "text": [
      "252it [00:01, 135.64it/s]\n"
     ]
    },
    {
     "name": "stdout",
     "output_type": "stream",
     "text": [
      "epoch 67, training loss: 0.6387214660644531\n"
     ]
    },
    {
     "name": "stderr",
     "output_type": "stream",
     "text": [
      "252it [00:01, 135.55it/s]\n"
     ]
    },
    {
     "name": "stdout",
     "output_type": "stream",
     "text": [
      "epoch 68, training loss: 0.6379109621047974\n"
     ]
    },
    {
     "name": "stderr",
     "output_type": "stream",
     "text": [
      "252it [00:01, 135.68it/s]\n"
     ]
    },
    {
     "name": "stdout",
     "output_type": "stream",
     "text": [
      "epoch 69, training loss: 0.635494589805603\n"
     ]
    },
    {
     "name": "stderr",
     "output_type": "stream",
     "text": [
      "252it [00:01, 135.57it/s]\n"
     ]
    },
    {
     "name": "stdout",
     "output_type": "stream",
     "text": [
      "epoch 70, training loss: 0.6368982195854187\n"
     ]
    },
    {
     "name": "stderr",
     "output_type": "stream",
     "text": [
      "100%|██████████| 28/28 [00:00<00:00, 376.24it/s]\n",
      "100%|██████████| 252/252 [00:00<00:00, 378.94it/s]\n"
     ]
    },
    {
     "name": "stdout",
     "output_type": "stream",
     "text": [
      "training loss: 0.6104069948196411, train accuracy: 0.9392434914822975\n",
      "validation loss: 1.9110530614852905, validation accuracy: 0.8100558659217877\n"
     ]
    },
    {
     "name": "stderr",
     "output_type": "stream",
     "text": [
      "252it [00:01, 135.50it/s]\n"
     ]
    },
    {
     "name": "stdout",
     "output_type": "stream",
     "text": [
      "epoch 71, training loss: 0.6242192387580872\n"
     ]
    },
    {
     "name": "stderr",
     "output_type": "stream",
     "text": [
      "252it [00:01, 135.61it/s]\n"
     ]
    },
    {
     "name": "stdout",
     "output_type": "stream",
     "text": [
      "epoch 72, training loss: 0.6338961124420166\n"
     ]
    },
    {
     "name": "stderr",
     "output_type": "stream",
     "text": [
      "252it [00:01, 135.53it/s]\n"
     ]
    },
    {
     "name": "stdout",
     "output_type": "stream",
     "text": [
      "epoch 73, training loss: 0.6372919082641602\n"
     ]
    },
    {
     "name": "stderr",
     "output_type": "stream",
     "text": [
      "252it [00:01, 135.61it/s]\n"
     ]
    },
    {
     "name": "stdout",
     "output_type": "stream",
     "text": [
      "epoch 74, training loss: 0.6506833434104919\n"
     ]
    },
    {
     "name": "stderr",
     "output_type": "stream",
     "text": [
      "252it [00:01, 135.61it/s]\n"
     ]
    },
    {
     "name": "stdout",
     "output_type": "stream",
     "text": [
      "epoch 75, training loss: 0.6371141672134399\n"
     ]
    },
    {
     "name": "stderr",
     "output_type": "stream",
     "text": [
      "100%|██████████| 28/28 [00:00<00:00, 376.52it/s]\n",
      "100%|██████████| 252/252 [00:00<00:00, 379.58it/s]\n"
     ]
    },
    {
     "name": "stdout",
     "output_type": "stream",
     "text": [
      "training loss: 0.6011044979095459, train accuracy: 0.9398330592360443\n",
      "validation loss: 1.9119043350219727, validation accuracy: 0.8089385474860336\n"
     ]
    },
    {
     "name": "stderr",
     "output_type": "stream",
     "text": [
      "252it [00:01, 135.53it/s]\n"
     ]
    },
    {
     "name": "stdout",
     "output_type": "stream",
     "text": [
      "epoch 76, training loss: 0.6285944581031799\n"
     ]
    },
    {
     "name": "stderr",
     "output_type": "stream",
     "text": [
      "252it [00:01, 135.37it/s]\n"
     ]
    },
    {
     "name": "stdout",
     "output_type": "stream",
     "text": [
      "epoch 77, training loss: 0.6276025176048279\n"
     ]
    },
    {
     "name": "stderr",
     "output_type": "stream",
     "text": [
      "252it [00:01, 135.28it/s]\n"
     ]
    },
    {
     "name": "stdout",
     "output_type": "stream",
     "text": [
      "epoch 78, training loss: 0.6235732436180115\n"
     ]
    },
    {
     "name": "stderr",
     "output_type": "stream",
     "text": [
      "252it [00:01, 134.52it/s]\n"
     ]
    },
    {
     "name": "stdout",
     "output_type": "stream",
     "text": [
      "epoch 79, training loss: 0.6368158459663391\n"
     ]
    },
    {
     "name": "stderr",
     "output_type": "stream",
     "text": [
      "252it [00:01, 134.80it/s]\n"
     ]
    },
    {
     "name": "stdout",
     "output_type": "stream",
     "text": [
      "epoch 80, training loss: 0.6470329761505127\n"
     ]
    },
    {
     "name": "stderr",
     "output_type": "stream",
     "text": [
      "100%|██████████| 28/28 [00:00<00:00, 373.95it/s]\n",
      "100%|██████████| 252/252 [00:00<00:00, 374.67it/s]\n"
     ]
    },
    {
     "name": "stdout",
     "output_type": "stream",
     "text": [
      "training loss: 0.6059339046478271, train accuracy: 0.9394917305365067\n",
      "validation loss: 1.9163709878921509, validation accuracy: 0.8106145251396648\n"
     ]
    },
    {
     "name": "stderr",
     "output_type": "stream",
     "text": [
      "252it [00:01, 133.95it/s]\n"
     ]
    },
    {
     "name": "stdout",
     "output_type": "stream",
     "text": [
      "epoch 81, training loss: 0.6237104535102844\n"
     ]
    },
    {
     "name": "stderr",
     "output_type": "stream",
     "text": [
      "252it [00:01, 135.10it/s]\n"
     ]
    },
    {
     "name": "stdout",
     "output_type": "stream",
     "text": [
      "epoch 82, training loss: 0.6203689575195312\n"
     ]
    },
    {
     "name": "stderr",
     "output_type": "stream",
     "text": [
      "252it [00:01, 135.21it/s]\n"
     ]
    },
    {
     "name": "stdout",
     "output_type": "stream",
     "text": [
      "epoch 83, training loss: 0.6184359788894653\n"
     ]
    },
    {
     "name": "stderr",
     "output_type": "stream",
     "text": [
      "252it [00:01, 135.24it/s]\n"
     ]
    },
    {
     "name": "stdout",
     "output_type": "stream",
     "text": [
      "epoch 84, training loss: 0.6226489543914795\n"
     ]
    },
    {
     "name": "stderr",
     "output_type": "stream",
     "text": [
      "252it [00:01, 135.96it/s]\n"
     ]
    },
    {
     "name": "stdout",
     "output_type": "stream",
     "text": [
      "epoch 85, training loss: 0.6254950165748596\n"
     ]
    },
    {
     "name": "stderr",
     "output_type": "stream",
     "text": [
      "100%|██████████| 28/28 [00:00<00:00, 382.17it/s]\n",
      "100%|██████████| 252/252 [00:00<00:00, 382.83it/s]\n"
     ]
    },
    {
     "name": "stdout",
     "output_type": "stream",
     "text": [
      "training loss: 0.6076380014419556, train accuracy: 0.9391814317187451\n",
      "validation loss: 1.935698390007019, validation accuracy: 0.8055865921787709\n"
     ]
    },
    {
     "name": "stderr",
     "output_type": "stream",
     "text": [
      "252it [00:01, 135.88it/s]\n"
     ]
    },
    {
     "name": "stdout",
     "output_type": "stream",
     "text": [
      "epoch 86, training loss: 0.6370373368263245\n"
     ]
    },
    {
     "name": "stderr",
     "output_type": "stream",
     "text": [
      "252it [00:01, 136.12it/s]\n"
     ]
    },
    {
     "name": "stdout",
     "output_type": "stream",
     "text": [
      "epoch 87, training loss: 0.6415522694587708\n"
     ]
    },
    {
     "name": "stderr",
     "output_type": "stream",
     "text": [
      "252it [00:01, 136.04it/s]\n"
     ]
    },
    {
     "name": "stdout",
     "output_type": "stream",
     "text": [
      "epoch 88, training loss: 0.637919545173645\n"
     ]
    },
    {
     "name": "stderr",
     "output_type": "stream",
     "text": [
      "252it [00:01, 136.16it/s]\n"
     ]
    },
    {
     "name": "stdout",
     "output_type": "stream",
     "text": [
      "epoch 89, training loss: 0.6294480562210083\n"
     ]
    },
    {
     "name": "stderr",
     "output_type": "stream",
     "text": [
      "252it [00:01, 135.27it/s]\n"
     ]
    },
    {
     "name": "stdout",
     "output_type": "stream",
     "text": [
      "epoch 90, training loss: 0.6138594746589661\n"
     ]
    },
    {
     "name": "stderr",
     "output_type": "stream",
     "text": [
      "100%|██████████| 28/28 [00:00<00:00, 375.84it/s]\n",
      "100%|██████████| 252/252 [00:00<00:00, 378.01it/s]\n"
     ]
    },
    {
     "name": "stdout",
     "output_type": "stream",
     "text": [
      "training loss: 0.6074991226196289, train accuracy: 0.9393055512458498\n",
      "validation loss: 1.8843228816986084, validation accuracy: 0.8134078212290503\n"
     ]
    },
    {
     "name": "stderr",
     "output_type": "stream",
     "text": [
      "252it [00:01, 135.30it/s]\n"
     ]
    },
    {
     "name": "stdout",
     "output_type": "stream",
     "text": [
      "epoch 91, training loss: 0.6114842891693115\n"
     ]
    },
    {
     "name": "stderr",
     "output_type": "stream",
     "text": [
      "252it [00:01, 135.32it/s]\n"
     ]
    },
    {
     "name": "stdout",
     "output_type": "stream",
     "text": [
      "epoch 92, training loss: 0.6131395697593689\n"
     ]
    },
    {
     "name": "stderr",
     "output_type": "stream",
     "text": [
      "252it [00:01, 135.24it/s]\n"
     ]
    },
    {
     "name": "stdout",
     "output_type": "stream",
     "text": [
      "epoch 93, training loss: 0.6201510429382324\n"
     ]
    },
    {
     "name": "stderr",
     "output_type": "stream",
     "text": [
      "252it [00:01, 135.17it/s]\n"
     ]
    },
    {
     "name": "stdout",
     "output_type": "stream",
     "text": [
      "epoch 94, training loss: 0.6252084374427795\n"
     ]
    },
    {
     "name": "stderr",
     "output_type": "stream",
     "text": [
      "252it [00:01, 135.32it/s]\n"
     ]
    },
    {
     "name": "stdout",
     "output_type": "stream",
     "text": [
      "epoch 95, training loss: 0.6154598593711853\n"
     ]
    },
    {
     "name": "stderr",
     "output_type": "stream",
     "text": [
      "100%|██████████| 28/28 [00:00<00:00, 375.95it/s]\n",
      "100%|██████████| 252/252 [00:00<00:00, 378.84it/s]\n"
     ]
    },
    {
     "name": "stdout",
     "output_type": "stream",
     "text": [
      "training loss: 0.5943151116371155, train accuracy: 0.9404536568715673\n",
      "validation loss: 1.9380285739898682, validation accuracy: 0.8075418994413408\n"
     ]
    },
    {
     "name": "stderr",
     "output_type": "stream",
     "text": [
      "252it [00:01, 135.15it/s]\n"
     ]
    },
    {
     "name": "stdout",
     "output_type": "stream",
     "text": [
      "epoch 96, training loss: 0.6288486123085022\n"
     ]
    },
    {
     "name": "stderr",
     "output_type": "stream",
     "text": [
      "252it [00:01, 135.20it/s]\n"
     ]
    },
    {
     "name": "stdout",
     "output_type": "stream",
     "text": [
      "epoch 97, training loss: 0.6230999827384949\n"
     ]
    },
    {
     "name": "stderr",
     "output_type": "stream",
     "text": [
      "252it [00:01, 136.08it/s]\n"
     ]
    },
    {
     "name": "stdout",
     "output_type": "stream",
     "text": [
      "epoch 98, training loss: 0.6135179996490479\n"
     ]
    },
    {
     "name": "stderr",
     "output_type": "stream",
     "text": [
      "252it [00:01, 136.18it/s]\n"
     ]
    },
    {
     "name": "stdout",
     "output_type": "stream",
     "text": [
      "epoch 99, training loss: 0.6146201491355896\n"
     ]
    },
    {
     "name": "stderr",
     "output_type": "stream",
     "text": [
      "252it [00:01, 136.12it/s]\n"
     ]
    },
    {
     "name": "stdout",
     "output_type": "stream",
     "text": [
      "epoch 100, training loss: 0.6152606010437012\n"
     ]
    },
    {
     "name": "stderr",
     "output_type": "stream",
     "text": [
      "100%|██████████| 28/28 [00:00<00:00, 381.13it/s]\n",
      "100%|██████████| 252/252 [00:00<00:00, 383.01it/s]"
     ]
    },
    {
     "name": "stdout",
     "output_type": "stream",
     "text": [
      "training loss: 0.591862142086029, train accuracy: 0.9405467465168957\n",
      "validation loss: 1.9755136966705322, validation accuracy: 0.8033519553072626\n"
     ]
    },
    {
     "name": "stderr",
     "output_type": "stream",
     "text": [
      "\n"
     ]
    }
   ],
   "source": [
    "datasets = [\n",
    "    (train_loader, valid_loader, 'balanced'),\n",
    "    (imb_train_loader, imb_valid_loader, 'imbalanced'),\n",
    "    (bal_sym_train_loader, bal_sym_valid_loader, 'bal_sym'),\n",
    "    (bal_asym_train_loader, bal_asym_valid_loader, 'bal_asym'),\n",
    "    (imb_sym_train_loader, imb_sym_valid_loader, 'imb_sym'),\n",
    "    (imb_asym_train_loader, imb_asym_valid_loader, 'imb_asym'),\n",
    "]\n",
    "\n",
    "for train_loader, valid_loader, name in datasets:\n",
    "    device = 'cuda' if torch.cuda.is_available() else 'cpu'\n",
    "    learning_rate = 1e-4\n",
    "    sce_model = SCEModel()\n",
    "    sce_model.to(device)\n",
    "    sce_criterion = SCELoss(alpha=0.1, beta=1.0)\n",
    "    sce_criterion.to(device)\n",
    "    sce_optimizer = torch.optim.Adam(sce_model.parameters(), lr=learning_rate)\n",
    "    train_sce(sce_model, sce_criterion, sce_optimizer, train_loader, valid_loader, verbose=5, num_epochs=100,\n",
    "               model_prefix=f\"sce-{name}\")\n",
    "    "
   ]
  },
  {
   "cell_type": "markdown",
   "id": "22879045",
   "metadata": {},
   "source": [
    "## load best model and test"
   ]
  },
  {
   "cell_type": "code",
   "execution_count": 14,
   "id": "00f86602",
   "metadata": {},
   "outputs": [
    {
     "data": {
      "text/plain": [
       "ResNet_s(\n",
       "  (conv1): Conv2d(1, 16, kernel_size=(3, 3), stride=(1, 1), padding=(1, 1), bias=False)\n",
       "  (bn1): BatchNorm2d(16, eps=1e-05, momentum=0.1, affine=True, track_running_stats=True)\n",
       "  (layer1): Sequential(\n",
       "    (0): BasicBlock(\n",
       "      (conv1): Conv2d(16, 16, kernel_size=(3, 3), stride=(1, 1), padding=(1, 1), bias=False)\n",
       "      (bn1): BatchNorm2d(16, eps=1e-05, momentum=0.1, affine=True, track_running_stats=True)\n",
       "      (conv2): Conv2d(16, 16, kernel_size=(3, 3), stride=(1, 1), padding=(1, 1), bias=False)\n",
       "      (bn2): BatchNorm2d(16, eps=1e-05, momentum=0.1, affine=True, track_running_stats=True)\n",
       "      (shortcut): Sequential()\n",
       "    )\n",
       "    (1): BasicBlock(\n",
       "      (conv1): Conv2d(16, 16, kernel_size=(3, 3), stride=(1, 1), padding=(1, 1), bias=False)\n",
       "      (bn1): BatchNorm2d(16, eps=1e-05, momentum=0.1, affine=True, track_running_stats=True)\n",
       "      (conv2): Conv2d(16, 16, kernel_size=(3, 3), stride=(1, 1), padding=(1, 1), bias=False)\n",
       "      (bn2): BatchNorm2d(16, eps=1e-05, momentum=0.1, affine=True, track_running_stats=True)\n",
       "      (shortcut): Sequential()\n",
       "    )\n",
       "    (2): BasicBlock(\n",
       "      (conv1): Conv2d(16, 16, kernel_size=(3, 3), stride=(1, 1), padding=(1, 1), bias=False)\n",
       "      (bn1): BatchNorm2d(16, eps=1e-05, momentum=0.1, affine=True, track_running_stats=True)\n",
       "      (conv2): Conv2d(16, 16, kernel_size=(3, 3), stride=(1, 1), padding=(1, 1), bias=False)\n",
       "      (bn2): BatchNorm2d(16, eps=1e-05, momentum=0.1, affine=True, track_running_stats=True)\n",
       "      (shortcut): Sequential()\n",
       "    )\n",
       "    (3): BasicBlock(\n",
       "      (conv1): Conv2d(16, 16, kernel_size=(3, 3), stride=(1, 1), padding=(1, 1), bias=False)\n",
       "      (bn1): BatchNorm2d(16, eps=1e-05, momentum=0.1, affine=True, track_running_stats=True)\n",
       "      (conv2): Conv2d(16, 16, kernel_size=(3, 3), stride=(1, 1), padding=(1, 1), bias=False)\n",
       "      (bn2): BatchNorm2d(16, eps=1e-05, momentum=0.1, affine=True, track_running_stats=True)\n",
       "      (shortcut): Sequential()\n",
       "    )\n",
       "    (4): BasicBlock(\n",
       "      (conv1): Conv2d(16, 16, kernel_size=(3, 3), stride=(1, 1), padding=(1, 1), bias=False)\n",
       "      (bn1): BatchNorm2d(16, eps=1e-05, momentum=0.1, affine=True, track_running_stats=True)\n",
       "      (conv2): Conv2d(16, 16, kernel_size=(3, 3), stride=(1, 1), padding=(1, 1), bias=False)\n",
       "      (bn2): BatchNorm2d(16, eps=1e-05, momentum=0.1, affine=True, track_running_stats=True)\n",
       "      (shortcut): Sequential()\n",
       "    )\n",
       "  )\n",
       "  (layer2): Sequential(\n",
       "    (0): BasicBlock(\n",
       "      (conv1): Conv2d(16, 32, kernel_size=(3, 3), stride=(2, 2), padding=(1, 1), bias=False)\n",
       "      (bn1): BatchNorm2d(32, eps=1e-05, momentum=0.1, affine=True, track_running_stats=True)\n",
       "      (conv2): Conv2d(32, 32, kernel_size=(3, 3), stride=(1, 1), padding=(1, 1), bias=False)\n",
       "      (bn2): BatchNorm2d(32, eps=1e-05, momentum=0.1, affine=True, track_running_stats=True)\n",
       "      (shortcut): LambdaLayer()\n",
       "    )\n",
       "    (1): BasicBlock(\n",
       "      (conv1): Conv2d(32, 32, kernel_size=(3, 3), stride=(1, 1), padding=(1, 1), bias=False)\n",
       "      (bn1): BatchNorm2d(32, eps=1e-05, momentum=0.1, affine=True, track_running_stats=True)\n",
       "      (conv2): Conv2d(32, 32, kernel_size=(3, 3), stride=(1, 1), padding=(1, 1), bias=False)\n",
       "      (bn2): BatchNorm2d(32, eps=1e-05, momentum=0.1, affine=True, track_running_stats=True)\n",
       "      (shortcut): Sequential()\n",
       "    )\n",
       "    (2): BasicBlock(\n",
       "      (conv1): Conv2d(32, 32, kernel_size=(3, 3), stride=(1, 1), padding=(1, 1), bias=False)\n",
       "      (bn1): BatchNorm2d(32, eps=1e-05, momentum=0.1, affine=True, track_running_stats=True)\n",
       "      (conv2): Conv2d(32, 32, kernel_size=(3, 3), stride=(1, 1), padding=(1, 1), bias=False)\n",
       "      (bn2): BatchNorm2d(32, eps=1e-05, momentum=0.1, affine=True, track_running_stats=True)\n",
       "      (shortcut): Sequential()\n",
       "    )\n",
       "    (3): BasicBlock(\n",
       "      (conv1): Conv2d(32, 32, kernel_size=(3, 3), stride=(1, 1), padding=(1, 1), bias=False)\n",
       "      (bn1): BatchNorm2d(32, eps=1e-05, momentum=0.1, affine=True, track_running_stats=True)\n",
       "      (conv2): Conv2d(32, 32, kernel_size=(3, 3), stride=(1, 1), padding=(1, 1), bias=False)\n",
       "      (bn2): BatchNorm2d(32, eps=1e-05, momentum=0.1, affine=True, track_running_stats=True)\n",
       "      (shortcut): Sequential()\n",
       "    )\n",
       "    (4): BasicBlock(\n",
       "      (conv1): Conv2d(32, 32, kernel_size=(3, 3), stride=(1, 1), padding=(1, 1), bias=False)\n",
       "      (bn1): BatchNorm2d(32, eps=1e-05, momentum=0.1, affine=True, track_running_stats=True)\n",
       "      (conv2): Conv2d(32, 32, kernel_size=(3, 3), stride=(1, 1), padding=(1, 1), bias=False)\n",
       "      (bn2): BatchNorm2d(32, eps=1e-05, momentum=0.1, affine=True, track_running_stats=True)\n",
       "      (shortcut): Sequential()\n",
       "    )\n",
       "  )\n",
       "  (layer3): Sequential(\n",
       "    (0): BasicBlock(\n",
       "      (conv1): Conv2d(32, 64, kernel_size=(3, 3), stride=(2, 2), padding=(1, 1), bias=False)\n",
       "      (bn1): BatchNorm2d(64, eps=1e-05, momentum=0.1, affine=True, track_running_stats=True)\n",
       "      (conv2): Conv2d(64, 64, kernel_size=(3, 3), stride=(1, 1), padding=(1, 1), bias=False)\n",
       "      (bn2): BatchNorm2d(64, eps=1e-05, momentum=0.1, affine=True, track_running_stats=True)\n",
       "      (shortcut): LambdaLayer()\n",
       "    )\n",
       "    (1): BasicBlock(\n",
       "      (conv1): Conv2d(64, 64, kernel_size=(3, 3), stride=(1, 1), padding=(1, 1), bias=False)\n",
       "      (bn1): BatchNorm2d(64, eps=1e-05, momentum=0.1, affine=True, track_running_stats=True)\n",
       "      (conv2): Conv2d(64, 64, kernel_size=(3, 3), stride=(1, 1), padding=(1, 1), bias=False)\n",
       "      (bn2): BatchNorm2d(64, eps=1e-05, momentum=0.1, affine=True, track_running_stats=True)\n",
       "      (shortcut): Sequential()\n",
       "    )\n",
       "    (2): BasicBlock(\n",
       "      (conv1): Conv2d(64, 64, kernel_size=(3, 3), stride=(1, 1), padding=(1, 1), bias=False)\n",
       "      (bn1): BatchNorm2d(64, eps=1e-05, momentum=0.1, affine=True, track_running_stats=True)\n",
       "      (conv2): Conv2d(64, 64, kernel_size=(3, 3), stride=(1, 1), padding=(1, 1), bias=False)\n",
       "      (bn2): BatchNorm2d(64, eps=1e-05, momentum=0.1, affine=True, track_running_stats=True)\n",
       "      (shortcut): Sequential()\n",
       "    )\n",
       "    (3): BasicBlock(\n",
       "      (conv1): Conv2d(64, 64, kernel_size=(3, 3), stride=(1, 1), padding=(1, 1), bias=False)\n",
       "      (bn1): BatchNorm2d(64, eps=1e-05, momentum=0.1, affine=True, track_running_stats=True)\n",
       "      (conv2): Conv2d(64, 64, kernel_size=(3, 3), stride=(1, 1), padding=(1, 1), bias=False)\n",
       "      (bn2): BatchNorm2d(64, eps=1e-05, momentum=0.1, affine=True, track_running_stats=True)\n",
       "      (shortcut): Sequential()\n",
       "    )\n",
       "    (4): BasicBlock(\n",
       "      (conv1): Conv2d(64, 64, kernel_size=(3, 3), stride=(1, 1), padding=(1, 1), bias=False)\n",
       "      (bn1): BatchNorm2d(64, eps=1e-05, momentum=0.1, affine=True, track_running_stats=True)\n",
       "      (conv2): Conv2d(64, 64, kernel_size=(3, 3), stride=(1, 1), padding=(1, 1), bias=False)\n",
       "      (bn2): BatchNorm2d(64, eps=1e-05, momentum=0.1, affine=True, track_running_stats=True)\n",
       "      (shortcut): Sequential()\n",
       "    )\n",
       "  )\n",
       "  (linear): Linear(in_features=64, out_features=10, bias=True)\n",
       ")"
      ]
     },
     "execution_count": 14,
     "metadata": {},
     "output_type": "execute_result"
    }
   ],
   "source": [
    "def load_model(path):\n",
    "    model = resnet32()\n",
    "    model.to(device)\n",
    "    model.load_state_dict(torch.load(path))\n",
    "    \n",
    "    return model\n",
    "\n",
    "\n",
    "model = load_model(os.path.join('models', 'balanced-70'))\n",
    "model"
   ]
  },
  {
   "cell_type": "code",
   "execution_count": 18,
   "id": "6aea3fcf",
   "metadata": {},
   "outputs": [
    {
     "name": "stderr",
     "output_type": "stream",
     "text": [
      "100%|██████████| 79/79 [00:01<00:00, 44.57it/s]\n"
     ]
    }
   ],
   "source": [
    "def evaluate(test_loader, model):\n",
    "        \n",
    "    losses = []\n",
    "    preds = []\n",
    "    y_true = []\n",
    "    model.eval()\n",
    "    \n",
    "    with torch.no_grad():\n",
    "        for images, labels in tqdm(valid_loader):\n",
    "            images = images.to(device)\n",
    "            labels = labels.to(device)\n",
    "\n",
    "            y_true.extend(labels.cpu().numpy())\n",
    "            predictions = model(images)\n",
    "            preds.extend(predictions.cpu().numpy())\n",
    "\n",
    "            loss = criterion(predictions, labels)\n",
    "            losses.append(loss.detach().cpu().numpy())\n",
    "        \n",
    "    return np.argmax(np.array(preds), axis=1), np.array(y_true), np.mean(losses)\n",
    "\n",
    "preds, y_true, loss = evaluate(test_loader, model)"
   ]
  },
  {
   "cell_type": "markdown",
   "id": "4f144941",
   "metadata": {},
   "source": [
    "## model report"
   ]
  },
  {
   "cell_type": "code",
   "execution_count": 26,
   "id": "faf0a53b",
   "metadata": {},
   "outputs": [
    {
     "name": "stdout",
     "output_type": "stream",
     "text": [
      "              precision    recall  f1-score   support\n",
      "\n",
      "           0     0.9958    0.9969    0.9964       960\n",
      "           1     0.9911    0.9964    0.9937      1115\n",
      "           2     0.9960    0.9862    0.9911      1016\n",
      "           3     0.9890    0.9910    0.9900       999\n",
      "           4     0.9884    0.9863    0.9873       948\n",
      "           5     0.9880    0.9858    0.9869       918\n",
      "           6     0.9892    0.9960    0.9926      1010\n",
      "           7     0.9872    0.9926    0.9899      1085\n",
      "           8     0.9927    0.9896    0.9911       960\n",
      "           9     0.9888    0.9838    0.9863       989\n",
      "\n",
      "    accuracy                         0.9906     10000\n",
      "   macro avg     0.9906    0.9905    0.9905     10000\n",
      "weighted avg     0.9906    0.9906    0.9906     10000\n",
      "\n"
     ]
    }
   ],
   "source": [
    "clf_metrics(y_true, preds)"
   ]
  },
  {
   "cell_type": "markdown",
   "id": "1c2d40b5",
   "metadata": {},
   "source": [
    "# SCE-with focal loss"
   ]
  },
  {
   "cell_type": "markdown",
   "id": "40d4a024",
   "metadata": {},
   "source": [
    "## defining loss function"
   ]
  },
  {
   "cell_type": "code",
   "execution_count": 32,
   "id": "ebe4d2c5",
   "metadata": {},
   "outputs": [],
   "source": [
    "def focal_loss(input_values, gamma):\n",
    "    \"\"\"Computes the focal loss\"\"\"\n",
    "    p = torch.exp(-input_values)\n",
    "    loss = (1 - p) ** gamma * input_values\n",
    "    return loss.mean()\n",
    "\n",
    "\n",
    "class SCELossFocal(torch.nn.Module):\n",
    "    def __init__(self, alpha, beta, num_classes=10):\n",
    "        super(SCELoss, self).__init__()\n",
    "        self.device = 'cuda' if torch.cuda.is_available() else 'cpu'\n",
    "        self.alpha = alpha\n",
    "        self.beta = beta\n",
    "        self.num_classes = num_classes\n",
    "        self.cross_entropy = torch.nn.CrossEntropyLoss()\n",
    "\n",
    "    def forward(self, pred, labels):\n",
    "        # CCE with focal loss\n",
    "        ce = self.cross_entropy(pred, labels)\n",
    "        ce = focal_loss(F.cross_entropy(pred, labels, reduction='none', weight=None), gamma=2)\n",
    "\n",
    "        # RCE\n",
    "        pred = F.softmax(pred, dim=1)\n",
    "        pred = torch.clamp(pred, min=1e-7, max=1.0)\n",
    "        label_one_hot = torch.nn.functional.one_hot(labels, self.num_classes).float().to(self.device)\n",
    "        label_one_hot = torch.clamp(label_one_hot, min=1e-4, max=1.0)\n",
    "        rce = (-1*torch.sum(pred * torch.log(label_one_hot), dim=1))\n",
    "\n",
    "        # Loss\n",
    "        loss = self.alpha * ce + self.beta * rce.mean()\n",
    "        return loss\n",
    "    \n",
    "device = 'cuda' if torch.cuda.is_available() else 'cpu'\n",
    "learning_rate = 1e-4\n",
    "sce_model = SCEModel()\n",
    "sce_model.to(device)\n",
    "sce_criterion = SCELossFocal(alpha=0.1, beta=1.0)\n",
    "sce_criterion.to(device)\n",
    "sce_optimizer = torch.optim.Adam(model.parameters(), lr=learning_rate)"
   ]
  },
  {
   "cell_type": "markdown",
   "id": "ad4334d7",
   "metadata": {},
   "source": [
    "## training "
   ]
  },
  {
   "cell_type": "code",
   "execution_count": 86,
   "id": "1f9b2d7f",
   "metadata": {},
   "outputs": [],
   "source": [
    "from datetime import datetime\n",
    "from sklearn.metrics import accuracy_score\n",
    "import os\n",
    "\n",
    "def log(_str, path='./log.txt'):\n",
    "    print(_str)\n",
    "    with open(path, 'a') as f:\n",
    "        f.write(f\"{_str}\\n\")\n",
    "\n",
    "def validate(model, criterion, valid_loader):\n",
    "    \n",
    "    losses = []\n",
    "    preds = []\n",
    "    y_true = []\n",
    "    \n",
    "    for images, labels in tqdm(valid_loader):\n",
    "        images = images.to(device)\n",
    "        labels = labels.to(device)\n",
    "        \n",
    "        y_true.extend(labels.cpu().numpy())\n",
    "        predictions = model(images)\n",
    "        preds.extend(predictions.cpu().numpy())\n",
    "        \n",
    "        loss = criterion(predictions, labels)\n",
    "        losses.append(loss.detach().cpu().numpy())\n",
    "        \n",
    "    return np.array(preds), np.array(y_true), np.mean(losses)\n",
    "        \n",
    "\n",
    "def save_model(model, name):\n",
    "    log(f\"saving best model: {name}\")\n",
    "    torch.save(model.state_dict(), os.path.join('models', name))\n",
    "\n",
    "        \n",
    "def train_sce(model, criterion, optimizer, train_loader, valid_loader, num_epochs, verbose=1, model_prefix='balanced_sce'):\n",
    "    \n",
    "    log(f\"{datetime.now()}: training sce on {model_prefix}\")\n",
    "    best_loss = np.inf\n",
    "    \n",
    "    for epoch in range(1, num_epochs+1):\n",
    "        \n",
    "        model.train()\n",
    "        epoch_losses = []\n",
    "        \n",
    "        for batch_number, (images, labels) in tqdm(enumerate(train_loader)):\n",
    "            images = images.to(device)\n",
    "            labels = labels.to(device)\n",
    "        \n",
    "            optimizer.zero_grad()\n",
    "            outputs = model(images)\n",
    "\n",
    "            loss = criterion(outputs, labels)\n",
    "            loss.backward()\n",
    "            optimizer.step()\n",
    "            \n",
    "            epoch_losses.append(loss.detach().cpu().numpy())\n",
    "\n",
    "        log(f\"epoch {epoch}, training loss: {np.mean(epoch_losses)}\")\n",
    "        \n",
    "        if verbose and epoch % verbose == 0:\n",
    "            #TODO: keep best model\n",
    "            \n",
    "            model.eval()\n",
    "            with torch.no_grad():\n",
    "                valid_preds, valid_labels, valid_loss = validate(model, criterion, valid_loader)\n",
    "                train_preds, train_labels, train_loss = validate(model, criterion, train_loader)\n",
    "                \n",
    "                train_pred_labels = np.argmax(train_preds, axis=1)\n",
    "                valid_pred_labels = np.argmax(valid_preds, axis=1)\n",
    "                \n",
    "                log(f\"training loss: {train_loss}, train accuracy: {accuracy_score(train_labels, train_pred_labels)}\")\n",
    "                log(f\"validation loss: {valid_loss}, validation accuracy: {accuracy_score(valid_labels, valid_pred_labels)}\")\n",
    "            if valid_loss < best_loss:\n",
    "                best_loss = valid_loss\n",
    "                save_model(model, f\"{model_prefix}-{epoch}\")\n",
    "                \n",
    "        \n",
    "#train_sce(sce_model, sce_criterion, sce_optimizer, train_loader, valid_loader, verbose=5, num_epochs=100)\n"
   ]
  },
  {
   "cell_type": "markdown",
   "id": "8355ce45",
   "metadata": {},
   "source": [
    "## train on all datasets"
   ]
  },
  {
   "cell_type": "code",
   "execution_count": 88,
   "id": "6b5a4cb9",
   "metadata": {},
   "outputs": [
    {
     "name": "stdout",
     "output_type": "stream",
     "text": [
      "2021-11-30 21:56:55.998591: training sce on sce-balanced\n"
     ]
    },
    {
     "name": "stderr",
     "output_type": "stream",
     "text": [
      "252it [00:01, 132.32it/s]\n"
     ]
    },
    {
     "name": "stdout",
     "output_type": "stream",
     "text": [
      "epoch 1, training loss: 2.6504039764404297\n"
     ]
    },
    {
     "name": "stderr",
     "output_type": "stream",
     "text": [
      "252it [00:01, 135.32it/s]\n"
     ]
    },
    {
     "name": "stdout",
     "output_type": "stream",
     "text": [
      "epoch 2, training loss: 1.7308382987976074\n"
     ]
    },
    {
     "name": "stderr",
     "output_type": "stream",
     "text": [
      "252it [00:01, 136.85it/s]\n"
     ]
    },
    {
     "name": "stdout",
     "output_type": "stream",
     "text": [
      "epoch 3, training loss: 1.6207009553909302\n"
     ]
    },
    {
     "name": "stderr",
     "output_type": "stream",
     "text": [
      "252it [00:01, 136.19it/s]\n"
     ]
    },
    {
     "name": "stdout",
     "output_type": "stream",
     "text": [
      "epoch 4, training loss: 1.5712660551071167\n"
     ]
    },
    {
     "name": "stderr",
     "output_type": "stream",
     "text": [
      "252it [00:01, 136.88it/s]\n"
     ]
    },
    {
     "name": "stdout",
     "output_type": "stream",
     "text": [
      "epoch 5, training loss: 1.543624997138977\n"
     ]
    },
    {
     "name": "stderr",
     "output_type": "stream",
     "text": [
      "100%|██████████| 28/28 [00:00<00:00, 383.73it/s]\n",
      "100%|██████████| 252/252 [00:00<00:00, 385.93it/s]\n"
     ]
    },
    {
     "name": "stdout",
     "output_type": "stream",
     "text": [
      "training loss: 1.5167022943496704, train accuracy: 0.8472398920160115\n",
      "validation loss: 1.4754616022109985, validation accuracy: 0.8541899441340782\n",
      "saving best model: sce-balanced-5\n"
     ]
    },
    {
     "name": "stderr",
     "output_type": "stream",
     "text": [
      "252it [00:01, 136.05it/s]\n"
     ]
    },
    {
     "name": "stdout",
     "output_type": "stream",
     "text": [
      "epoch 6, training loss: 1.5258822441101074\n"
     ]
    },
    {
     "name": "stderr",
     "output_type": "stream",
     "text": [
      "252it [00:01, 136.56it/s]\n"
     ]
    },
    {
     "name": "stdout",
     "output_type": "stream",
     "text": [
      "epoch 7, training loss: 1.5070571899414062\n"
     ]
    },
    {
     "name": "stderr",
     "output_type": "stream",
     "text": [
      "252it [00:01, 136.33it/s]\n"
     ]
    },
    {
     "name": "stdout",
     "output_type": "stream",
     "text": [
      "epoch 8, training loss: 1.4831078052520752\n"
     ]
    },
    {
     "name": "stderr",
     "output_type": "stream",
     "text": [
      "252it [00:01, 137.11it/s]\n"
     ]
    },
    {
     "name": "stdout",
     "output_type": "stream",
     "text": [
      "epoch 9, training loss: 1.469217300415039\n"
     ]
    },
    {
     "name": "stderr",
     "output_type": "stream",
     "text": [
      "252it [00:01, 136.28it/s]\n"
     ]
    },
    {
     "name": "stdout",
     "output_type": "stream",
     "text": [
      "epoch 10, training loss: 1.4442259073257446\n"
     ]
    },
    {
     "name": "stderr",
     "output_type": "stream",
     "text": [
      "100%|██████████| 28/28 [00:00<00:00, 386.01it/s]\n",
      "100%|██████████| 252/252 [00:00<00:00, 386.82it/s]\n"
     ]
    },
    {
     "name": "stdout",
     "output_type": "stream",
     "text": [
      "training loss: 1.3812077045440674, train accuracy: 0.861389518105936\n",
      "validation loss: 1.5441255569458008, validation accuracy: 0.8458100558659218\n"
     ]
    },
    {
     "name": "stderr",
     "output_type": "stream",
     "text": [
      "252it [00:01, 137.06it/s]\n"
     ]
    },
    {
     "name": "stdout",
     "output_type": "stream",
     "text": [
      "epoch 11, training loss: 1.414228081703186\n"
     ]
    },
    {
     "name": "stderr",
     "output_type": "stream",
     "text": [
      "252it [00:01, 135.52it/s]\n"
     ]
    },
    {
     "name": "stdout",
     "output_type": "stream",
     "text": [
      "epoch 12, training loss: 1.3805973529815674\n"
     ]
    },
    {
     "name": "stderr",
     "output_type": "stream",
     "text": [
      "252it [00:01, 136.25it/s]\n"
     ]
    },
    {
     "name": "stdout",
     "output_type": "stream",
     "text": [
      "epoch 13, training loss: 1.3352322578430176\n"
     ]
    },
    {
     "name": "stderr",
     "output_type": "stream",
     "text": [
      "252it [00:01, 136.77it/s]\n"
     ]
    },
    {
     "name": "stdout",
     "output_type": "stream",
     "text": [
      "epoch 14, training loss: 1.2942564487457275\n"
     ]
    },
    {
     "name": "stderr",
     "output_type": "stream",
     "text": [
      "252it [00:01, 137.68it/s]\n"
     ]
    },
    {
     "name": "stdout",
     "output_type": "stream",
     "text": [
      "epoch 15, training loss: 1.243958830833435\n"
     ]
    },
    {
     "name": "stderr",
     "output_type": "stream",
     "text": [
      "100%|██████████| 28/28 [00:00<00:00, 388.62it/s]\n",
      "100%|██████████| 252/252 [00:00<00:00, 389.82it/s]\n"
     ]
    },
    {
     "name": "stdout",
     "output_type": "stream",
     "text": [
      "training loss: 1.1402982473373413, train accuracy: 0.8877338877338877\n",
      "validation loss: 1.702967882156372, validation accuracy: 0.8301675977653631\n"
     ]
    },
    {
     "name": "stderr",
     "output_type": "stream",
     "text": [
      "252it [00:01, 136.77it/s]\n"
     ]
    },
    {
     "name": "stdout",
     "output_type": "stream",
     "text": [
      "epoch 16, training loss: 1.203803300857544\n"
     ]
    },
    {
     "name": "stderr",
     "output_type": "stream",
     "text": [
      "252it [00:01, 137.82it/s]\n"
     ]
    },
    {
     "name": "stdout",
     "output_type": "stream",
     "text": [
      "epoch 17, training loss: 1.1533221006393433\n"
     ]
    },
    {
     "name": "stderr",
     "output_type": "stream",
     "text": [
      "252it [00:01, 142.60it/s]\n"
     ]
    },
    {
     "name": "stdout",
     "output_type": "stream",
     "text": [
      "epoch 18, training loss: 1.113701343536377\n"
     ]
    },
    {
     "name": "stderr",
     "output_type": "stream",
     "text": [
      "252it [00:01, 142.32it/s]\n"
     ]
    },
    {
     "name": "stdout",
     "output_type": "stream",
     "text": [
      "epoch 19, training loss: 1.073592185974121\n"
     ]
    },
    {
     "name": "stderr",
     "output_type": "stream",
     "text": [
      "252it [00:01, 137.18it/s]\n"
     ]
    },
    {
     "name": "stdout",
     "output_type": "stream",
     "text": [
      "epoch 20, training loss: 1.029803991317749\n"
     ]
    },
    {
     "name": "stderr",
     "output_type": "stream",
     "text": [
      "100%|██████████| 28/28 [00:00<00:00, 379.12it/s]\n",
      "100%|██████████| 252/252 [00:00<00:00, 380.46it/s]\n"
     ]
    },
    {
     "name": "stdout",
     "output_type": "stream",
     "text": [
      "training loss: 0.9480012059211731, train accuracy: 0.907593012070624\n",
      "validation loss: 1.7899154424667358, validation accuracy: 0.8201117318435754\n"
     ]
    },
    {
     "name": "stderr",
     "output_type": "stream",
     "text": [
      "252it [00:01, 136.09it/s]\n"
     ]
    },
    {
     "name": "stdout",
     "output_type": "stream",
     "text": [
      "epoch 21, training loss: 0.9696616530418396\n"
     ]
    },
    {
     "name": "stderr",
     "output_type": "stream",
     "text": [
      "252it [00:01, 135.61it/s]\n"
     ]
    },
    {
     "name": "stdout",
     "output_type": "stream",
     "text": [
      "epoch 22, training loss: 0.9549485445022583\n"
     ]
    },
    {
     "name": "stderr",
     "output_type": "stream",
     "text": [
      "252it [00:01, 135.59it/s]\n"
     ]
    },
    {
     "name": "stdout",
     "output_type": "stream",
     "text": [
      "epoch 23, training loss: 0.9195381999015808\n"
     ]
    },
    {
     "name": "stderr",
     "output_type": "stream",
     "text": [
      "252it [00:01, 135.91it/s]\n"
     ]
    },
    {
     "name": "stdout",
     "output_type": "stream",
     "text": [
      "epoch 24, training loss: 0.9017449021339417\n"
     ]
    },
    {
     "name": "stderr",
     "output_type": "stream",
     "text": [
      "252it [00:01, 135.02it/s]\n"
     ]
    },
    {
     "name": "stdout",
     "output_type": "stream",
     "text": [
      "epoch 25, training loss: 0.8651062250137329\n"
     ]
    },
    {
     "name": "stderr",
     "output_type": "stream",
     "text": [
      "100%|██████████| 28/28 [00:00<00:00, 380.54it/s]\n",
      "100%|██████████| 252/252 [00:00<00:00, 383.18it/s]\n"
     ]
    },
    {
     "name": "stdout",
     "output_type": "stream",
     "text": [
      "training loss: 0.7955367565155029, train accuracy: 0.9215874887516678\n",
      "validation loss: 1.7963874340057373, validation accuracy: 0.8206703910614526\n"
     ]
    },
    {
     "name": "stderr",
     "output_type": "stream",
     "text": [
      "252it [00:01, 135.27it/s]\n"
     ]
    },
    {
     "name": "stdout",
     "output_type": "stream",
     "text": [
      "epoch 26, training loss: 0.8533318042755127\n"
     ]
    },
    {
     "name": "stderr",
     "output_type": "stream",
     "text": [
      "252it [00:01, 134.99it/s]\n"
     ]
    },
    {
     "name": "stdout",
     "output_type": "stream",
     "text": [
      "epoch 27, training loss: 0.834099531173706\n"
     ]
    },
    {
     "name": "stderr",
     "output_type": "stream",
     "text": [
      "252it [00:01, 135.58it/s]\n"
     ]
    },
    {
     "name": "stdout",
     "output_type": "stream",
     "text": [
      "epoch 28, training loss: 0.8295735716819763\n"
     ]
    },
    {
     "name": "stderr",
     "output_type": "stream",
     "text": [
      "252it [00:01, 134.90it/s]\n"
     ]
    },
    {
     "name": "stdout",
     "output_type": "stream",
     "text": [
      "epoch 29, training loss: 0.8083573579788208\n"
     ]
    },
    {
     "name": "stderr",
     "output_type": "stream",
     "text": [
      "252it [00:01, 135.58it/s]\n"
     ]
    },
    {
     "name": "stdout",
     "output_type": "stream",
     "text": [
      "epoch 30, training loss: 0.7944598197937012\n"
     ]
    },
    {
     "name": "stderr",
     "output_type": "stream",
     "text": [
      "100%|██████████| 28/28 [00:00<00:00, 382.07it/s]\n",
      "100%|██████████| 252/252 [00:00<00:00, 383.23it/s]\n"
     ]
    },
    {
     "name": "stdout",
     "output_type": "stream",
     "text": [
      "training loss: 0.7441560626029968, train accuracy: 0.9272969869984795\n",
      "validation loss: 1.9699615240097046, validation accuracy: 0.8025139664804469\n"
     ]
    },
    {
     "name": "stderr",
     "output_type": "stream",
     "text": [
      "252it [00:01, 135.49it/s]\n"
     ]
    },
    {
     "name": "stdout",
     "output_type": "stream",
     "text": [
      "epoch 31, training loss: 0.7707741260528564\n"
     ]
    },
    {
     "name": "stderr",
     "output_type": "stream",
     "text": [
      "252it [00:01, 137.46it/s]\n"
     ]
    },
    {
     "name": "stdout",
     "output_type": "stream",
     "text": [
      "epoch 32, training loss: 0.7762047648429871\n"
     ]
    },
    {
     "name": "stderr",
     "output_type": "stream",
     "text": [
      "252it [00:01, 136.68it/s]\n"
     ]
    },
    {
     "name": "stdout",
     "output_type": "stream",
     "text": [
      "epoch 33, training loss: 0.7512274980545044\n"
     ]
    },
    {
     "name": "stderr",
     "output_type": "stream",
     "text": [
      "252it [00:01, 137.32it/s]\n"
     ]
    },
    {
     "name": "stdout",
     "output_type": "stream",
     "text": [
      "epoch 34, training loss: 0.7406295537948608\n"
     ]
    },
    {
     "name": "stderr",
     "output_type": "stream",
     "text": [
      "252it [00:01, 137.11it/s]\n"
     ]
    },
    {
     "name": "stdout",
     "output_type": "stream",
     "text": [
      "epoch 35, training loss: 0.7332488894462585\n"
     ]
    },
    {
     "name": "stderr",
     "output_type": "stream",
     "text": [
      "100%|██████████| 28/28 [00:00<00:00, 386.68it/s]\n",
      "100%|██████████| 252/252 [00:00<00:00, 389.55it/s]\n"
     ]
    },
    {
     "name": "stdout",
     "output_type": "stream",
     "text": [
      "training loss: 0.7224028706550598, train accuracy: 0.9291898097868247\n",
      "validation loss: 1.919547200202942, validation accuracy: 0.8089385474860336\n"
     ]
    },
    {
     "name": "stderr",
     "output_type": "stream",
     "text": [
      "252it [00:01, 135.51it/s]\n"
     ]
    },
    {
     "name": "stdout",
     "output_type": "stream",
     "text": [
      "epoch 36, training loss: 0.7299472689628601\n"
     ]
    },
    {
     "name": "stderr",
     "output_type": "stream",
     "text": [
      "252it [00:01, 135.30it/s]\n"
     ]
    },
    {
     "name": "stdout",
     "output_type": "stream",
     "text": [
      "epoch 37, training loss: 0.7371657490730286\n"
     ]
    },
    {
     "name": "stderr",
     "output_type": "stream",
     "text": [
      "252it [00:01, 135.21it/s]\n"
     ]
    },
    {
     "name": "stdout",
     "output_type": "stream",
     "text": [
      "epoch 38, training loss: 0.7227480411529541\n"
     ]
    },
    {
     "name": "stderr",
     "output_type": "stream",
     "text": [
      "252it [00:01, 135.94it/s]\n"
     ]
    },
    {
     "name": "stdout",
     "output_type": "stream",
     "text": [
      "epoch 39, training loss: 0.7161478996276855\n"
     ]
    },
    {
     "name": "stderr",
     "output_type": "stream",
     "text": [
      "252it [00:01, 135.06it/s]\n"
     ]
    },
    {
     "name": "stdout",
     "output_type": "stream",
     "text": [
      "epoch 40, training loss: 0.7055249214172363\n"
     ]
    },
    {
     "name": "stderr",
     "output_type": "stream",
     "text": [
      "100%|██████████| 28/28 [00:00<00:00, 382.63it/s]\n",
      "100%|██████████| 252/252 [00:00<00:00, 384.62it/s]\n"
     ]
    },
    {
     "name": "stdout",
     "output_type": "stream",
     "text": [
      "training loss: 0.664656400680542, train accuracy: 0.9344959195705465\n",
      "validation loss: 1.8874294757843018, validation accuracy: 0.8114525139664804\n"
     ]
    },
    {
     "name": "stderr",
     "output_type": "stream",
     "text": [
      "252it [00:01, 135.93it/s]\n"
     ]
    },
    {
     "name": "stdout",
     "output_type": "stream",
     "text": [
      "epoch 41, training loss: 0.6972812414169312\n"
     ]
    },
    {
     "name": "stderr",
     "output_type": "stream",
     "text": [
      "252it [00:01, 135.19it/s]\n"
     ]
    },
    {
     "name": "stdout",
     "output_type": "stream",
     "text": [
      "epoch 42, training loss: 0.6897284388542175\n"
     ]
    },
    {
     "name": "stderr",
     "output_type": "stream",
     "text": [
      "252it [00:01, 135.90it/s]\n"
     ]
    },
    {
     "name": "stdout",
     "output_type": "stream",
     "text": [
      "epoch 43, training loss: 0.6948606967926025\n"
     ]
    },
    {
     "name": "stderr",
     "output_type": "stream",
     "text": [
      "252it [00:01, 135.23it/s]\n"
     ]
    },
    {
     "name": "stdout",
     "output_type": "stream",
     "text": [
      "epoch 44, training loss: 0.6870933175086975\n"
     ]
    },
    {
     "name": "stderr",
     "output_type": "stream",
     "text": [
      "252it [00:01, 135.97it/s]\n"
     ]
    },
    {
     "name": "stdout",
     "output_type": "stream",
     "text": [
      "epoch 45, training loss: 0.6871210932731628\n"
     ]
    },
    {
     "name": "stderr",
     "output_type": "stream",
     "text": [
      "100%|██████████| 28/28 [00:00<00:00, 383.10it/s]\n",
      "100%|██████████| 252/252 [00:00<00:00, 384.50it/s]\n"
     ]
    },
    {
     "name": "stdout",
     "output_type": "stream",
     "text": [
      "training loss: 0.6558879017829895, train accuracy: 0.9353647562602786\n",
      "validation loss: 1.9059463739395142, validation accuracy: 0.8083798882681564\n"
     ]
    },
    {
     "name": "stderr",
     "output_type": "stream",
     "text": [
      "252it [00:01, 135.20it/s]\n"
     ]
    },
    {
     "name": "stdout",
     "output_type": "stream",
     "text": [
      "epoch 46, training loss: 0.6936360597610474\n"
     ]
    },
    {
     "name": "stderr",
     "output_type": "stream",
     "text": [
      "252it [00:01, 135.99it/s]\n"
     ]
    },
    {
     "name": "stdout",
     "output_type": "stream",
     "text": [
      "epoch 47, training loss: 0.6828854084014893\n"
     ]
    },
    {
     "name": "stderr",
     "output_type": "stream",
     "text": [
      "252it [00:01, 135.09it/s]\n"
     ]
    },
    {
     "name": "stdout",
     "output_type": "stream",
     "text": [
      "epoch 48, training loss: 0.6902734041213989\n"
     ]
    },
    {
     "name": "stderr",
     "output_type": "stream",
     "text": [
      "252it [00:01, 135.66it/s]\n"
     ]
    },
    {
     "name": "stdout",
     "output_type": "stream",
     "text": [
      "epoch 49, training loss: 0.674740731716156\n"
     ]
    },
    {
     "name": "stderr",
     "output_type": "stream",
     "text": [
      "252it [00:01, 135.10it/s]\n"
     ]
    },
    {
     "name": "stdout",
     "output_type": "stream",
     "text": [
      "epoch 50, training loss: 0.6735668778419495\n"
     ]
    },
    {
     "name": "stderr",
     "output_type": "stream",
     "text": [
      "100%|██████████| 28/28 [00:00<00:00, 379.96it/s]\n",
      "100%|██████████| 252/252 [00:00<00:00, 384.32it/s]\n"
     ]
    },
    {
     "name": "stdout",
     "output_type": "stream",
     "text": [
      "training loss: 0.6500571370124817, train accuracy: 0.9359853538958016\n",
      "validation loss: 1.9017305374145508, validation accuracy: 0.8083798882681564\n"
     ]
    },
    {
     "name": "stderr",
     "output_type": "stream",
     "text": [
      "252it [00:01, 135.73it/s]\n"
     ]
    },
    {
     "name": "stdout",
     "output_type": "stream",
     "text": [
      "epoch 51, training loss: 0.6763421297073364\n"
     ]
    },
    {
     "name": "stderr",
     "output_type": "stream",
     "text": [
      "252it [00:01, 134.65it/s]\n"
     ]
    },
    {
     "name": "stdout",
     "output_type": "stream",
     "text": [
      "epoch 52, training loss: 0.6656560301780701\n"
     ]
    },
    {
     "name": "stderr",
     "output_type": "stream",
     "text": [
      "252it [00:01, 134.76it/s]\n"
     ]
    },
    {
     "name": "stdout",
     "output_type": "stream",
     "text": [
      "epoch 53, training loss: 0.6708052754402161\n"
     ]
    },
    {
     "name": "stderr",
     "output_type": "stream",
     "text": [
      "252it [00:01, 134.55it/s]\n"
     ]
    },
    {
     "name": "stdout",
     "output_type": "stream",
     "text": [
      "epoch 54, training loss: 0.658674955368042\n"
     ]
    },
    {
     "name": "stderr",
     "output_type": "stream",
     "text": [
      "252it [00:01, 135.07it/s]\n"
     ]
    },
    {
     "name": "stdout",
     "output_type": "stream",
     "text": [
      "epoch 55, training loss: 0.6689059734344482\n"
     ]
    },
    {
     "name": "stderr",
     "output_type": "stream",
     "text": [
      "100%|██████████| 28/28 [00:00<00:00, 368.83it/s]\n",
      "100%|██████████| 252/252 [00:00<00:00, 374.24it/s]\n"
     ]
    },
    {
     "name": "stdout",
     "output_type": "stream",
     "text": [
      "training loss: 0.6359509229660034, train accuracy: 0.9371334595215193\n",
      "validation loss: 1.8862640857696533, validation accuracy: 0.8117318435754189\n"
     ]
    },
    {
     "name": "stderr",
     "output_type": "stream",
     "text": [
      "252it [00:01, 134.55it/s]\n"
     ]
    },
    {
     "name": "stdout",
     "output_type": "stream",
     "text": [
      "epoch 56, training loss: 0.6609993577003479\n"
     ]
    },
    {
     "name": "stderr",
     "output_type": "stream",
     "text": [
      "252it [00:01, 135.17it/s]\n"
     ]
    },
    {
     "name": "stdout",
     "output_type": "stream",
     "text": [
      "epoch 57, training loss: 0.6540868878364563\n"
     ]
    },
    {
     "name": "stderr",
     "output_type": "stream",
     "text": [
      "252it [00:01, 134.41it/s]\n"
     ]
    },
    {
     "name": "stdout",
     "output_type": "stream",
     "text": [
      "epoch 58, training loss: 0.6512303352355957\n"
     ]
    },
    {
     "name": "stderr",
     "output_type": "stream",
     "text": [
      "252it [00:01, 134.98it/s]\n"
     ]
    },
    {
     "name": "stdout",
     "output_type": "stream",
     "text": [
      "epoch 59, training loss: 0.6561508774757385\n"
     ]
    },
    {
     "name": "stderr",
     "output_type": "stream",
     "text": [
      "252it [00:01, 135.13it/s]\n"
     ]
    },
    {
     "name": "stdout",
     "output_type": "stream",
     "text": [
      "epoch 60, training loss: 0.6609635353088379\n"
     ]
    },
    {
     "name": "stderr",
     "output_type": "stream",
     "text": [
      "100%|██████████| 28/28 [00:00<00:00, 371.31it/s]\n",
      "100%|██████████| 252/252 [00:00<00:00, 369.49it/s]\n"
     ]
    },
    {
     "name": "stdout",
     "output_type": "stream",
     "text": [
      "training loss: 0.623222827911377, train accuracy: 0.9381574456201321\n",
      "validation loss: 1.8833644390106201, validation accuracy: 0.8122905027932961\n"
     ]
    },
    {
     "name": "stderr",
     "output_type": "stream",
     "text": [
      "252it [00:01, 134.91it/s]\n"
     ]
    },
    {
     "name": "stdout",
     "output_type": "stream",
     "text": [
      "epoch 61, training loss: 0.6555545330047607\n"
     ]
    },
    {
     "name": "stderr",
     "output_type": "stream",
     "text": [
      "252it [00:01, 135.22it/s]\n"
     ]
    },
    {
     "name": "stdout",
     "output_type": "stream",
     "text": [
      "epoch 62, training loss: 0.6539958119392395\n"
     ]
    },
    {
     "name": "stderr",
     "output_type": "stream",
     "text": [
      "252it [00:01, 134.58it/s]\n"
     ]
    },
    {
     "name": "stdout",
     "output_type": "stream",
     "text": [
      "epoch 63, training loss: 0.6532998085021973\n"
     ]
    },
    {
     "name": "stderr",
     "output_type": "stream",
     "text": [
      "252it [00:01, 136.12it/s]\n"
     ]
    },
    {
     "name": "stdout",
     "output_type": "stream",
     "text": [
      "epoch 64, training loss: 0.6509063243865967\n"
     ]
    },
    {
     "name": "stderr",
     "output_type": "stream",
     "text": [
      "252it [00:01, 135.57it/s]\n"
     ]
    },
    {
     "name": "stdout",
     "output_type": "stream",
     "text": [
      "epoch 65, training loss: 0.6510745882987976\n"
     ]
    },
    {
     "name": "stderr",
     "output_type": "stream",
     "text": [
      "100%|██████████| 28/28 [00:00<00:00, 376.99it/s]\n",
      "100%|██████████| 252/252 [00:00<00:00, 379.14it/s]\n"
     ]
    },
    {
     "name": "stdout",
     "output_type": "stream",
     "text": [
      "training loss: 0.6292967796325684, train accuracy: 0.9375989077481615\n",
      "validation loss: 1.8616255521774292, validation accuracy: 0.8125698324022347\n"
     ]
    },
    {
     "name": "stderr",
     "output_type": "stream",
     "text": [
      "252it [00:01, 136.21it/s]\n"
     ]
    },
    {
     "name": "stdout",
     "output_type": "stream",
     "text": [
      "epoch 66, training loss: 0.6514735817909241\n"
     ]
    },
    {
     "name": "stderr",
     "output_type": "stream",
     "text": [
      "252it [00:01, 135.67it/s]\n"
     ]
    },
    {
     "name": "stdout",
     "output_type": "stream",
     "text": [
      "epoch 67, training loss: 0.640839695930481\n"
     ]
    },
    {
     "name": "stderr",
     "output_type": "stream",
     "text": [
      "252it [00:01, 136.82it/s]\n"
     ]
    },
    {
     "name": "stdout",
     "output_type": "stream",
     "text": [
      "epoch 68, training loss: 0.6361036896705627\n"
     ]
    },
    {
     "name": "stderr",
     "output_type": "stream",
     "text": [
      "252it [00:01, 135.67it/s]\n"
     ]
    },
    {
     "name": "stdout",
     "output_type": "stream",
     "text": [
      "epoch 69, training loss: 0.6457011103630066\n"
     ]
    },
    {
     "name": "stderr",
     "output_type": "stream",
     "text": [
      "252it [00:01, 135.38it/s]\n"
     ]
    },
    {
     "name": "stdout",
     "output_type": "stream",
     "text": [
      "epoch 70, training loss: 0.6514978408813477\n"
     ]
    },
    {
     "name": "stderr",
     "output_type": "stream",
     "text": [
      "100%|██████████| 28/28 [00:00<00:00, 380.63it/s]\n",
      "100%|██████████| 252/252 [00:00<00:00, 375.31it/s]\n"
     ]
    },
    {
     "name": "stdout",
     "output_type": "stream",
     "text": [
      "training loss: 0.6238427758216858, train accuracy: 0.938343624910789\n",
      "validation loss: 1.797972559928894, validation accuracy: 0.8195530726256983\n"
     ]
    },
    {
     "name": "stderr",
     "output_type": "stream",
     "text": [
      "252it [00:01, 134.47it/s]\n"
     ]
    },
    {
     "name": "stdout",
     "output_type": "stream",
     "text": [
      "epoch 71, training loss: 0.6354640126228333\n"
     ]
    },
    {
     "name": "stderr",
     "output_type": "stream",
     "text": [
      "252it [00:01, 135.25it/s]\n"
     ]
    },
    {
     "name": "stdout",
     "output_type": "stream",
     "text": [
      "epoch 72, training loss: 0.6281846165657043\n"
     ]
    },
    {
     "name": "stderr",
     "output_type": "stream",
     "text": [
      "252it [00:01, 134.54it/s]\n"
     ]
    },
    {
     "name": "stdout",
     "output_type": "stream",
     "text": [
      "epoch 73, training loss: 0.6218724250793457\n"
     ]
    },
    {
     "name": "stderr",
     "output_type": "stream",
     "text": [
      "252it [00:01, 135.17it/s]\n"
     ]
    },
    {
     "name": "stdout",
     "output_type": "stream",
     "text": [
      "epoch 74, training loss: 0.6342693567276001\n"
     ]
    },
    {
     "name": "stderr",
     "output_type": "stream",
     "text": [
      "252it [00:01, 134.56it/s]\n"
     ]
    },
    {
     "name": "stdout",
     "output_type": "stream",
     "text": [
      "epoch 75, training loss: 0.6356469988822937\n"
     ]
    },
    {
     "name": "stderr",
     "output_type": "stream",
     "text": [
      "100%|██████████| 28/28 [00:00<00:00, 368.74it/s]\n",
      "100%|██████████| 252/252 [00:00<00:00, 372.25it/s]\n"
     ]
    },
    {
     "name": "stdout",
     "output_type": "stream",
     "text": [
      "training loss: 0.6118043065071106, train accuracy: 0.9392124616005213\n",
      "validation loss: 1.862611174583435, validation accuracy: 0.8142458100558659\n"
     ]
    },
    {
     "name": "stderr",
     "output_type": "stream",
     "text": [
      "252it [00:01, 134.99it/s]\n"
     ]
    },
    {
     "name": "stdout",
     "output_type": "stream",
     "text": [
      "epoch 76, training loss: 0.6353546977043152\n"
     ]
    },
    {
     "name": "stderr",
     "output_type": "stream",
     "text": [
      "252it [00:01, 134.55it/s]\n"
     ]
    },
    {
     "name": "stdout",
     "output_type": "stream",
     "text": [
      "epoch 77, training loss: 0.635410487651825\n"
     ]
    },
    {
     "name": "stderr",
     "output_type": "stream",
     "text": [
      "252it [00:01, 134.90it/s]\n"
     ]
    },
    {
     "name": "stdout",
     "output_type": "stream",
     "text": [
      "epoch 78, training loss: 0.6413901448249817\n"
     ]
    },
    {
     "name": "stderr",
     "output_type": "stream",
     "text": [
      "252it [00:01, 134.55it/s]\n"
     ]
    },
    {
     "name": "stdout",
     "output_type": "stream",
     "text": [
      "epoch 79, training loss: 0.6376200914382935\n"
     ]
    },
    {
     "name": "stderr",
     "output_type": "stream",
     "text": [
      "252it [00:01, 135.06it/s]\n"
     ]
    },
    {
     "name": "stdout",
     "output_type": "stream",
     "text": [
      "epoch 80, training loss: 0.6318550705909729\n"
     ]
    },
    {
     "name": "stderr",
     "output_type": "stream",
     "text": [
      "100%|██████████| 28/28 [00:00<00:00, 367.65it/s]\n",
      "100%|██████████| 252/252 [00:00<00:00, 370.28it/s]\n"
     ]
    },
    {
     "name": "stdout",
     "output_type": "stream",
     "text": [
      "training loss: 0.6027640700340271, train accuracy: 0.9399571787631489\n",
      "validation loss: 1.9308617115020752, validation accuracy: 0.806145251396648\n"
     ]
    },
    {
     "name": "stderr",
     "output_type": "stream",
     "text": [
      "252it [00:01, 134.07it/s]\n"
     ]
    },
    {
     "name": "stdout",
     "output_type": "stream",
     "text": [
      "epoch 81, training loss: 0.6376049518585205\n"
     ]
    },
    {
     "name": "stderr",
     "output_type": "stream",
     "text": [
      "252it [00:01, 135.64it/s]\n"
     ]
    },
    {
     "name": "stdout",
     "output_type": "stream",
     "text": [
      "epoch 82, training loss: 0.6311627626419067\n"
     ]
    },
    {
     "name": "stderr",
     "output_type": "stream",
     "text": [
      "252it [00:01, 135.38it/s]\n"
     ]
    },
    {
     "name": "stdout",
     "output_type": "stream",
     "text": [
      "epoch 83, training loss: 0.6320233941078186\n"
     ]
    },
    {
     "name": "stderr",
     "output_type": "stream",
     "text": [
      "252it [00:01, 135.91it/s]\n"
     ]
    },
    {
     "name": "stdout",
     "output_type": "stream",
     "text": [
      "epoch 84, training loss: 0.6352030634880066\n"
     ]
    },
    {
     "name": "stderr",
     "output_type": "stream",
     "text": [
      "252it [00:01, 135.55it/s]\n"
     ]
    },
    {
     "name": "stdout",
     "output_type": "stream",
     "text": [
      "epoch 85, training loss: 0.6259584426879883\n"
     ]
    },
    {
     "name": "stderr",
     "output_type": "stream",
     "text": [
      "100%|██████████| 28/28 [00:00<00:00, 368.38it/s]\n",
      "100%|██████████| 252/252 [00:00<00:00, 377.07it/s]\n"
     ]
    },
    {
     "name": "stdout",
     "output_type": "stream",
     "text": [
      "training loss: 0.5985019207000732, train accuracy: 0.9401433580538058\n",
      "validation loss: 1.8946298360824585, validation accuracy: 0.8111731843575419\n"
     ]
    },
    {
     "name": "stderr",
     "output_type": "stream",
     "text": [
      "252it [00:01, 135.81it/s]\n"
     ]
    },
    {
     "name": "stdout",
     "output_type": "stream",
     "text": [
      "epoch 86, training loss: 0.6188141107559204\n"
     ]
    },
    {
     "name": "stderr",
     "output_type": "stream",
     "text": [
      "252it [00:01, 135.19it/s]\n"
     ]
    },
    {
     "name": "stdout",
     "output_type": "stream",
     "text": [
      "epoch 87, training loss: 0.6153451204299927\n"
     ]
    },
    {
     "name": "stderr",
     "output_type": "stream",
     "text": [
      "252it [00:01, 136.60it/s]\n"
     ]
    },
    {
     "name": "stdout",
     "output_type": "stream",
     "text": [
      "epoch 88, training loss: 0.6170049905776978\n"
     ]
    },
    {
     "name": "stderr",
     "output_type": "stream",
     "text": [
      "252it [00:01, 136.84it/s]\n"
     ]
    },
    {
     "name": "stdout",
     "output_type": "stream",
     "text": [
      "epoch 89, training loss: 0.6146631836891174\n"
     ]
    },
    {
     "name": "stderr",
     "output_type": "stream",
     "text": [
      "252it [00:01, 137.56it/s]\n"
     ]
    },
    {
     "name": "stdout",
     "output_type": "stream",
     "text": [
      "epoch 90, training loss: 0.6213675737380981\n"
     ]
    },
    {
     "name": "stderr",
     "output_type": "stream",
     "text": [
      "100%|██████████| 28/28 [00:00<00:00, 386.85it/s]\n",
      "100%|██████████| 252/252 [00:00<00:00, 386.56it/s]\n"
     ]
    },
    {
     "name": "stdout",
     "output_type": "stream",
     "text": [
      "training loss: 0.5955376625061035, train accuracy: 0.9403295373444627\n",
      "validation loss: 1.8746603727340698, validation accuracy: 0.8134078212290503\n"
     ]
    },
    {
     "name": "stderr",
     "output_type": "stream",
     "text": [
      "252it [00:01, 136.29it/s]\n"
     ]
    },
    {
     "name": "stdout",
     "output_type": "stream",
     "text": [
      "epoch 91, training loss: 0.6206927299499512\n"
     ]
    },
    {
     "name": "stderr",
     "output_type": "stream",
     "text": [
      "252it [00:01, 136.79it/s]\n"
     ]
    },
    {
     "name": "stdout",
     "output_type": "stream",
     "text": [
      "epoch 92, training loss: 0.6278239488601685\n"
     ]
    },
    {
     "name": "stderr",
     "output_type": "stream",
     "text": [
      "252it [00:01, 136.78it/s]\n"
     ]
    },
    {
     "name": "stdout",
     "output_type": "stream",
     "text": [
      "epoch 93, training loss: 0.620984673500061\n"
     ]
    },
    {
     "name": "stderr",
     "output_type": "stream",
     "text": [
      "252it [00:01, 136.89it/s]\n"
     ]
    },
    {
     "name": "stdout",
     "output_type": "stream",
     "text": [
      "epoch 94, training loss: 0.6125882863998413\n"
     ]
    },
    {
     "name": "stderr",
     "output_type": "stream",
     "text": [
      "252it [00:01, 136.87it/s]\n"
     ]
    },
    {
     "name": "stdout",
     "output_type": "stream",
     "text": [
      "epoch 95, training loss: 0.6142347455024719\n"
     ]
    },
    {
     "name": "stderr",
     "output_type": "stream",
     "text": [
      "100%|██████████| 28/28 [00:00<00:00, 384.19it/s]\n",
      "100%|██████████| 252/252 [00:00<00:00, 387.13it/s]\n"
     ]
    },
    {
     "name": "stdout",
     "output_type": "stream",
     "text": [
      "training loss: 0.5920438170433044, train accuracy: 0.9405467465168957\n",
      "validation loss: 1.9038513898849487, validation accuracy: 0.8106145251396648\n"
     ]
    },
    {
     "name": "stderr",
     "output_type": "stream",
     "text": [
      "252it [00:01, 136.55it/s]\n"
     ]
    },
    {
     "name": "stdout",
     "output_type": "stream",
     "text": [
      "epoch 96, training loss: 0.6144972443580627\n"
     ]
    },
    {
     "name": "stderr",
     "output_type": "stream",
     "text": [
      "252it [00:01, 136.89it/s]\n"
     ]
    },
    {
     "name": "stdout",
     "output_type": "stream",
     "text": [
      "epoch 97, training loss: 0.6176661252975464\n"
     ]
    },
    {
     "name": "stderr",
     "output_type": "stream",
     "text": [
      "252it [00:01, 136.83it/s]\n"
     ]
    },
    {
     "name": "stdout",
     "output_type": "stream",
     "text": [
      "epoch 98, training loss: 0.6233676671981812\n"
     ]
    },
    {
     "name": "stderr",
     "output_type": "stream",
     "text": [
      "252it [00:01, 136.74it/s]\n"
     ]
    },
    {
     "name": "stdout",
     "output_type": "stream",
     "text": [
      "epoch 99, training loss: 0.6283915638923645\n"
     ]
    },
    {
     "name": "stderr",
     "output_type": "stream",
     "text": [
      "252it [00:01, 136.71it/s]\n"
     ]
    },
    {
     "name": "stdout",
     "output_type": "stream",
     "text": [
      "epoch 100, training loss: 0.617298424243927\n"
     ]
    },
    {
     "name": "stderr",
     "output_type": "stream",
     "text": [
      "100%|██████████| 28/28 [00:00<00:00, 380.64it/s]\n",
      "100%|██████████| 252/252 [00:00<00:00, 382.97it/s]\n"
     ]
    },
    {
     "name": "stdout",
     "output_type": "stream",
     "text": [
      "training loss: 0.5928305387496948, train accuracy: 0.9404846867533435\n",
      "validation loss: 1.8828283548355103, validation accuracy: 0.8128491620111732\n",
      "2021-11-30 22:00:17.220195: training sce on sce-imbalanced\n"
     ]
    },
    {
     "name": "stderr",
     "output_type": "stream",
     "text": [
      "252it [00:01, 136.34it/s]\n"
     ]
    },
    {
     "name": "stdout",
     "output_type": "stream",
     "text": [
      "epoch 1, training loss: 1.363159418106079\n"
     ]
    },
    {
     "name": "stderr",
     "output_type": "stream",
     "text": [
      "252it [00:01, 136.83it/s]\n"
     ]
    },
    {
     "name": "stdout",
     "output_type": "stream",
     "text": [
      "epoch 2, training loss: 0.2330298274755478\n"
     ]
    },
    {
     "name": "stderr",
     "output_type": "stream",
     "text": [
      "252it [00:01, 136.50it/s]\n"
     ]
    },
    {
     "name": "stdout",
     "output_type": "stream",
     "text": [
      "epoch 3, training loss: 0.10481327027082443\n"
     ]
    },
    {
     "name": "stderr",
     "output_type": "stream",
     "text": [
      "252it [00:01, 136.37it/s]\n"
     ]
    },
    {
     "name": "stdout",
     "output_type": "stream",
     "text": [
      "epoch 4, training loss: 0.05538972094655037\n"
     ]
    },
    {
     "name": "stderr",
     "output_type": "stream",
     "text": [
      "252it [00:01, 135.17it/s]\n"
     ]
    },
    {
     "name": "stdout",
     "output_type": "stream",
     "text": [
      "epoch 5, training loss: 0.032889094203710556\n"
     ]
    },
    {
     "name": "stderr",
     "output_type": "stream",
     "text": [
      "100%|██████████| 28/28 [00:00<00:00, 378.69it/s]\n",
      "100%|██████████| 252/252 [00:00<00:00, 381.15it/s]\n"
     ]
    },
    {
     "name": "stdout",
     "output_type": "stream",
     "text": [
      "training loss: 0.01998012699186802, train accuracy: 0.9994104322462531\n",
      "validation loss: 0.05042549967765808, validation accuracy: 0.9974860335195531\n",
      "saving best model: sce-imbalanced-5\n"
     ]
    },
    {
     "name": "stderr",
     "output_type": "stream",
     "text": [
      "252it [00:01, 133.46it/s]\n"
     ]
    },
    {
     "name": "stdout",
     "output_type": "stream",
     "text": [
      "epoch 6, training loss: 0.019434958696365356\n"
     ]
    },
    {
     "name": "stderr",
     "output_type": "stream",
     "text": [
      "252it [00:01, 133.01it/s]\n"
     ]
    },
    {
     "name": "stdout",
     "output_type": "stream",
     "text": [
      "epoch 7, training loss: 0.013116816990077496\n"
     ]
    },
    {
     "name": "stderr",
     "output_type": "stream",
     "text": [
      "252it [00:01, 135.04it/s]\n"
     ]
    },
    {
     "name": "stdout",
     "output_type": "stream",
     "text": [
      "epoch 8, training loss: 0.010573042556643486\n"
     ]
    },
    {
     "name": "stderr",
     "output_type": "stream",
     "text": [
      "252it [00:01, 135.09it/s]\n"
     ]
    },
    {
     "name": "stdout",
     "output_type": "stream",
     "text": [
      "epoch 9, training loss: 0.007080865558236837\n"
     ]
    },
    {
     "name": "stderr",
     "output_type": "stream",
     "text": [
      "252it [00:01, 134.92it/s]\n"
     ]
    },
    {
     "name": "stdout",
     "output_type": "stream",
     "text": [
      "epoch 10, training loss: 0.03835119679570198\n"
     ]
    },
    {
     "name": "stderr",
     "output_type": "stream",
     "text": [
      "100%|██████████| 28/28 [00:00<00:00, 379.11it/s]\n",
      "100%|██████████| 252/252 [00:00<00:00, 382.16it/s]\n"
     ]
    },
    {
     "name": "stdout",
     "output_type": "stream",
     "text": [
      "training loss: 0.06355582922697067, train accuracy: 0.9986036553200732\n",
      "validation loss: 0.1101008802652359, validation accuracy: 0.9941340782122905\n"
     ]
    },
    {
     "name": "stderr",
     "output_type": "stream",
     "text": [
      "252it [00:01, 135.04it/s]\n"
     ]
    },
    {
     "name": "stdout",
     "output_type": "stream",
     "text": [
      "epoch 11, training loss: 0.04036877676844597\n"
     ]
    },
    {
     "name": "stderr",
     "output_type": "stream",
     "text": [
      "252it [00:01, 135.00it/s]\n"
     ]
    },
    {
     "name": "stdout",
     "output_type": "stream",
     "text": [
      "epoch 12, training loss: 0.01816144585609436\n"
     ]
    },
    {
     "name": "stderr",
     "output_type": "stream",
     "text": [
      "252it [00:01, 134.08it/s]\n"
     ]
    },
    {
     "name": "stdout",
     "output_type": "stream",
     "text": [
      "epoch 13, training loss: 0.007288465742021799\n"
     ]
    },
    {
     "name": "stderr",
     "output_type": "stream",
     "text": [
      "252it [00:01, 135.18it/s]\n"
     ]
    },
    {
     "name": "stdout",
     "output_type": "stream",
     "text": [
      "epoch 14, training loss: 0.006309026852250099\n"
     ]
    },
    {
     "name": "stderr",
     "output_type": "stream",
     "text": [
      "252it [00:01, 135.21it/s]\n"
     ]
    },
    {
     "name": "stdout",
     "output_type": "stream",
     "text": [
      "epoch 15, training loss: 0.004889956675469875\n"
     ]
    },
    {
     "name": "stderr",
     "output_type": "stream",
     "text": [
      "100%|██████████| 28/28 [00:00<00:00, 383.38it/s]\n",
      "100%|██████████| 252/252 [00:00<00:00, 382.29it/s]\n"
     ]
    },
    {
     "name": "stdout",
     "output_type": "stream",
     "text": [
      "training loss: 0.003950139973312616, train accuracy: 0.9997827908275669\n",
      "validation loss: 0.02805382013320923, validation accuracy: 0.9977653631284916\n",
      "saving best model: sce-imbalanced-15\n"
     ]
    },
    {
     "name": "stderr",
     "output_type": "stream",
     "text": [
      "252it [00:01, 133.85it/s]\n"
     ]
    },
    {
     "name": "stdout",
     "output_type": "stream",
     "text": [
      "epoch 16, training loss: 0.003118691500276327\n"
     ]
    },
    {
     "name": "stderr",
     "output_type": "stream",
     "text": [
      "252it [00:01, 135.11it/s]\n"
     ]
    },
    {
     "name": "stdout",
     "output_type": "stream",
     "text": [
      "epoch 17, training loss: 0.002374839037656784\n"
     ]
    },
    {
     "name": "stderr",
     "output_type": "stream",
     "text": [
      "252it [00:01, 134.94it/s]\n"
     ]
    },
    {
     "name": "stdout",
     "output_type": "stream",
     "text": [
      "epoch 18, training loss: 0.0020774933509528637\n"
     ]
    },
    {
     "name": "stderr",
     "output_type": "stream",
     "text": [
      "252it [00:01, 133.93it/s]\n"
     ]
    },
    {
     "name": "stdout",
     "output_type": "stream",
     "text": [
      "epoch 19, training loss: 0.024258453398942947\n"
     ]
    },
    {
     "name": "stderr",
     "output_type": "stream",
     "text": [
      "252it [00:01, 136.12it/s]\n"
     ]
    },
    {
     "name": "stdout",
     "output_type": "stream",
     "text": [
      "epoch 20, training loss: 0.028026485815644264\n"
     ]
    },
    {
     "name": "stderr",
     "output_type": "stream",
     "text": [
      "100%|██████████| 28/28 [00:00<00:00, 376.92it/s]\n",
      "100%|██████████| 252/252 [00:00<00:00, 381.67it/s]\n"
     ]
    },
    {
     "name": "stdout",
     "output_type": "stream",
     "text": [
      "training loss: 0.0070305862464010715, train accuracy: 0.9998758804728954\n",
      "validation loss: 0.027448410168290138, validation accuracy: 0.9983240223463687\n",
      "saving best model: sce-imbalanced-20\n"
     ]
    },
    {
     "name": "stderr",
     "output_type": "stream",
     "text": [
      "252it [00:01, 135.22it/s]\n"
     ]
    },
    {
     "name": "stdout",
     "output_type": "stream",
     "text": [
      "epoch 21, training loss: 0.009929471649229527\n"
     ]
    },
    {
     "name": "stderr",
     "output_type": "stream",
     "text": [
      "252it [00:01, 133.17it/s]\n"
     ]
    },
    {
     "name": "stdout",
     "output_type": "stream",
     "text": [
      "epoch 22, training loss: 0.0030304999090731144\n"
     ]
    },
    {
     "name": "stderr",
     "output_type": "stream",
     "text": [
      "252it [00:01, 135.49it/s]\n"
     ]
    },
    {
     "name": "stdout",
     "output_type": "stream",
     "text": [
      "epoch 23, training loss: 0.0018554687267169356\n"
     ]
    },
    {
     "name": "stderr",
     "output_type": "stream",
     "text": [
      "252it [00:01, 135.49it/s]\n"
     ]
    },
    {
     "name": "stdout",
     "output_type": "stream",
     "text": [
      "epoch 24, training loss: 0.001405552844516933\n"
     ]
    },
    {
     "name": "stderr",
     "output_type": "stream",
     "text": [
      "252it [00:01, 135.36it/s]\n"
     ]
    },
    {
     "name": "stdout",
     "output_type": "stream",
     "text": [
      "epoch 25, training loss: 0.0010551390005275607\n"
     ]
    },
    {
     "name": "stderr",
     "output_type": "stream",
     "text": [
      "100%|██████████| 28/28 [00:00<00:00, 372.14it/s]\n",
      "100%|██████████| 252/252 [00:00<00:00, 375.03it/s]\n"
     ]
    },
    {
     "name": "stdout",
     "output_type": "stream",
     "text": [
      "training loss: 0.0012009844649583101, train accuracy: 0.9999069103546715\n",
      "validation loss: 0.019928697496652603, validation accuracy: 0.9980446927374301\n",
      "saving best model: sce-imbalanced-25\n"
     ]
    },
    {
     "name": "stderr",
     "output_type": "stream",
     "text": [
      "252it [00:01, 133.84it/s]\n"
     ]
    },
    {
     "name": "stdout",
     "output_type": "stream",
     "text": [
      "epoch 26, training loss: 0.001318628084845841\n"
     ]
    },
    {
     "name": "stderr",
     "output_type": "stream",
     "text": [
      "252it [00:01, 134.39it/s]\n"
     ]
    },
    {
     "name": "stdout",
     "output_type": "stream",
     "text": [
      "epoch 27, training loss: 0.0009330181055702269\n"
     ]
    },
    {
     "name": "stderr",
     "output_type": "stream",
     "text": [
      "252it [00:01, 134.17it/s]\n"
     ]
    },
    {
     "name": "stdout",
     "output_type": "stream",
     "text": [
      "epoch 28, training loss: 0.012252293527126312\n"
     ]
    },
    {
     "name": "stderr",
     "output_type": "stream",
     "text": [
      "252it [00:01, 133.05it/s]\n"
     ]
    },
    {
     "name": "stdout",
     "output_type": "stream",
     "text": [
      "epoch 29, training loss: 0.026812231168150902\n"
     ]
    },
    {
     "name": "stderr",
     "output_type": "stream",
     "text": [
      "252it [00:01, 134.19it/s]\n"
     ]
    },
    {
     "name": "stdout",
     "output_type": "stream",
     "text": [
      "epoch 30, training loss: 0.013381806202232838\n"
     ]
    },
    {
     "name": "stderr",
     "output_type": "stream",
     "text": [
      "100%|██████████| 28/28 [00:00<00:00, 375.96it/s]\n",
      "100%|██████████| 252/252 [00:00<00:00, 380.29it/s]\n"
     ]
    },
    {
     "name": "stdout",
     "output_type": "stream",
     "text": [
      "training loss: 0.039339158684015274, train accuracy: 0.9971452508765941\n",
      "validation loss: 0.0802096277475357, validation accuracy: 0.9932960893854749\n"
     ]
    },
    {
     "name": "stderr",
     "output_type": "stream",
     "text": [
      "252it [00:01, 134.28it/s]\n"
     ]
    },
    {
     "name": "stdout",
     "output_type": "stream",
     "text": [
      "epoch 31, training loss: 0.005494616460055113\n"
     ]
    },
    {
     "name": "stderr",
     "output_type": "stream",
     "text": [
      "252it [00:01, 133.15it/s]\n"
     ]
    },
    {
     "name": "stdout",
     "output_type": "stream",
     "text": [
      "epoch 32, training loss: 0.0019324144814163446\n"
     ]
    },
    {
     "name": "stderr",
     "output_type": "stream",
     "text": [
      "252it [00:01, 134.13it/s]\n"
     ]
    },
    {
     "name": "stdout",
     "output_type": "stream",
     "text": [
      "epoch 33, training loss: 0.0016266807215288281\n"
     ]
    },
    {
     "name": "stderr",
     "output_type": "stream",
     "text": [
      "252it [00:01, 134.25it/s]\n"
     ]
    },
    {
     "name": "stdout",
     "output_type": "stream",
     "text": [
      "epoch 34, training loss: 0.0009267364512197673\n"
     ]
    },
    {
     "name": "stderr",
     "output_type": "stream",
     "text": [
      "252it [00:01, 133.53it/s]\n"
     ]
    },
    {
     "name": "stdout",
     "output_type": "stream",
     "text": [
      "epoch 35, training loss: 0.0008412898750975728\n"
     ]
    },
    {
     "name": "stderr",
     "output_type": "stream",
     "text": [
      "100%|██████████| 28/28 [00:00<00:00, 371.89it/s]\n",
      "100%|██████████| 252/252 [00:00<00:00, 377.54it/s]\n"
     ]
    },
    {
     "name": "stdout",
     "output_type": "stream",
     "text": [
      "training loss: 0.0007393316482193768, train accuracy: 0.9999379402364477\n",
      "validation loss: 0.025381196290254593, validation accuracy: 0.9977653631284916\n"
     ]
    },
    {
     "name": "stderr",
     "output_type": "stream",
     "text": [
      "252it [00:01, 134.19it/s]\n"
     ]
    },
    {
     "name": "stdout",
     "output_type": "stream",
     "text": [
      "epoch 36, training loss: 0.0008135075913742185\n"
     ]
    },
    {
     "name": "stderr",
     "output_type": "stream",
     "text": [
      "252it [00:01, 134.27it/s]\n"
     ]
    },
    {
     "name": "stdout",
     "output_type": "stream",
     "text": [
      "epoch 37, training loss: 0.0007987981662154198\n"
     ]
    },
    {
     "name": "stderr",
     "output_type": "stream",
     "text": [
      "252it [00:01, 133.91it/s]\n"
     ]
    },
    {
     "name": "stdout",
     "output_type": "stream",
     "text": [
      "epoch 38, training loss: 0.0007673790096305311\n"
     ]
    },
    {
     "name": "stderr",
     "output_type": "stream",
     "text": [
      "252it [00:01, 133.30it/s]\n"
     ]
    },
    {
     "name": "stdout",
     "output_type": "stream",
     "text": [
      "epoch 39, training loss: 0.00045498230610974133\n"
     ]
    },
    {
     "name": "stderr",
     "output_type": "stream",
     "text": [
      "252it [00:01, 134.26it/s]\n"
     ]
    },
    {
     "name": "stdout",
     "output_type": "stream",
     "text": [
      "epoch 40, training loss: 0.00042096347897313535\n"
     ]
    },
    {
     "name": "stderr",
     "output_type": "stream",
     "text": [
      "100%|██████████| 28/28 [00:00<00:00, 380.52it/s]\n",
      "100%|██████████| 252/252 [00:00<00:00, 380.19it/s]\n"
     ]
    },
    {
     "name": "stdout",
     "output_type": "stream",
     "text": [
      "training loss: 0.0003677417116705328, train accuracy: 0.9999689701182238\n",
      "validation loss: 0.024407031014561653, validation accuracy: 0.9977653631284916\n"
     ]
    },
    {
     "name": "stderr",
     "output_type": "stream",
     "text": [
      "252it [00:01, 134.08it/s]\n"
     ]
    },
    {
     "name": "stdout",
     "output_type": "stream",
     "text": [
      "epoch 41, training loss: 0.0004101450031157583\n"
     ]
    },
    {
     "name": "stderr",
     "output_type": "stream",
     "text": [
      "252it [00:01, 133.12it/s]\n"
     ]
    },
    {
     "name": "stdout",
     "output_type": "stream",
     "text": [
      "epoch 42, training loss: 0.0004007974930573255\n"
     ]
    },
    {
     "name": "stderr",
     "output_type": "stream",
     "text": [
      "252it [00:01, 134.30it/s]\n"
     ]
    },
    {
     "name": "stdout",
     "output_type": "stream",
     "text": [
      "epoch 43, training loss: 0.00038284360198304057\n"
     ]
    },
    {
     "name": "stderr",
     "output_type": "stream",
     "text": [
      "252it [00:01, 134.18it/s]\n"
     ]
    },
    {
     "name": "stdout",
     "output_type": "stream",
     "text": [
      "epoch 44, training loss: 0.00037789129419252276\n"
     ]
    },
    {
     "name": "stderr",
     "output_type": "stream",
     "text": [
      "252it [00:01, 133.19it/s]\n"
     ]
    },
    {
     "name": "stdout",
     "output_type": "stream",
     "text": [
      "epoch 45, training loss: 0.0003585273225326091\n"
     ]
    },
    {
     "name": "stderr",
     "output_type": "stream",
     "text": [
      "100%|██████████| 28/28 [00:00<00:00, 376.51it/s]\n",
      "100%|██████████| 252/252 [00:00<00:00, 380.99it/s]\n"
     ]
    },
    {
     "name": "stdout",
     "output_type": "stream",
     "text": [
      "training loss: 0.00014607571938540787, train accuracy: 1.0\n",
      "validation loss: 0.023993417620658875, validation accuracy: 0.9977653631284916\n"
     ]
    },
    {
     "name": "stderr",
     "output_type": "stream",
     "text": [
      "252it [00:01, 134.32it/s]\n"
     ]
    },
    {
     "name": "stdout",
     "output_type": "stream",
     "text": [
      "epoch 46, training loss: 0.005568273831158876\n"
     ]
    },
    {
     "name": "stderr",
     "output_type": "stream",
     "text": [
      "252it [00:01, 134.29it/s]\n"
     ]
    },
    {
     "name": "stdout",
     "output_type": "stream",
     "text": [
      "epoch 47, training loss: 0.05630350857973099\n"
     ]
    },
    {
     "name": "stderr",
     "output_type": "stream",
     "text": [
      "252it [00:01, 135.02it/s]\n"
     ]
    },
    {
     "name": "stdout",
     "output_type": "stream",
     "text": [
      "epoch 48, training loss: 0.011584808118641376\n"
     ]
    },
    {
     "name": "stderr",
     "output_type": "stream",
     "text": [
      "252it [00:01, 142.20it/s]\n"
     ]
    },
    {
     "name": "stdout",
     "output_type": "stream",
     "text": [
      "epoch 49, training loss: 0.004278778564184904\n"
     ]
    },
    {
     "name": "stderr",
     "output_type": "stream",
     "text": [
      "252it [00:01, 142.56it/s]\n"
     ]
    },
    {
     "name": "stdout",
     "output_type": "stream",
     "text": [
      "epoch 50, training loss: 0.002486311597749591\n"
     ]
    },
    {
     "name": "stderr",
     "output_type": "stream",
     "text": [
      "100%|██████████| 28/28 [00:00<00:00, 385.15it/s]\n",
      "100%|██████████| 252/252 [00:00<00:00, 389.15it/s]\n"
     ]
    },
    {
     "name": "stdout",
     "output_type": "stream",
     "text": [
      "training loss: 0.0028192210011184216, train accuracy: 0.9997827908275669\n",
      "validation loss: 0.023437703028321266, validation accuracy: 0.9980446927374301\n"
     ]
    },
    {
     "name": "stderr",
     "output_type": "stream",
     "text": [
      "252it [00:01, 135.04it/s]\n"
     ]
    },
    {
     "name": "stdout",
     "output_type": "stream",
     "text": [
      "epoch 51, training loss: 0.002786970464512706\n"
     ]
    },
    {
     "name": "stderr",
     "output_type": "stream",
     "text": [
      "252it [00:01, 135.22it/s]\n"
     ]
    },
    {
     "name": "stdout",
     "output_type": "stream",
     "text": [
      "epoch 52, training loss: 0.0018529606750234962\n"
     ]
    },
    {
     "name": "stderr",
     "output_type": "stream",
     "text": [
      "252it [00:01, 135.51it/s]\n"
     ]
    },
    {
     "name": "stdout",
     "output_type": "stream",
     "text": [
      "epoch 53, training loss: 0.0008767663384787738\n"
     ]
    },
    {
     "name": "stderr",
     "output_type": "stream",
     "text": [
      "252it [00:01, 135.45it/s]\n"
     ]
    },
    {
     "name": "stdout",
     "output_type": "stream",
     "text": [
      "epoch 54, training loss: 0.0007654241635464132\n"
     ]
    },
    {
     "name": "stderr",
     "output_type": "stream",
     "text": [
      "252it [00:01, 133.90it/s]\n"
     ]
    },
    {
     "name": "stdout",
     "output_type": "stream",
     "text": [
      "epoch 55, training loss: 0.0007330329972319305\n"
     ]
    },
    {
     "name": "stderr",
     "output_type": "stream",
     "text": [
      "100%|██████████| 28/28 [00:00<00:00, 381.62it/s]\n",
      "100%|██████████| 252/252 [00:00<00:00, 384.92it/s]\n"
     ]
    },
    {
     "name": "stdout",
     "output_type": "stream",
     "text": [
      "training loss: 0.0005776071920990944, train accuracy: 0.9999379402364477\n",
      "validation loss: 0.019345268607139587, validation accuracy: 0.9983240223463687\n",
      "saving best model: sce-imbalanced-55\n"
     ]
    },
    {
     "name": "stderr",
     "output_type": "stream",
     "text": [
      "252it [00:01, 136.04it/s]\n"
     ]
    },
    {
     "name": "stdout",
     "output_type": "stream",
     "text": [
      "epoch 56, training loss: 0.0007356659043580294\n"
     ]
    },
    {
     "name": "stderr",
     "output_type": "stream",
     "text": [
      "252it [00:01, 136.20it/s]\n"
     ]
    },
    {
     "name": "stdout",
     "output_type": "stream",
     "text": [
      "epoch 57, training loss: 0.00042258950998075306\n"
     ]
    },
    {
     "name": "stderr",
     "output_type": "stream",
     "text": [
      "252it [00:01, 136.42it/s]\n"
     ]
    },
    {
     "name": "stdout",
     "output_type": "stream",
     "text": [
      "epoch 58, training loss: 0.0003854271781165153\n"
     ]
    },
    {
     "name": "stderr",
     "output_type": "stream",
     "text": [
      "252it [00:01, 135.71it/s]\n"
     ]
    },
    {
     "name": "stdout",
     "output_type": "stream",
     "text": [
      "epoch 59, training loss: 0.0003992368874605745\n"
     ]
    },
    {
     "name": "stderr",
     "output_type": "stream",
     "text": [
      "252it [00:01, 136.33it/s]\n"
     ]
    },
    {
     "name": "stdout",
     "output_type": "stream",
     "text": [
      "epoch 60, training loss: 0.016712499782443047\n"
     ]
    },
    {
     "name": "stderr",
     "output_type": "stream",
     "text": [
      "100%|██████████| 28/28 [00:00<00:00, 379.85it/s]\n",
      "100%|██████████| 252/252 [00:00<00:00, 383.64it/s]\n"
     ]
    },
    {
     "name": "stdout",
     "output_type": "stream",
     "text": [
      "training loss: 0.01717210002243519, train accuracy: 0.9989449840196108\n",
      "validation loss: 0.04908580332994461, validation accuracy: 0.9955307262569832\n"
     ]
    },
    {
     "name": "stderr",
     "output_type": "stream",
     "text": [
      "252it [00:01, 137.15it/s]\n"
     ]
    },
    {
     "name": "stdout",
     "output_type": "stream",
     "text": [
      "epoch 61, training loss: 0.013072315603494644\n"
     ]
    },
    {
     "name": "stderr",
     "output_type": "stream",
     "text": [
      "252it [00:01, 137.40it/s]\n"
     ]
    },
    {
     "name": "stdout",
     "output_type": "stream",
     "text": [
      "epoch 62, training loss: 0.007944990880787373\n"
     ]
    },
    {
     "name": "stderr",
     "output_type": "stream",
     "text": [
      "252it [00:01, 137.59it/s]\n"
     ]
    },
    {
     "name": "stdout",
     "output_type": "stream",
     "text": [
      "epoch 63, training loss: 0.002822806593030691\n"
     ]
    },
    {
     "name": "stderr",
     "output_type": "stream",
     "text": [
      "252it [00:01, 135.48it/s]\n"
     ]
    },
    {
     "name": "stdout",
     "output_type": "stream",
     "text": [
      "epoch 96, training loss: 1.168840299214935e-05\n"
     ]
    },
    {
     "name": "stderr",
     "output_type": "stream",
     "text": [
      "252it [00:01, 134.49it/s]\n"
     ]
    },
    {
     "name": "stdout",
     "output_type": "stream",
     "text": [
      "epoch 97, training loss: 1.1471011930552777e-05\n"
     ]
    },
    {
     "name": "stderr",
     "output_type": "stream",
     "text": [
      "252it [00:01, 134.04it/s]\n"
     ]
    },
    {
     "name": "stdout",
     "output_type": "stream",
     "text": [
      "epoch 98, training loss: 1.0956100595649332e-05\n"
     ]
    },
    {
     "name": "stderr",
     "output_type": "stream",
     "text": [
      "252it [00:01, 134.64it/s]\n"
     ]
    },
    {
     "name": "stdout",
     "output_type": "stream",
     "text": [
      "epoch 99, training loss: 1.0790443411679007e-05\n"
     ]
    },
    {
     "name": "stderr",
     "output_type": "stream",
     "text": [
      "252it [00:01, 134.09it/s]\n"
     ]
    },
    {
     "name": "stdout",
     "output_type": "stream",
     "text": [
      "epoch 100, training loss: 1.0618417945806868e-05\n"
     ]
    },
    {
     "name": "stderr",
     "output_type": "stream",
     "text": [
      "100%|██████████| 28/28 [00:00<00:00, 375.49it/s]\n",
      "100%|██████████| 252/252 [00:00<00:00, 379.17it/s]\n"
     ]
    },
    {
     "name": "stdout",
     "output_type": "stream",
     "text": [
      "training loss: 8.83064330992056e-06, train accuracy: 1.0\n",
      "validation loss: 0.01973225735127926, validation accuracy: 0.9980446927374301\n",
      "2021-11-30 22:03:38.769941: training sce on sce-bal_sym\n"
     ]
    },
    {
     "name": "stderr",
     "output_type": "stream",
     "text": [
      "352it [00:02, 134.42it/s]\n"
     ]
    },
    {
     "name": "stdout",
     "output_type": "stream",
     "text": [
      "epoch 1, training loss: 3.4794068336486816\n"
     ]
    },
    {
     "name": "stderr",
     "output_type": "stream",
     "text": [
      "352it [00:02, 134.78it/s]\n"
     ]
    },
    {
     "name": "stdout",
     "output_type": "stream",
     "text": [
      "epoch 2, training loss: 2.8564224243164062\n"
     ]
    },
    {
     "name": "stderr",
     "output_type": "stream",
     "text": [
      "352it [00:02, 135.38it/s]\n"
     ]
    },
    {
     "name": "stdout",
     "output_type": "stream",
     "text": [
      "epoch 3, training loss: 2.799910545349121\n"
     ]
    },
    {
     "name": "stderr",
     "output_type": "stream",
     "text": [
      "352it [00:02, 135.48it/s]\n"
     ]
    },
    {
     "name": "stdout",
     "output_type": "stream",
     "text": [
      "epoch 4, training loss: 2.7727701663970947\n"
     ]
    },
    {
     "name": "stderr",
     "output_type": "stream",
     "text": [
      "352it [00:02, 134.56it/s]\n"
     ]
    },
    {
     "name": "stdout",
     "output_type": "stream",
     "text": [
      "epoch 5, training loss: 2.7574374675750732\n"
     ]
    },
    {
     "name": "stderr",
     "output_type": "stream",
     "text": [
      "100%|██████████| 40/40 [00:00<00:00, 377.45it/s]\n",
      "100%|██████████| 352/352 [00:00<00:00, 378.05it/s]\n"
     ]
    },
    {
     "name": "stdout",
     "output_type": "stream",
     "text": [
      "training loss: 2.734945058822632, train accuracy: 0.7311333333333333\n",
      "validation loss: 2.8051393032073975, validation accuracy: 0.7254\n",
      "saving best model: sce-bal_sym-5\n"
     ]
    },
    {
     "name": "stderr",
     "output_type": "stream",
     "text": [
      "352it [00:02, 134.25it/s]\n"
     ]
    },
    {
     "name": "stdout",
     "output_type": "stream",
     "text": [
      "epoch 6, training loss: 2.7385778427124023\n"
     ]
    },
    {
     "name": "stderr",
     "output_type": "stream",
     "text": [
      "352it [00:02, 141.24it/s]\n"
     ]
    },
    {
     "name": "stdout",
     "output_type": "stream",
     "text": [
      "epoch 7, training loss: 2.727094888687134\n"
     ]
    },
    {
     "name": "stderr",
     "output_type": "stream",
     "text": [
      "352it [00:02, 138.26it/s]\n"
     ]
    },
    {
     "name": "stdout",
     "output_type": "stream",
     "text": [
      "epoch 8, training loss: 2.716001033782959\n"
     ]
    },
    {
     "name": "stderr",
     "output_type": "stream",
     "text": [
      "352it [00:02, 140.81it/s]\n"
     ]
    },
    {
     "name": "stdout",
     "output_type": "stream",
     "text": [
      "epoch 9, training loss: 2.70489501953125\n"
     ]
    },
    {
     "name": "stderr",
     "output_type": "stream",
     "text": [
      "352it [00:02, 142.11it/s]\n"
     ]
    },
    {
     "name": "stdout",
     "output_type": "stream",
     "text": [
      "epoch 10, training loss: 2.7046210765838623\n"
     ]
    },
    {
     "name": "stderr",
     "output_type": "stream",
     "text": [
      "100%|██████████| 40/40 [00:00<00:00, 383.27it/s]\n",
      "100%|██████████| 352/352 [00:00<00:00, 371.55it/s]\n"
     ]
    },
    {
     "name": "stdout",
     "output_type": "stream",
     "text": [
      "training loss: 2.695542812347412, train accuracy: 0.7351777777777778\n",
      "validation loss: 2.8351967334747314, validation accuracy: 0.7232\n"
     ]
    },
    {
     "name": "stderr",
     "output_type": "stream",
     "text": [
      "352it [00:02, 133.58it/s]\n"
     ]
    },
    {
     "name": "stdout",
     "output_type": "stream",
     "text": [
      "epoch 11, training loss: 2.6866753101348877\n"
     ]
    },
    {
     "name": "stderr",
     "output_type": "stream",
     "text": [
      "352it [00:02, 135.59it/s]\n"
     ]
    },
    {
     "name": "stdout",
     "output_type": "stream",
     "text": [
      "epoch 12, training loss: 2.6682066917419434\n"
     ]
    },
    {
     "name": "stderr",
     "output_type": "stream",
     "text": [
      "352it [00:02, 135.58it/s]\n"
     ]
    },
    {
     "name": "stdout",
     "output_type": "stream",
     "text": [
      "epoch 13, training loss: 2.6600875854492188\n"
     ]
    },
    {
     "name": "stderr",
     "output_type": "stream",
     "text": [
      "352it [00:02, 134.18it/s]\n"
     ]
    },
    {
     "name": "stdout",
     "output_type": "stream",
     "text": [
      "epoch 14, training loss: 2.6430482864379883\n"
     ]
    },
    {
     "name": "stderr",
     "output_type": "stream",
     "text": [
      "352it [00:02, 134.71it/s]\n"
     ]
    },
    {
     "name": "stdout",
     "output_type": "stream",
     "text": [
      "epoch 15, training loss: 2.6261484622955322\n"
     ]
    },
    {
     "name": "stderr",
     "output_type": "stream",
     "text": [
      "100%|██████████| 40/40 [00:00<00:00, 372.97it/s]\n",
      "100%|██████████| 352/352 [00:00<00:00, 376.38it/s]\n"
     ]
    },
    {
     "name": "stdout",
     "output_type": "stream",
     "text": [
      "training loss: 2.5916483402252197, train accuracy: 0.7436444444444444\n",
      "validation loss: 2.8890254497528076, validation accuracy: 0.7208\n"
     ]
    },
    {
     "name": "stderr",
     "output_type": "stream",
     "text": [
      "352it [00:02, 135.01it/s]\n"
     ]
    },
    {
     "name": "stdout",
     "output_type": "stream",
     "text": [
      "epoch 16, training loss: 2.6067140102386475\n"
     ]
    },
    {
     "name": "stderr",
     "output_type": "stream",
     "text": [
      "352it [00:02, 135.38it/s]\n"
     ]
    },
    {
     "name": "stdout",
     "output_type": "stream",
     "text": [
      "epoch 17, training loss: 2.57827091217041\n"
     ]
    },
    {
     "name": "stderr",
     "output_type": "stream",
     "text": [
      "352it [00:02, 133.58it/s]\n"
     ]
    },
    {
     "name": "stdout",
     "output_type": "stream",
     "text": [
      "epoch 18, training loss: 2.5469319820404053\n"
     ]
    },
    {
     "name": "stderr",
     "output_type": "stream",
     "text": [
      "352it [00:02, 135.58it/s]\n"
     ]
    },
    {
     "name": "stdout",
     "output_type": "stream",
     "text": [
      "epoch 19, training loss: 2.521820306777954\n"
     ]
    },
    {
     "name": "stderr",
     "output_type": "stream",
     "text": [
      "352it [00:02, 138.47it/s]\n"
     ]
    },
    {
     "name": "stdout",
     "output_type": "stream",
     "text": [
      "epoch 20, training loss: 2.485002040863037\n"
     ]
    },
    {
     "name": "stderr",
     "output_type": "stream",
     "text": [
      "100%|██████████| 40/40 [00:00<00:00, 385.01it/s]\n",
      "100%|██████████| 352/352 [00:00<00:00, 378.93it/s]\n"
     ]
    },
    {
     "name": "stdout",
     "output_type": "stream",
     "text": [
      "training loss: 2.4183967113494873, train accuracy: 0.7609333333333334\n",
      "validation loss: 2.967491865158081, validation accuracy: 0.716\n"
     ]
    },
    {
     "name": "stderr",
     "output_type": "stream",
     "text": [
      "352it [00:02, 140.50it/s]\n"
     ]
    },
    {
     "name": "stdout",
     "output_type": "stream",
     "text": [
      "epoch 21, training loss: 2.4424126148223877\n"
     ]
    },
    {
     "name": "stderr",
     "output_type": "stream",
     "text": [
      "352it [00:02, 141.36it/s]\n"
     ]
    },
    {
     "name": "stdout",
     "output_type": "stream",
     "text": [
      "epoch 22, training loss: 2.3995656967163086\n"
     ]
    },
    {
     "name": "stderr",
     "output_type": "stream",
     "text": [
      "352it [00:02, 142.21it/s]\n"
     ]
    },
    {
     "name": "stdout",
     "output_type": "stream",
     "text": [
      "epoch 23, training loss: 2.354773759841919\n"
     ]
    },
    {
     "name": "stderr",
     "output_type": "stream",
     "text": [
      "352it [00:02, 141.07it/s]\n"
     ]
    },
    {
     "name": "stdout",
     "output_type": "stream",
     "text": [
      "epoch 24, training loss: 2.2940433025360107\n"
     ]
    },
    {
     "name": "stderr",
     "output_type": "stream",
     "text": [
      "352it [00:02, 137.08it/s]\n"
     ]
    },
    {
     "name": "stdout",
     "output_type": "stream",
     "text": [
      "epoch 25, training loss: 2.2455313205718994\n"
     ]
    },
    {
     "name": "stderr",
     "output_type": "stream",
     "text": [
      "100%|██████████| 40/40 [00:00<00:00, 376.46it/s]\n",
      "100%|██████████| 352/352 [00:00<00:00, 378.35it/s]\n"
     ]
    },
    {
     "name": "stdout",
     "output_type": "stream",
     "text": [
      "training loss: 2.1433420181274414, train accuracy: 0.7888222222222222\n",
      "validation loss: 3.136803388595581, validation accuracy: 0.7068\n"
     ]
    },
    {
     "name": "stderr",
     "output_type": "stream",
     "text": [
      "352it [00:02, 133.98it/s]\n"
     ]
    },
    {
     "name": "stdout",
     "output_type": "stream",
     "text": [
      "epoch 26, training loss: 2.1677627563476562\n"
     ]
    },
    {
     "name": "stderr",
     "output_type": "stream",
     "text": [
      "352it [00:02, 135.12it/s]\n"
     ]
    },
    {
     "name": "stdout",
     "output_type": "stream",
     "text": [
      "epoch 27, training loss: 2.100811243057251\n"
     ]
    },
    {
     "name": "stderr",
     "output_type": "stream",
     "text": [
      "352it [00:02, 133.93it/s]\n"
     ]
    },
    {
     "name": "stdout",
     "output_type": "stream",
     "text": [
      "epoch 28, training loss: 2.0322742462158203\n"
     ]
    },
    {
     "name": "stderr",
     "output_type": "stream",
     "text": [
      "352it [00:02, 134.92it/s]\n"
     ]
    },
    {
     "name": "stdout",
     "output_type": "stream",
     "text": [
      "epoch 29, training loss: 1.971923828125\n"
     ]
    },
    {
     "name": "stderr",
     "output_type": "stream",
     "text": [
      "352it [00:02, 134.84it/s]\n"
     ]
    },
    {
     "name": "stdout",
     "output_type": "stream",
     "text": [
      "epoch 30, training loss: 1.8840720653533936\n"
     ]
    },
    {
     "name": "stderr",
     "output_type": "stream",
     "text": [
      "100%|██████████| 40/40 [00:00<00:00, 379.33it/s]\n",
      "100%|██████████| 352/352 [00:00<00:00, 376.36it/s]\n"
     ]
    },
    {
     "name": "stdout",
     "output_type": "stream",
     "text": [
      "training loss: 1.7678196430206299, train accuracy: 0.8278888888888889\n",
      "validation loss: 3.3773627281188965, validation accuracy: 0.6846\n"
     ]
    },
    {
     "name": "stderr",
     "output_type": "stream",
     "text": [
      "352it [00:02, 135.31it/s]\n"
     ]
    },
    {
     "name": "stdout",
     "output_type": "stream",
     "text": [
      "epoch 31, training loss: 1.8139710426330566\n"
     ]
    },
    {
     "name": "stderr",
     "output_type": "stream",
     "text": [
      "352it [00:02, 134.55it/s]\n"
     ]
    },
    {
     "name": "stdout",
     "output_type": "stream",
     "text": [
      "epoch 32, training loss: 1.7468407154083252\n"
     ]
    },
    {
     "name": "stderr",
     "output_type": "stream",
     "text": [
      "352it [00:02, 132.96it/s]\n"
     ]
    },
    {
     "name": "stdout",
     "output_type": "stream",
     "text": [
      "epoch 33, training loss: 1.6933926343917847\n"
     ]
    },
    {
     "name": "stderr",
     "output_type": "stream",
     "text": [
      "352it [00:02, 133.95it/s]\n"
     ]
    },
    {
     "name": "stdout",
     "output_type": "stream",
     "text": [
      "epoch 34, training loss: 1.6103817224502563\n"
     ]
    },
    {
     "name": "stderr",
     "output_type": "stream",
     "text": [
      "352it [00:02, 136.14it/s]\n"
     ]
    },
    {
     "name": "stdout",
     "output_type": "stream",
     "text": [
      "epoch 35, training loss: 1.543666958808899\n"
     ]
    },
    {
     "name": "stderr",
     "output_type": "stream",
     "text": [
      "100%|██████████| 40/40 [00:00<00:00, 389.99it/s]\n",
      "100%|██████████| 352/352 [00:00<00:00, 381.10it/s]\n"
     ]
    },
    {
     "name": "stdout",
     "output_type": "stream",
     "text": [
      "training loss: 1.4445958137512207, train accuracy: 0.8605333333333334\n",
      "validation loss: 3.4844462871551514, validation accuracy: 0.6688\n"
     ]
    },
    {
     "name": "stderr",
     "output_type": "stream",
     "text": [
      "352it [00:02, 131.49it/s]\n"
     ]
    },
    {
     "name": "stdout",
     "output_type": "stream",
     "text": [
      "epoch 36, training loss: 1.4942363500595093\n"
     ]
    },
    {
     "name": "stderr",
     "output_type": "stream",
     "text": [
      "352it [00:02, 134.60it/s]\n"
     ]
    },
    {
     "name": "stdout",
     "output_type": "stream",
     "text": [
      "epoch 37, training loss: 1.433982014656067\n"
     ]
    },
    {
     "name": "stderr",
     "output_type": "stream",
     "text": [
      "352it [00:02, 132.81it/s]\n"
     ]
    },
    {
     "name": "stdout",
     "output_type": "stream",
     "text": [
      "epoch 38, training loss: 1.3741405010223389\n"
     ]
    },
    {
     "name": "stderr",
     "output_type": "stream",
     "text": [
      "352it [00:02, 134.76it/s]\n"
     ]
    },
    {
     "name": "stdout",
     "output_type": "stream",
     "text": [
      "epoch 39, training loss: 1.3268694877624512\n"
     ]
    },
    {
     "name": "stderr",
     "output_type": "stream",
     "text": [
      "352it [00:02, 134.38it/s]\n"
     ]
    },
    {
     "name": "stdout",
     "output_type": "stream",
     "text": [
      "epoch 40, training loss: 1.2715705633163452\n"
     ]
    },
    {
     "name": "stderr",
     "output_type": "stream",
     "text": [
      "100%|██████████| 40/40 [00:00<00:00, 380.74it/s]\n",
      "100%|██████████| 352/352 [00:00<00:00, 380.44it/s]\n"
     ]
    },
    {
     "name": "stdout",
     "output_type": "stream",
     "text": [
      "training loss: 1.1705331802368164, train accuracy: 0.8871555555555556\n",
      "validation loss: 3.5833563804626465, validation accuracy: 0.6634\n"
     ]
    },
    {
     "name": "stderr",
     "output_type": "stream",
     "text": [
      "352it [00:02, 134.10it/s]\n"
     ]
    },
    {
     "name": "stdout",
     "output_type": "stream",
     "text": [
      "epoch 41, training loss: 1.2143515348434448\n"
     ]
    },
    {
     "name": "stderr",
     "output_type": "stream",
     "text": [
      "352it [00:02, 135.05it/s]\n"
     ]
    },
    {
     "name": "stdout",
     "output_type": "stream",
     "text": [
      "epoch 42, training loss: 1.1749110221862793\n"
     ]
    },
    {
     "name": "stderr",
     "output_type": "stream",
     "text": [
      "352it [00:02, 132.49it/s]\n"
     ]
    },
    {
     "name": "stdout",
     "output_type": "stream",
     "text": [
      "epoch 43, training loss: 1.1341443061828613\n"
     ]
    },
    {
     "name": "stderr",
     "output_type": "stream",
     "text": [
      "352it [00:02, 136.87it/s]\n"
     ]
    },
    {
     "name": "stdout",
     "output_type": "stream",
     "text": [
      "epoch 44, training loss: 1.0908164978027344\n"
     ]
    },
    {
     "name": "stderr",
     "output_type": "stream",
     "text": [
      "352it [00:02, 137.85it/s]\n"
     ]
    },
    {
     "name": "stdout",
     "output_type": "stream",
     "text": [
      "epoch 45, training loss: 1.0406990051269531\n"
     ]
    },
    {
     "name": "stderr",
     "output_type": "stream",
     "text": [
      "100%|██████████| 40/40 [00:00<00:00, 371.15it/s]\n",
      "100%|██████████| 352/352 [00:00<00:00, 371.92it/s]\n"
     ]
    },
    {
     "name": "stdout",
     "output_type": "stream",
     "text": [
      "training loss: 0.9729442596435547, train accuracy: 0.9079555555555555\n",
      "validation loss: 3.6240310668945312, validation accuracy: 0.6584\n"
     ]
    },
    {
     "name": "stderr",
     "output_type": "stream",
     "text": [
      "352it [00:02, 135.39it/s]\n"
     ]
    },
    {
     "name": "stdout",
     "output_type": "stream",
     "text": [
      "epoch 46, training loss: 1.0063437223434448\n"
     ]
    },
    {
     "name": "stderr",
     "output_type": "stream",
     "text": [
      "352it [00:02, 135.23it/s]\n"
     ]
    },
    {
     "name": "stdout",
     "output_type": "stream",
     "text": [
      "epoch 47, training loss: 0.9621970653533936\n"
     ]
    },
    {
     "name": "stderr",
     "output_type": "stream",
     "text": [
      "352it [00:02, 136.04it/s]\n"
     ]
    },
    {
     "name": "stdout",
     "output_type": "stream",
     "text": [
      "epoch 48, training loss: 0.9387348294258118\n"
     ]
    },
    {
     "name": "stderr",
     "output_type": "stream",
     "text": [
      "352it [00:02, 135.96it/s]\n"
     ]
    },
    {
     "name": "stdout",
     "output_type": "stream",
     "text": [
      "epoch 49, training loss: 0.8860727548599243\n"
     ]
    },
    {
     "name": "stderr",
     "output_type": "stream",
     "text": [
      "352it [00:02, 136.74it/s]\n"
     ]
    },
    {
     "name": "stdout",
     "output_type": "stream",
     "text": [
      "epoch 50, training loss: 0.8449182510375977\n"
     ]
    },
    {
     "name": "stderr",
     "output_type": "stream",
     "text": [
      "100%|██████████| 40/40 [00:00<00:00, 382.40it/s]\n",
      "100%|██████████| 352/352 [00:00<00:00, 392.11it/s]\n"
     ]
    },
    {
     "name": "stdout",
     "output_type": "stream",
     "text": [
      "training loss: 0.8164951801300049, train accuracy: 0.9241333333333334\n",
      "validation loss: 3.8559303283691406, validation accuracy: 0.6308\n"
     ]
    },
    {
     "name": "stderr",
     "output_type": "stream",
     "text": [
      "352it [00:02, 137.47it/s]\n"
     ]
    },
    {
     "name": "stdout",
     "output_type": "stream",
     "text": [
      "epoch 51, training loss: 0.8239737153053284\n"
     ]
    },
    {
     "name": "stderr",
     "output_type": "stream",
     "text": [
      "352it [00:02, 138.40it/s]\n"
     ]
    },
    {
     "name": "stdout",
     "output_type": "stream",
     "text": [
      "epoch 52, training loss: 0.8085874915122986\n"
     ]
    },
    {
     "name": "stderr",
     "output_type": "stream",
     "text": [
      "352it [00:02, 140.19it/s]\n"
     ]
    },
    {
     "name": "stdout",
     "output_type": "stream",
     "text": [
      "epoch 53, training loss: 0.7590163946151733\n"
     ]
    },
    {
     "name": "stderr",
     "output_type": "stream",
     "text": [
      "352it [00:02, 142.56it/s]\n"
     ]
    },
    {
     "name": "stdout",
     "output_type": "stream",
     "text": [
      "epoch 54, training loss: 0.7421169877052307\n"
     ]
    },
    {
     "name": "stderr",
     "output_type": "stream",
     "text": [
      "352it [00:02, 145.15it/s]\n"
     ]
    },
    {
     "name": "stdout",
     "output_type": "stream",
     "text": [
      "epoch 55, training loss: 0.7234850525856018\n"
     ]
    },
    {
     "name": "stderr",
     "output_type": "stream",
     "text": [
      "100%|██████████| 40/40 [00:00<00:00, 399.72it/s]\n",
      "100%|██████████| 352/352 [00:00<00:00, 395.88it/s]\n"
     ]
    },
    {
     "name": "stdout",
     "output_type": "stream",
     "text": [
      "training loss: 0.6495609283447266, train accuracy: 0.9396222222222222\n",
      "validation loss: 3.927963972091675, validation accuracy: 0.6344\n"
     ]
    },
    {
     "name": "stderr",
     "output_type": "stream",
     "text": [
      "352it [00:02, 145.41it/s]\n"
     ]
    },
    {
     "name": "stdout",
     "output_type": "stream",
     "text": [
      "epoch 56, training loss: 0.6866884827613831\n"
     ]
    },
    {
     "name": "stderr",
     "output_type": "stream",
     "text": [
      "352it [00:02, 144.96it/s]\n"
     ]
    },
    {
     "name": "stdout",
     "output_type": "stream",
     "text": [
      "epoch 57, training loss: 0.6500157713890076\n"
     ]
    },
    {
     "name": "stderr",
     "output_type": "stream",
     "text": [
      "352it [00:02, 144.73it/s]\n"
     ]
    },
    {
     "name": "stdout",
     "output_type": "stream",
     "text": [
      "epoch 58, training loss: 0.6210623979568481\n"
     ]
    },
    {
     "name": "stderr",
     "output_type": "stream",
     "text": [
      "352it [00:02, 144.95it/s]\n"
     ]
    },
    {
     "name": "stdout",
     "output_type": "stream",
     "text": [
      "epoch 59, training loss: 0.6096896529197693\n"
     ]
    },
    {
     "name": "stderr",
     "output_type": "stream",
     "text": [
      "352it [00:02, 145.13it/s]\n"
     ]
    },
    {
     "name": "stdout",
     "output_type": "stream",
     "text": [
      "epoch 60, training loss: 0.5990195870399475\n"
     ]
    },
    {
     "name": "stderr",
     "output_type": "stream",
     "text": [
      "100%|██████████| 40/40 [00:00<00:00, 396.67it/s]\n",
      "100%|██████████| 352/352 [00:00<00:00, 394.76it/s]\n"
     ]
    },
    {
     "name": "stdout",
     "output_type": "stream",
     "text": [
      "training loss: 0.5389643311500549, train accuracy: 0.9497777777777778\n",
      "validation loss: 3.818028688430786, validation accuracy: 0.6498\n"
     ]
    },
    {
     "name": "stderr",
     "output_type": "stream",
     "text": [
      "352it [00:02, 144.33it/s]\n"
     ]
    },
    {
     "name": "stdout",
     "output_type": "stream",
     "text": [
      "epoch 61, training loss: 0.5783929228782654\n"
     ]
    },
    {
     "name": "stderr",
     "output_type": "stream",
     "text": [
      "352it [00:02, 143.76it/s]\n"
     ]
    },
    {
     "name": "stdout",
     "output_type": "stream",
     "text": [
      "epoch 62, training loss: 0.5408087372779846\n"
     ]
    },
    {
     "name": "stderr",
     "output_type": "stream",
     "text": [
      "352it [00:02, 144.26it/s]\n"
     ]
    },
    {
     "name": "stdout",
     "output_type": "stream",
     "text": [
      "epoch 63, training loss: 0.5297500491142273\n"
     ]
    },
    {
     "name": "stderr",
     "output_type": "stream",
     "text": [
      "352it [00:02, 143.68it/s]\n"
     ]
    },
    {
     "name": "stdout",
     "output_type": "stream",
     "text": [
      "epoch 64, training loss: 0.5161036849021912\n"
     ]
    },
    {
     "name": "stderr",
     "output_type": "stream",
     "text": [
      "352it [00:02, 143.78it/s]\n"
     ]
    },
    {
     "name": "stdout",
     "output_type": "stream",
     "text": [
      "epoch 65, training loss: 0.5027157068252563\n"
     ]
    },
    {
     "name": "stderr",
     "output_type": "stream",
     "text": [
      "100%|██████████| 40/40 [00:00<00:00, 388.64it/s]\n",
      "100%|██████████| 352/352 [00:00<00:00, 388.06it/s]\n"
     ]
    },
    {
     "name": "stdout",
     "output_type": "stream",
     "text": [
      "training loss: 0.4621295630931854, train accuracy: 0.9574888888888888\n",
      "validation loss: 3.980935573577881, validation accuracy: 0.6268\n"
     ]
    },
    {
     "name": "stderr",
     "output_type": "stream",
     "text": [
      "352it [00:02, 137.57it/s]\n"
     ]
    },
    {
     "name": "stdout",
     "output_type": "stream",
     "text": [
      "epoch 66, training loss: 0.48724600672721863\n"
     ]
    },
    {
     "name": "stderr",
     "output_type": "stream",
     "text": [
      "352it [00:02, 136.38it/s]\n"
     ]
    },
    {
     "name": "stdout",
     "output_type": "stream",
     "text": [
      "epoch 67, training loss: 0.4652528464794159\n"
     ]
    },
    {
     "name": "stderr",
     "output_type": "stream",
     "text": [
      "352it [00:02, 135.49it/s]\n"
     ]
    },
    {
     "name": "stdout",
     "output_type": "stream",
     "text": [
      "epoch 68, training loss: 0.45136040449142456\n"
     ]
    },
    {
     "name": "stderr",
     "output_type": "stream",
     "text": [
      "352it [00:02, 135.67it/s]\n"
     ]
    },
    {
     "name": "stdout",
     "output_type": "stream",
     "text": [
      "epoch 69, training loss: 0.4465970993041992\n"
     ]
    },
    {
     "name": "stderr",
     "output_type": "stream",
     "text": [
      "352it [00:02, 134.83it/s]\n"
     ]
    },
    {
     "name": "stdout",
     "output_type": "stream",
     "text": [
      "epoch 70, training loss: 0.4356699287891388\n"
     ]
    },
    {
     "name": "stderr",
     "output_type": "stream",
     "text": [
      "100%|██████████| 40/40 [00:00<00:00, 377.85it/s]\n",
      "100%|██████████| 352/352 [00:00<00:00, 375.69it/s]\n"
     ]
    },
    {
     "name": "stdout",
     "output_type": "stream",
     "text": [
      "training loss: 0.39919808506965637, train accuracy: 0.9641111111111111\n",
      "validation loss: 4.021876335144043, validation accuracy: 0.6246\n"
     ]
    },
    {
     "name": "stderr",
     "output_type": "stream",
     "text": [
      "352it [00:02, 134.21it/s]\n"
     ]
    },
    {
     "name": "stdout",
     "output_type": "stream",
     "text": [
      "epoch 71, training loss: 0.4122062921524048\n"
     ]
    },
    {
     "name": "stderr",
     "output_type": "stream",
     "text": [
      "352it [00:02, 133.92it/s]\n"
     ]
    },
    {
     "name": "stdout",
     "output_type": "stream",
     "text": [
      "epoch 72, training loss: 0.41403916478157043\n"
     ]
    },
    {
     "name": "stderr",
     "output_type": "stream",
     "text": [
      "352it [00:02, 134.04it/s]\n"
     ]
    },
    {
     "name": "stdout",
     "output_type": "stream",
     "text": [
      "epoch 73, training loss: 0.4030892550945282\n"
     ]
    },
    {
     "name": "stderr",
     "output_type": "stream",
     "text": [
      "352it [00:02, 130.60it/s]\n"
     ]
    },
    {
     "name": "stdout",
     "output_type": "stream",
     "text": [
      "epoch 74, training loss: 0.37275925278663635\n"
     ]
    },
    {
     "name": "stderr",
     "output_type": "stream",
     "text": [
      "352it [00:02, 134.54it/s]\n"
     ]
    },
    {
     "name": "stdout",
     "output_type": "stream",
     "text": [
      "epoch 75, training loss: 0.35586997866630554\n"
     ]
    },
    {
     "name": "stderr",
     "output_type": "stream",
     "text": [
      "100%|██████████| 40/40 [00:00<00:00, 364.83it/s]\n",
      "100%|██████████| 352/352 [00:00<00:00, 360.32it/s]\n"
     ]
    },
    {
     "name": "stdout",
     "output_type": "stream",
     "text": [
      "training loss: 0.3246835768222809, train accuracy: 0.9708222222222223\n",
      "validation loss: 3.880497694015503, validation accuracy: 0.6326\n"
     ]
    },
    {
     "name": "stderr",
     "output_type": "stream",
     "text": [
      "352it [00:02, 133.24it/s]\n"
     ]
    },
    {
     "name": "stdout",
     "output_type": "stream",
     "text": [
      "epoch 76, training loss: 0.35292860865592957\n"
     ]
    },
    {
     "name": "stderr",
     "output_type": "stream",
     "text": [
      "352it [00:02, 135.66it/s]\n"
     ]
    },
    {
     "name": "stdout",
     "output_type": "stream",
     "text": [
      "epoch 77, training loss: 0.3442019522190094\n"
     ]
    },
    {
     "name": "stderr",
     "output_type": "stream",
     "text": [
      "352it [00:02, 135.31it/s]\n"
     ]
    },
    {
     "name": "stdout",
     "output_type": "stream",
     "text": [
      "epoch 78, training loss: 0.3224564790725708\n"
     ]
    },
    {
     "name": "stderr",
     "output_type": "stream",
     "text": [
      "352it [00:02, 135.48it/s]\n"
     ]
    },
    {
     "name": "stdout",
     "output_type": "stream",
     "text": [
      "epoch 79, training loss: 0.3006752133369446\n"
     ]
    },
    {
     "name": "stderr",
     "output_type": "stream",
     "text": [
      "352it [00:02, 135.57it/s]\n"
     ]
    },
    {
     "name": "stdout",
     "output_type": "stream",
     "text": [
      "epoch 80, training loss: 0.2976684272289276\n"
     ]
    },
    {
     "name": "stderr",
     "output_type": "stream",
     "text": [
      "100%|██████████| 40/40 [00:00<00:00, 372.99it/s]\n",
      "100%|██████████| 352/352 [00:00<00:00, 375.39it/s]\n"
     ]
    },
    {
     "name": "stdout",
     "output_type": "stream",
     "text": [
      "training loss: 0.3077314496040344, train accuracy: 0.9724444444444444\n",
      "validation loss: 4.0962419509887695, validation accuracy: 0.622\n"
     ]
    },
    {
     "name": "stderr",
     "output_type": "stream",
     "text": [
      "352it [00:02, 135.69it/s]\n"
     ]
    },
    {
     "name": "stdout",
     "output_type": "stream",
     "text": [
      "epoch 81, training loss: 0.3097301721572876\n"
     ]
    },
    {
     "name": "stderr",
     "output_type": "stream",
     "text": [
      "352it [00:02, 134.24it/s]\n"
     ]
    },
    {
     "name": "stdout",
     "output_type": "stream",
     "text": [
      "epoch 82, training loss: 0.3007931411266327\n"
     ]
    },
    {
     "name": "stderr",
     "output_type": "stream",
     "text": [
      "352it [00:02, 134.07it/s]\n"
     ]
    },
    {
     "name": "stdout",
     "output_type": "stream",
     "text": [
      "epoch 83, training loss: 0.29983285069465637\n"
     ]
    },
    {
     "name": "stderr",
     "output_type": "stream",
     "text": [
      "352it [00:02, 135.06it/s]\n"
     ]
    },
    {
     "name": "stdout",
     "output_type": "stream",
     "text": [
      "epoch 84, training loss: 0.28144070506095886\n"
     ]
    },
    {
     "name": "stderr",
     "output_type": "stream",
     "text": [
      "352it [00:02, 135.08it/s]\n"
     ]
    },
    {
     "name": "stdout",
     "output_type": "stream",
     "text": [
      "epoch 85, training loss: 0.2668093740940094\n"
     ]
    },
    {
     "name": "stderr",
     "output_type": "stream",
     "text": [
      "100%|██████████| 40/40 [00:00<00:00, 373.39it/s]\n",
      "100%|██████████| 352/352 [00:00<00:00, 371.79it/s]\n"
     ]
    },
    {
     "name": "stdout",
     "output_type": "stream",
     "text": [
      "training loss: 0.22562971711158752, train accuracy: 0.9797111111111111\n",
      "validation loss: 3.936297655105591, validation accuracy: 0.635\n"
     ]
    },
    {
     "name": "stderr",
     "output_type": "stream",
     "text": [
      "352it [00:02, 134.84it/s]\n"
     ]
    },
    {
     "name": "stdout",
     "output_type": "stream",
     "text": [
      "epoch 86, training loss: 0.2627095878124237\n"
     ]
    },
    {
     "name": "stderr",
     "output_type": "stream",
     "text": [
      "352it [00:02, 134.82it/s]\n"
     ]
    },
    {
     "name": "stdout",
     "output_type": "stream",
     "text": [
      "epoch 87, training loss: 0.26242363452911377\n"
     ]
    },
    {
     "name": "stderr",
     "output_type": "stream",
     "text": [
      "352it [00:02, 135.18it/s]\n"
     ]
    },
    {
     "name": "stdout",
     "output_type": "stream",
     "text": [
      "epoch 88, training loss: 0.24607990682125092\n"
     ]
    },
    {
     "name": "stderr",
     "output_type": "stream",
     "text": [
      "352it [00:02, 136.17it/s]\n"
     ]
    },
    {
     "name": "stdout",
     "output_type": "stream",
     "text": [
      "epoch 89, training loss: 0.24350565671920776\n"
     ]
    },
    {
     "name": "stderr",
     "output_type": "stream",
     "text": [
      "352it [00:02, 136.74it/s]\n"
     ]
    },
    {
     "name": "stdout",
     "output_type": "stream",
     "text": [
      "epoch 90, training loss: 0.23057673871517181\n"
     ]
    },
    {
     "name": "stderr",
     "output_type": "stream",
     "text": [
      "100%|██████████| 40/40 [00:00<00:00, 374.80it/s]\n",
      "100%|██████████| 352/352 [00:00<00:00, 370.41it/s]\n"
     ]
    },
    {
     "name": "stdout",
     "output_type": "stream",
     "text": [
      "training loss: 0.2041648030281067, train accuracy: 0.9821111111111112\n",
      "validation loss: 4.160099506378174, validation accuracy: 0.6172\n"
     ]
    },
    {
     "name": "stderr",
     "output_type": "stream",
     "text": [
      "352it [00:02, 135.06it/s]\n"
     ]
    },
    {
     "name": "stdout",
     "output_type": "stream",
     "text": [
      "epoch 91, training loss: 0.22655190527439117\n"
     ]
    },
    {
     "name": "stderr",
     "output_type": "stream",
     "text": [
      "352it [00:02, 134.48it/s]\n"
     ]
    },
    {
     "name": "stdout",
     "output_type": "stream",
     "text": [
      "epoch 92, training loss: 0.24103142321109772\n"
     ]
    },
    {
     "name": "stderr",
     "output_type": "stream",
     "text": [
      "352it [00:02, 134.63it/s]\n"
     ]
    },
    {
     "name": "stdout",
     "output_type": "stream",
     "text": [
      "epoch 93, training loss: 0.23199893534183502\n"
     ]
    },
    {
     "name": "stderr",
     "output_type": "stream",
     "text": [
      "352it [00:02, 135.04it/s]\n"
     ]
    },
    {
     "name": "stdout",
     "output_type": "stream",
     "text": [
      "epoch 94, training loss: 0.20625309646129608\n"
     ]
    },
    {
     "name": "stderr",
     "output_type": "stream",
     "text": [
      "352it [00:02, 136.47it/s]\n"
     ]
    },
    {
     "name": "stdout",
     "output_type": "stream",
     "text": [
      "epoch 95, training loss: 0.2149837166070938\n"
     ]
    },
    {
     "name": "stderr",
     "output_type": "stream",
     "text": [
      "100%|██████████| 40/40 [00:00<00:00, 383.99it/s]\n",
      "100%|██████████| 352/352 [00:00<00:00, 380.39it/s]\n"
     ]
    },
    {
     "name": "stdout",
     "output_type": "stream",
     "text": [
      "training loss: 0.17138303816318512, train accuracy: 0.9850666666666666\n",
      "validation loss: 4.036840438842773, validation accuracy: 0.6174\n"
     ]
    },
    {
     "name": "stderr",
     "output_type": "stream",
     "text": [
      "352it [00:02, 136.85it/s]\n"
     ]
    },
    {
     "name": "stdout",
     "output_type": "stream",
     "text": [
      "epoch 96, training loss: 0.19844208657741547\n"
     ]
    },
    {
     "name": "stderr",
     "output_type": "stream",
     "text": [
      "352it [00:02, 136.87it/s]\n"
     ]
    },
    {
     "name": "stdout",
     "output_type": "stream",
     "text": [
      "epoch 97, training loss: 0.19229374825954437\n"
     ]
    },
    {
     "name": "stderr",
     "output_type": "stream",
     "text": [
      "352it [00:02, 136.99it/s]\n"
     ]
    },
    {
     "name": "stdout",
     "output_type": "stream",
     "text": [
      "epoch 98, training loss: 0.2120027095079422\n"
     ]
    },
    {
     "name": "stderr",
     "output_type": "stream",
     "text": [
      "352it [00:02, 136.66it/s]\n"
     ]
    },
    {
     "name": "stdout",
     "output_type": "stream",
     "text": [
      "epoch 99, training loss: 0.1857871413230896\n"
     ]
    },
    {
     "name": "stderr",
     "output_type": "stream",
     "text": [
      "352it [00:02, 137.37it/s]\n"
     ]
    },
    {
     "name": "stdout",
     "output_type": "stream",
     "text": [
      "epoch 100, training loss: 0.17527444660663605\n"
     ]
    },
    {
     "name": "stderr",
     "output_type": "stream",
     "text": [
      "100%|██████████| 40/40 [00:00<00:00, 384.90it/s]\n",
      "100%|██████████| 352/352 [00:00<00:00, 384.59it/s]\n"
     ]
    },
    {
     "name": "stdout",
     "output_type": "stream",
     "text": [
      "training loss: 0.1493179351091385, train accuracy: 0.9868444444444444\n",
      "validation loss: 4.111350059509277, validation accuracy: 0.6244\n",
      "2021-11-30 22:08:18.222643: training sce on sce-bal_asym\n"
     ]
    },
    {
     "name": "stderr",
     "output_type": "stream",
     "text": [
      "352it [00:02, 136.47it/s]\n"
     ]
    },
    {
     "name": "stdout",
     "output_type": "stream",
     "text": [
      "epoch 1, training loss: 2.3349246978759766\n"
     ]
    },
    {
     "name": "stderr",
     "output_type": "stream",
     "text": [
      "352it [00:02, 137.22it/s]\n"
     ]
    },
    {
     "name": "stdout",
     "output_type": "stream",
     "text": [
      "epoch 2, training loss: 1.6198875904083252\n"
     ]
    },
    {
     "name": "stderr",
     "output_type": "stream",
     "text": [
      "352it [00:02, 133.37it/s]\n"
     ]
    },
    {
     "name": "stdout",
     "output_type": "stream",
     "text": [
      "epoch 3, training loss: 1.5494697093963623\n"
     ]
    },
    {
     "name": "stderr",
     "output_type": "stream",
     "text": [
      "352it [00:02, 133.19it/s]\n"
     ]
    },
    {
     "name": "stdout",
     "output_type": "stream",
     "text": [
      "epoch 4, training loss: 1.5133639574050903\n"
     ]
    },
    {
     "name": "stderr",
     "output_type": "stream",
     "text": [
      "352it [00:02, 134.43it/s]\n"
     ]
    },
    {
     "name": "stdout",
     "output_type": "stream",
     "text": [
      "epoch 5, training loss: 1.4895820617675781\n"
     ]
    },
    {
     "name": "stderr",
     "output_type": "stream",
     "text": [
      "100%|██████████| 40/40 [00:00<00:00, 373.94it/s]\n",
      "100%|██████████| 352/352 [00:00<00:00, 372.04it/s]\n"
     ]
    },
    {
     "name": "stdout",
     "output_type": "stream",
     "text": [
      "training loss: 1.4566307067871094, train accuracy: 0.8532\n",
      "validation loss: 1.6364730596542358, validation accuracy: 0.8424\n",
      "saving best model: sce-bal_asym-5\n"
     ]
    },
    {
     "name": "stderr",
     "output_type": "stream",
     "text": [
      "352it [00:02, 134.27it/s]\n"
     ]
    },
    {
     "name": "stdout",
     "output_type": "stream",
     "text": [
      "epoch 6, training loss: 1.473181962966919\n"
     ]
    },
    {
     "name": "stderr",
     "output_type": "stream",
     "text": [
      "352it [00:02, 134.54it/s]\n"
     ]
    },
    {
     "name": "stdout",
     "output_type": "stream",
     "text": [
      "epoch 7, training loss: 1.4598278999328613\n"
     ]
    },
    {
     "name": "stderr",
     "output_type": "stream",
     "text": [
      "352it [00:02, 135.01it/s]\n"
     ]
    },
    {
     "name": "stdout",
     "output_type": "stream",
     "text": [
      "epoch 8, training loss: 1.4425511360168457\n"
     ]
    },
    {
     "name": "stderr",
     "output_type": "stream",
     "text": [
      "352it [00:02, 134.57it/s]\n"
     ]
    },
    {
     "name": "stdout",
     "output_type": "stream",
     "text": [
      "epoch 9, training loss: 1.4201678037643433\n"
     ]
    },
    {
     "name": "stderr",
     "output_type": "stream",
     "text": [
      "352it [00:02, 134.51it/s]\n"
     ]
    },
    {
     "name": "stdout",
     "output_type": "stream",
     "text": [
      "epoch 10, training loss: 1.404419183731079\n"
     ]
    },
    {
     "name": "stderr",
     "output_type": "stream",
     "text": [
      "100%|██████████| 40/40 [00:00<00:00, 373.27it/s]\n",
      "100%|██████████| 352/352 [00:00<00:00, 372.55it/s]\n"
     ]
    },
    {
     "name": "stdout",
     "output_type": "stream",
     "text": [
      "training loss: 1.334135890007019, train accuracy: 0.8652888888888889\n",
      "validation loss: 1.682787537574768, validation accuracy: 0.8368\n"
     ]
    },
    {
     "name": "stderr",
     "output_type": "stream",
     "text": [
      "352it [00:02, 134.66it/s]\n"
     ]
    },
    {
     "name": "stdout",
     "output_type": "stream",
     "text": [
      "epoch 11, training loss: 1.3640414476394653\n"
     ]
    },
    {
     "name": "stderr",
     "output_type": "stream",
     "text": [
      "352it [00:02, 134.76it/s]\n"
     ]
    },
    {
     "name": "stdout",
     "output_type": "stream",
     "text": [
      "epoch 12, training loss: 1.335870623588562\n"
     ]
    },
    {
     "name": "stderr",
     "output_type": "stream",
     "text": [
      "352it [00:02, 136.48it/s]\n"
     ]
    },
    {
     "name": "stdout",
     "output_type": "stream",
     "text": [
      "epoch 13, training loss: 1.2924809455871582\n"
     ]
    },
    {
     "name": "stderr",
     "output_type": "stream",
     "text": [
      "352it [00:02, 136.49it/s]\n"
     ]
    },
    {
     "name": "stdout",
     "output_type": "stream",
     "text": [
      "epoch 14, training loss: 1.2305638790130615\n"
     ]
    },
    {
     "name": "stderr",
     "output_type": "stream",
     "text": [
      "352it [00:02, 136.24it/s]\n"
     ]
    },
    {
     "name": "stdout",
     "output_type": "stream",
     "text": [
      "epoch 15, training loss: 1.1772559881210327\n"
     ]
    },
    {
     "name": "stderr",
     "output_type": "stream",
     "text": [
      "100%|██████████| 40/40 [00:00<00:00, 384.98it/s]\n",
      "100%|██████████| 352/352 [00:00<00:00, 383.91it/s]\n"
     ]
    },
    {
     "name": "stdout",
     "output_type": "stream",
     "text": [
      "training loss: 1.1039990186691284, train accuracy: 0.8910444444444444\n",
      "validation loss: 1.7805877923965454, validation accuracy: 0.8188\n"
     ]
    },
    {
     "name": "stderr",
     "output_type": "stream",
     "text": [
      "352it [00:02, 136.38it/s]\n"
     ]
    },
    {
     "name": "stdout",
     "output_type": "stream",
     "text": [
      "epoch 16, training loss: 1.1040860414505005\n"
     ]
    },
    {
     "name": "stderr",
     "output_type": "stream",
     "text": [
      "352it [00:02, 137.11it/s]\n"
     ]
    },
    {
     "name": "stdout",
     "output_type": "stream",
     "text": [
      "epoch 17, training loss: 1.0244413614273071\n"
     ]
    },
    {
     "name": "stderr",
     "output_type": "stream",
     "text": [
      "352it [00:02, 137.44it/s]\n"
     ]
    },
    {
     "name": "stdout",
     "output_type": "stream",
     "text": [
      "epoch 18, training loss: 0.939872145652771\n"
     ]
    },
    {
     "name": "stderr",
     "output_type": "stream",
     "text": [
      "352it [00:02, 136.71it/s]\n"
     ]
    },
    {
     "name": "stdout",
     "output_type": "stream",
     "text": [
      "epoch 19, training loss: 0.8801801800727844\n"
     ]
    },
    {
     "name": "stderr",
     "output_type": "stream",
     "text": [
      "352it [00:02, 136.46it/s]\n"
     ]
    },
    {
     "name": "stdout",
     "output_type": "stream",
     "text": [
      "epoch 20, training loss: 0.8145108819007874\n"
     ]
    },
    {
     "name": "stderr",
     "output_type": "stream",
     "text": [
      "100%|██████████| 40/40 [00:00<00:00, 382.90it/s]\n",
      "100%|██████████| 352/352 [00:00<00:00, 383.31it/s]\n"
     ]
    },
    {
     "name": "stdout",
     "output_type": "stream",
     "text": [
      "training loss: 0.6932332515716553, train accuracy: 0.9332222222222222\n",
      "validation loss: 1.8802974224090576, validation accuracy: 0.8136\n"
     ]
    },
    {
     "name": "stderr",
     "output_type": "stream",
     "text": [
      "352it [00:02, 135.97it/s]\n"
     ]
    },
    {
     "name": "stdout",
     "output_type": "stream",
     "text": [
      "epoch 21, training loss: 0.7377374768257141\n"
     ]
    },
    {
     "name": "stderr",
     "output_type": "stream",
     "text": [
      "352it [00:02, 137.12it/s]\n"
     ]
    },
    {
     "name": "stdout",
     "output_type": "stream",
     "text": [
      "epoch 22, training loss: 0.6650370955467224\n"
     ]
    },
    {
     "name": "stderr",
     "output_type": "stream",
     "text": [
      "352it [00:02, 136.88it/s]\n"
     ]
    },
    {
     "name": "stdout",
     "output_type": "stream",
     "text": [
      "epoch 23, training loss: 0.596136212348938\n"
     ]
    },
    {
     "name": "stderr",
     "output_type": "stream",
     "text": [
      "352it [00:02, 136.12it/s]\n"
     ]
    },
    {
     "name": "stdout",
     "output_type": "stream",
     "text": [
      "epoch 24, training loss: 0.5495898723602295\n"
     ]
    },
    {
     "name": "stderr",
     "output_type": "stream",
     "text": [
      "352it [00:02, 136.19it/s]\n"
     ]
    },
    {
     "name": "stdout",
     "output_type": "stream",
     "text": [
      "epoch 25, training loss: 0.4994446039199829\n"
     ]
    },
    {
     "name": "stderr",
     "output_type": "stream",
     "text": [
      "100%|██████████| 40/40 [00:00<00:00, 377.05it/s]\n",
      "100%|██████████| 352/352 [00:00<00:00, 376.42it/s]\n"
     ]
    },
    {
     "name": "stdout",
     "output_type": "stream",
     "text": [
      "training loss: 0.4571128189563751, train accuracy: 0.9571777777777778\n",
      "validation loss: 2.0198111534118652, validation accuracy: 0.7988\n"
     ]
    },
    {
     "name": "stderr",
     "output_type": "stream",
     "text": [
      "352it [00:02, 135.81it/s]\n"
     ]
    },
    {
     "name": "stdout",
     "output_type": "stream",
     "text": [
      "epoch 26, training loss: 0.4627610146999359\n"
     ]
    },
    {
     "name": "stderr",
     "output_type": "stream",
     "text": [
      "352it [00:02, 136.13it/s]\n"
     ]
    },
    {
     "name": "stdout",
     "output_type": "stream",
     "text": [
      "epoch 27, training loss: 0.4306788742542267\n"
     ]
    },
    {
     "name": "stderr",
     "output_type": "stream",
     "text": [
      "352it [00:02, 135.17it/s]\n"
     ]
    },
    {
     "name": "stdout",
     "output_type": "stream",
     "text": [
      "epoch 28, training loss: 0.38898277282714844\n"
     ]
    },
    {
     "name": "stderr",
     "output_type": "stream",
     "text": [
      "352it [00:02, 135.32it/s]\n"
     ]
    },
    {
     "name": "stdout",
     "output_type": "stream",
     "text": [
      "epoch 29, training loss: 0.35261812806129456\n"
     ]
    },
    {
     "name": "stderr",
     "output_type": "stream",
     "text": [
      "352it [00:02, 135.23it/s]\n"
     ]
    },
    {
     "name": "stdout",
     "output_type": "stream",
     "text": [
      "epoch 30, training loss: 0.33635303378105164\n"
     ]
    },
    {
     "name": "stderr",
     "output_type": "stream",
     "text": [
      "100%|██████████| 40/40 [00:00<00:00, 376.25it/s]\n",
      "100%|██████████| 352/352 [00:00<00:00, 373.92it/s]\n"
     ]
    },
    {
     "name": "stdout",
     "output_type": "stream",
     "text": [
      "training loss: 0.3196033239364624, train accuracy: 0.9708222222222223\n",
      "validation loss: 2.13257098197937, validation accuracy: 0.7868\n"
     ]
    },
    {
     "name": "stderr",
     "output_type": "stream",
     "text": [
      "352it [00:02, 135.10it/s]\n"
     ]
    },
    {
     "name": "stdout",
     "output_type": "stream",
     "text": [
      "epoch 31, training loss: 0.3137495815753937\n"
     ]
    },
    {
     "name": "stderr",
     "output_type": "stream",
     "text": [
      "352it [00:02, 135.35it/s]\n"
     ]
    },
    {
     "name": "stdout",
     "output_type": "stream",
     "text": [
      "epoch 32, training loss: 0.2830394506454468\n"
     ]
    },
    {
     "name": "stderr",
     "output_type": "stream",
     "text": [
      "352it [00:02, 136.13it/s]\n"
     ]
    },
    {
     "name": "stdout",
     "output_type": "stream",
     "text": [
      "epoch 33, training loss: 0.27857568860054016\n"
     ]
    },
    {
     "name": "stderr",
     "output_type": "stream",
     "text": [
      "352it [00:02, 136.11it/s]\n"
     ]
    },
    {
     "name": "stdout",
     "output_type": "stream",
     "text": [
      "epoch 34, training loss: 0.2394627034664154\n"
     ]
    },
    {
     "name": "stderr",
     "output_type": "stream",
     "text": [
      "352it [00:02, 135.97it/s]\n"
     ]
    },
    {
     "name": "stdout",
     "output_type": "stream",
     "text": [
      "epoch 35, training loss: 0.22179915010929108\n"
     ]
    },
    {
     "name": "stderr",
     "output_type": "stream",
     "text": [
      "100%|██████████| 40/40 [00:00<00:00, 377.78it/s]\n",
      "100%|██████████| 352/352 [00:00<00:00, 377.97it/s]\n"
     ]
    },
    {
     "name": "stdout",
     "output_type": "stream",
     "text": [
      "training loss: 0.18046355247497559, train accuracy: 0.9835555555555555\n",
      "validation loss: 2.025282382965088, validation accuracy: 0.7964\n"
     ]
    },
    {
     "name": "stderr",
     "output_type": "stream",
     "text": [
      "352it [00:02, 135.96it/s]\n"
     ]
    },
    {
     "name": "stdout",
     "output_type": "stream",
     "text": [
      "epoch 36, training loss: 0.21786926686763763\n"
     ]
    },
    {
     "name": "stderr",
     "output_type": "stream",
     "text": [
      "352it [00:02, 136.04it/s]\n"
     ]
    },
    {
     "name": "stdout",
     "output_type": "stream",
     "text": [
      "epoch 37, training loss: 0.1972547173500061\n"
     ]
    },
    {
     "name": "stderr",
     "output_type": "stream",
     "text": [
      "352it [00:02, 135.72it/s]\n"
     ]
    },
    {
     "name": "stdout",
     "output_type": "stream",
     "text": [
      "epoch 38, training loss: 0.1868266612291336\n"
     ]
    },
    {
     "name": "stderr",
     "output_type": "stream",
     "text": [
      "352it [00:02, 135.07it/s]\n"
     ]
    },
    {
     "name": "stdout",
     "output_type": "stream",
     "text": [
      "epoch 39, training loss: 0.17514890432357788\n"
     ]
    },
    {
     "name": "stderr",
     "output_type": "stream",
     "text": [
      "352it [00:02, 134.87it/s]\n"
     ]
    },
    {
     "name": "stdout",
     "output_type": "stream",
     "text": [
      "epoch 40, training loss: 0.1828118860721588\n"
     ]
    },
    {
     "name": "stderr",
     "output_type": "stream",
     "text": [
      "100%|██████████| 40/40 [00:00<00:00, 374.64it/s]\n",
      "100%|██████████| 352/352 [00:00<00:00, 372.34it/s]\n"
     ]
    },
    {
     "name": "stdout",
     "output_type": "stream",
     "text": [
      "training loss: 0.15470387041568756, train accuracy: 0.9863555555555555\n",
      "validation loss: 2.0911145210266113, validation accuracy: 0.7896\n"
     ]
    },
    {
     "name": "stderr",
     "output_type": "stream",
     "text": [
      "352it [00:02, 133.02it/s]\n"
     ]
    },
    {
     "name": "stdout",
     "output_type": "stream",
     "text": [
      "epoch 41, training loss: 0.18408150970935822\n"
     ]
    },
    {
     "name": "stderr",
     "output_type": "stream",
     "text": [
      "352it [00:02, 134.92it/s]\n"
     ]
    },
    {
     "name": "stdout",
     "output_type": "stream",
     "text": [
      "epoch 42, training loss: 0.14645090699195862\n"
     ]
    },
    {
     "name": "stderr",
     "output_type": "stream",
     "text": [
      "352it [00:02, 135.46it/s]\n"
     ]
    },
    {
     "name": "stdout",
     "output_type": "stream",
     "text": [
      "epoch 43, training loss: 0.1501912921667099\n"
     ]
    },
    {
     "name": "stderr",
     "output_type": "stream",
     "text": [
      "352it [00:02, 134.89it/s]\n"
     ]
    },
    {
     "name": "stdout",
     "output_type": "stream",
     "text": [
      "epoch 44, training loss: 0.1507321447134018\n"
     ]
    },
    {
     "name": "stderr",
     "output_type": "stream",
     "text": [
      "352it [00:02, 135.46it/s]\n"
     ]
    },
    {
     "name": "stdout",
     "output_type": "stream",
     "text": [
      "epoch 45, training loss: 0.14419005811214447\n"
     ]
    },
    {
     "name": "stderr",
     "output_type": "stream",
     "text": [
      "100%|██████████| 40/40 [00:00<00:00, 376.25it/s]\n",
      "100%|██████████| 352/352 [00:00<00:00, 373.55it/s]\n"
     ]
    },
    {
     "name": "stdout",
     "output_type": "stream",
     "text": [
      "training loss: 0.1612357348203659, train accuracy: 0.9857555555555556\n",
      "validation loss: 2.2499890327453613, validation accuracy: 0.7786\n"
     ]
    },
    {
     "name": "stderr",
     "output_type": "stream",
     "text": [
      "352it [00:02, 135.20it/s]\n"
     ]
    },
    {
     "name": "stdout",
     "output_type": "stream",
     "text": [
      "epoch 46, training loss: 0.1341465413570404\n"
     ]
    },
    {
     "name": "stderr",
     "output_type": "stream",
     "text": [
      "352it [00:02, 134.97it/s]\n"
     ]
    },
    {
     "name": "stdout",
     "output_type": "stream",
     "text": [
      "epoch 47, training loss: 0.12892113626003265\n"
     ]
    },
    {
     "name": "stderr",
     "output_type": "stream",
     "text": [
      "352it [00:02, 135.91it/s]\n"
     ]
    },
    {
     "name": "stdout",
     "output_type": "stream",
     "text": [
      "epoch 48, training loss: 0.11401980370283127\n"
     ]
    },
    {
     "name": "stderr",
     "output_type": "stream",
     "text": [
      "352it [00:02, 134.85it/s]\n"
     ]
    },
    {
     "name": "stdout",
     "output_type": "stream",
     "text": [
      "epoch 49, training loss: 0.12194204330444336\n"
     ]
    },
    {
     "name": "stderr",
     "output_type": "stream",
     "text": [
      "352it [00:02, 134.68it/s]\n"
     ]
    },
    {
     "name": "stdout",
     "output_type": "stream",
     "text": [
      "epoch 50, training loss: 0.12059677392244339\n"
     ]
    },
    {
     "name": "stderr",
     "output_type": "stream",
     "text": [
      "100%|██████████| 40/40 [00:00<00:00, 373.32it/s]\n",
      "100%|██████████| 352/352 [00:00<00:00, 373.34it/s]\n"
     ]
    },
    {
     "name": "stdout",
     "output_type": "stream",
     "text": [
      "training loss: 0.10242093354463577, train accuracy: 0.991\n",
      "validation loss: 2.1332740783691406, validation accuracy: 0.7906\n"
     ]
    },
    {
     "name": "stderr",
     "output_type": "stream",
     "text": [
      "352it [00:02, 134.58it/s]\n"
     ]
    },
    {
     "name": "stdout",
     "output_type": "stream",
     "text": [
      "epoch 51, training loss: 0.11684928089380264\n"
     ]
    },
    {
     "name": "stderr",
     "output_type": "stream",
     "text": [
      "352it [00:02, 135.22it/s]\n"
     ]
    },
    {
     "name": "stdout",
     "output_type": "stream",
     "text": [
      "epoch 52, training loss: 0.10644182562828064\n"
     ]
    },
    {
     "name": "stderr",
     "output_type": "stream",
     "text": [
      "352it [00:02, 135.41it/s]\n"
     ]
    },
    {
     "name": "stdout",
     "output_type": "stream",
     "text": [
      "epoch 53, training loss: 0.1030125543475151\n"
     ]
    },
    {
     "name": "stderr",
     "output_type": "stream",
     "text": [
      "352it [00:02, 136.63it/s]\n"
     ]
    },
    {
     "name": "stdout",
     "output_type": "stream",
     "text": [
      "epoch 54, training loss: 0.10221783816814423\n"
     ]
    },
    {
     "name": "stderr",
     "output_type": "stream",
     "text": [
      "352it [00:02, 136.90it/s]\n"
     ]
    },
    {
     "name": "stdout",
     "output_type": "stream",
     "text": [
      "epoch 55, training loss: 0.10294518619775772\n"
     ]
    },
    {
     "name": "stderr",
     "output_type": "stream",
     "text": [
      "100%|██████████| 40/40 [00:00<00:00, 384.73it/s]\n",
      "100%|██████████| 352/352 [00:00<00:00, 383.22it/s]\n"
     ]
    },
    {
     "name": "stdout",
     "output_type": "stream",
     "text": [
      "training loss: 0.09348208457231522, train accuracy: 0.9917111111111111\n",
      "validation loss: 2.1177663803100586, validation accuracy: 0.7894\n"
     ]
    },
    {
     "name": "stderr",
     "output_type": "stream",
     "text": [
      "352it [00:02, 136.55it/s]\n"
     ]
    },
    {
     "name": "stdout",
     "output_type": "stream",
     "text": [
      "epoch 56, training loss: 0.09761512279510498\n"
     ]
    },
    {
     "name": "stderr",
     "output_type": "stream",
     "text": [
      "352it [00:02, 137.27it/s]\n"
     ]
    },
    {
     "name": "stdout",
     "output_type": "stream",
     "text": [
      "epoch 57, training loss: 0.09168462455272675\n"
     ]
    },
    {
     "name": "stderr",
     "output_type": "stream",
     "text": [
      "352it [00:02, 136.22it/s]\n"
     ]
    },
    {
     "name": "stdout",
     "output_type": "stream",
     "text": [
      "epoch 58, training loss: 0.07186970114707947\n"
     ]
    },
    {
     "name": "stderr",
     "output_type": "stream",
     "text": [
      "352it [00:02, 136.36it/s]\n"
     ]
    },
    {
     "name": "stdout",
     "output_type": "stream",
     "text": [
      "epoch 59, training loss: 0.09421823173761368\n"
     ]
    },
    {
     "name": "stderr",
     "output_type": "stream",
     "text": [
      "352it [00:02, 136.52it/s]\n"
     ]
    },
    {
     "name": "stdout",
     "output_type": "stream",
     "text": [
      "epoch 60, training loss: 0.10969679057598114\n"
     ]
    },
    {
     "name": "stderr",
     "output_type": "stream",
     "text": [
      "100%|██████████| 40/40 [00:00<00:00, 381.96it/s]\n",
      "100%|██████████| 352/352 [00:00<00:00, 382.60it/s]\n"
     ]
    },
    {
     "name": "stdout",
     "output_type": "stream",
     "text": [
      "training loss: 0.08675884455442429, train accuracy: 0.9924888888888889\n",
      "validation loss: 2.1524910926818848, validation accuracy: 0.7814\n"
     ]
    },
    {
     "name": "stderr",
     "output_type": "stream",
     "text": [
      "352it [00:02, 137.22it/s]\n"
     ]
    },
    {
     "name": "stdout",
     "output_type": "stream",
     "text": [
      "epoch 61, training loss: 0.08676259964704514\n"
     ]
    },
    {
     "name": "stderr",
     "output_type": "stream",
     "text": [
      "352it [00:02, 136.16it/s]\n"
     ]
    },
    {
     "name": "stdout",
     "output_type": "stream",
     "text": [
      "epoch 62, training loss: 0.06826698035001755\n"
     ]
    },
    {
     "name": "stderr",
     "output_type": "stream",
     "text": [
      "352it [00:02, 134.42it/s]\n"
     ]
    },
    {
     "name": "stdout",
     "output_type": "stream",
     "text": [
      "epoch 63, training loss: 0.08143710345029831\n"
     ]
    },
    {
     "name": "stderr",
     "output_type": "stream",
     "text": [
      "352it [00:02, 136.18it/s]\n"
     ]
    },
    {
     "name": "stdout",
     "output_type": "stream",
     "text": [
      "epoch 64, training loss: 0.07773271203041077\n"
     ]
    },
    {
     "name": "stderr",
     "output_type": "stream",
     "text": [
      "352it [00:02, 137.03it/s]\n"
     ]
    },
    {
     "name": "stdout",
     "output_type": "stream",
     "text": [
      "epoch 65, training loss: 0.06460690498352051\n"
     ]
    },
    {
     "name": "stderr",
     "output_type": "stream",
     "text": [
      "100%|██████████| 40/40 [00:00<00:00, 384.32it/s]\n",
      "100%|██████████| 352/352 [00:00<00:00, 384.09it/s]\n"
     ]
    },
    {
     "name": "stdout",
     "output_type": "stream",
     "text": [
      "training loss: 0.05643418803811073, train accuracy: 0.9952\n",
      "validation loss: 2.2264366149902344, validation accuracy: 0.777\n"
     ]
    },
    {
     "name": "stderr",
     "output_type": "stream",
     "text": [
      "352it [00:02, 136.56it/s]\n"
     ]
    },
    {
     "name": "stdout",
     "output_type": "stream",
     "text": [
      "epoch 66, training loss: 0.05724005401134491\n"
     ]
    },
    {
     "name": "stderr",
     "output_type": "stream",
     "text": [
      "352it [00:02, 136.97it/s]\n"
     ]
    },
    {
     "name": "stdout",
     "output_type": "stream",
     "text": [
      "epoch 67, training loss: 0.060440436005592346\n"
     ]
    },
    {
     "name": "stderr",
     "output_type": "stream",
     "text": [
      "352it [00:02, 136.58it/s]\n"
     ]
    },
    {
     "name": "stdout",
     "output_type": "stream",
     "text": [
      "epoch 68, training loss: 0.06512755900621414\n"
     ]
    },
    {
     "name": "stderr",
     "output_type": "stream",
     "text": [
      "352it [00:02, 137.22it/s]\n"
     ]
    },
    {
     "name": "stdout",
     "output_type": "stream",
     "text": [
      "epoch 69, training loss: 0.07375812530517578\n"
     ]
    },
    {
     "name": "stderr",
     "output_type": "stream",
     "text": [
      "352it [00:02, 136.00it/s]\n"
     ]
    },
    {
     "name": "stdout",
     "output_type": "stream",
     "text": [
      "epoch 70, training loss: 0.07372570782899857\n"
     ]
    },
    {
     "name": "stderr",
     "output_type": "stream",
     "text": [
      "100%|██████████| 40/40 [00:00<00:00, 383.55it/s]\n",
      "100%|██████████| 352/352 [00:00<00:00, 383.24it/s]\n"
     ]
    },
    {
     "name": "stdout",
     "output_type": "stream",
     "text": [
      "training loss: 0.05356207862496376, train accuracy: 0.9954444444444445\n",
      "validation loss: 2.1190898418426514, validation accuracy: 0.7906\n"
     ]
    },
    {
     "name": "stderr",
     "output_type": "stream",
     "text": [
      "352it [00:02, 137.05it/s]\n"
     ]
    },
    {
     "name": "stdout",
     "output_type": "stream",
     "text": [
      "epoch 71, training loss: 0.06262591481208801\n"
     ]
    },
    {
     "name": "stderr",
     "output_type": "stream",
     "text": [
      "352it [00:02, 137.11it/s]\n"
     ]
    },
    {
     "name": "stdout",
     "output_type": "stream",
     "text": [
      "epoch 72, training loss: 0.05217568576335907\n"
     ]
    },
    {
     "name": "stderr",
     "output_type": "stream",
     "text": [
      "352it [00:02, 136.46it/s]\n"
     ]
    },
    {
     "name": "stdout",
     "output_type": "stream",
     "text": [
      "epoch 73, training loss: 0.06525766104459763\n"
     ]
    },
    {
     "name": "stderr",
     "output_type": "stream",
     "text": [
      "352it [00:02, 136.09it/s]\n"
     ]
    },
    {
     "name": "stdout",
     "output_type": "stream",
     "text": [
      "epoch 74, training loss: 0.054073356091976166\n"
     ]
    },
    {
     "name": "stderr",
     "output_type": "stream",
     "text": [
      "352it [00:02, 136.49it/s]\n"
     ]
    },
    {
     "name": "stdout",
     "output_type": "stream",
     "text": [
      "epoch 75, training loss: 0.05339841544628143\n"
     ]
    },
    {
     "name": "stderr",
     "output_type": "stream",
     "text": [
      "100%|██████████| 40/40 [00:00<00:00, 384.21it/s]\n",
      "100%|██████████| 352/352 [00:00<00:00, 384.34it/s]\n"
     ]
    },
    {
     "name": "stdout",
     "output_type": "stream",
     "text": [
      "training loss: 0.04253711923956871, train accuracy: 0.9964\n",
      "validation loss: 2.1522791385650635, validation accuracy: 0.7934\n"
     ]
    },
    {
     "name": "stderr",
     "output_type": "stream",
     "text": [
      "352it [00:02, 136.42it/s]\n"
     ]
    },
    {
     "name": "stdout",
     "output_type": "stream",
     "text": [
      "epoch 76, training loss: 0.05625003203749657\n"
     ]
    },
    {
     "name": "stderr",
     "output_type": "stream",
     "text": [
      "352it [00:02, 136.43it/s]\n"
     ]
    },
    {
     "name": "stdout",
     "output_type": "stream",
     "text": [
      "epoch 77, training loss: 0.0639943853020668\n"
     ]
    },
    {
     "name": "stderr",
     "output_type": "stream",
     "text": [
      "352it [00:02, 135.91it/s]\n"
     ]
    },
    {
     "name": "stdout",
     "output_type": "stream",
     "text": [
      "epoch 78, training loss: 0.05197624862194061\n"
     ]
    },
    {
     "name": "stderr",
     "output_type": "stream",
     "text": [
      "352it [00:02, 136.30it/s]\n"
     ]
    },
    {
     "name": "stdout",
     "output_type": "stream",
     "text": [
      "epoch 79, training loss: 0.049324825406074524\n"
     ]
    },
    {
     "name": "stderr",
     "output_type": "stream",
     "text": [
      "352it [00:02, 136.13it/s]\n"
     ]
    },
    {
     "name": "stdout",
     "output_type": "stream",
     "text": [
      "epoch 80, training loss: 0.06653464585542679\n"
     ]
    },
    {
     "name": "stderr",
     "output_type": "stream",
     "text": [
      "100%|██████████| 40/40 [00:00<00:00, 378.20it/s]\n",
      "100%|██████████| 352/352 [00:00<00:00, 377.32it/s]\n"
     ]
    },
    {
     "name": "stdout",
     "output_type": "stream",
     "text": [
      "training loss: 0.05897891893982887, train accuracy: 0.9947555555555555\n",
      "validation loss: 2.2747409343719482, validation accuracy: 0.7818\n"
     ]
    },
    {
     "name": "stderr",
     "output_type": "stream",
     "text": [
      "352it [00:02, 136.23it/s]\n"
     ]
    },
    {
     "name": "stdout",
     "output_type": "stream",
     "text": [
      "epoch 81, training loss: 0.060888729989528656\n"
     ]
    },
    {
     "name": "stderr",
     "output_type": "stream",
     "text": [
      "352it [00:02, 135.70it/s]\n"
     ]
    },
    {
     "name": "stdout",
     "output_type": "stream",
     "text": [
      "epoch 82, training loss: 0.05241734907031059\n"
     ]
    },
    {
     "name": "stderr",
     "output_type": "stream",
     "text": [
      "352it [00:02, 136.31it/s]\n"
     ]
    },
    {
     "name": "stdout",
     "output_type": "stream",
     "text": [
      "epoch 83, training loss: 0.04739191383123398\n"
     ]
    },
    {
     "name": "stderr",
     "output_type": "stream",
     "text": [
      "352it [00:02, 135.50it/s]\n"
     ]
    },
    {
     "name": "stdout",
     "output_type": "stream",
     "text": [
      "epoch 84, training loss: 0.051113829016685486\n"
     ]
    },
    {
     "name": "stderr",
     "output_type": "stream",
     "text": [
      "352it [00:02, 136.34it/s]\n"
     ]
    },
    {
     "name": "stdout",
     "output_type": "stream",
     "text": [
      "epoch 85, training loss: 0.057332493364810944\n"
     ]
    },
    {
     "name": "stderr",
     "output_type": "stream",
     "text": [
      "100%|██████████| 40/40 [00:00<00:00, 377.36it/s]\n",
      "100%|██████████| 352/352 [00:00<00:00, 376.58it/s]\n"
     ]
    },
    {
     "name": "stdout",
     "output_type": "stream",
     "text": [
      "training loss: 0.03895840793848038, train accuracy: 0.9966888888888888\n",
      "validation loss: 2.215405225753784, validation accuracy: 0.7842\n"
     ]
    },
    {
     "name": "stderr",
     "output_type": "stream",
     "text": [
      "352it [00:02, 128.47it/s]\n"
     ]
    },
    {
     "name": "stdout",
     "output_type": "stream",
     "text": [
      "epoch 86, training loss: 0.043080780655145645\n"
     ]
    },
    {
     "name": "stderr",
     "output_type": "stream",
     "text": [
      "352it [00:02, 136.07it/s]\n"
     ]
    },
    {
     "name": "stdout",
     "output_type": "stream",
     "text": [
      "epoch 87, training loss: 0.04099413752555847\n"
     ]
    },
    {
     "name": "stderr",
     "output_type": "stream",
     "text": [
      "352it [00:02, 136.08it/s]\n"
     ]
    },
    {
     "name": "stdout",
     "output_type": "stream",
     "text": [
      "epoch 88, training loss: 0.04428032040596008\n"
     ]
    },
    {
     "name": "stderr",
     "output_type": "stream",
     "text": [
      "352it [00:02, 135.45it/s]\n"
     ]
    },
    {
     "name": "stdout",
     "output_type": "stream",
     "text": [
      "epoch 89, training loss: 0.046611834317445755\n"
     ]
    },
    {
     "name": "stderr",
     "output_type": "stream",
     "text": [
      "352it [00:02, 135.12it/s]\n"
     ]
    },
    {
     "name": "stdout",
     "output_type": "stream",
     "text": [
      "epoch 90, training loss: 0.05861452966928482\n"
     ]
    },
    {
     "name": "stderr",
     "output_type": "stream",
     "text": [
      "100%|██████████| 40/40 [00:00<00:00, 378.04it/s]\n",
      "100%|██████████| 352/352 [00:00<00:00, 377.21it/s]\n"
     ]
    },
    {
     "name": "stdout",
     "output_type": "stream",
     "text": [
      "training loss: 0.03877339884638786, train accuracy: 0.9964888888888889\n",
      "validation loss: 2.203258991241455, validation accuracy: 0.7846\n"
     ]
    },
    {
     "name": "stderr",
     "output_type": "stream",
     "text": [
      "352it [00:02, 135.14it/s]\n"
     ]
    },
    {
     "name": "stdout",
     "output_type": "stream",
     "text": [
      "epoch 91, training loss: 0.04489577189087868\n"
     ]
    },
    {
     "name": "stderr",
     "output_type": "stream",
     "text": [
      "352it [00:02, 133.42it/s]\n"
     ]
    },
    {
     "name": "stdout",
     "output_type": "stream",
     "text": [
      "epoch 92, training loss: 0.04096057265996933\n"
     ]
    },
    {
     "name": "stderr",
     "output_type": "stream",
     "text": [
      "352it [00:02, 132.96it/s]\n"
     ]
    },
    {
     "name": "stdout",
     "output_type": "stream",
     "text": [
      "epoch 93, training loss: 0.03862755373120308\n"
     ]
    },
    {
     "name": "stderr",
     "output_type": "stream",
     "text": [
      "352it [00:02, 132.54it/s]\n"
     ]
    },
    {
     "name": "stdout",
     "output_type": "stream",
     "text": [
      "epoch 94, training loss: 0.03519027307629585\n"
     ]
    },
    {
     "name": "stderr",
     "output_type": "stream",
     "text": [
      "352it [00:02, 136.27it/s]\n"
     ]
    },
    {
     "name": "stdout",
     "output_type": "stream",
     "text": [
      "epoch 95, training loss: 0.04443599283695221\n"
     ]
    },
    {
     "name": "stderr",
     "output_type": "stream",
     "text": [
      "100%|██████████| 40/40 [00:00<00:00, 382.20it/s]\n",
      "100%|██████████| 352/352 [00:00<00:00, 383.00it/s]\n"
     ]
    },
    {
     "name": "stdout",
     "output_type": "stream",
     "text": [
      "training loss: 0.0219638142734766, train accuracy: 0.9983333333333333\n",
      "validation loss: 2.1727683544158936, validation accuracy: 0.7934\n"
     ]
    },
    {
     "name": "stderr",
     "output_type": "stream",
     "text": [
      "352it [00:02, 136.59it/s]\n"
     ]
    },
    {
     "name": "stdout",
     "output_type": "stream",
     "text": [
      "epoch 96, training loss: 0.040698856115341187\n"
     ]
    },
    {
     "name": "stderr",
     "output_type": "stream",
     "text": [
      "352it [00:02, 136.37it/s]\n"
     ]
    },
    {
     "name": "stdout",
     "output_type": "stream",
     "text": [
      "epoch 97, training loss: 0.04362950101494789\n"
     ]
    },
    {
     "name": "stderr",
     "output_type": "stream",
     "text": [
      "352it [00:02, 136.66it/s]\n"
     ]
    },
    {
     "name": "stdout",
     "output_type": "stream",
     "text": [
      "epoch 98, training loss: 0.035463158041238785\n"
     ]
    },
    {
     "name": "stderr",
     "output_type": "stream",
     "text": [
      "352it [00:02, 136.66it/s]\n"
     ]
    },
    {
     "name": "stdout",
     "output_type": "stream",
     "text": [
      "epoch 99, training loss: 0.05040239170193672\n"
     ]
    },
    {
     "name": "stderr",
     "output_type": "stream",
     "text": [
      "352it [00:02, 136.23it/s]\n"
     ]
    },
    {
     "name": "stdout",
     "output_type": "stream",
     "text": [
      "epoch 100, training loss: 0.04531349241733551\n"
     ]
    },
    {
     "name": "stderr",
     "output_type": "stream",
     "text": [
      "100%|██████████| 40/40 [00:00<00:00, 383.42it/s]\n",
      "100%|██████████| 352/352 [00:00<00:00, 380.99it/s]\n"
     ]
    },
    {
     "name": "stdout",
     "output_type": "stream",
     "text": [
      "training loss: 0.02651706151664257, train accuracy: 0.9978222222222223\n",
      "validation loss: 2.1461105346679688, validation accuracy: 0.7876\n",
      "2021-11-30 22:12:59.540390: training sce on sce-imb_sym\n"
     ]
    },
    {
     "name": "stderr",
     "output_type": "stream",
     "text": [
      "252it [00:01, 136.11it/s]\n"
     ]
    },
    {
     "name": "stdout",
     "output_type": "stream",
     "text": [
      "epoch 1, training loss: 3.667851448059082\n"
     ]
    },
    {
     "name": "stderr",
     "output_type": "stream",
     "text": [
      "252it [00:01, 136.03it/s]\n"
     ]
    },
    {
     "name": "stdout",
     "output_type": "stream",
     "text": [
      "epoch 2, training loss: 2.877591609954834\n"
     ]
    },
    {
     "name": "stderr",
     "output_type": "stream",
     "text": [
      "252it [00:01, 136.19it/s]\n"
     ]
    },
    {
     "name": "stdout",
     "output_type": "stream",
     "text": [
      "epoch 3, training loss: 2.7921879291534424\n"
     ]
    },
    {
     "name": "stderr",
     "output_type": "stream",
     "text": [
      "252it [00:01, 136.38it/s]\n"
     ]
    },
    {
     "name": "stdout",
     "output_type": "stream",
     "text": [
      "epoch 4, training loss: 2.7600064277648926\n"
     ]
    },
    {
     "name": "stderr",
     "output_type": "stream",
     "text": [
      "252it [00:01, 136.29it/s]\n"
     ]
    },
    {
     "name": "stdout",
     "output_type": "stream",
     "text": [
      "epoch 5, training loss: 2.739243268966675\n"
     ]
    },
    {
     "name": "stderr",
     "output_type": "stream",
     "text": [
      "100%|██████████| 28/28 [00:00<00:00, 377.41it/s]\n",
      "100%|██████████| 252/252 [00:00<00:00, 382.14it/s]\n"
     ]
    },
    {
     "name": "stdout",
     "output_type": "stream",
     "text": [
      "training loss: 2.716498851776123, train accuracy: 0.7308468054736711\n",
      "validation loss: 2.7355358600616455, validation accuracy: 0.7335195530726257\n",
      "saving best model: sce-imb_sym-5\n"
     ]
    },
    {
     "name": "stderr",
     "output_type": "stream",
     "text": [
      "252it [00:01, 136.18it/s]\n"
     ]
    },
    {
     "name": "stdout",
     "output_type": "stream",
     "text": [
      "epoch 6, training loss: 2.7306642532348633\n"
     ]
    },
    {
     "name": "stderr",
     "output_type": "stream",
     "text": [
      "252it [00:01, 134.82it/s]\n"
     ]
    },
    {
     "name": "stdout",
     "output_type": "stream",
     "text": [
      "epoch 7, training loss: 2.719045877456665\n"
     ]
    },
    {
     "name": "stderr",
     "output_type": "stream",
     "text": [
      "252it [00:01, 134.91it/s]\n"
     ]
    },
    {
     "name": "stdout",
     "output_type": "stream",
     "text": [
      "epoch 8, training loss: 2.713409900665283\n"
     ]
    },
    {
     "name": "stderr",
     "output_type": "stream",
     "text": [
      "252it [00:01, 135.16it/s]\n"
     ]
    },
    {
     "name": "stdout",
     "output_type": "stream",
     "text": [
      "epoch 9, training loss: 2.6996004581451416\n"
     ]
    },
    {
     "name": "stderr",
     "output_type": "stream",
     "text": [
      "252it [00:01, 135.09it/s]\n"
     ]
    },
    {
     "name": "stdout",
     "output_type": "stream",
     "text": [
      "epoch 10, training loss: 2.685776472091675\n"
     ]
    },
    {
     "name": "stderr",
     "output_type": "stream",
     "text": [
      "100%|██████████| 28/28 [00:00<00:00, 375.05it/s]\n",
      "100%|██████████| 252/252 [00:00<00:00, 377.28it/s]\n"
     ]
    },
    {
     "name": "stdout",
     "output_type": "stream",
     "text": [
      "training loss: 2.666370153427124, train accuracy: 0.7351909889223323\n",
      "validation loss: 2.772853136062622, validation accuracy: 0.7301675977653631\n"
     ]
    },
    {
     "name": "stderr",
     "output_type": "stream",
     "text": [
      "252it [00:01, 134.94it/s]\n"
     ]
    },
    {
     "name": "stdout",
     "output_type": "stream",
     "text": [
      "epoch 11, training loss: 2.686736822128296\n"
     ]
    },
    {
     "name": "stderr",
     "output_type": "stream",
     "text": [
      "252it [00:01, 135.12it/s]\n"
     ]
    },
    {
     "name": "stdout",
     "output_type": "stream",
     "text": [
      "epoch 12, training loss: 2.675537586212158\n"
     ]
    },
    {
     "name": "stderr",
     "output_type": "stream",
     "text": [
      "252it [00:01, 134.72it/s]\n"
     ]
    },
    {
     "name": "stdout",
     "output_type": "stream",
     "text": [
      "epoch 13, training loss: 2.6618990898132324\n"
     ]
    },
    {
     "name": "stderr",
     "output_type": "stream",
     "text": [
      "252it [00:01, 135.09it/s]\n"
     ]
    },
    {
     "name": "stdout",
     "output_type": "stream",
     "text": [
      "epoch 14, training loss: 2.649712085723877\n"
     ]
    },
    {
     "name": "stderr",
     "output_type": "stream",
     "text": [
      "252it [00:01, 135.19it/s]\n"
     ]
    },
    {
     "name": "stdout",
     "output_type": "stream",
     "text": [
      "epoch 15, training loss: 2.634047746658325\n"
     ]
    },
    {
     "name": "stderr",
     "output_type": "stream",
     "text": [
      "100%|██████████| 28/28 [00:00<00:00, 375.02it/s]\n",
      "100%|██████████| 252/252 [00:00<00:00, 376.43it/s]\n"
     ]
    },
    {
     "name": "stdout",
     "output_type": "stream",
     "text": [
      "training loss: 2.601163148880005, train accuracy: 0.7418934433859807\n",
      "validation loss: 2.8473947048187256, validation accuracy: 0.7268156424581006\n"
     ]
    },
    {
     "name": "stderr",
     "output_type": "stream",
     "text": [
      "252it [00:01, 135.05it/s]\n"
     ]
    },
    {
     "name": "stdout",
     "output_type": "stream",
     "text": [
      "epoch 16, training loss: 2.614593029022217\n"
     ]
    },
    {
     "name": "stderr",
     "output_type": "stream",
     "text": [
      "252it [00:01, 135.14it/s]\n"
     ]
    },
    {
     "name": "stdout",
     "output_type": "stream",
     "text": [
      "epoch 17, training loss: 2.5988526344299316\n"
     ]
    },
    {
     "name": "stderr",
     "output_type": "stream",
     "text": [
      "252it [00:01, 134.80it/s]\n"
     ]
    },
    {
     "name": "stdout",
     "output_type": "stream",
     "text": [
      "epoch 18, training loss: 2.577683687210083\n"
     ]
    },
    {
     "name": "stderr",
     "output_type": "stream",
     "text": [
      "252it [00:01, 135.01it/s]\n"
     ]
    },
    {
     "name": "stdout",
     "output_type": "stream",
     "text": [
      "epoch 19, training loss: 2.558624267578125\n"
     ]
    },
    {
     "name": "stderr",
     "output_type": "stream",
     "text": [
      "252it [00:01, 134.99it/s]\n"
     ]
    },
    {
     "name": "stdout",
     "output_type": "stream",
     "text": [
      "epoch 20, training loss: 2.530874490737915\n"
     ]
    },
    {
     "name": "stderr",
     "output_type": "stream",
     "text": [
      "100%|██████████| 28/28 [00:00<00:00, 374.25it/s]\n",
      "100%|██████████| 252/252 [00:00<00:00, 376.92it/s]\n"
     ]
    },
    {
     "name": "stdout",
     "output_type": "stream",
     "text": [
      "training loss: 2.4846749305725098, train accuracy: 0.7550811431408446\n",
      "validation loss: 2.963085412979126, validation accuracy: 0.7153631284916201\n"
     ]
    },
    {
     "name": "stderr",
     "output_type": "stream",
     "text": [
      "252it [00:01, 135.07it/s]\n"
     ]
    },
    {
     "name": "stdout",
     "output_type": "stream",
     "text": [
      "epoch 21, training loss: 2.4963481426239014\n"
     ]
    },
    {
     "name": "stderr",
     "output_type": "stream",
     "text": [
      "252it [00:01, 134.91it/s]\n"
     ]
    },
    {
     "name": "stdout",
     "output_type": "stream",
     "text": [
      "epoch 22, training loss: 2.4646859169006348\n"
     ]
    },
    {
     "name": "stderr",
     "output_type": "stream",
     "text": [
      "252it [00:01, 134.94it/s]\n"
     ]
    },
    {
     "name": "stdout",
     "output_type": "stream",
     "text": [
      "epoch 23, training loss: 2.4385995864868164\n"
     ]
    },
    {
     "name": "stderr",
     "output_type": "stream",
     "text": [
      "252it [00:01, 134.63it/s]\n"
     ]
    },
    {
     "name": "stdout",
     "output_type": "stream",
     "text": [
      "epoch 24, training loss: 2.397690534591675\n"
     ]
    },
    {
     "name": "stderr",
     "output_type": "stream",
     "text": [
      "252it [00:01, 135.02it/s]\n"
     ]
    },
    {
     "name": "stdout",
     "output_type": "stream",
     "text": [
      "epoch 25, training loss: 2.362118721008301\n"
     ]
    },
    {
     "name": "stderr",
     "output_type": "stream",
     "text": [
      "100%|██████████| 28/28 [00:00<00:00, 375.49it/s]\n",
      "100%|██████████| 252/252 [00:00<00:00, 376.14it/s]\n"
     ]
    },
    {
     "name": "stdout",
     "output_type": "stream",
     "text": [
      "training loss: 2.297171115875244, train accuracy: 0.7733577435069973\n",
      "validation loss: 3.0474350452423096, validation accuracy: 0.7061452513966481\n"
     ]
    },
    {
     "name": "stderr",
     "output_type": "stream",
     "text": [
      "252it [00:01, 136.46it/s]\n"
     ]
    },
    {
     "name": "stdout",
     "output_type": "stream",
     "text": [
      "epoch 26, training loss: 2.316427230834961\n"
     ]
    },
    {
     "name": "stderr",
     "output_type": "stream",
     "text": [
      "252it [00:01, 136.56it/s]\n"
     ]
    },
    {
     "name": "stdout",
     "output_type": "stream",
     "text": [
      "epoch 27, training loss: 2.279203414916992\n"
     ]
    },
    {
     "name": "stderr",
     "output_type": "stream",
     "text": [
      "252it [00:01, 136.67it/s]\n"
     ]
    },
    {
     "name": "stdout",
     "output_type": "stream",
     "text": [
      "epoch 28, training loss: 2.2479872703552246\n"
     ]
    },
    {
     "name": "stderr",
     "output_type": "stream",
     "text": [
      "252it [00:01, 136.03it/s]\n"
     ]
    },
    {
     "name": "stdout",
     "output_type": "stream",
     "text": [
      "epoch 29, training loss: 2.2054443359375\n"
     ]
    },
    {
     "name": "stderr",
     "output_type": "stream",
     "text": [
      "252it [00:01, 136.47it/s]\n"
     ]
    },
    {
     "name": "stdout",
     "output_type": "stream",
     "text": [
      "epoch 30, training loss: 2.1615190505981445\n"
     ]
    },
    {
     "name": "stderr",
     "output_type": "stream",
     "text": [
      "100%|██████████| 28/28 [00:00<00:00, 381.91it/s]\n",
      "100%|██████████| 252/252 [00:00<00:00, 384.53it/s]\n"
     ]
    },
    {
     "name": "stdout",
     "output_type": "stream",
     "text": [
      "training loss: 2.08593487739563, train accuracy: 0.7948924814596456\n",
      "validation loss: 3.2467093467712402, validation accuracy: 0.6918994413407821\n"
     ]
    },
    {
     "name": "stderr",
     "output_type": "stream",
     "text": [
      "252it [00:01, 136.51it/s]\n"
     ]
    },
    {
     "name": "stdout",
     "output_type": "stream",
     "text": [
      "epoch 31, training loss: 2.1236064434051514\n"
     ]
    },
    {
     "name": "stderr",
     "output_type": "stream",
     "text": [
      "252it [00:01, 136.56it/s]\n"
     ]
    },
    {
     "name": "stdout",
     "output_type": "stream",
     "text": [
      "epoch 32, training loss: 2.0851666927337646\n"
     ]
    },
    {
     "name": "stderr",
     "output_type": "stream",
     "text": [
      "252it [00:01, 136.43it/s]\n"
     ]
    },
    {
     "name": "stdout",
     "output_type": "stream",
     "text": [
      "epoch 33, training loss: 2.054464101791382\n"
     ]
    },
    {
     "name": "stderr",
     "output_type": "stream",
     "text": [
      "252it [00:01, 136.21it/s]\n"
     ]
    },
    {
     "name": "stdout",
     "output_type": "stream",
     "text": [
      "epoch 34, training loss: 2.0079824924468994\n"
     ]
    },
    {
     "name": "stderr",
     "output_type": "stream",
     "text": [
      "252it [00:01, 136.05it/s]\n"
     ]
    },
    {
     "name": "stdout",
     "output_type": "stream",
     "text": [
      "epoch 35, training loss: 1.9778379201889038\n"
     ]
    },
    {
     "name": "stderr",
     "output_type": "stream",
     "text": [
      "100%|██████████| 28/28 [00:00<00:00, 383.25it/s]\n",
      "100%|██████████| 252/252 [00:00<00:00, 383.35it/s]\n"
     ]
    },
    {
     "name": "stdout",
     "output_type": "stream",
     "text": [
      "training loss: 1.9246251583099365, train accuracy: 0.8134793806435597\n",
      "validation loss: 3.477813482284546, validation accuracy: 0.6701117318435754\n"
     ]
    },
    {
     "name": "stderr",
     "output_type": "stream",
     "text": [
      "252it [00:01, 136.45it/s]\n"
     ]
    },
    {
     "name": "stdout",
     "output_type": "stream",
     "text": [
      "epoch 36, training loss: 1.946028470993042\n"
     ]
    },
    {
     "name": "stderr",
     "output_type": "stream",
     "text": [
      "252it [00:01, 136.51it/s]\n"
     ]
    },
    {
     "name": "stdout",
     "output_type": "stream",
     "text": [
      "epoch 37, training loss: 1.9034065008163452\n"
     ]
    },
    {
     "name": "stderr",
     "output_type": "stream",
     "text": [
      "252it [00:01, 136.39it/s]\n"
     ]
    },
    {
     "name": "stdout",
     "output_type": "stream",
     "text": [
      "epoch 38, training loss: 1.8755004405975342\n"
     ]
    },
    {
     "name": "stderr",
     "output_type": "stream",
     "text": [
      "252it [00:01, 136.60it/s]\n"
     ]
    },
    {
     "name": "stdout",
     "output_type": "stream",
     "text": [
      "epoch 39, training loss: 1.8441944122314453\n"
     ]
    },
    {
     "name": "stderr",
     "output_type": "stream",
     "text": [
      "252it [00:01, 135.93it/s]\n"
     ]
    },
    {
     "name": "stdout",
     "output_type": "stream",
     "text": [
      "epoch 40, training loss: 1.8172394037246704\n"
     ]
    },
    {
     "name": "stderr",
     "output_type": "stream",
     "text": [
      "100%|██████████| 28/28 [00:00<00:00, 373.45it/s]\n",
      "100%|██████████| 252/252 [00:00<00:00, 375.81it/s]\n"
     ]
    },
    {
     "name": "stdout",
     "output_type": "stream",
     "text": [
      "training loss: 1.746371865272522, train accuracy: 0.8302665466844571\n",
      "validation loss: 3.536785364151001, validation accuracy: 0.6625698324022347\n"
     ]
    },
    {
     "name": "stderr",
     "output_type": "stream",
     "text": [
      "252it [00:01, 134.90it/s]\n"
     ]
    },
    {
     "name": "stdout",
     "output_type": "stream",
     "text": [
      "epoch 41, training loss: 1.7783583402633667\n"
     ]
    },
    {
     "name": "stderr",
     "output_type": "stream",
     "text": [
      "252it [00:01, 134.97it/s]\n"
     ]
    },
    {
     "name": "stdout",
     "output_type": "stream",
     "text": [
      "epoch 42, training loss: 1.7623802423477173\n"
     ]
    },
    {
     "name": "stderr",
     "output_type": "stream",
     "text": [
      "252it [00:01, 136.40it/s]\n"
     ]
    },
    {
     "name": "stdout",
     "output_type": "stream",
     "text": [
      "epoch 43, training loss: 1.7241945266723633\n"
     ]
    },
    {
     "name": "stderr",
     "output_type": "stream",
     "text": [
      "252it [00:01, 136.42it/s]\n"
     ]
    },
    {
     "name": "stdout",
     "output_type": "stream",
     "text": [
      "epoch 44, training loss: 1.6995749473571777\n"
     ]
    },
    {
     "name": "stderr",
     "output_type": "stream",
     "text": [
      "252it [00:01, 136.38it/s]\n"
     ]
    },
    {
     "name": "stdout",
     "output_type": "stream",
     "text": [
      "epoch 45, training loss: 1.6871320009231567\n"
     ]
    },
    {
     "name": "stderr",
     "output_type": "stream",
     "text": [
      "100%|██████████| 28/28 [00:00<00:00, 381.51it/s]\n",
      "100%|██████████| 252/252 [00:00<00:00, 383.12it/s]\n"
     ]
    },
    {
     "name": "stdout",
     "output_type": "stream",
     "text": [
      "training loss: 1.6408071517944336, train accuracy: 0.8413442144785428\n",
      "validation loss: 3.6553053855895996, validation accuracy: 0.6511173184357542\n"
     ]
    },
    {
     "name": "stderr",
     "output_type": "stream",
     "text": [
      "252it [00:01, 136.40it/s]\n"
     ]
    },
    {
     "name": "stdout",
     "output_type": "stream",
     "text": [
      "epoch 46, training loss: 1.6758110523223877\n"
     ]
    },
    {
     "name": "stderr",
     "output_type": "stream",
     "text": [
      "252it [00:01, 136.53it/s]\n"
     ]
    },
    {
     "name": "stdout",
     "output_type": "stream",
     "text": [
      "epoch 47, training loss: 1.6444145441055298\n"
     ]
    },
    {
     "name": "stderr",
     "output_type": "stream",
     "text": [
      "252it [00:01, 136.44it/s]\n"
     ]
    },
    {
     "name": "stdout",
     "output_type": "stream",
     "text": [
      "epoch 48, training loss: 1.615673542022705\n"
     ]
    },
    {
     "name": "stderr",
     "output_type": "stream",
     "text": [
      "252it [00:01, 136.48it/s]\n"
     ]
    },
    {
     "name": "stdout",
     "output_type": "stream",
     "text": [
      "epoch 49, training loss: 1.6055912971496582\n"
     ]
    },
    {
     "name": "stderr",
     "output_type": "stream",
     "text": [
      "252it [00:01, 135.76it/s]\n"
     ]
    },
    {
     "name": "stdout",
     "output_type": "stream",
     "text": [
      "epoch 50, training loss: 1.5834097862243652\n"
     ]
    },
    {
     "name": "stderr",
     "output_type": "stream",
     "text": [
      "100%|██████████| 28/28 [00:00<00:00, 375.82it/s]\n",
      "100%|██████████| 252/252 [00:00<00:00, 375.98it/s]\n"
     ]
    },
    {
     "name": "stdout",
     "output_type": "stream",
     "text": [
      "training loss: 1.539562702178955, train accuracy: 0.8501256710211934\n",
      "validation loss: 3.6045801639556885, validation accuracy: 0.6564245810055865\n"
     ]
    },
    {
     "name": "stderr",
     "output_type": "stream",
     "text": [
      "252it [00:01, 135.14it/s]\n"
     ]
    },
    {
     "name": "stdout",
     "output_type": "stream",
     "text": [
      "epoch 51, training loss: 1.5738251209259033\n"
     ]
    },
    {
     "name": "stderr",
     "output_type": "stream",
     "text": [
      "252it [00:01, 135.47it/s]\n"
     ]
    },
    {
     "name": "stdout",
     "output_type": "stream",
     "text": [
      "epoch 52, training loss: 1.5639970302581787\n"
     ]
    },
    {
     "name": "stderr",
     "output_type": "stream",
     "text": [
      "252it [00:01, 135.36it/s]\n"
     ]
    },
    {
     "name": "stdout",
     "output_type": "stream",
     "text": [
      "epoch 53, training loss: 1.5550909042358398\n"
     ]
    },
    {
     "name": "stderr",
     "output_type": "stream",
     "text": [
      "252it [00:01, 135.37it/s]\n"
     ]
    },
    {
     "name": "stdout",
     "output_type": "stream",
     "text": [
      "epoch 54, training loss: 1.5380566120147705\n"
     ]
    },
    {
     "name": "stderr",
     "output_type": "stream",
     "text": [
      "252it [00:01, 135.42it/s]\n"
     ]
    },
    {
     "name": "stdout",
     "output_type": "stream",
     "text": [
      "epoch 55, training loss: 1.5306633710861206\n"
     ]
    },
    {
     "name": "stderr",
     "output_type": "stream",
     "text": [
      "100%|██████████| 28/28 [00:00<00:00, 376.35it/s]\n",
      "100%|██████████| 252/252 [00:00<00:00, 379.77it/s]\n"
     ]
    },
    {
     "name": "stdout",
     "output_type": "stream",
     "text": [
      "training loss: 1.4918080568313599, train accuracy: 0.8554938405684674\n",
      "validation loss: 3.734170436859131, validation accuracy: 0.6446927374301676\n"
     ]
    },
    {
     "name": "stderr",
     "output_type": "stream",
     "text": [
      "252it [00:01, 134.97it/s]\n"
     ]
    },
    {
     "name": "stdout",
     "output_type": "stream",
     "text": [
      "epoch 56, training loss: 1.5332263708114624\n"
     ]
    },
    {
     "name": "stderr",
     "output_type": "stream",
     "text": [
      "252it [00:01, 135.48it/s]\n"
     ]
    },
    {
     "name": "stdout",
     "output_type": "stream",
     "text": [
      "epoch 57, training loss: 1.5056650638580322\n"
     ]
    },
    {
     "name": "stderr",
     "output_type": "stream",
     "text": [
      "252it [00:01, 135.39it/s]\n"
     ]
    },
    {
     "name": "stdout",
     "output_type": "stream",
     "text": [
      "epoch 58, training loss: 1.4983776807785034\n"
     ]
    },
    {
     "name": "stderr",
     "output_type": "stream",
     "text": [
      "252it [00:01, 135.30it/s]\n"
     ]
    },
    {
     "name": "stdout",
     "output_type": "stream",
     "text": [
      "epoch 59, training loss: 1.487294316291809\n"
     ]
    },
    {
     "name": "stderr",
     "output_type": "stream",
     "text": [
      "252it [00:01, 135.32it/s]\n"
     ]
    },
    {
     "name": "stdout",
     "output_type": "stream",
     "text": [
      "epoch 60, training loss: 1.4737069606781006\n"
     ]
    },
    {
     "name": "stderr",
     "output_type": "stream",
     "text": [
      "100%|██████████| 28/28 [00:00<00:00, 377.95it/s]\n",
      "100%|██████████| 252/252 [00:00<00:00, 379.02it/s]\n"
     ]
    },
    {
     "name": "stdout",
     "output_type": "stream",
     "text": [
      "training loss: 1.4205418825149536, train accuracy: 0.860986129642846\n",
      "validation loss: 3.6960318088531494, validation accuracy: 0.646927374301676\n"
     ]
    },
    {
     "name": "stderr",
     "output_type": "stream",
     "text": [
      "252it [00:01, 134.96it/s]\n"
     ]
    },
    {
     "name": "stdout",
     "output_type": "stream",
     "text": [
      "epoch 61, training loss: 1.4689339399337769\n"
     ]
    },
    {
     "name": "stderr",
     "output_type": "stream",
     "text": [
      "252it [00:01, 135.42it/s]\n"
     ]
    },
    {
     "name": "stdout",
     "output_type": "stream",
     "text": [
      "epoch 62, training loss: 1.4709094762802124\n"
     ]
    },
    {
     "name": "stderr",
     "output_type": "stream",
     "text": [
      "252it [00:01, 135.47it/s]\n"
     ]
    },
    {
     "name": "stdout",
     "output_type": "stream",
     "text": [
      "epoch 63, training loss: 1.4556758403778076\n"
     ]
    },
    {
     "name": "stderr",
     "output_type": "stream",
     "text": [
      "252it [00:01, 135.48it/s]\n"
     ]
    },
    {
     "name": "stdout",
     "output_type": "stream",
     "text": [
      "epoch 64, training loss: 1.4381682872772217\n"
     ]
    },
    {
     "name": "stderr",
     "output_type": "stream",
     "text": [
      "252it [00:01, 135.20it/s]\n"
     ]
    },
    {
     "name": "stdout",
     "output_type": "stream",
     "text": [
      "epoch 65, training loss: 1.4457075595855713\n"
     ]
    },
    {
     "name": "stderr",
     "output_type": "stream",
     "text": [
      "100%|██████████| 28/28 [00:00<00:00, 377.03it/s]\n",
      "100%|██████████| 252/252 [00:00<00:00, 378.46it/s]\n"
     ]
    },
    {
     "name": "stdout",
     "output_type": "stream",
     "text": [
      "training loss: 1.4155149459838867, train accuracy: 0.8633444006578335\n",
      "validation loss: 3.784182071685791, validation accuracy: 0.6410614525139665\n"
     ]
    },
    {
     "name": "stderr",
     "output_type": "stream",
     "text": [
      "252it [00:01, 135.05it/s]\n"
     ]
    },
    {
     "name": "stdout",
     "output_type": "stream",
     "text": [
      "epoch 66, training loss: 1.4528577327728271\n"
     ]
    },
    {
     "name": "stderr",
     "output_type": "stream",
     "text": [
      "252it [00:01, 135.14it/s]\n"
     ]
    },
    {
     "name": "stdout",
     "output_type": "stream",
     "text": [
      "epoch 67, training loss: 1.4374631643295288\n"
     ]
    },
    {
     "name": "stderr",
     "output_type": "stream",
     "text": [
      "252it [00:01, 135.25it/s]\n"
     ]
    },
    {
     "name": "stdout",
     "output_type": "stream",
     "text": [
      "epoch 68, training loss: 1.4145557880401611\n"
     ]
    },
    {
     "name": "stderr",
     "output_type": "stream",
     "text": [
      "252it [00:01, 135.23it/s]\n"
     ]
    },
    {
     "name": "stdout",
     "output_type": "stream",
     "text": [
      "epoch 69, training loss: 1.4110718965530396\n"
     ]
    },
    {
     "name": "stderr",
     "output_type": "stream",
     "text": [
      "252it [00:01, 135.33it/s]\n"
     ]
    },
    {
     "name": "stdout",
     "output_type": "stream",
     "text": [
      "epoch 70, training loss: 1.4098817110061646\n"
     ]
    },
    {
     "name": "stderr",
     "output_type": "stream",
     "text": [
      "100%|██████████| 28/28 [00:00<00:00, 376.75it/s]\n",
      "100%|██████████| 252/252 [00:00<00:00, 378.18it/s]\n"
     ]
    },
    {
     "name": "stdout",
     "output_type": "stream",
     "text": [
      "training loss: 1.372839093208313, train accuracy: 0.8663232693083439\n",
      "validation loss: 3.72239351272583, validation accuracy: 0.6430167597765363\n"
     ]
    },
    {
     "name": "stderr",
     "output_type": "stream",
     "text": [
      "252it [00:01, 135.00it/s]\n"
     ]
    },
    {
     "name": "stdout",
     "output_type": "stream",
     "text": [
      "epoch 71, training loss: 1.4250714778900146\n"
     ]
    },
    {
     "name": "stderr",
     "output_type": "stream",
     "text": [
      "252it [00:01, 135.28it/s]\n"
     ]
    },
    {
     "name": "stdout",
     "output_type": "stream",
     "text": [
      "epoch 72, training loss: 1.4087125062942505\n"
     ]
    },
    {
     "name": "stderr",
     "output_type": "stream",
     "text": [
      "252it [00:01, 135.39it/s]\n"
     ]
    },
    {
     "name": "stdout",
     "output_type": "stream",
     "text": [
      "epoch 73, training loss: 1.4022035598754883\n"
     ]
    },
    {
     "name": "stderr",
     "output_type": "stream",
     "text": [
      "252it [00:01, 135.34it/s]\n"
     ]
    },
    {
     "name": "stdout",
     "output_type": "stream",
     "text": [
      "epoch 74, training loss: 1.3972620964050293\n"
     ]
    },
    {
     "name": "stderr",
     "output_type": "stream",
     "text": [
      "252it [00:01, 135.29it/s]\n"
     ]
    },
    {
     "name": "stdout",
     "output_type": "stream",
     "text": [
      "epoch 75, training loss: 1.3936876058578491\n"
     ]
    },
    {
     "name": "stderr",
     "output_type": "stream",
     "text": [
      "100%|██████████| 28/28 [00:00<00:00, 377.59it/s]\n",
      "100%|██████████| 252/252 [00:00<00:00, 378.72it/s]\n"
     ]
    },
    {
     "name": "stdout",
     "output_type": "stream",
     "text": [
      "training loss: 1.3549538850784302, train accuracy: 0.867781673751823\n",
      "validation loss: 3.7878355979919434, validation accuracy: 0.638268156424581\n"
     ]
    },
    {
     "name": "stderr",
     "output_type": "stream",
     "text": [
      "252it [00:01, 135.02it/s]\n"
     ]
    },
    {
     "name": "stdout",
     "output_type": "stream",
     "text": [
      "epoch 76, training loss: 1.395644187927246\n"
     ]
    },
    {
     "name": "stderr",
     "output_type": "stream",
     "text": [
      "252it [00:01, 135.33it/s]\n"
     ]
    },
    {
     "name": "stdout",
     "output_type": "stream",
     "text": [
      "epoch 77, training loss: 1.3902456760406494\n"
     ]
    },
    {
     "name": "stderr",
     "output_type": "stream",
     "text": [
      "252it [00:01, 135.29it/s]\n"
     ]
    },
    {
     "name": "stdout",
     "output_type": "stream",
     "text": [
      "epoch 78, training loss: 1.3895732164382935\n"
     ]
    },
    {
     "name": "stderr",
     "output_type": "stream",
     "text": [
      "252it [00:01, 135.33it/s]\n"
     ]
    },
    {
     "name": "stdout",
     "output_type": "stream",
     "text": [
      "epoch 79, training loss: 1.3825937509536743\n"
     ]
    },
    {
     "name": "stderr",
     "output_type": "stream",
     "text": [
      "252it [00:01, 135.37it/s]\n"
     ]
    },
    {
     "name": "stdout",
     "output_type": "stream",
     "text": [
      "epoch 80, training loss: 1.3782199621200562\n"
     ]
    },
    {
     "name": "stderr",
     "output_type": "stream",
     "text": [
      "100%|██████████| 28/28 [00:00<00:00, 378.07it/s]\n",
      "100%|██████████| 252/252 [00:00<00:00, 378.70it/s]\n"
     ]
    },
    {
     "name": "stdout",
     "output_type": "stream",
     "text": [
      "training loss: 1.3332267999649048, train accuracy: 0.8690538989046451\n",
      "validation loss: 3.8237290382385254, validation accuracy: 0.6363128491620111\n"
     ]
    },
    {
     "name": "stderr",
     "output_type": "stream",
     "text": [
      "252it [00:01, 135.22it/s]\n"
     ]
    },
    {
     "name": "stdout",
     "output_type": "stream",
     "text": [
      "epoch 81, training loss: 1.3787047863006592\n"
     ]
    },
    {
     "name": "stderr",
     "output_type": "stream",
     "text": [
      "252it [00:01, 135.17it/s]\n"
     ]
    },
    {
     "name": "stdout",
     "output_type": "stream",
     "text": [
      "epoch 82, training loss: 1.3762083053588867\n"
     ]
    },
    {
     "name": "stderr",
     "output_type": "stream",
     "text": [
      "252it [00:01, 135.47it/s]\n"
     ]
    },
    {
     "name": "stdout",
     "output_type": "stream",
     "text": [
      "epoch 83, training loss: 1.366167664527893\n"
     ]
    },
    {
     "name": "stderr",
     "output_type": "stream",
     "text": [
      "252it [00:01, 135.30it/s]\n"
     ]
    },
    {
     "name": "stdout",
     "output_type": "stream",
     "text": [
      "epoch 84, training loss: 1.3649338483810425\n"
     ]
    },
    {
     "name": "stderr",
     "output_type": "stream",
     "text": [
      "252it [00:01, 135.46it/s]\n"
     ]
    },
    {
     "name": "stdout",
     "output_type": "stream",
     "text": [
      "epoch 85, training loss: 1.3648422956466675\n"
     ]
    },
    {
     "name": "stderr",
     "output_type": "stream",
     "text": [
      "100%|██████████| 28/28 [00:00<00:00, 376.72it/s]\n",
      "100%|██████████| 252/252 [00:00<00:00, 378.01it/s]\n"
     ]
    },
    {
     "name": "stdout",
     "output_type": "stream",
     "text": [
      "training loss: 1.3315367698669434, train accuracy: 0.8697365563037205\n",
      "validation loss: 3.8392598628997803, validation accuracy: 0.6368715083798883\n"
     ]
    },
    {
     "name": "stderr",
     "output_type": "stream",
     "text": [
      "252it [00:01, 135.23it/s]\n"
     ]
    },
    {
     "name": "stdout",
     "output_type": "stream",
     "text": [
      "epoch 86, training loss: 1.365753173828125\n"
     ]
    },
    {
     "name": "stderr",
     "output_type": "stream",
     "text": [
      "252it [00:01, 134.95it/s]\n"
     ]
    },
    {
     "name": "stdout",
     "output_type": "stream",
     "text": [
      "epoch 87, training loss: 1.3612903356552124\n"
     ]
    },
    {
     "name": "stderr",
     "output_type": "stream",
     "text": [
      "252it [00:01, 135.36it/s]\n"
     ]
    },
    {
     "name": "stdout",
     "output_type": "stream",
     "text": [
      "epoch 88, training loss: 1.3635824918746948\n"
     ]
    },
    {
     "name": "stderr",
     "output_type": "stream",
     "text": [
      "252it [00:01, 135.32it/s]\n"
     ]
    },
    {
     "name": "stdout",
     "output_type": "stream",
     "text": [
      "epoch 89, training loss: 1.3604440689086914\n"
     ]
    },
    {
     "name": "stderr",
     "output_type": "stream",
     "text": [
      "252it [00:01, 135.35it/s]\n"
     ]
    },
    {
     "name": "stdout",
     "output_type": "stream",
     "text": [
      "epoch 90, training loss: 1.3591325283050537\n"
     ]
    },
    {
     "name": "stderr",
     "output_type": "stream",
     "text": [
      "100%|██████████| 28/28 [00:00<00:00, 378.42it/s]\n",
      "100%|██████████| 252/252 [00:00<00:00, 378.02it/s]\n"
     ]
    },
    {
     "name": "stdout",
     "output_type": "stream",
     "text": [
      "training loss: 1.3144792318344116, train accuracy: 0.8704502435845719\n",
      "validation loss: 3.7710607051849365, validation accuracy: 0.6391061452513966\n"
     ]
    },
    {
     "name": "stderr",
     "output_type": "stream",
     "text": [
      "252it [00:01, 135.37it/s]\n"
     ]
    },
    {
     "name": "stdout",
     "output_type": "stream",
     "text": [
      "epoch 91, training loss: 1.3584967851638794\n"
     ]
    },
    {
     "name": "stderr",
     "output_type": "stream",
     "text": [
      "252it [00:01, 135.09it/s]\n"
     ]
    },
    {
     "name": "stdout",
     "output_type": "stream",
     "text": [
      "epoch 92, training loss: 1.3496277332305908\n"
     ]
    },
    {
     "name": "stderr",
     "output_type": "stream",
     "text": [
      "252it [00:01, 135.48it/s]\n"
     ]
    },
    {
     "name": "stdout",
     "output_type": "stream",
     "text": [
      "epoch 93, training loss: 1.3502488136291504\n"
     ]
    },
    {
     "name": "stderr",
     "output_type": "stream",
     "text": [
      "252it [00:01, 135.47it/s]\n"
     ]
    },
    {
     "name": "stdout",
     "output_type": "stream",
     "text": [
      "epoch 94, training loss: 1.3619861602783203\n"
     ]
    },
    {
     "name": "stderr",
     "output_type": "stream",
     "text": [
      "252it [00:01, 135.24it/s]\n"
     ]
    },
    {
     "name": "stdout",
     "output_type": "stream",
     "text": [
      "epoch 95, training loss: 1.3496755361557007\n"
     ]
    },
    {
     "name": "stderr",
     "output_type": "stream",
     "text": [
      "100%|██████████| 28/28 [00:00<00:00, 377.08it/s]\n",
      "100%|██████████| 252/252 [00:00<00:00, 378.35it/s]\n"
     ]
    },
    {
     "name": "stdout",
     "output_type": "stream",
     "text": [
      "training loss: 1.310606598854065, train accuracy: 0.8707915722841096\n",
      "validation loss: 3.744875192642212, validation accuracy: 0.6438547486033519\n"
     ]
    },
    {
     "name": "stderr",
     "output_type": "stream",
     "text": [
      "252it [00:01, 135.29it/s]\n"
     ]
    },
    {
     "name": "stdout",
     "output_type": "stream",
     "text": [
      "epoch 96, training loss: 1.3453845977783203\n"
     ]
    },
    {
     "name": "stderr",
     "output_type": "stream",
     "text": [
      "252it [00:01, 134.99it/s]\n"
     ]
    },
    {
     "name": "stdout",
     "output_type": "stream",
     "text": [
      "epoch 97, training loss: 1.3414626121520996\n"
     ]
    },
    {
     "name": "stderr",
     "output_type": "stream",
     "text": [
      "252it [00:01, 135.32it/s]\n"
     ]
    },
    {
     "name": "stdout",
     "output_type": "stream",
     "text": [
      "epoch 98, training loss: 1.3423621654510498\n"
     ]
    },
    {
     "name": "stderr",
     "output_type": "stream",
     "text": [
      "252it [00:01, 135.32it/s]\n"
     ]
    },
    {
     "name": "stdout",
     "output_type": "stream",
     "text": [
      "epoch 99, training loss: 1.3371899127960205\n"
     ]
    },
    {
     "name": "stderr",
     "output_type": "stream",
     "text": [
      "252it [00:01, 135.24it/s]\n"
     ]
    },
    {
     "name": "stdout",
     "output_type": "stream",
     "text": [
      "epoch 100, training loss: 1.3403204679489136\n"
     ]
    },
    {
     "name": "stderr",
     "output_type": "stream",
     "text": [
      "100%|██████████| 28/28 [00:00<00:00, 376.88it/s]\n",
      "100%|██████████| 252/252 [00:00<00:00, 377.93it/s]\n"
     ]
    },
    {
     "name": "stdout",
     "output_type": "stream",
     "text": [
      "training loss: 1.3127496242523193, train accuracy: 0.8706053929934527\n",
      "validation loss: 3.7904434204101562, validation accuracy: 0.6396648044692738\n",
      "2021-11-30 22:16:21.293406: training sce on sce-imb_asym\n"
     ]
    },
    {
     "name": "stderr",
     "output_type": "stream",
     "text": [
      "252it [00:01, 133.35it/s]\n"
     ]
    },
    {
     "name": "stdout",
     "output_type": "stream",
     "text": [
      "epoch 1, training loss: 2.6428050994873047\n"
     ]
    },
    {
     "name": "stderr",
     "output_type": "stream",
     "text": [
      "252it [00:01, 134.97it/s]\n"
     ]
    },
    {
     "name": "stdout",
     "output_type": "stream",
     "text": [
      "epoch 2, training loss: 1.7250932455062866\n"
     ]
    },
    {
     "name": "stderr",
     "output_type": "stream",
     "text": [
      "252it [00:01, 135.38it/s]\n"
     ]
    },
    {
     "name": "stdout",
     "output_type": "stream",
     "text": [
      "epoch 3, training loss: 1.619970679283142\n"
     ]
    },
    {
     "name": "stderr",
     "output_type": "stream",
     "text": [
      "252it [00:01, 135.42it/s]\n"
     ]
    },
    {
     "name": "stdout",
     "output_type": "stream",
     "text": [
      "epoch 4, training loss: 1.568921446800232\n"
     ]
    },
    {
     "name": "stderr",
     "output_type": "stream",
     "text": [
      "252it [00:01, 135.38it/s]\n"
     ]
    },
    {
     "name": "stdout",
     "output_type": "stream",
     "text": [
      "epoch 5, training loss: 1.5496898889541626\n"
     ]
    },
    {
     "name": "stderr",
     "output_type": "stream",
     "text": [
      "100%|██████████| 28/28 [00:00<00:00, 376.27it/s]\n",
      "100%|██████████| 252/252 [00:00<00:00, 378.15it/s]\n"
     ]
    },
    {
     "name": "stdout",
     "output_type": "stream",
     "text": [
      "training loss: 1.5070319175720215, train accuracy: 0.8490396251590282\n",
      "validation loss: 1.4895306825637817, validation accuracy: 0.8541899441340782\n",
      "saving best model: sce-imb_asym-5\n"
     ]
    },
    {
     "name": "stderr",
     "output_type": "stream",
     "text": [
      "252it [00:01, 135.33it/s]\n"
     ]
    },
    {
     "name": "stdout",
     "output_type": "stream",
     "text": [
      "epoch 6, training loss: 1.527885913848877\n"
     ]
    },
    {
     "name": "stderr",
     "output_type": "stream",
     "text": [
      "252it [00:01, 135.23it/s]\n"
     ]
    },
    {
     "name": "stdout",
     "output_type": "stream",
     "text": [
      "epoch 7, training loss: 1.4963390827178955\n"
     ]
    },
    {
     "name": "stderr",
     "output_type": "stream",
     "text": [
      "252it [00:01, 135.24it/s]\n"
     ]
    },
    {
     "name": "stdout",
     "output_type": "stream",
     "text": [
      "epoch 8, training loss: 1.479422688484192\n"
     ]
    },
    {
     "name": "stderr",
     "output_type": "stream",
     "text": [
      "252it [00:01, 135.41it/s]\n"
     ]
    },
    {
     "name": "stdout",
     "output_type": "stream",
     "text": [
      "epoch 9, training loss: 1.4611308574676514\n"
     ]
    },
    {
     "name": "stderr",
     "output_type": "stream",
     "text": [
      "252it [00:01, 135.46it/s]\n"
     ]
    },
    {
     "name": "stdout",
     "output_type": "stream",
     "text": [
      "epoch 10, training loss: 1.4378024339675903\n"
     ]
    },
    {
     "name": "stderr",
     "output_type": "stream",
     "text": [
      "100%|██████████| 28/28 [00:00<00:00, 376.51it/s]\n",
      "100%|██████████| 252/252 [00:00<00:00, 378.50it/s]\n"
     ]
    },
    {
     "name": "stdout",
     "output_type": "stream",
     "text": [
      "training loss: 1.3698195219039917, train accuracy: 0.8623204145592205\n",
      "validation loss: 1.5456202030181885, validation accuracy: 0.8449720670391061\n"
     ]
    },
    {
     "name": "stderr",
     "output_type": "stream",
     "text": [
      "252it [00:01, 135.40it/s]\n"
     ]
    },
    {
     "name": "stdout",
     "output_type": "stream",
     "text": [
      "epoch 11, training loss: 1.4085969924926758\n"
     ]
    },
    {
     "name": "stderr",
     "output_type": "stream",
     "text": [
      "252it [00:01, 135.26it/s]\n"
     ]
    },
    {
     "name": "stdout",
     "output_type": "stream",
     "text": [
      "epoch 12, training loss: 1.3799532651901245\n"
     ]
    },
    {
     "name": "stderr",
     "output_type": "stream",
     "text": [
      "252it [00:01, 135.17it/s]\n"
     ]
    },
    {
     "name": "stdout",
     "output_type": "stream",
     "text": [
      "epoch 13, training loss: 1.3436163663864136\n"
     ]
    },
    {
     "name": "stderr",
     "output_type": "stream",
     "text": [
      "252it [00:01, 135.38it/s]\n"
     ]
    },
    {
     "name": "stdout",
     "output_type": "stream",
     "text": [
      "epoch 14, training loss: 1.2944064140319824\n"
     ]
    },
    {
     "name": "stderr",
     "output_type": "stream",
     "text": [
      "252it [00:01, 135.44it/s]\n"
     ]
    },
    {
     "name": "stdout",
     "output_type": "stream",
     "text": [
      "epoch 15, training loss: 1.2652428150177002\n"
     ]
    },
    {
     "name": "stderr",
     "output_type": "stream",
     "text": [
      "100%|██████████| 28/28 [00:00<00:00, 376.45it/s]\n",
      "100%|██████████| 252/252 [00:00<00:00, 377.41it/s]\n"
     ]
    },
    {
     "name": "stdout",
     "output_type": "stream",
     "text": [
      "training loss: 1.1495468616485596, train accuracy: 0.8872994693890216\n",
      "validation loss: 1.6851129531860352, validation accuracy: 0.8337988826815642\n"
     ]
    },
    {
     "name": "stderr",
     "output_type": "stream",
     "text": [
      "252it [00:01, 135.35it/s]\n"
     ]
    },
    {
     "name": "stdout",
     "output_type": "stream",
     "text": [
      "epoch 16, training loss: 1.2000566720962524\n"
     ]
    },
    {
     "name": "stderr",
     "output_type": "stream",
     "text": [
      "252it [00:01, 135.43it/s]\n"
     ]
    },
    {
     "name": "stdout",
     "output_type": "stream",
     "text": [
      "epoch 17, training loss: 1.1527583599090576\n"
     ]
    },
    {
     "name": "stderr",
     "output_type": "stream",
     "text": [
      "252it [00:01, 134.42it/s]\n"
     ]
    },
    {
     "name": "stdout",
     "output_type": "stream",
     "text": [
      "epoch 18, training loss: 1.1156351566314697\n"
     ]
    },
    {
     "name": "stderr",
     "output_type": "stream",
     "text": [
      "252it [00:01, 135.01it/s]\n"
     ]
    },
    {
     "name": "stdout",
     "output_type": "stream",
     "text": [
      "epoch 19, training loss: 1.0768656730651855\n"
     ]
    },
    {
     "name": "stderr",
     "output_type": "stream",
     "text": [
      "252it [00:01, 134.95it/s]\n"
     ]
    },
    {
     "name": "stdout",
     "output_type": "stream",
     "text": [
      "epoch 20, training loss: 1.0214362144470215\n"
     ]
    },
    {
     "name": "stderr",
     "output_type": "stream",
     "text": [
      "100%|██████████| 28/28 [00:00<00:00, 374.13it/s]\n",
      "100%|██████████| 252/252 [00:00<00:00, 375.57it/s]\n"
     ]
    },
    {
     "name": "stdout",
     "output_type": "stream",
     "text": [
      "training loss: 0.9404342770576477, train accuracy: 0.9066621156173394\n",
      "validation loss: 1.6677964925765991, validation accuracy: 0.8329608938547486\n"
     ]
    },
    {
     "name": "stderr",
     "output_type": "stream",
     "text": [
      "252it [00:01, 134.86it/s]\n"
     ]
    },
    {
     "name": "stdout",
     "output_type": "stream",
     "text": [
      "epoch 21, training loss: 0.980239748954773\n"
     ]
    },
    {
     "name": "stderr",
     "output_type": "stream",
     "text": [
      "252it [00:01, 134.90it/s]\n"
     ]
    },
    {
     "name": "stdout",
     "output_type": "stream",
     "text": [
      "epoch 22, training loss: 0.9665866494178772\n"
     ]
    },
    {
     "name": "stderr",
     "output_type": "stream",
     "text": [
      "252it [00:01, 134.62it/s]\n"
     ]
    },
    {
     "name": "stdout",
     "output_type": "stream",
     "text": [
      "epoch 23, training loss: 0.9212371706962585\n"
     ]
    },
    {
     "name": "stderr",
     "output_type": "stream",
     "text": [
      "252it [00:01, 135.03it/s]\n"
     ]
    },
    {
     "name": "stdout",
     "output_type": "stream",
     "text": [
      "epoch 24, training loss: 0.895612895488739\n"
     ]
    },
    {
     "name": "stderr",
     "output_type": "stream",
     "text": [
      "252it [00:01, 134.96it/s]\n"
     ]
    },
    {
     "name": "stdout",
     "output_type": "stream",
     "text": [
      "epoch 25, training loss: 0.8565899133682251\n"
     ]
    },
    {
     "name": "stderr",
     "output_type": "stream",
     "text": [
      "100%|██████████| 28/28 [00:00<00:00, 375.32it/s]\n",
      "100%|██████████| 252/252 [00:00<00:00, 374.72it/s]\n"
     ]
    },
    {
     "name": "stdout",
     "output_type": "stream",
     "text": [
      "training loss: 0.8019464612007141, train accuracy: 0.9215254289881155\n",
      "validation loss: 1.7885593175888062, validation accuracy: 0.8240223463687151\n"
     ]
    },
    {
     "name": "stderr",
     "output_type": "stream",
     "text": [
      "252it [00:01, 134.90it/s]\n"
     ]
    },
    {
     "name": "stdout",
     "output_type": "stream",
     "text": [
      "epoch 26, training loss: 0.852544367313385\n"
     ]
    },
    {
     "name": "stderr",
     "output_type": "stream",
     "text": [
      "252it [00:01, 134.92it/s]\n"
     ]
    },
    {
     "name": "stdout",
     "output_type": "stream",
     "text": [
      "epoch 27, training loss: 0.836163341999054\n"
     ]
    },
    {
     "name": "stderr",
     "output_type": "stream",
     "text": [
      "252it [00:01, 134.51it/s]\n"
     ]
    },
    {
     "name": "stdout",
     "output_type": "stream",
     "text": [
      "epoch 28, training loss: 0.8304653763771057\n"
     ]
    },
    {
     "name": "stderr",
     "output_type": "stream",
     "text": [
      "252it [00:01, 134.79it/s]\n"
     ]
    },
    {
     "name": "stdout",
     "output_type": "stream",
     "text": [
      "epoch 29, training loss: 0.8066567182540894\n"
     ]
    },
    {
     "name": "stderr",
     "output_type": "stream",
     "text": [
      "252it [00:01, 134.84it/s]\n"
     ]
    },
    {
     "name": "stdout",
     "output_type": "stream",
     "text": [
      "epoch 30, training loss: 0.7926682233810425\n"
     ]
    },
    {
     "name": "stderr",
     "output_type": "stream",
     "text": [
      "100%|██████████| 28/28 [00:00<00:00, 373.46it/s]\n",
      "100%|██████████| 252/252 [00:00<00:00, 374.34it/s]\n"
     ]
    },
    {
     "name": "stdout",
     "output_type": "stream",
     "text": [
      "training loss: 0.743706464767456, train accuracy: 0.9268625686536134\n",
      "validation loss: 1.842872977256775, validation accuracy: 0.8187150837988827\n"
     ]
    },
    {
     "name": "stderr",
     "output_type": "stream",
     "text": [
      "252it [00:01, 134.81it/s]\n"
     ]
    },
    {
     "name": "stdout",
     "output_type": "stream",
     "text": [
      "epoch 31, training loss: 0.7800930738449097\n"
     ]
    },
    {
     "name": "stderr",
     "output_type": "stream",
     "text": [
      "252it [00:01, 134.67it/s]\n"
     ]
    },
    {
     "name": "stdout",
     "output_type": "stream",
     "text": [
      "epoch 32, training loss: 0.7677503228187561\n"
     ]
    },
    {
     "name": "stderr",
     "output_type": "stream",
     "text": [
      "252it [00:01, 134.43it/s]\n"
     ]
    },
    {
     "name": "stdout",
     "output_type": "stream",
     "text": [
      "epoch 33, training loss: 0.7513333559036255\n"
     ]
    },
    {
     "name": "stderr",
     "output_type": "stream",
     "text": [
      "252it [00:01, 134.88it/s]\n"
     ]
    },
    {
     "name": "stdout",
     "output_type": "stream",
     "text": [
      "epoch 34, training loss: 0.7425394058227539\n"
     ]
    },
    {
     "name": "stderr",
     "output_type": "stream",
     "text": [
      "252it [00:01, 134.96it/s]\n"
     ]
    },
    {
     "name": "stdout",
     "output_type": "stream",
     "text": [
      "epoch 35, training loss: 0.7248203754425049\n"
     ]
    },
    {
     "name": "stderr",
     "output_type": "stream",
     "text": [
      "100%|██████████| 28/28 [00:00<00:00, 375.03it/s]\n",
      "100%|██████████| 252/252 [00:00<00:00, 376.28it/s]\n"
     ]
    },
    {
     "name": "stdout",
     "output_type": "stream",
     "text": [
      "training loss: 0.6888290643692017, train accuracy: 0.9321066186737829\n",
      "validation loss: 1.8654299974441528, validation accuracy: 0.8148044692737431\n"
     ]
    },
    {
     "name": "stderr",
     "output_type": "stream",
     "text": [
      "252it [00:01, 134.98it/s]\n"
     ]
    },
    {
     "name": "stdout",
     "output_type": "stream",
     "text": [
      "epoch 36, training loss: 0.7274574637413025\n"
     ]
    },
    {
     "name": "stderr",
     "output_type": "stream",
     "text": [
      "252it [00:01, 134.94it/s]\n"
     ]
    },
    {
     "name": "stdout",
     "output_type": "stream",
     "text": [
      "epoch 37, training loss: 0.7292769551277161\n"
     ]
    },
    {
     "name": "stderr",
     "output_type": "stream",
     "text": [
      "252it [00:01, 134.49it/s]\n"
     ]
    },
    {
     "name": "stdout",
     "output_type": "stream",
     "text": [
      "epoch 38, training loss: 0.7317623496055603\n"
     ]
    },
    {
     "name": "stderr",
     "output_type": "stream",
     "text": [
      "252it [00:01, 134.98it/s]\n"
     ]
    },
    {
     "name": "stdout",
     "output_type": "stream",
     "text": [
      "epoch 39, training loss: 0.717437744140625\n"
     ]
    },
    {
     "name": "stderr",
     "output_type": "stream",
     "text": [
      "252it [00:01, 134.95it/s]\n"
     ]
    },
    {
     "name": "stdout",
     "output_type": "stream",
     "text": [
      "epoch 40, training loss: 0.7173089981079102\n"
     ]
    },
    {
     "name": "stderr",
     "output_type": "stream",
     "text": [
      "100%|██████████| 28/28 [00:00<00:00, 375.68it/s]\n",
      "100%|██████████| 252/252 [00:00<00:00, 376.01it/s]\n"
     ]
    },
    {
     "name": "stdout",
     "output_type": "stream",
     "text": [
      "training loss: 0.6835861206054688, train accuracy: 0.9325720669004252\n",
      "validation loss: 1.885782241821289, validation accuracy: 0.8117318435754189\n"
     ]
    },
    {
     "name": "stderr",
     "output_type": "stream",
     "text": [
      "252it [00:01, 134.87it/s]\n"
     ]
    },
    {
     "name": "stdout",
     "output_type": "stream",
     "text": [
      "epoch 41, training loss: 0.7051477432250977\n"
     ]
    },
    {
     "name": "stderr",
     "output_type": "stream",
     "text": [
      "252it [00:01, 134.76it/s]\n"
     ]
    },
    {
     "name": "stdout",
     "output_type": "stream",
     "text": [
      "epoch 42, training loss: 0.6961225867271423\n"
     ]
    },
    {
     "name": "stderr",
     "output_type": "stream",
     "text": [
      "252it [00:01, 134.57it/s]\n"
     ]
    },
    {
     "name": "stdout",
     "output_type": "stream",
     "text": [
      "epoch 43, training loss: 0.6927983164787292\n"
     ]
    },
    {
     "name": "stderr",
     "output_type": "stream",
     "text": [
      "252it [00:01, 134.91it/s]\n"
     ]
    },
    {
     "name": "stdout",
     "output_type": "stream",
     "text": [
      "epoch 44, training loss: 0.6961371898651123\n"
     ]
    },
    {
     "name": "stderr",
     "output_type": "stream",
     "text": [
      "252it [00:01, 134.78it/s]\n"
     ]
    },
    {
     "name": "stdout",
     "output_type": "stream",
     "text": [
      "epoch 45, training loss: 0.67434161901474\n"
     ]
    },
    {
     "name": "stderr",
     "output_type": "stream",
     "text": [
      "100%|██████████| 28/28 [00:00<00:00, 375.11it/s]\n",
      "100%|██████████| 252/252 [00:00<00:00, 376.31it/s]\n"
     ]
    },
    {
     "name": "stdout",
     "output_type": "stream",
     "text": [
      "training loss: 0.6456717848777771, train accuracy: 0.9359232941322494\n",
      "validation loss: 1.8393018245697021, validation accuracy: 0.8173184357541899\n"
     ]
    },
    {
     "name": "stderr",
     "output_type": "stream",
     "text": [
      "252it [00:01, 134.82it/s]\n"
     ]
    },
    {
     "name": "stdout",
     "output_type": "stream",
     "text": [
      "epoch 46, training loss: 0.6713367104530334\n"
     ]
    },
    {
     "name": "stderr",
     "output_type": "stream",
     "text": [
      "252it [00:01, 134.81it/s]\n"
     ]
    },
    {
     "name": "stdout",
     "output_type": "stream",
     "text": [
      "epoch 47, training loss: 0.6868377327919006\n"
     ]
    },
    {
     "name": "stderr",
     "output_type": "stream",
     "text": [
      "252it [00:01, 134.52it/s]\n"
     ]
    },
    {
     "name": "stdout",
     "output_type": "stream",
     "text": [
      "epoch 48, training loss: 0.6959725022315979\n"
     ]
    },
    {
     "name": "stderr",
     "output_type": "stream",
     "text": [
      "252it [00:01, 135.29it/s]\n"
     ]
    },
    {
     "name": "stdout",
     "output_type": "stream",
     "text": [
      "epoch 49, training loss: 0.6931633949279785\n"
     ]
    },
    {
     "name": "stderr",
     "output_type": "stream",
     "text": [
      "252it [00:01, 135.45it/s]\n"
     ]
    },
    {
     "name": "stdout",
     "output_type": "stream",
     "text": [
      "epoch 50, training loss: 0.693408191204071\n"
     ]
    },
    {
     "name": "stderr",
     "output_type": "stream",
     "text": [
      "100%|██████████| 28/28 [00:00<00:00, 376.21it/s]\n",
      "100%|██████████| 252/252 [00:00<00:00, 378.05it/s]\n"
     ]
    },
    {
     "name": "stdout",
     "output_type": "stream",
     "text": [
      "training loss: 0.6424533724784851, train accuracy: 0.9365438917677724\n",
      "validation loss: 1.9275749921798706, validation accuracy: 0.8086592178770949\n"
     ]
    },
    {
     "name": "stderr",
     "output_type": "stream",
     "text": [
      "252it [00:01, 135.32it/s]\n"
     ]
    },
    {
     "name": "stdout",
     "output_type": "stream",
     "text": [
      "epoch 51, training loss: 0.6749900579452515\n"
     ]
    },
    {
     "name": "stderr",
     "output_type": "stream",
     "text": [
      "252it [00:01, 135.39it/s]\n"
     ]
    },
    {
     "name": "stdout",
     "output_type": "stream",
     "text": [
      "epoch 52, training loss: 0.6723135709762573\n"
     ]
    },
    {
     "name": "stderr",
     "output_type": "stream",
     "text": [
      "252it [00:01, 135.47it/s]\n"
     ]
    },
    {
     "name": "stdout",
     "output_type": "stream",
     "text": [
      "epoch 53, training loss: 0.6674655675888062\n"
     ]
    },
    {
     "name": "stderr",
     "output_type": "stream",
     "text": [
      "252it [00:01, 135.47it/s]\n"
     ]
    },
    {
     "name": "stdout",
     "output_type": "stream",
     "text": [
      "epoch 54, training loss: 0.6577041149139404\n"
     ]
    },
    {
     "name": "stderr",
     "output_type": "stream",
     "text": [
      "252it [00:01, 135.49it/s]\n"
     ]
    },
    {
     "name": "stdout",
     "output_type": "stream",
     "text": [
      "epoch 55, training loss: 0.6511260271072388\n"
     ]
    },
    {
     "name": "stderr",
     "output_type": "stream",
     "text": [
      "100%|██████████| 28/28 [00:00<00:00, 376.67it/s]\n",
      "100%|██████████| 252/252 [00:00<00:00, 378.79it/s]\n"
     ]
    },
    {
     "name": "stdout",
     "output_type": "stream",
     "text": [
      "training loss: 0.6223275065422058, train accuracy: 0.9380333260930276\n",
      "validation loss: 1.8522688150405884, validation accuracy: 0.8131284916201117\n"
     ]
    },
    {
     "name": "stderr",
     "output_type": "stream",
     "text": [
      "252it [00:01, 135.21it/s]\n"
     ]
    },
    {
     "name": "stdout",
     "output_type": "stream",
     "text": [
      "epoch 56, training loss: 0.6480746865272522\n"
     ]
    },
    {
     "name": "stderr",
     "output_type": "stream",
     "text": [
      "252it [00:01, 135.39it/s]\n"
     ]
    },
    {
     "name": "stdout",
     "output_type": "stream",
     "text": [
      "epoch 57, training loss: 0.6580653190612793\n"
     ]
    },
    {
     "name": "stderr",
     "output_type": "stream",
     "text": [
      "252it [00:01, 135.36it/s]\n"
     ]
    },
    {
     "name": "stdout",
     "output_type": "stream",
     "text": [
      "epoch 58, training loss: 0.6640663146972656\n"
     ]
    },
    {
     "name": "stderr",
     "output_type": "stream",
     "text": [
      "252it [00:01, 135.41it/s]\n"
     ]
    },
    {
     "name": "stdout",
     "output_type": "stream",
     "text": [
      "epoch 59, training loss: 0.6609706282615662\n"
     ]
    },
    {
     "name": "stderr",
     "output_type": "stream",
     "text": [
      "252it [00:01, 135.61it/s]\n"
     ]
    },
    {
     "name": "stdout",
     "output_type": "stream",
     "text": [
      "epoch 60, training loss: 0.6540188789367676\n"
     ]
    },
    {
     "name": "stderr",
     "output_type": "stream",
     "text": [
      "100%|██████████| 28/28 [00:00<00:00, 376.19it/s]\n",
      "100%|██████████| 252/252 [00:00<00:00, 377.14it/s]\n"
     ]
    },
    {
     "name": "stdout",
     "output_type": "stream",
     "text": [
      "training loss: 0.6193579435348511, train accuracy: 0.9385918639649983\n",
      "validation loss: 1.934228539466858, validation accuracy: 0.8064245810055866\n"
     ]
    },
    {
     "name": "stderr",
     "output_type": "stream",
     "text": [
      "252it [00:01, 135.49it/s]\n"
     ]
    },
    {
     "name": "stdout",
     "output_type": "stream",
     "text": [
      "epoch 61, training loss: 0.6531281471252441\n"
     ]
    },
    {
     "name": "stderr",
     "output_type": "stream",
     "text": [
      "252it [00:01, 135.56it/s]\n"
     ]
    },
    {
     "name": "stdout",
     "output_type": "stream",
     "text": [
      "epoch 62, training loss: 0.644572913646698\n"
     ]
    },
    {
     "name": "stderr",
     "output_type": "stream",
     "text": [
      "252it [00:01, 136.43it/s]\n"
     ]
    },
    {
     "name": "stdout",
     "output_type": "stream",
     "text": [
      "epoch 63, training loss: 0.6661320328712463\n"
     ]
    },
    {
     "name": "stderr",
     "output_type": "stream",
     "text": [
      "252it [00:01, 135.54it/s]\n"
     ]
    },
    {
     "name": "stdout",
     "output_type": "stream",
     "text": [
      "epoch 64, training loss: 0.6469972133636475\n"
     ]
    },
    {
     "name": "stderr",
     "output_type": "stream",
     "text": [
      "252it [00:01, 135.60it/s]\n"
     ]
    },
    {
     "name": "stdout",
     "output_type": "stream",
     "text": [
      "epoch 65, training loss: 0.6480664610862732\n"
     ]
    },
    {
     "name": "stderr",
     "output_type": "stream",
     "text": [
      "100%|██████████| 28/28 [00:00<00:00, 377.15it/s]\n",
      "100%|██████████| 252/252 [00:00<00:00, 378.79it/s]\n"
     ]
    },
    {
     "name": "stdout",
     "output_type": "stream",
     "text": [
      "training loss: 0.6169400215148926, train accuracy: 0.9388711329009837\n",
      "validation loss: 1.8820836544036865, validation accuracy: 0.8114525139664804\n"
     ]
    },
    {
     "name": "stderr",
     "output_type": "stream",
     "text": [
      "252it [00:01, 135.57it/s]\n"
     ]
    },
    {
     "name": "stdout",
     "output_type": "stream",
     "text": [
      "epoch 66, training loss: 0.6360882520675659\n"
     ]
    },
    {
     "name": "stderr",
     "output_type": "stream",
     "text": [
      "252it [00:01, 135.64it/s]\n"
     ]
    },
    {
     "name": "stdout",
     "output_type": "stream",
     "text": [
      "epoch 67, training loss: 0.6387214660644531\n"
     ]
    },
    {
     "name": "stderr",
     "output_type": "stream",
     "text": [
      "252it [00:01, 135.55it/s]\n"
     ]
    },
    {
     "name": "stdout",
     "output_type": "stream",
     "text": [
      "epoch 68, training loss: 0.6379109621047974\n"
     ]
    },
    {
     "name": "stderr",
     "output_type": "stream",
     "text": [
      "252it [00:01, 135.68it/s]\n"
     ]
    },
    {
     "name": "stdout",
     "output_type": "stream",
     "text": [
      "epoch 69, training loss: 0.635494589805603\n"
     ]
    },
    {
     "name": "stderr",
     "output_type": "stream",
     "text": [
      "252it [00:01, 135.57it/s]\n"
     ]
    },
    {
     "name": "stdout",
     "output_type": "stream",
     "text": [
      "epoch 70, training loss: 0.6368982195854187\n"
     ]
    },
    {
     "name": "stderr",
     "output_type": "stream",
     "text": [
      "100%|██████████| 28/28 [00:00<00:00, 376.24it/s]\n",
      "100%|██████████| 252/252 [00:00<00:00, 378.94it/s]\n"
     ]
    },
    {
     "name": "stdout",
     "output_type": "stream",
     "text": [
      "training loss: 0.6104069948196411, train accuracy: 0.9392434914822975\n",
      "validation loss: 1.9110530614852905, validation accuracy: 0.8100558659217877\n"
     ]
    },
    {
     "name": "stderr",
     "output_type": "stream",
     "text": [
      "252it [00:01, 135.50it/s]\n"
     ]
    },
    {
     "name": "stdout",
     "output_type": "stream",
     "text": [
      "epoch 71, training loss: 0.6242192387580872\n"
     ]
    },
    {
     "name": "stderr",
     "output_type": "stream",
     "text": [
      "252it [00:01, 135.61it/s]\n"
     ]
    },
    {
     "name": "stdout",
     "output_type": "stream",
     "text": [
      "epoch 72, training loss: 0.6338961124420166\n"
     ]
    },
    {
     "name": "stderr",
     "output_type": "stream",
     "text": [
      "252it [00:01, 135.53it/s]\n"
     ]
    },
    {
     "name": "stdout",
     "output_type": "stream",
     "text": [
      "epoch 73, training loss: 0.6372919082641602\n"
     ]
    },
    {
     "name": "stderr",
     "output_type": "stream",
     "text": [
      "252it [00:01, 135.61it/s]\n"
     ]
    },
    {
     "name": "stdout",
     "output_type": "stream",
     "text": [
      "epoch 74, training loss: 0.6506833434104919\n"
     ]
    },
    {
     "name": "stderr",
     "output_type": "stream",
     "text": [
      "252it [00:01, 135.61it/s]\n"
     ]
    },
    {
     "name": "stdout",
     "output_type": "stream",
     "text": [
      "epoch 75, training loss: 0.6371141672134399\n"
     ]
    },
    {
     "name": "stderr",
     "output_type": "stream",
     "text": [
      "100%|██████████| 28/28 [00:00<00:00, 376.52it/s]\n",
      "100%|██████████| 252/252 [00:00<00:00, 379.58it/s]\n"
     ]
    },
    {
     "name": "stdout",
     "output_type": "stream",
     "text": [
      "training loss: 0.6011044979095459, train accuracy: 0.9398330592360443\n",
      "validation loss: 1.9119043350219727, validation accuracy: 0.8089385474860336\n"
     ]
    },
    {
     "name": "stderr",
     "output_type": "stream",
     "text": [
      "252it [00:01, 135.53it/s]\n"
     ]
    },
    {
     "name": "stdout",
     "output_type": "stream",
     "text": [
      "epoch 76, training loss: 0.6285944581031799\n"
     ]
    },
    {
     "name": "stderr",
     "output_type": "stream",
     "text": [
      "252it [00:01, 135.37it/s]\n"
     ]
    },
    {
     "name": "stdout",
     "output_type": "stream",
     "text": [
      "epoch 77, training loss: 0.6276025176048279\n"
     ]
    },
    {
     "name": "stderr",
     "output_type": "stream",
     "text": [
      "252it [00:01, 135.28it/s]\n"
     ]
    },
    {
     "name": "stdout",
     "output_type": "stream",
     "text": [
      "epoch 78, training loss: 0.6235732436180115\n"
     ]
    },
    {
     "name": "stderr",
     "output_type": "stream",
     "text": [
      "252it [00:01, 134.52it/s]\n"
     ]
    },
    {
     "name": "stdout",
     "output_type": "stream",
     "text": [
      "epoch 79, training loss: 0.6368158459663391\n"
     ]
    },
    {
     "name": "stderr",
     "output_type": "stream",
     "text": [
      "252it [00:01, 134.80it/s]\n"
     ]
    },
    {
     "name": "stdout",
     "output_type": "stream",
     "text": [
      "epoch 80, training loss: 0.6470329761505127\n"
     ]
    },
    {
     "name": "stderr",
     "output_type": "stream",
     "text": [
      "100%|██████████| 28/28 [00:00<00:00, 373.95it/s]\n",
      "100%|██████████| 252/252 [00:00<00:00, 374.67it/s]\n"
     ]
    },
    {
     "name": "stdout",
     "output_type": "stream",
     "text": [
      "training loss: 0.6059339046478271, train accuracy: 0.9394917305365067\n",
      "validation loss: 1.9163709878921509, validation accuracy: 0.8106145251396648\n"
     ]
    },
    {
     "name": "stderr",
     "output_type": "stream",
     "text": [
      "252it [00:01, 133.95it/s]\n"
     ]
    },
    {
     "name": "stdout",
     "output_type": "stream",
     "text": [
      "epoch 81, training loss: 0.6237104535102844\n"
     ]
    },
    {
     "name": "stderr",
     "output_type": "stream",
     "text": [
      "252it [00:01, 135.10it/s]\n"
     ]
    },
    {
     "name": "stdout",
     "output_type": "stream",
     "text": [
      "epoch 82, training loss: 0.6203689575195312\n"
     ]
    },
    {
     "name": "stderr",
     "output_type": "stream",
     "text": [
      "252it [00:01, 135.21it/s]\n"
     ]
    },
    {
     "name": "stdout",
     "output_type": "stream",
     "text": [
      "epoch 83, training loss: 0.6184359788894653\n"
     ]
    },
    {
     "name": "stderr",
     "output_type": "stream",
     "text": [
      "252it [00:01, 135.24it/s]\n"
     ]
    },
    {
     "name": "stdout",
     "output_type": "stream",
     "text": [
      "epoch 84, training loss: 0.6226489543914795\n"
     ]
    },
    {
     "name": "stderr",
     "output_type": "stream",
     "text": [
      "252it [00:01, 135.96it/s]\n"
     ]
    },
    {
     "name": "stdout",
     "output_type": "stream",
     "text": [
      "epoch 85, training loss: 0.6254950165748596\n"
     ]
    },
    {
     "name": "stderr",
     "output_type": "stream",
     "text": [
      "100%|██████████| 28/28 [00:00<00:00, 382.17it/s]\n",
      "100%|██████████| 252/252 [00:00<00:00, 382.83it/s]\n"
     ]
    },
    {
     "name": "stdout",
     "output_type": "stream",
     "text": [
      "training loss: 0.6076380014419556, train accuracy: 0.9391814317187451\n",
      "validation loss: 1.935698390007019, validation accuracy: 0.8055865921787709\n"
     ]
    },
    {
     "name": "stderr",
     "output_type": "stream",
     "text": [
      "252it [00:01, 135.88it/s]\n"
     ]
    },
    {
     "name": "stdout",
     "output_type": "stream",
     "text": [
      "epoch 86, training loss: 0.6370373368263245\n"
     ]
    },
    {
     "name": "stderr",
     "output_type": "stream",
     "text": [
      "252it [00:01, 136.12it/s]\n"
     ]
    },
    {
     "name": "stdout",
     "output_type": "stream",
     "text": [
      "epoch 87, training loss: 0.6415522694587708\n"
     ]
    },
    {
     "name": "stderr",
     "output_type": "stream",
     "text": [
      "252it [00:01, 136.04it/s]\n"
     ]
    },
    {
     "name": "stdout",
     "output_type": "stream",
     "text": [
      "epoch 88, training loss: 0.637919545173645\n"
     ]
    },
    {
     "name": "stderr",
     "output_type": "stream",
     "text": [
      "252it [00:01, 136.16it/s]\n"
     ]
    },
    {
     "name": "stdout",
     "output_type": "stream",
     "text": [
      "epoch 89, training loss: 0.6294480562210083\n"
     ]
    },
    {
     "name": "stderr",
     "output_type": "stream",
     "text": [
      "252it [00:01, 135.27it/s]\n"
     ]
    },
    {
     "name": "stdout",
     "output_type": "stream",
     "text": [
      "epoch 90, training loss: 0.6138594746589661\n"
     ]
    },
    {
     "name": "stderr",
     "output_type": "stream",
     "text": [
      "100%|██████████| 28/28 [00:00<00:00, 375.84it/s]\n",
      "100%|██████████| 252/252 [00:00<00:00, 378.01it/s]\n"
     ]
    },
    {
     "name": "stdout",
     "output_type": "stream",
     "text": [
      "training loss: 0.6074991226196289, train accuracy: 0.9393055512458498\n",
      "validation loss: 1.8843228816986084, validation accuracy: 0.8134078212290503\n"
     ]
    },
    {
     "name": "stderr",
     "output_type": "stream",
     "text": [
      "252it [00:01, 135.30it/s]\n"
     ]
    },
    {
     "name": "stdout",
     "output_type": "stream",
     "text": [
      "epoch 91, training loss: 0.6114842891693115\n"
     ]
    },
    {
     "name": "stderr",
     "output_type": "stream",
     "text": [
      "252it [00:01, 135.32it/s]\n"
     ]
    },
    {
     "name": "stdout",
     "output_type": "stream",
     "text": [
      "epoch 92, training loss: 0.6131395697593689\n"
     ]
    },
    {
     "name": "stderr",
     "output_type": "stream",
     "text": [
      "252it [00:01, 135.24it/s]\n"
     ]
    },
    {
     "name": "stdout",
     "output_type": "stream",
     "text": [
      "epoch 93, training loss: 0.6201510429382324\n"
     ]
    },
    {
     "name": "stderr",
     "output_type": "stream",
     "text": [
      "252it [00:01, 135.17it/s]\n"
     ]
    },
    {
     "name": "stdout",
     "output_type": "stream",
     "text": [
      "epoch 94, training loss: 0.6252084374427795\n"
     ]
    },
    {
     "name": "stderr",
     "output_type": "stream",
     "text": [
      "252it [00:01, 135.32it/s]\n"
     ]
    },
    {
     "name": "stdout",
     "output_type": "stream",
     "text": [
      "epoch 95, training loss: 0.6154598593711853\n"
     ]
    },
    {
     "name": "stderr",
     "output_type": "stream",
     "text": [
      "100%|██████████| 28/28 [00:00<00:00, 375.95it/s]\n",
      "100%|██████████| 252/252 [00:00<00:00, 378.84it/s]\n"
     ]
    },
    {
     "name": "stdout",
     "output_type": "stream",
     "text": [
      "training loss: 0.5943151116371155, train accuracy: 0.9404536568715673\n",
      "validation loss: 1.9380285739898682, validation accuracy: 0.8075418994413408\n"
     ]
    },
    {
     "name": "stderr",
     "output_type": "stream",
     "text": [
      "252it [00:01, 135.15it/s]\n"
     ]
    },
    {
     "name": "stdout",
     "output_type": "stream",
     "text": [
      "epoch 96, training loss: 0.6288486123085022\n"
     ]
    },
    {
     "name": "stderr",
     "output_type": "stream",
     "text": [
      "252it [00:01, 135.20it/s]\n"
     ]
    },
    {
     "name": "stdout",
     "output_type": "stream",
     "text": [
      "epoch 97, training loss: 0.6230999827384949\n"
     ]
    },
    {
     "name": "stderr",
     "output_type": "stream",
     "text": [
      "252it [00:01, 136.08it/s]\n"
     ]
    },
    {
     "name": "stdout",
     "output_type": "stream",
     "text": [
      "epoch 98, training loss: 0.6135179996490479\n"
     ]
    },
    {
     "name": "stderr",
     "output_type": "stream",
     "text": [
      "252it [00:01, 136.18it/s]\n"
     ]
    },
    {
     "name": "stdout",
     "output_type": "stream",
     "text": [
      "epoch 99, training loss: 0.6146201491355896\n"
     ]
    },
    {
     "name": "stderr",
     "output_type": "stream",
     "text": [
      "252it [00:01, 136.12it/s]\n"
     ]
    },
    {
     "name": "stdout",
     "output_type": "stream",
     "text": [
      "epoch 100, training loss: 0.6152606010437012\n"
     ]
    },
    {
     "name": "stderr",
     "output_type": "stream",
     "text": [
      "100%|██████████| 28/28 [00:00<00:00, 381.13it/s]\n",
      "100%|██████████| 252/252 [00:00<00:00, 383.01it/s]"
     ]
    },
    {
     "name": "stdout",
     "output_type": "stream",
     "text": [
      "training loss: 0.591862142086029, train accuracy: 0.9405467465168957\n",
      "validation loss: 1.9755136966705322, validation accuracy: 0.8033519553072626\n"
     ]
    },
    {
     "name": "stderr",
     "output_type": "stream",
     "text": [
      "\n"
     ]
    }
   ],
   "source": [
    "datasets = [\n",
    "    (train_loader, valid_loader, 'balanced'),\n",
    "    (imb_train_loader, imb_valid_loader, 'imbalanced'),\n",
    "    (bal_sym_train_loader, bal_sym_valid_loader, 'bal_sym'),\n",
    "    (bal_asym_train_loader, bal_asym_valid_loader, 'bal_asym'),\n",
    "    (imb_sym_train_loader, imb_sym_valid_loader, 'imb_sym'),\n",
    "    (imb_asym_train_loader, imb_asym_valid_loader, 'imb_asym'),\n",
    "]\n",
    "\n",
    "for train_loader, valid_loader, name in datasets:\n",
    "    device = 'cuda' if torch.cuda.is_available() else 'cpu'\n",
    "    learning_rate = 1e-4\n",
    "    sce_model = SCEModel()\n",
    "    sce_model.to(device)\n",
    "    sce_criterion = SCELoss(alpha=0.1, beta=1.0)\n",
    "    sce_criterion.to(device)\n",
    "    sce_optimizer = torch.optim.Adam(sce_model.parameters(), lr=learning_rate)\n",
    "    train_sce(sce_model, sce_criterion, sce_optimizer, train_loader, valid_loader, verbose=5, num_epochs=100,\n",
    "               model_prefix=f\"sce-{name}\")\n",
    "    "
   ]
  },
  {
   "cell_type": "markdown",
   "id": "68b1f71b",
   "metadata": {},
   "source": [
    "## load best model and test"
   ]
  },
  {
   "cell_type": "code",
   "execution_count": 14,
   "id": "9100a8e0",
   "metadata": {},
   "outputs": [
    {
     "data": {
      "text/plain": [
       "ResNet_s(\n",
       "  (conv1): Conv2d(1, 16, kernel_size=(3, 3), stride=(1, 1), padding=(1, 1), bias=False)\n",
       "  (bn1): BatchNorm2d(16, eps=1e-05, momentum=0.1, affine=True, track_running_stats=True)\n",
       "  (layer1): Sequential(\n",
       "    (0): BasicBlock(\n",
       "      (conv1): Conv2d(16, 16, kernel_size=(3, 3), stride=(1, 1), padding=(1, 1), bias=False)\n",
       "      (bn1): BatchNorm2d(16, eps=1e-05, momentum=0.1, affine=True, track_running_stats=True)\n",
       "      (conv2): Conv2d(16, 16, kernel_size=(3, 3), stride=(1, 1), padding=(1, 1), bias=False)\n",
       "      (bn2): BatchNorm2d(16, eps=1e-05, momentum=0.1, affine=True, track_running_stats=True)\n",
       "      (shortcut): Sequential()\n",
       "    )\n",
       "    (1): BasicBlock(\n",
       "      (conv1): Conv2d(16, 16, kernel_size=(3, 3), stride=(1, 1), padding=(1, 1), bias=False)\n",
       "      (bn1): BatchNorm2d(16, eps=1e-05, momentum=0.1, affine=True, track_running_stats=True)\n",
       "      (conv2): Conv2d(16, 16, kernel_size=(3, 3), stride=(1, 1), padding=(1, 1), bias=False)\n",
       "      (bn2): BatchNorm2d(16, eps=1e-05, momentum=0.1, affine=True, track_running_stats=True)\n",
       "      (shortcut): Sequential()\n",
       "    )\n",
       "    (2): BasicBlock(\n",
       "      (conv1): Conv2d(16, 16, kernel_size=(3, 3), stride=(1, 1), padding=(1, 1), bias=False)\n",
       "      (bn1): BatchNorm2d(16, eps=1e-05, momentum=0.1, affine=True, track_running_stats=True)\n",
       "      (conv2): Conv2d(16, 16, kernel_size=(3, 3), stride=(1, 1), padding=(1, 1), bias=False)\n",
       "      (bn2): BatchNorm2d(16, eps=1e-05, momentum=0.1, affine=True, track_running_stats=True)\n",
       "      (shortcut): Sequential()\n",
       "    )\n",
       "    (3): BasicBlock(\n",
       "      (conv1): Conv2d(16, 16, kernel_size=(3, 3), stride=(1, 1), padding=(1, 1), bias=False)\n",
       "      (bn1): BatchNorm2d(16, eps=1e-05, momentum=0.1, affine=True, track_running_stats=True)\n",
       "      (conv2): Conv2d(16, 16, kernel_size=(3, 3), stride=(1, 1), padding=(1, 1), bias=False)\n",
       "      (bn2): BatchNorm2d(16, eps=1e-05, momentum=0.1, affine=True, track_running_stats=True)\n",
       "      (shortcut): Sequential()\n",
       "    )\n",
       "    (4): BasicBlock(\n",
       "      (conv1): Conv2d(16, 16, kernel_size=(3, 3), stride=(1, 1), padding=(1, 1), bias=False)\n",
       "      (bn1): BatchNorm2d(16, eps=1e-05, momentum=0.1, affine=True, track_running_stats=True)\n",
       "      (conv2): Conv2d(16, 16, kernel_size=(3, 3), stride=(1, 1), padding=(1, 1), bias=False)\n",
       "      (bn2): BatchNorm2d(16, eps=1e-05, momentum=0.1, affine=True, track_running_stats=True)\n",
       "      (shortcut): Sequential()\n",
       "    )\n",
       "  )\n",
       "  (layer2): Sequential(\n",
       "    (0): BasicBlock(\n",
       "      (conv1): Conv2d(16, 32, kernel_size=(3, 3), stride=(2, 2), padding=(1, 1), bias=False)\n",
       "      (bn1): BatchNorm2d(32, eps=1e-05, momentum=0.1, affine=True, track_running_stats=True)\n",
       "      (conv2): Conv2d(32, 32, kernel_size=(3, 3), stride=(1, 1), padding=(1, 1), bias=False)\n",
       "      (bn2): BatchNorm2d(32, eps=1e-05, momentum=0.1, affine=True, track_running_stats=True)\n",
       "      (shortcut): LambdaLayer()\n",
       "    )\n",
       "    (1): BasicBlock(\n",
       "      (conv1): Conv2d(32, 32, kernel_size=(3, 3), stride=(1, 1), padding=(1, 1), bias=False)\n",
       "      (bn1): BatchNorm2d(32, eps=1e-05, momentum=0.1, affine=True, track_running_stats=True)\n",
       "      (conv2): Conv2d(32, 32, kernel_size=(3, 3), stride=(1, 1), padding=(1, 1), bias=False)\n",
       "      (bn2): BatchNorm2d(32, eps=1e-05, momentum=0.1, affine=True, track_running_stats=True)\n",
       "      (shortcut): Sequential()\n",
       "    )\n",
       "    (2): BasicBlock(\n",
       "      (conv1): Conv2d(32, 32, kernel_size=(3, 3), stride=(1, 1), padding=(1, 1), bias=False)\n",
       "      (bn1): BatchNorm2d(32, eps=1e-05, momentum=0.1, affine=True, track_running_stats=True)\n",
       "      (conv2): Conv2d(32, 32, kernel_size=(3, 3), stride=(1, 1), padding=(1, 1), bias=False)\n",
       "      (bn2): BatchNorm2d(32, eps=1e-05, momentum=0.1, affine=True, track_running_stats=True)\n",
       "      (shortcut): Sequential()\n",
       "    )\n",
       "    (3): BasicBlock(\n",
       "      (conv1): Conv2d(32, 32, kernel_size=(3, 3), stride=(1, 1), padding=(1, 1), bias=False)\n",
       "      (bn1): BatchNorm2d(32, eps=1e-05, momentum=0.1, affine=True, track_running_stats=True)\n",
       "      (conv2): Conv2d(32, 32, kernel_size=(3, 3), stride=(1, 1), padding=(1, 1), bias=False)\n",
       "      (bn2): BatchNorm2d(32, eps=1e-05, momentum=0.1, affine=True, track_running_stats=True)\n",
       "      (shortcut): Sequential()\n",
       "    )\n",
       "    (4): BasicBlock(\n",
       "      (conv1): Conv2d(32, 32, kernel_size=(3, 3), stride=(1, 1), padding=(1, 1), bias=False)\n",
       "      (bn1): BatchNorm2d(32, eps=1e-05, momentum=0.1, affine=True, track_running_stats=True)\n",
       "      (conv2): Conv2d(32, 32, kernel_size=(3, 3), stride=(1, 1), padding=(1, 1), bias=False)\n",
       "      (bn2): BatchNorm2d(32, eps=1e-05, momentum=0.1, affine=True, track_running_stats=True)\n",
       "      (shortcut): Sequential()\n",
       "    )\n",
       "  )\n",
       "  (layer3): Sequential(\n",
       "    (0): BasicBlock(\n",
       "      (conv1): Conv2d(32, 64, kernel_size=(3, 3), stride=(2, 2), padding=(1, 1), bias=False)\n",
       "      (bn1): BatchNorm2d(64, eps=1e-05, momentum=0.1, affine=True, track_running_stats=True)\n",
       "      (conv2): Conv2d(64, 64, kernel_size=(3, 3), stride=(1, 1), padding=(1, 1), bias=False)\n",
       "      (bn2): BatchNorm2d(64, eps=1e-05, momentum=0.1, affine=True, track_running_stats=True)\n",
       "      (shortcut): LambdaLayer()\n",
       "    )\n",
       "    (1): BasicBlock(\n",
       "      (conv1): Conv2d(64, 64, kernel_size=(3, 3), stride=(1, 1), padding=(1, 1), bias=False)\n",
       "      (bn1): BatchNorm2d(64, eps=1e-05, momentum=0.1, affine=True, track_running_stats=True)\n",
       "      (conv2): Conv2d(64, 64, kernel_size=(3, 3), stride=(1, 1), padding=(1, 1), bias=False)\n",
       "      (bn2): BatchNorm2d(64, eps=1e-05, momentum=0.1, affine=True, track_running_stats=True)\n",
       "      (shortcut): Sequential()\n",
       "    )\n",
       "    (2): BasicBlock(\n",
       "      (conv1): Conv2d(64, 64, kernel_size=(3, 3), stride=(1, 1), padding=(1, 1), bias=False)\n",
       "      (bn1): BatchNorm2d(64, eps=1e-05, momentum=0.1, affine=True, track_running_stats=True)\n",
       "      (conv2): Conv2d(64, 64, kernel_size=(3, 3), stride=(1, 1), padding=(1, 1), bias=False)\n",
       "      (bn2): BatchNorm2d(64, eps=1e-05, momentum=0.1, affine=True, track_running_stats=True)\n",
       "      (shortcut): Sequential()\n",
       "    )\n",
       "    (3): BasicBlock(\n",
       "      (conv1): Conv2d(64, 64, kernel_size=(3, 3), stride=(1, 1), padding=(1, 1), bias=False)\n",
       "      (bn1): BatchNorm2d(64, eps=1e-05, momentum=0.1, affine=True, track_running_stats=True)\n",
       "      (conv2): Conv2d(64, 64, kernel_size=(3, 3), stride=(1, 1), padding=(1, 1), bias=False)\n",
       "      (bn2): BatchNorm2d(64, eps=1e-05, momentum=0.1, affine=True, track_running_stats=True)\n",
       "      (shortcut): Sequential()\n",
       "    )\n",
       "    (4): BasicBlock(\n",
       "      (conv1): Conv2d(64, 64, kernel_size=(3, 3), stride=(1, 1), padding=(1, 1), bias=False)\n",
       "      (bn1): BatchNorm2d(64, eps=1e-05, momentum=0.1, affine=True, track_running_stats=True)\n",
       "      (conv2): Conv2d(64, 64, kernel_size=(3, 3), stride=(1, 1), padding=(1, 1), bias=False)\n",
       "      (bn2): BatchNorm2d(64, eps=1e-05, momentum=0.1, affine=True, track_running_stats=True)\n",
       "      (shortcut): Sequential()\n",
       "    )\n",
       "  )\n",
       "  (linear): Linear(in_features=64, out_features=10, bias=True)\n",
       ")"
      ]
     },
     "execution_count": 14,
     "metadata": {},
     "output_type": "execute_result"
    }
   ],
   "source": [
    "def load_model(path):\n",
    "    model = resnet32()\n",
    "    model.to(device)\n",
    "    model.load_state_dict(torch.load(path))\n",
    "    \n",
    "    return model\n",
    "\n",
    "\n",
    "model = load_model(os.path.join('models', 'balanced-70'))\n",
    "model"
   ]
  },
  {
   "cell_type": "code",
   "execution_count": 18,
   "id": "72b17eda",
   "metadata": {},
   "outputs": [
    {
     "name": "stderr",
     "output_type": "stream",
     "text": [
      "100%|██████████| 79/79 [00:01<00:00, 44.57it/s]\n"
     ]
    }
   ],
   "source": [
    "def evaluate(test_loader, model):\n",
    "        \n",
    "    losses = []\n",
    "    preds = []\n",
    "    y_true = []\n",
    "    model.eval()\n",
    "    \n",
    "    with torch.no_grad():\n",
    "        for images, labels in tqdm(valid_loader):\n",
    "            images = images.to(device)\n",
    "            labels = labels.to(device)\n",
    "\n",
    "            y_true.extend(labels.cpu().numpy())\n",
    "            predictions = model(images)\n",
    "            preds.extend(predictions.cpu().numpy())\n",
    "\n",
    "            loss = criterion(predictions, labels)\n",
    "            losses.append(loss.detach().cpu().numpy())\n",
    "        \n",
    "    return np.argmax(np.array(preds), axis=1), np.array(y_true), np.mean(losses)\n",
    "\n",
    "preds, y_true, loss = evaluate(test_loader, model)"
   ]
  },
  {
   "cell_type": "markdown",
   "id": "8a550a58",
   "metadata": {},
   "source": [
    "## model report"
   ]
  },
  {
   "cell_type": "code",
   "execution_count": 26,
   "id": "885ff594",
   "metadata": {},
   "outputs": [
    {
     "name": "stdout",
     "output_type": "stream",
     "text": [
      "              precision    recall  f1-score   support\n",
      "\n",
      "           0     0.9958    0.9969    0.9964       960\n",
      "           1     0.9911    0.9964    0.9937      1115\n",
      "           2     0.9960    0.9862    0.9911      1016\n",
      "           3     0.9890    0.9910    0.9900       999\n",
      "           4     0.9884    0.9863    0.9873       948\n",
      "           5     0.9880    0.9858    0.9869       918\n",
      "           6     0.9892    0.9960    0.9926      1010\n",
      "           7     0.9872    0.9926    0.9899      1085\n",
      "           8     0.9927    0.9896    0.9911       960\n",
      "           9     0.9888    0.9838    0.9863       989\n",
      "\n",
      "    accuracy                         0.9906     10000\n",
      "   macro avg     0.9906    0.9905    0.9905     10000\n",
      "weighted avg     0.9906    0.9906    0.9906     10000\n",
      "\n"
     ]
    }
   ],
   "source": [
    "clf_metrics(y_true, preds)"
   ]
  },
  {
   "cell_type": "code",
   "execution_count": null,
   "id": "80d05f3b",
   "metadata": {},
   "outputs": [],
   "source": []
  }
 ],
 "metadata": {
  "kernelspec": {
   "display_name": "Python 3 (ipykernel)",
   "language": "python",
   "name": "python3"
  },
  "language_info": {
   "codemirror_mode": {
    "name": "ipython",
    "version": 3
   },
   "file_extension": ".py",
   "mimetype": "text/x-python",
   "name": "python",
   "nbconvert_exporter": "python",
   "pygments_lexer": "ipython3",
   "version": "3.8.12"
  },
  "toc": {
   "base_numbering": 1,
   "nav_menu": {},
   "number_sections": true,
   "sideBar": true,
   "skip_h1_title": false,
   "title_cell": "Table of Contents",
   "title_sidebar": "Contents",
   "toc_cell": false,
   "toc_position": {
    "height": "calc(100% - 180px)",
    "left": "10px",
    "top": "150px",
    "width": "280.764px"
   },
   "toc_section_display": true,
   "toc_window_display": true
  }
 },
 "nbformat": 4,
 "nbformat_minor": 5
}
