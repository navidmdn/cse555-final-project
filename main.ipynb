{
 "cells": [
  {
   "cell_type": "markdown",
   "id": "8e097356",
   "metadata": {},
   "source": [
    "# Initializations"
   ]
  },
  {
   "cell_type": "markdown",
   "id": "0e577654",
   "metadata": {},
   "source": [
    "## imports"
   ]
  },
  {
   "cell_type": "code",
   "execution_count": 21,
   "id": "92340087",
   "metadata": {},
   "outputs": [],
   "source": [
    "from torchvision.datasets import MNIST\n",
    "from sklearn import datasets\n",
    "from sklearn.linear_model import LogisticRegression\n",
    "from sklearn.svm import SVC\n",
    "\n",
    "import torch\n",
    "import torchvision\n",
    "\n",
    "import seaborn as sns\n",
    "import numpy as np"
   ]
  },
  {
   "cell_type": "markdown",
   "id": "91fb1dbb",
   "metadata": {},
   "source": [
    "## configs"
   ]
  },
  {
   "cell_type": "code",
   "execution_count": 2,
   "id": "23ae415c",
   "metadata": {},
   "outputs": [],
   "source": [
    "batch_size_train = 128\n",
    "batch_size_test = 100\n",
    "random_seed = 12453211\n",
    "\n",
    "\n",
    "torch.manual_seed(random_seed)\n",
    "np.random.seed(random_seed)"
   ]
  },
  {
   "cell_type": "markdown",
   "id": "dd6474dd",
   "metadata": {},
   "source": [
    "# Data Preparation"
   ]
  },
  {
   "cell_type": "markdown",
   "id": "14505dd5",
   "metadata": {},
   "source": [
    "## Loading torch dataset"
   ]
  },
  {
   "cell_type": "code",
   "execution_count": 4,
   "id": "943f9b86",
   "metadata": {},
   "outputs": [],
   "source": [
    "\n",
    "train_set = torchvision.datasets.MNIST(\n",
    "    '.',\n",
    "    train=True,\n",
    "    download=True,\n",
    "    transform=torchvision.transforms.Compose([\n",
    "        torchvision.transforms.ToTensor(),\n",
    "        torchvision.transforms.Normalize((0.1307,), (0.3081,))\n",
    "    ])\n",
    ")\n",
    "\n",
    "train_set, val_set = torch.utils.data.random_split(train_set, [50000, 10000])\n",
    "\n",
    "train_loader = torch.utils.data.DataLoader(\n",
    "    train_set,\n",
    "    batch_size=batch_size_train,\n",
    "    shuffle=True\n",
    ")\n",
    "\n",
    "valid_loader = torch.utils.data.DataLoader(\n",
    "    val_set,\n",
    "    batch_size=batch_size_train,\n",
    "    shuffle=True,\n",
    ")\n",
    "\n",
    "test_loader = torch.utils.data.DataLoader(\n",
    "    torchvision.datasets.MNIST('.', train=False, download=True,\n",
    "    transform=torchvision.transforms.Compose([\n",
    "        torchvision.transforms.ToTensor(),\n",
    "        torchvision.transforms.Normalize(\n",
    "        (0.1307,), (0.3081,))\n",
    "    ])),\n",
    "    batch_size=batch_size_test,\n",
    "    shuffle=False\n",
    ")"
   ]
  },
  {
   "cell_type": "markdown",
   "id": "a494d392",
   "metadata": {},
   "source": [
    "## loading numpy dataset"
   ]
  },
  {
   "cell_type": "code",
   "execution_count": 12,
   "id": "57ed0943",
   "metadata": {},
   "outputs": [
    {
     "name": "stdout",
     "output_type": "stream",
     "text": [
      "(50000, 1, 28, 28) (10000, 1, 28, 28) (50000,) (10000,)\n"
     ]
    }
   ],
   "source": [
    "def data_loader_to_numpy(data_loader):\n",
    "    result_x = []\n",
    "    result_y = []\n",
    "    for x, y in data_loader:\n",
    "        result_x.append(x.numpy())\n",
    "        result_y.append(y.numpy())\n",
    "        \n",
    "    return np.concatenate(result_x, axis=0), np.concatenate(result_y, axis=0)\n",
    "    \n",
    "train_x, train_y = data_loader_to_numpy(train_loader)\n",
    "test_x, test_y = data_loader_to_numpy(test_loader)\n",
    "valid_x, valid_y = data_loader_to_numpy(valid_loader)\n",
    "\n",
    "print(train_x.shape, test_x.shape, train_y.shape, test_y.shape)"
   ]
  },
  {
   "cell_type": "markdown",
   "id": "c0d44c90",
   "metadata": {},
   "source": [
    "## distribution of classes"
   ]
  },
  {
   "cell_type": "code",
   "execution_count": 25,
   "id": "4191e3b5",
   "metadata": {},
   "outputs": [
    {
     "data": {
      "text/plain": [
       "<AxesSubplot:ylabel='Count'>"
      ]
     },
     "execution_count": 25,
     "metadata": {},
     "output_type": "execute_result"
    },
    {
     "data": {
      "image/png": "[encoded data removed]",
      "text/plain": [
       "<Figure size 432x288 with 1 Axes>"
      ]
     },
     "metadata": {
      "needs_background": "light"
     },
     "output_type": "display_data"
    }
   ],
   "source": [
    "sns.histplot(train_y, bins=[i for i in range(11)])\n",
    "sns.histplot(test_y, bins=[i for i in range(11)])"
   ]
  },
  {
   "cell_type": "markdown",
   "id": "260729b0",
   "metadata": {},
   "source": [
    "## Creating noisy datasets"
   ]
  },
  {
   "cell_type": "markdown",
   "id": "dd4698be",
   "metadata": {},
   "source": [
    "# Models"
   ]
  },
  {
   "cell_type": "markdown",
   "id": "b84a2538",
   "metadata": {},
   "source": [
    "## validation functions"
   ]
  },
  {
   "cell_type": "markdown",
   "id": "68749836",
   "metadata": {},
   "source": [
    "### draw confusion matrix"
   ]
  },
  {
   "cell_type": "code",
   "execution_count": 48,
   "id": "40690826",
   "metadata": {},
   "outputs": [],
   "source": [
    "from sklearn.metrics import confusion_matrix, accuracy_score, precision_score, recall_score, f1_score\n",
    "import matplotlib.pyplot as plt\n",
    "\n",
    "def conf_mat(y_true, y_pred):\n",
    "    cm = confusion_matrix(y_true, y_pred)\n",
    "    plt.figure(figsize=(8,8))\n",
    "    sns.heatmap(cm, annot=True)\n",
    "\n"
   ]
  },
  {
   "cell_type": "code",
   "execution_count": 57,
   "id": "241b8e22",
   "metadata": {},
   "outputs": [],
   "source": [
    "from sklearn.metrics import classification_report\n",
    "\n",
    "def clf_metrics(y_true, y_pred, n_class=10):\n",
    "    class_names = [str(i) for i in range(n_class)]\n",
    "    print(classification_report(y_true, y_pred))\n",
    "    \n"
   ]
  },
  {
   "cell_type": "markdown",
   "id": "ec3567eb",
   "metadata": {},
   "source": [
    "## SVM"
   ]
  },
  {
   "cell_type": "markdown",
   "id": "2d532b23",
   "metadata": {},
   "source": [
    "### preprocessing data"
   ]
  },
  {
   "cell_type": "code",
   "execution_count": 16,
   "id": "12cc5948",
   "metadata": {},
   "outputs": [
    {
     "data": {
      "text/plain": [
       "(50000, 784)"
      ]
     },
     "execution_count": 16,
     "metadata": {},
     "output_type": "execute_result"
    }
   ],
   "source": [
    "def preprocess(x, y):\n",
    "    x, y = x.squeeze(), y\n",
    "    return x.reshape((x.shape[0], -1)), y\n",
    "\n",
    "train_x, train_y = preprocess(train_x, train_y)\n",
    "test_x, test_y = preprocess(test_x, test_y)\n",
    "valid_x, valid_y = preprocess(valid_x, valid_y)\n",
    "\n",
    "train_x.shape"
   ]
  },
  {
   "cell_type": "markdown",
   "id": "8b810598",
   "metadata": {},
   "source": [
    "### model definition"
   ]
  },
  {
   "cell_type": "code",
   "execution_count": 18,
   "id": "d3bb0866",
   "metadata": {},
   "outputs": [
    {
     "name": "stdout",
     "output_type": "stream",
     "text": [
      "[LibSVM]*\n",
      "optimization finished, #iter = 566\n",
      "obj = -0.214330, rho = 0.372860\n",
      "nSV = 67, nBSV = 0\n",
      "......................*...............*\n",
      "optimization finished, #iter = 37300\n",
      "obj = -9.892223, rho = 4.243643\n",
      "nSV = 301, nBSV = 0\n",
      ".......*......*\n",
      "optimization finished, #iter = 13131\n",
      "obj = -2.908381, rho = 2.822154\n",
      "nSV = 219, nBSV = 0\n",
      "..*..*\n",
      "optimization finished, #iter = 4184\n",
      "obj = -0.994940, rho = 1.074075\n",
      "nSV = 165, nBSV = 0\n",
      ".....................................................*...................................*\n",
      "optimization finished, #iter = 88279\n",
      "obj = -31.133474, rho = 10.758489\n",
      "nSV = 326, nBSV = 1\n",
      ".........*.....*\n",
      "optimization finished, #iter = 14960\n",
      "obj = -5.314474, rho = 0.553526\n",
      "nSV = 233, nBSV = 0\n",
      "..*.*\n",
      "optimization finished, #iter = 3343\n",
      "obj = -0.842590, rho = 1.093256\n",
      "nSV = 148, nBSV = 0\n",
      ".........................*....................*\n",
      "optimization finished, #iter = 45102\n",
      "obj = -13.929025, rho = 2.170876\n",
      "nSV = 286, nBSV = 0\n",
      ".....*...*\n",
      "optimization finished, #iter = 8588\n",
      "obj = -2.794103, rho = 1.545373\n",
      "nSV = 206, nBSV = 0\n",
      ".......................*...............*\n",
      "optimization finished, #iter = 38375\n",
      "obj = -18.730242, rho = 6.984975\n",
      "nSV = 280, nBSV = 1\n",
      "..............*........*\n",
      "optimization finished, #iter = 22779\n",
      "obj = -10.460653, rho = 5.701887\n",
      "nSV = 250, nBSV = 0\n",
      "...*..*\n",
      "optimization finished, #iter = 5120\n",
      "obj = -2.186787, rho = -0.076211\n",
      "nSV = 157, nBSV = 0\n",
      "....*..*\n",
      "optimization finished, #iter = 6340\n",
      "obj = -2.355917, rho = 3.991467\n",
      "nSV = 183, nBSV = 0\n",
      ".*\n",
      "optimization finished, #iter = 1880\n",
      "obj = -0.576357, rho = -0.345761\n",
      "nSV = 112, nBSV = 0\n",
      "....*...*\n",
      "optimization finished, #iter = 7077\n",
      "obj = -4.801273, rho = 2.997990\n",
      "nSV = 159, nBSV = 0\n",
      ".....................................................................................*..............................................................................................*.................................*\n",
      "optimization finished, #iter = 211771\n",
      "obj = -88.037202, rho = 7.049382\n",
      "nSV = 358, nBSV = 30\n",
      "....*...*\n",
      "optimization finished, #iter = 7657\n",
      "obj = -4.040700, rho = 1.628982\n",
      "nSV = 168, nBSV = 0\n",
      "........................................................................................................................................................................................................................................................................................................................................................................................................................................*..............................................................................................................................................................................................................................................................................................................................................................................................................................................................................................................................................................................*..............................................................................................................................................................................................................................................................................*\n",
      "optimization finished, #iter = 1251404\n",
      "obj = -379.150345, rho = 0.439053\n",
      "nSV = 684, nBSV = 224\n",
      ".........................................................................................*......................................................*\n",
      "optimization finished, #iter = 143378\n",
      "obj = -50.786931, rho = -4.698290\n",
      "nSV = 383, nBSV = 6\n",
      "..............................................................................................................*.......................................................................*\n",
      "optimization finished, #iter = 181506\n",
      "obj = -76.053416, rho = 1.029945\n",
      "nSV = 409, nBSV = 15\n",
      "..................................................................................................................................*................................................................................................*\n",
      "optimization finished, #iter = 226389\n",
      "obj = -64.066769, rho = -8.558851\n",
      "nSV = 392, nBSV = 11\n",
      ".........................................................................*..........................................*....*\n",
      "optimization finished, #iter = 119664\n",
      "obj = -39.350604, rho = -5.534333\n",
      "nSV = 371, nBSV = 3\n",
      "......................................................................................................................................................................................................................................................................................................................................................*.........................................................................................................................................................................................................................................................................................................................................................................................................................................................................................*......................................................................................................................................................................................................................................................................................................................................................................*........................*\n",
      "optimization finished, #iter = 1195664\n",
      "obj = -323.231999, rho = -8.735456\n",
      "nSV = 628, nBSV = 187\n",
      ".............................*...................*\n",
      "optimization finished, #iter = 48104\n",
      "obj = -15.184386, rho = -2.941688\n",
      "nSV = 304, nBSV = 0\n",
      ".......*....*\n",
      "optimization finished, #iter = 11830\n",
      "obj = -3.706065, rho = -2.126154\n",
      "nSV = 216, nBSV = 0\n"
     ]
    },
    {
     "name": "stdout",
     "output_type": "stream",
     "text": [
      "...................................................................................................................................................................................................................................................................................................................................................................................................................................................................................................................*..........................................................................................................................................................................................................................................................................................................................................................................................................................................................................................................................................................................................................................................................................................................................................................................................................................................................................................................................................................*.....................................................................................................................................................................................................................................................................................................................................................................................................................................................................................................................................................................*...............................................................................................................................................................................................................................................................*\n",
      "optimization finished, #iter = 2224203\n",
      "obj = -519.012194, rho = 5.445794\n",
      "nSV = 818, nBSV = 356\n",
      "...*...*\n",
      "optimization finished, #iter = 6384\n",
      "obj = -1.502578, rho = -1.226274\n",
      "nSV = 193, nBSV = 0\n",
      "............................................*......................*\n",
      "optimization finished, #iter = 66862\n",
      "obj = -29.791224, rho = -6.153982\n",
      "nSV = 329, nBSV = 1\n",
      "...............................................................................................................................................................................................................................................................................................................................................................................................................................................................................................................................................................................................................................................................................................*........................................................................................................................................................................................................................................................................................................................................................................................................................................................................................................................................................................................................................................................................................................................................................................................................................................................................................................................................................................................................................................................*............................................................................................................................................................................................................................................................................................................................................................................................................................................................................................................................................................................................................................................................................................................................................................*............................................................................................................................................................................................................................................................................................................................................*\n",
      "optimization finished, #iter = 2750783\n",
      "obj = -576.450999, rho = -8.800741\n",
      "nSV = 871, nBSV = 415\n",
      ".........................................................................................................*...................................................................................................................*.......................*\n",
      "optimization finished, #iter = 242992\n",
      "obj = -86.628390, rho = -7.126012\n",
      "nSV = 384, nBSV = 29\n",
      "..............*.........*\n",
      "optimization finished, #iter = 23457\n",
      "obj = -7.286524, rho = 5.823217\n",
      "nSV = 272, nBSV = 0\n",
      "..............*.......*\n",
      "optimization finished, #iter = 21218\n",
      "obj = -8.387534, rho = 0.733872\n",
      "nSV = 260, nBSV = 0\n",
      ".........................................*.................................*\n",
      "optimization finished, #iter = 74436\n",
      "obj = -22.316505, rho = 2.312719\n",
      "nSV = 320, nBSV = 0\n",
      "...........*.......*\n",
      "optimization finished, #iter = 18193\n",
      "obj = -5.415218, rho = 1.156812\n",
      "nSV = 235, nBSV = 0\n",
      ".................................................................................................................................................................................................................................................................*.................................................................................................................................................................................................................................................................................................................*..........................................................................................................................................................................................................................*.........*\n",
      "optimization finished, #iter = 787800\n",
      "obj = -388.470784, rho = 7.247275\n",
      "nSV = 678, nBSV = 271\n",
      "...............................................................................................................*..............................................................................*....................*\n",
      "optimization finished, #iter = 208606\n",
      "obj = -77.925958, rho = -8.464048\n",
      "nSV = 365, nBSV = 23\n",
      "......*.....*.*\n",
      "optimization finished, #iter = 11437\n",
      "obj = -3.233808, rho = -1.851735\n",
      "nSV = 234, nBSV = 0\n"
     ]
    },
    {
     "name": "stdout",
     "output_type": "stream",
     "text": [
      "..............................................................................................................................................................................................................................................................................................................................................................................................................................................................................................................................................................................................................*.........................................................................................................................................................................................................................................................................................................................................................................................................................................................................................................................................................................................................................................................................................................................................................................................................................................................*...................................................................................................................................................................................................................................................................................*...............................*\n",
      "optimization finished, #iter = 1720480\n",
      "obj = -479.801661, rho = -6.932502\n",
      "nSV = 781, nBSV = 321\n",
      "....................................................................*......................................................................*\n",
      "optimization finished, #iter = 138361\n",
      "obj = -42.760603, rho = -9.121641\n",
      "nSV = 356, nBSV = 5\n",
      "*.*\n",
      "optimization finished, #iter = 1599\n",
      "obj = -0.310330, rho = 0.274247\n",
      "nSV = 132, nBSV = 0\n",
      ".................*.........*\n",
      "optimization finished, #iter = 26574\n",
      "obj = -9.699409, rho = 1.270900\n",
      "nSV = 250, nBSV = 0\n",
      ".*.*\n",
      "optimization finished, #iter = 2200\n",
      "obj = -0.432057, rho = 0.578237\n",
      "nSV = 132, nBSV = 0\n",
      "...............*.........*\n",
      "optimization finished, #iter = 24227\n",
      "obj = -8.893957, rho = -0.255825\n",
      "nSV = 252, nBSV = 0\n",
      "..................................................................................................................................................................................................................................................................................................................................................................................................................................................................................................................................................*........................................................................................................................................................................................................................................................................................................................................................................................................................................................................................................................................................................................................................................................................................................................................................................................*................................................................................................................................................................................................................................................................................................................................................................................................................................................................................................................................................................*.......*\n",
      "optimization finished, #iter = 1841321\n",
      "obj = -603.584197, rho = -3.484428\n",
      "nSV = 892, nBSV = 457\n",
      "..........................................................................................................................................*.......................................................................................................................................*..*\n",
      "optimization finished, #iter = 275035\n",
      "obj = -82.847470, rho = -1.979228\n",
      "nSV = 381, nBSV = 27\n",
      "Total nSV = 8743\n"
     ]
    }
   ],
   "source": [
    "svm = SVC(\n",
    "    kernel='linear',\n",
    "    decision_function_shape='ovr',\n",
    "    random_state=random_seed,\n",
    "    verbose=True,\n",
    ") \n",
    "\n",
    "svm.fit(train_x, train_y)\n",
    "y_pred = svm.predict(test_x)"
   ]
  },
  {
   "cell_type": "code",
   "execution_count": 43,
   "id": "167011ca",
   "metadata": {},
   "outputs": [
    {
     "data": {
      "text/plain": [
       "(45, 784)"
      ]
     },
     "execution_count": 43,
     "metadata": {},
     "output_type": "execute_result"
    }
   ],
   "source": [
    "svm.coef_.shape"
   ]
  },
  {
   "cell_type": "code",
   "execution_count": 37,
   "id": "d83aedba",
   "metadata": {},
   "outputs": [
    {
     "data": {
      "image/png": "[encoded data removed]",
      "text/plain": [
       "<Figure size 576x576 with 2 Axes>"
      ]
     },
     "metadata": {
      "needs_background": "light"
     },
     "output_type": "display_data"
    }
   ],
   "source": [
    "conf_mat(test_y, y_pred)"
   ]
  },
  {
   "cell_type": "markdown",
   "id": "003ebcb1",
   "metadata": {},
   "source": [
    "### model report"
   ]
  },
  {
   "cell_type": "code",
   "execution_count": 58,
   "id": "e7af876e",
   "metadata": {},
   "outputs": [
    {
     "name": "stdout",
     "output_type": "stream",
     "text": [
      "              precision    recall  f1-score   support\n",
      "\n",
      "           0       0.94      0.98      0.96       980\n",
      "           1       0.96      0.99      0.97      1135\n",
      "           2       0.91      0.92      0.92      1032\n",
      "           3       0.89      0.93      0.91      1010\n",
      "           4       0.92      0.95      0.93       982\n",
      "           5       0.90      0.87      0.89       892\n",
      "           6       0.96      0.94      0.95       958\n",
      "           7       0.94      0.92      0.93      1028\n",
      "           8       0.92      0.89      0.90       974\n",
      "           9       0.93      0.89      0.91      1009\n",
      "\n",
      "    accuracy                           0.93     10000\n",
      "   macro avg       0.93      0.93      0.93     10000\n",
      "weighted avg       0.93      0.93      0.93     10000\n",
      "\n"
     ]
    }
   ],
   "source": [
    "clf_metrics(test_y, y_pred)"
   ]
  },
  {
   "cell_type": "markdown",
   "id": "d149e8a3",
   "metadata": {},
   "source": [
    "## Logistic Regression"
   ]
  },
  {
   "cell_type": "markdown",
   "id": "f87e28a6",
   "metadata": {},
   "source": [
    "### preprocessing data"
   ]
  },
  {
   "cell_type": "code",
   "execution_count": null,
   "id": "b295a803",
   "metadata": {},
   "outputs": [],
   "source": [
    "#TODO: flattening the entries    "
   ]
  },
  {
   "cell_type": "markdown",
   "id": "acd11743",
   "metadata": {},
   "source": [
    "### defining model"
   ]
  },
  {
   "cell_type": "code",
   "execution_count": null,
   "id": "75842eed",
   "metadata": {},
   "outputs": [],
   "source": []
  },
  {
   "cell_type": "markdown",
   "id": "d950fb38",
   "metadata": {},
   "source": [
    "### training"
   ]
  },
  {
   "cell_type": "code",
   "execution_count": null,
   "id": "030f9df3",
   "metadata": {},
   "outputs": [],
   "source": [
    "#TODO: search on a few hyperparameters and tune on validation set"
   ]
  },
  {
   "cell_type": "markdown",
   "id": "c501954c",
   "metadata": {},
   "source": [
    "### results"
   ]
  },
  {
   "cell_type": "code",
   "execution_count": null,
   "id": "8033bd40",
   "metadata": {},
   "outputs": [],
   "source": []
  },
  {
   "cell_type": "markdown",
   "id": "1095e78b",
   "metadata": {},
   "source": [
    "# Validation"
   ]
  },
  {
   "cell_type": "code",
   "execution_count": null,
   "id": "90f0ef66",
   "metadata": {},
   "outputs": [],
   "source": []
  }
 ],
 "metadata": {
  "kernelspec": {
   "display_name": "Python 3 (ipykernel)",
   "language": "python",
   "name": "python3"
  },
  "language_info": {
   "codemirror_mode": {
    "name": "ipython",
    "version": 3
   },
   "file_extension": ".py",
   "mimetype": "text/x-python",
   "name": "python",
   "nbconvert_exporter": "python",
   "pygments_lexer": "ipython3",
   "version": "3.8.12"
  },
  "toc": {
   "base_numbering": 1,
   "nav_menu": {},
   "number_sections": true,
   "sideBar": true,
   "skip_h1_title": false,
   "title_cell": "Table of Contents",
   "title_sidebar": "Contents",
   "toc_cell": false,
   "toc_position": {},
   "toc_section_display": true,
   "toc_window_display": true
  }
 },
 "nbformat": 4,
 "nbformat_minor": 5
}
