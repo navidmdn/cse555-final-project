{
 "cells": [
  {
   "cell_type": "markdown",
   "id": "8e097356",
   "metadata": {},
   "source": [
    "# Initializations"
   ]
  },
  {
   "cell_type": "markdown",
   "id": "0e577654",
   "metadata": {},
   "source": [
    "## imports"
   ]
  },
  {
   "cell_type": "code",
   "execution_count": null,
   "id": "92340087",
   "metadata": {},
   "outputs": [],
   "source": [
    "from torchvision.datasets import MNIST\n",
    "from sklearn import datasets\n",
    "from sklearn.linear_model import LogisticRegression\n",
    "from sklearn.svm import SVC\n",
    "\n",
    "import torch\n",
    "import torchvision\n",
    "from torch.autograd import Variable\n",
    "\n",
    "import seaborn as sns\n",
    "import numpy as np"
   ]
  },
  {
   "cell_type": "markdown",
   "id": "91fb1dbb",
   "metadata": {},
   "source": [
    "## configs"
   ]
  },
  {
   "cell_type": "code",
   "execution_count": null,
   "id": "23ae415c",
   "metadata": {},
   "outputs": [],
   "source": [
    "batch_size_train = 128\n",
    "batch_size_test = 100\n",
    "random_seed = 12453211\n",
    "learning_rate =  0.01\n",
    "\n",
    "torch.manual_seed(random_seed)\n",
    "np.random.seed(random_seed)"
   ]
  },
  {
   "cell_type": "markdown",
   "id": "dd6474dd",
   "metadata": {},
   "source": [
    "# Data Preparation"
   ]
  },
  {
   "cell_type": "markdown",
   "id": "14505dd5",
   "metadata": {},
   "source": [
    "## Loading torch dataset"
   ]
  },
  {
   "cell_type": "code",
   "execution_count": null,
   "id": "943f9b86",
   "metadata": {},
   "outputs": [],
   "source": [
    "\n",
    "train_set = torchvision.datasets.MNIST(\n",
    "    '.',\n",
    "    train=True,\n",
    "    download=True,\n",
    "    transform=torchvision.transforms.Compose([\n",
    "        torchvision.transforms.ToTensor(),\n",
    "        torchvision.transforms.Normalize((0.1307,), (0.3081,))\n",
    "    ])\n",
    ")\n",
    "\n",
    "train_set, val_set = torch.utils.data.random_split(train_set, [50000, 10000])\n",
    "\n",
    "train_loader = torch.utils.data.DataLoader(\n",
    "    train_set,\n",
    "    batch_size=batch_size_train,\n",
    "    shuffle=True\n",
    ")\n",
    "\n",
    "valid_loader = torch.utils.data.DataLoader(\n",
    "    val_set,\n",
    "    batch_size=batch_size_train,\n",
    "    shuffle=True,\n",
    ")\n",
    "\n",
    "test_loader = torch.utils.data.DataLoader(\n",
    "    torchvision.datasets.MNIST('.', train=False, download=True,\n",
    "    transform=torchvision.transforms.Compose([\n",
    "        torchvision.transforms.ToTensor(),\n",
    "        torchvision.transforms.Normalize(\n",
    "        (0.1307,), (0.3081,))\n",
    "    ])),\n",
    "    batch_size=batch_size_test,\n",
    "    shuffle=False\n",
    ")"
   ]
  },
  {
   "cell_type": "markdown",
   "id": "a494d392",
   "metadata": {},
   "source": [
    "## loading numpy dataset"
   ]
  },
  {
   "cell_type": "code",
   "execution_count": null,
   "id": "57ed0943",
   "metadata": {},
   "outputs": [],
   "source": [
    "def data_loader_to_numpy(data_loader):\n",
    "    result_x = []\n",
    "    result_y = []\n",
    "    for x, y in data_loader:\n",
    "        result_x.append(x.numpy())\n",
    "        result_y.append(y.numpy())\n",
    "        \n",
    "    return np.concatenate(result_x, axis=0), np.concatenate(result_y, axis=0)\n",
    "    \n",
    "train_x, train_y = data_loader_to_numpy(train_loader)\n",
    "test_x, test_y = data_loader_to_numpy(test_loader)\n",
    "valid_x, valid_y = data_loader_to_numpy(valid_loader)\n",
    "\n",
    "print(train_x.shape, test_x.shape, train_y.shape, test_y.shape)"
   ]
  },
  {
   "cell_type": "markdown",
   "id": "c0d44c90",
   "metadata": {},
   "source": [
    "## distribution of classes"
   ]
  },
  {
   "cell_type": "code",
   "execution_count": null,
   "id": "4191e3b5",
   "metadata": {},
   "outputs": [],
   "source": [
    "sns.histplot(train_y, bins=[i for i in range(11)])\n",
    "sns.histplot(test_y, bins=[i for i in range(11)])"
   ]
  },
  {
   "cell_type": "markdown",
   "id": "260729b0",
   "metadata": {},
   "source": [
    "## Creating noisy datasets"
   ]
  },
  {
   "cell_type": "markdown",
   "id": "dd4698be",
   "metadata": {},
   "source": [
    "# Models"
   ]
  },
  {
   "cell_type": "markdown",
   "id": "b84a2538",
   "metadata": {},
   "source": [
    "## validation functions"
   ]
  },
  {
   "cell_type": "markdown",
   "id": "68749836",
   "metadata": {},
   "source": [
    "### draw confusion matrix"
   ]
  },
  {
   "cell_type": "code",
   "execution_count": null,
   "id": "40690826",
   "metadata": {},
   "outputs": [],
   "source": [
    "from sklearn.metrics import confusion_matrix, accuracy_score, precision_score, recall_score, f1_score\n",
    "import matplotlib.pyplot as plt\n",
    "\n",
    "def conf_mat(y_true, y_pred):\n",
    "    cm = confusion_matrix(y_true, y_pred)\n",
    "    plt.figure(figsize=(8,8))\n",
    "    sns.heatmap(cm, annot=True)\n",
    "\n"
   ]
  },
  {
   "cell_type": "code",
   "execution_count": null,
   "id": "241b8e22",
   "metadata": {},
   "outputs": [],
   "source": [
    "from sklearn.metrics import classification_report\n",
    "\n",
    "def clf_metrics(y_true, y_pred, n_class=10):\n",
    "    class_names = [str(i) for i in range(n_class)]\n",
    "    print(classification_report(y_true, y_pred))\n",
    "    \n"
   ]
  },
  {
   "cell_type": "markdown",
   "id": "ec3567eb",
   "metadata": {},
   "source": [
    "## SVM"
   ]
  },
  {
   "cell_type": "markdown",
   "id": "2d532b23",
   "metadata": {},
   "source": [
    "### preprocessing data"
   ]
  },
  {
   "cell_type": "code",
   "execution_count": null,
   "id": "12cc5948",
   "metadata": {},
   "outputs": [],
   "source": [
    "def preprocess(x, y):\n",
    "    x, y = x.squeeze(), y\n",
    "    return x.reshape((x.shape[0], -1)), y\n",
    "\n",
    "train_x, train_y = preprocess(train_x, train_y)\n",
    "test_x, test_y = preprocess(test_x, test_y)\n",
    "valid_x, valid_y = preprocess(valid_x, valid_y)\n",
    "\n",
    "train_x.shape"
   ]
  },
  {
   "cell_type": "markdown",
   "id": "8b810598",
   "metadata": {},
   "source": [
    "### model definition"
   ]
  },
  {
   "cell_type": "code",
   "execution_count": null,
   "id": "d3bb0866",
   "metadata": {},
   "outputs": [],
   "source": [
    "svm = SVC(\n",
    "    kernel='linear',\n",
    "    decision_function_shape='ovr',\n",
    "    random_state=random_seed,\n",
    "    verbose=True,\n",
    ") \n",
    "\n",
    "svm.fit(train_x, train_y)\n",
    "y_pred = svm.predict(test_x)"
   ]
  },
  {
   "cell_type": "code",
   "execution_count": null,
   "id": "167011ca",
   "metadata": {},
   "outputs": [],
   "source": [
    "svm.coef_.shape"
   ]
  },
  {
   "cell_type": "code",
   "execution_count": null,
   "id": "d83aedba",
   "metadata": {},
   "outputs": [],
   "source": [
    "conf_mat(test_y, y_pred)"
   ]
  },
  {
   "cell_type": "markdown",
   "id": "003ebcb1",
   "metadata": {},
   "source": [
    "### model report"
   ]
  },
  {
   "cell_type": "code",
   "execution_count": null,
   "id": "e7af876e",
   "metadata": {},
   "outputs": [],
   "source": [
    "clf_metrics(test_y, y_pred)"
   ]
  },
  {
   "cell_type": "markdown",
   "id": "d149e8a3",
   "metadata": {},
   "source": [
    "## Logistic Regression"
   ]
  },
  {
   "cell_type": "code",
   "execution_count": null,
   "id": "b53c7f19",
   "metadata": {},
   "outputs": [],
   "source": [
    "# Logistic regression model\n",
    "input_size = train_x[0].shape[0]\n",
    "num_classes = 10\n",
    "num_epochs = 1\n",
    "\n",
    "model = torch.nn.Linear(input_size, num_classes)\n",
    "\n",
    "# Loss and optimizer\n",
    "# nn.CrossEntropyLoss() computes softmax internally\n",
    "criterion = torch.nn.CrossEntropyLoss()  \n",
    "optimizer = torch.optim.SGD(model.parameters(), lr=learning_rate)  "
   ]
  },
  {
   "cell_type": "code",
   "execution_count": null,
   "id": "ea6997d1",
   "metadata": {},
   "outputs": [],
   "source": [
    "# Train the model\n",
    "total_step = len(train_loader)\n",
    "for epoch in range(num_epochs):\n",
    "    for i, (images, labels) in enumerate(train_loader):\n",
    "        # Reshape images to (batch_size, input_size)\n",
    "        images = images.reshape(-1, input_size)\n",
    "        \n",
    "        # Forward pass\n",
    "        outputs = model(images)\n",
    "        loss = criterion(outputs, labels)\n",
    "        \n",
    "        # Backward propogation\n",
    "        optimizer.zero_grad()\n",
    "        loss.backward()\n",
    "        optimizer.step()\n",
    "        \n",
    "        if (i+1) % 100 == 0:\n",
    "            print ('Epoch [{}/{}], Step [{}/{}], Loss: {:.4f}' \n",
    "                   .format(epoch+1, num_epochs, i+1, total_step, loss.item()))\n",
    "\n",
    "# Test the model\n",
    "with torch.no_grad():\n",
    "    correct = 0\n",
    "    total = 0\n",
    "    for images, labels in test_loader:\n",
    "        images = images.reshape(-1, input_size)\n",
    "        outputs = model(images)\n",
    "        _, predicted = torch.max(outputs.data, 1)\n",
    "        total += labels.size(0)\n",
    "        correct += (predicted == labels).sum()\n",
    "    \n",
    "    print('Accuracy of the model on the test images: {} %'.format(100 * correct / total))"
   ]
  },
  {
   "cell_type": "code",
   "execution_count": null,
   "id": "3bad30f2",
   "metadata": {},
   "outputs": [],
   "source": []
  },
  {
   "cell_type": "code",
   "execution_count": null,
   "id": "f088386b",
   "metadata": {},
   "outputs": [],
   "source": [
    "# Model definition\n",
    "class LogisticRegression(torch.nn.Module):\n",
    "    def __init__(self,n_input_features,output_features):\n",
    "        super(LogisticRegression,self).__init__()\n",
    "        self.linear = torch.nn.Linear(n_input_features,output_features)\n",
    "        \n",
    "    def forward(self,x):\n",
    "        y_predicted = torch.sigmoid(self.linear(x))\n",
    "        print(y_predicted)\n",
    "        return y_predicted\n",
    "\n",
    "input_features = train_x[0].shape[0]\n",
    "output_features = 10\n",
    "\n",
    "model = LogisticRegression(input_features,output_features)"
   ]
  },
  {
   "cell_type": "code",
   "execution_count": null,
   "id": "90fff889",
   "metadata": {},
   "outputs": [],
   "source": [
    "#Loss and optimizer definition\n",
    "# Using binary cross entropy loss\n",
    "criterion = torch.nn.BCELoss()\n",
    "optimizer = torch.optim.SGD(model.parameters(),lr=learning_rate)\n",
    "\n",
    "# Training loop\n",
    "n_epochs = 1\n",
    "for epoch in range(n_epochs):\n",
    "    for i,(input,labels) in enumerate(train_loader):\n",
    "        print(input)\n",
    "        print(labels)"
   ]
  },
  {
   "cell_type": "markdown",
   "id": "f87e28a6",
   "metadata": {},
   "source": [
    "### preprocessing data"
   ]
  },
  {
   "cell_type": "code",
   "execution_count": null,
   "id": "b295a803",
   "metadata": {},
   "outputs": [],
   "source": [
    "#TODO: flattening the entries    "
   ]
  },
  {
   "cell_type": "markdown",
   "id": "acd11743",
   "metadata": {},
   "source": [
    "### defining model"
   ]
  },
  {
   "cell_type": "code",
   "execution_count": null,
   "id": "75842eed",
   "metadata": {},
   "outputs": [],
   "source": []
  },
  {
   "cell_type": "markdown",
   "id": "d950fb38",
   "metadata": {},
   "source": [
    "### training"
   ]
  },
  {
   "cell_type": "code",
   "execution_count": null,
   "id": "030f9df3",
   "metadata": {},
   "outputs": [],
   "source": [
    "#TODO: search on a few hyperparameters and tune on validation set"
   ]
  },
  {
   "cell_type": "markdown",
   "id": "c501954c",
   "metadata": {},
   "source": [
    "### results"
   ]
  },
  {
   "cell_type": "code",
   "execution_count": null,
   "id": "8033bd40",
   "metadata": {},
   "outputs": [],
   "source": []
  },
  {
   "cell_type": "markdown",
   "id": "1095e78b",
   "metadata": {},
   "source": [
    "# Validation"
   ]
  },
  {
   "cell_type": "code",
   "execution_count": null,
   "id": "90f0ef66",
   "metadata": {},
   "outputs": [],
   "source": []
  }
 ],
 "metadata": {
  "kernelspec": {
   "display_name": "Python 3",
   "language": "python",
   "name": "python3"
  },
  "language_info": {
   "codemirror_mode": {
    "name": "ipython",
    "version": 3
   },
   "file_extension": ".py",
   "mimetype": "text/x-python",
   "name": "python",
   "nbconvert_exporter": "python",
   "pygments_lexer": "ipython3",
   "version": "3.8.8"
  },
  "toc": {
   "base_numbering": 1,
   "nav_menu": {},
   "number_sections": true,
   "sideBar": true,
   "skip_h1_title": false,
   "title_cell": "Table of Contents",
   "title_sidebar": "Contents",
   "toc_cell": false,
   "toc_position": {},
   "toc_section_display": true,
   "toc_window_display": true
  }
 },
 "nbformat": 4,
 "nbformat_minor": 5
}
