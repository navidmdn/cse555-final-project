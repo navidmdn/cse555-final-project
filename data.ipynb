{
 "cells": [
  {
   "cell_type": "markdown",
   "metadata": {},
   "source": [
    "# Initializations"
   ]
  },
  {
   "cell_type": "markdown",
   "metadata": {},
   "source": [
    "### imports"
   ]
  },
  {
   "cell_type": "code",
   "execution_count": null,
   "metadata": {},
   "outputs": [],
   "source": [
    "from torchvision.datasets import MNIST\n",
    "from sklearn import datasets\n",
    "import seaborn as sns\n",
    "\n",
    "from collections import Counter\n",
    "import torch\n",
    "import torchvision\n",
    "from torch.autograd import Variable\n",
    "import matplotlib.pyplot as plt"
   ]
  },
  {
   "cell_type": "code",
   "execution_count": null,
   "metadata": {},
   "outputs": [],
   "source": [
    "batch_size_train = 128\n",
    "batch_size_test = 100\n",
    "mode = \"symmetric\" # Can be symmetric, assymetric or original (default)"
   ]
  },
  {
   "cell_type": "markdown",
   "metadata": {},
   "source": [
    "### Creating definitions for symmetric and asymmetric noises"
   ]
  },
  {
   "cell_type": "code",
   "execution_count": null,
   "metadata": {},
   "outputs": [],
   "source": [
    "symmetric_noise = {\n",
    "    0: 0,\n",
    "    1: 9,\n",
    "    2: 7,\n",
    "    3: 3,\n",
    "    4: 4,\n",
    "    5: 8,\n",
    "    6: 6,\n",
    "    7: 2,\n",
    "    8: 5,\n",
    "    9: 1\n",
    "}\n",
    "\n",
    "asymmetric_noise = {\n",
    "    0: 7,\n",
    "    1: 8,\n",
    "    2: 5,\n",
    "    3: 6,\n",
    "    4: 0,\n",
    "    5: 2,\n",
    "    6: 9,\n",
    "    7: 4,\n",
    "    8: 3,\n",
    "    9: 1\n",
    "}"
   ]
  },
  {
   "cell_type": "markdown",
   "metadata": {},
   "source": [
    "### Loading torch datasets"
   ]
  },
  {
   "cell_type": "code",
   "execution_count": null,
   "metadata": {},
   "outputs": [],
   "source": [
    "if mode == \"symmetric\" or mode == \"asymmetric\":\n",
    "    train_set = torchvision.datasets.MNIST(\n",
    "            '.',\n",
    "            train=True,\n",
    "            download=True,\n",
    "            transform=torchvision.transforms.Compose([\n",
    "                torchvision.transforms.ToTensor(),\n",
    "                torchvision.transforms.Normalize((0.1307,), (0.3081,)),\n",
    "            ]),\n",
    "            target_transform = lambda y: symmetric_noise[y] if mode == \"symmetric\" else asymmetric_noise[y]\n",
    "    )\n",
    "else:\n",
    "    train_set = torchvision.datasets.MNIST(\n",
    "            '.',\n",
    "            train=True,\n",
    "            download=True,\n",
    "            transform=torchvision.transforms.Compose([\n",
    "                torchvision.transforms.ToTensor(),\n",
    "                torchvision.transforms.Normalize((0.1307,), (0.3081,)),\n",
    "            ])\n",
    "    )\n",
    "\n",
    "train_set, val_set = torch.utils.data.random_split(train_set, [50000, 10000])\n",
    "\n",
    "train_loader = torch.utils.data.DataLoader(\n",
    "    train_set,\n",
    "    batch_size=batch_size_train,\n",
    "    shuffle=True\n",
    ")\n",
    "\n",
    "valid_loader = torch.utils.data.DataLoader(\n",
    "    val_set,\n",
    "    batch_size=batch_size_train,\n",
    "    shuffle=True,\n",
    ")\n",
    "\n",
    "test_loader = torch.utils.data.DataLoader(\n",
    "    torchvision.datasets.MNIST('.', train=False, download=True,\n",
    "                               transform=torchvision.transforms.Compose([\n",
    "                                   torchvision.transforms.ToTensor(),\n",
    "                                   torchvision.transforms.Normalize(\n",
    "                                       (0.1307,), (0.3081,))\n",
    "                               ])),\n",
    "    batch_size=batch_size_test,\n",
    "    shuffle=False\n",
    ")"
   ]
  },
  {
   "cell_type": "code",
   "execution_count": null,
   "metadata": {},
   "outputs": [],
   "source": [
    "train_classes = [label for _, label in train_set]\n",
    "data_count = Counter(train_classes)\n",
    "palette = sns.color_palette(\"husl\")\n",
    "sns.barplot(x=list(data_count.keys()),y=list(data_count.values()),palette=palette)"
   ]
  },
  {
   "cell_type": "code",
   "execution_count": null,
   "metadata": {},
   "outputs": [],
   "source": []
  },
  {
   "cell_type": "code",
   "execution_count": null,
   "metadata": {},
   "outputs": [],
   "source": [
    "# for index, (images,labels) in enumerate(train_loader):\n",
    "#     if index % 10 == 0:\n",
    "#         print(labels[1])\n",
    "#         plt.imshow(images[1].reshape(28,28), cmap=\"gray\")\n",
    "#         plt.show()"
   ]
  },
  {
   "cell_type": "code",
   "execution_count": null,
   "metadata": {},
   "outputs": [],
   "source": []
  }
 ],
 "metadata": {
  "interpreter": {
   "hash": "d5a7c50cb37b9a8d16f83dcb11bfb78ad3a845830708c855df0980efa1084b32"
  },
  "kernelspec": {
   "display_name": "Python 3.8.8 64-bit ('base': conda)",
   "language": "python",
   "name": "python3"
  },
  "language_info": {
   "codemirror_mode": {
    "name": "ipython",
    "version": 3
   },
   "file_extension": ".py",
   "mimetype": "text/x-python",
   "name": "python",
   "nbconvert_exporter": "python",
   "pygments_lexer": "ipython3",
   "version": "3.8.8"
  },
  "orig_nbformat": 4
 },
 "nbformat": 4,
 "nbformat_minor": 2
}
